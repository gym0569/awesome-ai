{
 "cells": [
  {
   "cell_type": "markdown",
   "metadata": {
    "_cell_guid": "b1076dfc-b9ad-4769-8c92-a6c4dae69d19",
    "_uuid": "8f2839f25d086af736a60e9eeb907d3b93b6e0e5"
   },
   "source": [
    "# Light GBM baseline\n",
    "\n",
    "Heavily taken from:  https://www.kaggle.com/sz8416/lb-1-4439-gacr-prediction-eda-lgb-baseline and from Olivier \n",
    "\n",
    "### Results and notes\n",
    "- Best LB score: 1.4378 using visitStartTime and local hour of day, highly tuned hyper parameters. CV score 1.6415 session and 1.6126 user level\n",
    "\n",
    "- Current last model: LB = 1.4404, CV = 1.6167, 1.5919, and visit start time + local hour of day + many categorical interaction features\n",
    "- Top 10 categorical interactions, removed visitStartTime, added year, day of week, time since last session:\n",
    "        - Session level CV score:  1.6242508497927641\n",
    "        - User level CV score:  1.6031847639160595\n"
   ]
  },
  {
   "cell_type": "code",
   "execution_count": 1,
   "metadata": {
    "ExecuteTime": {
     "end_time": "2018-10-08T13:15:42.886303Z",
     "start_time": "2018-10-08T13:15:40.322588Z"
    },
    "_cell_guid": "79c7e3d0-c299-4dcb-8224-4455121ee9b0",
    "_uuid": "d629ff2d2480ee46fbb7e2d37f6b5fab8052498a"
   },
   "outputs": [
    {
     "name": "stderr",
     "output_type": "stream",
     "text": [
      "/Users/nityansuman/anaconda3/lib/python3.6/site-packages/lightgbm/__init__.py:46: UserWarning: Starting from version 2.2.1, the library file in distribution wheels for macOS is built by the Apple Clang (Xcode_9.4.1) compiler.\n",
      "This means that in case of installing LightGBM from PyPI via the ``pip install lightgbm`` command, you don't need to install the gcc compiler anymore.\n",
      "Instead of that, you need to install the OpenMP library, which is required for running LightGBM on the system with the Apple Clang compiler.\n",
      "You can install the OpenMP library by the following command: ``brew install libomp``.\n",
      "  \"You can install the OpenMP library by the following command: ``brew install libomp``.\", UserWarning)\n"
     ]
    }
   ],
   "source": [
    "# load basic packages\n",
    "import os\n",
    "import sys\n",
    "import numpy as np\n",
    "import pandas as pd\n",
    "import scipy as sp\n",
    "import warnings\n",
    "import matplotlib.pyplot as plt\n",
    "plt.style.use(\"seaborn\")\n",
    "import seaborn as sns\n",
    "import spacy\n",
    "nlp = spacy.load(\"en\")\n",
    "\n",
    "# machine learning packages\n",
    "from sklearn.preprocessing import LabelEncoder\n",
    "from sklearn.metrics import mean_squared_error\n",
    "from sklearn.model_selection import KFold\n",
    "import lightgbm as lgb\n",
    "\n",
    "# save model\n",
    "import pickle\n",
    "\n",
    "# set environment\n",
    "pd.set_option(\"display.max_columns\", 100)\n",
    "pd.set_option(\"display.max_Colwidth\", -1)\n",
    "warnings.filterwarnings(\"ignore\")"
   ]
  },
  {
   "cell_type": "code",
   "execution_count": 3,
   "metadata": {
    "ExecuteTime": {
     "end_time": "2018-10-08T13:09:16.982415Z",
     "start_time": "2018-10-08T13:09:05.135114Z"
    }
   },
   "outputs": [],
   "source": [
    "data = pd.read_csv(\"data/train.csv\")"
   ]
  },
  {
   "cell_type": "code",
   "execution_count": 4,
   "metadata": {
    "ExecuteTime": {
     "end_time": "2018-10-08T13:09:58.539417Z",
     "start_time": "2018-10-08T13:09:58.528336Z"
    }
   },
   "outputs": [
    {
     "data": {
      "text/plain": [
       "Index(['channelGrouping', 'date', 'device', 'fullVisitorId', 'geoNetwork',\n",
       "       'sessionId', 'socialEngagementType', 'totals', 'trafficSource',\n",
       "       'visitId', 'visitNumber', 'visitStartTime'],\n",
       "      dtype='object')"
      ]
     },
     "execution_count": 4,
     "metadata": {},
     "output_type": "execute_result"
    }
   ],
   "source": [
    "data.columns"
   ]
  },
  {
   "cell_type": "code",
   "execution_count": 5,
   "metadata": {
    "ExecuteTime": {
     "end_time": "2018-10-08T13:11:19.510089Z",
     "start_time": "2018-10-08T13:11:19.480619Z"
    }
   },
   "outputs": [
    {
     "data": {
      "text/html": [
       "<div>\n",
       "<style scoped>\n",
       "    .dataframe tbody tr th:only-of-type {\n",
       "        vertical-align: middle;\n",
       "    }\n",
       "\n",
       "    .dataframe tbody tr th {\n",
       "        vertical-align: top;\n",
       "    }\n",
       "\n",
       "    .dataframe thead th {\n",
       "        text-align: right;\n",
       "    }\n",
       "</style>\n",
       "<table border=\"1\" class=\"dataframe\">\n",
       "  <thead>\n",
       "    <tr style=\"text-align: right;\">\n",
       "      <th></th>\n",
       "      <th>channelGrouping</th>\n",
       "      <th>date</th>\n",
       "      <th>device</th>\n",
       "      <th>fullVisitorId</th>\n",
       "      <th>geoNetwork</th>\n",
       "      <th>sessionId</th>\n",
       "      <th>socialEngagementType</th>\n",
       "      <th>totals</th>\n",
       "      <th>trafficSource</th>\n",
       "      <th>visitId</th>\n",
       "      <th>visitNumber</th>\n",
       "      <th>visitStartTime</th>\n",
       "    </tr>\n",
       "  </thead>\n",
       "  <tbody>\n",
       "    <tr>\n",
       "      <th>0</th>\n",
       "      <td>Organic Search</td>\n",
       "      <td>20160902</td>\n",
       "      <td>{\"browser\": \"Chrome\", \"browserVersion\": \"not available in demo dataset\", \"browserSize\": \"not available in demo dataset\", \"operatingSystem\": \"Windows\", \"operatingSystemVersion\": \"not available in demo dataset\", \"isMobile\": false, \"mobileDeviceBranding\": \"not available in demo dataset\", \"mobileDeviceModel\": \"not available in demo dataset\", \"mobileInputSelector\": \"not available in demo dataset\", \"mobileDeviceInfo\": \"not available in demo dataset\", \"mobileDeviceMarketingName\": \"not available in demo dataset\", \"flashVersion\": \"not available in demo dataset\", \"language\": \"not available in demo dataset\", \"screenColors\": \"not available in demo dataset\", \"screenResolution\": \"not available in demo dataset\", \"deviceCategory\": \"desktop\"}</td>\n",
       "      <td>1131660440785968503</td>\n",
       "      <td>{\"continent\": \"Asia\", \"subContinent\": \"Western Asia\", \"country\": \"Turkey\", \"region\": \"Izmir\", \"metro\": \"(not set)\", \"city\": \"Izmir\", \"cityId\": \"not available in demo dataset\", \"networkDomain\": \"ttnet.com.tr\", \"latitude\": \"not available in demo dataset\", \"longitude\": \"not available in demo dataset\", \"networkLocation\": \"not available in demo dataset\"}</td>\n",
       "      <td>1131660440785968503_1472830385</td>\n",
       "      <td>Not Socially Engaged</td>\n",
       "      <td>{\"visits\": \"1\", \"hits\": \"1\", \"pageviews\": \"1\", \"bounces\": \"1\", \"newVisits\": \"1\"}</td>\n",
       "      <td>{\"campaign\": \"(not set)\", \"source\": \"google\", \"medium\": \"organic\", \"keyword\": \"(not provided)\", \"adwordsClickInfo\": {\"criteriaParameters\": \"not available in demo dataset\"}}</td>\n",
       "      <td>1472830385</td>\n",
       "      <td>1</td>\n",
       "      <td>1472830385</td>\n",
       "    </tr>\n",
       "    <tr>\n",
       "      <th>1</th>\n",
       "      <td>Organic Search</td>\n",
       "      <td>20160902</td>\n",
       "      <td>{\"browser\": \"Firefox\", \"browserVersion\": \"not available in demo dataset\", \"browserSize\": \"not available in demo dataset\", \"operatingSystem\": \"Macintosh\", \"operatingSystemVersion\": \"not available in demo dataset\", \"isMobile\": false, \"mobileDeviceBranding\": \"not available in demo dataset\", \"mobileDeviceModel\": \"not available in demo dataset\", \"mobileInputSelector\": \"not available in demo dataset\", \"mobileDeviceInfo\": \"not available in demo dataset\", \"mobileDeviceMarketingName\": \"not available in demo dataset\", \"flashVersion\": \"not available in demo dataset\", \"language\": \"not available in demo dataset\", \"screenColors\": \"not available in demo dataset\", \"screenResolution\": \"not available in demo dataset\", \"deviceCategory\": \"desktop\"}</td>\n",
       "      <td>377306020877927890</td>\n",
       "      <td>{\"continent\": \"Oceania\", \"subContinent\": \"Australasia\", \"country\": \"Australia\", \"region\": \"not available in demo dataset\", \"metro\": \"not available in demo dataset\", \"city\": \"not available in demo dataset\", \"cityId\": \"not available in demo dataset\", \"networkDomain\": \"dodo.net.au\", \"latitude\": \"not available in demo dataset\", \"longitude\": \"not available in demo dataset\", \"networkLocation\": \"not available in demo dataset\"}</td>\n",
       "      <td>377306020877927890_1472880147</td>\n",
       "      <td>Not Socially Engaged</td>\n",
       "      <td>{\"visits\": \"1\", \"hits\": \"1\", \"pageviews\": \"1\", \"bounces\": \"1\", \"newVisits\": \"1\"}</td>\n",
       "      <td>{\"campaign\": \"(not set)\", \"source\": \"google\", \"medium\": \"organic\", \"keyword\": \"(not provided)\", \"adwordsClickInfo\": {\"criteriaParameters\": \"not available in demo dataset\"}}</td>\n",
       "      <td>1472880147</td>\n",
       "      <td>1</td>\n",
       "      <td>1472880147</td>\n",
       "    </tr>\n",
       "    <tr>\n",
       "      <th>2</th>\n",
       "      <td>Organic Search</td>\n",
       "      <td>20160902</td>\n",
       "      <td>{\"browser\": \"Chrome\", \"browserVersion\": \"not available in demo dataset\", \"browserSize\": \"not available in demo dataset\", \"operatingSystem\": \"Windows\", \"operatingSystemVersion\": \"not available in demo dataset\", \"isMobile\": false, \"mobileDeviceBranding\": \"not available in demo dataset\", \"mobileDeviceModel\": \"not available in demo dataset\", \"mobileInputSelector\": \"not available in demo dataset\", \"mobileDeviceInfo\": \"not available in demo dataset\", \"mobileDeviceMarketingName\": \"not available in demo dataset\", \"flashVersion\": \"not available in demo dataset\", \"language\": \"not available in demo dataset\", \"screenColors\": \"not available in demo dataset\", \"screenResolution\": \"not available in demo dataset\", \"deviceCategory\": \"desktop\"}</td>\n",
       "      <td>3895546263509774583</td>\n",
       "      <td>{\"continent\": \"Europe\", \"subContinent\": \"Southern Europe\", \"country\": \"Spain\", \"region\": \"Community of Madrid\", \"metro\": \"(not set)\", \"city\": \"Madrid\", \"cityId\": \"not available in demo dataset\", \"networkDomain\": \"unknown.unknown\", \"latitude\": \"not available in demo dataset\", \"longitude\": \"not available in demo dataset\", \"networkLocation\": \"not available in demo dataset\"}</td>\n",
       "      <td>3895546263509774583_1472865386</td>\n",
       "      <td>Not Socially Engaged</td>\n",
       "      <td>{\"visits\": \"1\", \"hits\": \"1\", \"pageviews\": \"1\", \"bounces\": \"1\", \"newVisits\": \"1\"}</td>\n",
       "      <td>{\"campaign\": \"(not set)\", \"source\": \"google\", \"medium\": \"organic\", \"keyword\": \"(not provided)\", \"adwordsClickInfo\": {\"criteriaParameters\": \"not available in demo dataset\"}}</td>\n",
       "      <td>1472865386</td>\n",
       "      <td>1</td>\n",
       "      <td>1472865386</td>\n",
       "    </tr>\n",
       "    <tr>\n",
       "      <th>3</th>\n",
       "      <td>Organic Search</td>\n",
       "      <td>20160902</td>\n",
       "      <td>{\"browser\": \"UC Browser\", \"browserVersion\": \"not available in demo dataset\", \"browserSize\": \"not available in demo dataset\", \"operatingSystem\": \"Linux\", \"operatingSystemVersion\": \"not available in demo dataset\", \"isMobile\": false, \"mobileDeviceBranding\": \"not available in demo dataset\", \"mobileDeviceModel\": \"not available in demo dataset\", \"mobileInputSelector\": \"not available in demo dataset\", \"mobileDeviceInfo\": \"not available in demo dataset\", \"mobileDeviceMarketingName\": \"not available in demo dataset\", \"flashVersion\": \"not available in demo dataset\", \"language\": \"not available in demo dataset\", \"screenColors\": \"not available in demo dataset\", \"screenResolution\": \"not available in demo dataset\", \"deviceCategory\": \"desktop\"}</td>\n",
       "      <td>4763447161404445595</td>\n",
       "      <td>{\"continent\": \"Asia\", \"subContinent\": \"Southeast Asia\", \"country\": \"Indonesia\", \"region\": \"not available in demo dataset\", \"metro\": \"not available in demo dataset\", \"city\": \"not available in demo dataset\", \"cityId\": \"not available in demo dataset\", \"networkDomain\": \"unknown.unknown\", \"latitude\": \"not available in demo dataset\", \"longitude\": \"not available in demo dataset\", \"networkLocation\": \"not available in demo dataset\"}</td>\n",
       "      <td>4763447161404445595_1472881213</td>\n",
       "      <td>Not Socially Engaged</td>\n",
       "      <td>{\"visits\": \"1\", \"hits\": \"1\", \"pageviews\": \"1\", \"bounces\": \"1\", \"newVisits\": \"1\"}</td>\n",
       "      <td>{\"campaign\": \"(not set)\", \"source\": \"google\", \"medium\": \"organic\", \"keyword\": \"google + online\", \"adwordsClickInfo\": {\"criteriaParameters\": \"not available in demo dataset\"}}</td>\n",
       "      <td>1472881213</td>\n",
       "      <td>1</td>\n",
       "      <td>1472881213</td>\n",
       "    </tr>\n",
       "    <tr>\n",
       "      <th>4</th>\n",
       "      <td>Organic Search</td>\n",
       "      <td>20160902</td>\n",
       "      <td>{\"browser\": \"Chrome\", \"browserVersion\": \"not available in demo dataset\", \"browserSize\": \"not available in demo dataset\", \"operatingSystem\": \"Android\", \"operatingSystemVersion\": \"not available in demo dataset\", \"isMobile\": true, \"mobileDeviceBranding\": \"not available in demo dataset\", \"mobileDeviceModel\": \"not available in demo dataset\", \"mobileInputSelector\": \"not available in demo dataset\", \"mobileDeviceInfo\": \"not available in demo dataset\", \"mobileDeviceMarketingName\": \"not available in demo dataset\", \"flashVersion\": \"not available in demo dataset\", \"language\": \"not available in demo dataset\", \"screenColors\": \"not available in demo dataset\", \"screenResolution\": \"not available in demo dataset\", \"deviceCategory\": \"mobile\"}</td>\n",
       "      <td>27294437909732085</td>\n",
       "      <td>{\"continent\": \"Europe\", \"subContinent\": \"Northern Europe\", \"country\": \"United Kingdom\", \"region\": \"not available in demo dataset\", \"metro\": \"not available in demo dataset\", \"city\": \"not available in demo dataset\", \"cityId\": \"not available in demo dataset\", \"networkDomain\": \"unknown.unknown\", \"latitude\": \"not available in demo dataset\", \"longitude\": \"not available in demo dataset\", \"networkLocation\": \"not available in demo dataset\"}</td>\n",
       "      <td>27294437909732085_1472822600</td>\n",
       "      <td>Not Socially Engaged</td>\n",
       "      <td>{\"visits\": \"1\", \"hits\": \"1\", \"pageviews\": \"1\", \"bounces\": \"1\"}</td>\n",
       "      <td>{\"campaign\": \"(not set)\", \"source\": \"google\", \"medium\": \"organic\", \"keyword\": \"(not provided)\", \"adwordsClickInfo\": {\"criteriaParameters\": \"not available in demo dataset\"}, \"isTrueDirect\": true}</td>\n",
       "      <td>1472822600</td>\n",
       "      <td>2</td>\n",
       "      <td>1472822600</td>\n",
       "    </tr>\n",
       "  </tbody>\n",
       "</table>\n",
       "</div>"
      ],
      "text/plain": [
       "  channelGrouping      date  \\\n",
       "0  Organic Search  20160902   \n",
       "1  Organic Search  20160902   \n",
       "2  Organic Search  20160902   \n",
       "3  Organic Search  20160902   \n",
       "4  Organic Search  20160902   \n",
       "\n",
       "                                                                                                                                                                                                                                                                                                                                                                                                                                                                                                                                                                                                                                                                                                                                                               device  \\\n",
       "0  {\"browser\": \"Chrome\", \"browserVersion\": \"not available in demo dataset\", \"browserSize\": \"not available in demo dataset\", \"operatingSystem\": \"Windows\", \"operatingSystemVersion\": \"not available in demo dataset\", \"isMobile\": false, \"mobileDeviceBranding\": \"not available in demo dataset\", \"mobileDeviceModel\": \"not available in demo dataset\", \"mobileInputSelector\": \"not available in demo dataset\", \"mobileDeviceInfo\": \"not available in demo dataset\", \"mobileDeviceMarketingName\": \"not available in demo dataset\", \"flashVersion\": \"not available in demo dataset\", \"language\": \"not available in demo dataset\", \"screenColors\": \"not available in demo dataset\", \"screenResolution\": \"not available in demo dataset\", \"deviceCategory\": \"desktop\"}      \n",
       "1  {\"browser\": \"Firefox\", \"browserVersion\": \"not available in demo dataset\", \"browserSize\": \"not available in demo dataset\", \"operatingSystem\": \"Macintosh\", \"operatingSystemVersion\": \"not available in demo dataset\", \"isMobile\": false, \"mobileDeviceBranding\": \"not available in demo dataset\", \"mobileDeviceModel\": \"not available in demo dataset\", \"mobileInputSelector\": \"not available in demo dataset\", \"mobileDeviceInfo\": \"not available in demo dataset\", \"mobileDeviceMarketingName\": \"not available in demo dataset\", \"flashVersion\": \"not available in demo dataset\", \"language\": \"not available in demo dataset\", \"screenColors\": \"not available in demo dataset\", \"screenResolution\": \"not available in demo dataset\", \"deviceCategory\": \"desktop\"}   \n",
       "2  {\"browser\": \"Chrome\", \"browserVersion\": \"not available in demo dataset\", \"browserSize\": \"not available in demo dataset\", \"operatingSystem\": \"Windows\", \"operatingSystemVersion\": \"not available in demo dataset\", \"isMobile\": false, \"mobileDeviceBranding\": \"not available in demo dataset\", \"mobileDeviceModel\": \"not available in demo dataset\", \"mobileInputSelector\": \"not available in demo dataset\", \"mobileDeviceInfo\": \"not available in demo dataset\", \"mobileDeviceMarketingName\": \"not available in demo dataset\", \"flashVersion\": \"not available in demo dataset\", \"language\": \"not available in demo dataset\", \"screenColors\": \"not available in demo dataset\", \"screenResolution\": \"not available in demo dataset\", \"deviceCategory\": \"desktop\"}      \n",
       "3  {\"browser\": \"UC Browser\", \"browserVersion\": \"not available in demo dataset\", \"browserSize\": \"not available in demo dataset\", \"operatingSystem\": \"Linux\", \"operatingSystemVersion\": \"not available in demo dataset\", \"isMobile\": false, \"mobileDeviceBranding\": \"not available in demo dataset\", \"mobileDeviceModel\": \"not available in demo dataset\", \"mobileInputSelector\": \"not available in demo dataset\", \"mobileDeviceInfo\": \"not available in demo dataset\", \"mobileDeviceMarketingName\": \"not available in demo dataset\", \"flashVersion\": \"not available in demo dataset\", \"language\": \"not available in demo dataset\", \"screenColors\": \"not available in demo dataset\", \"screenResolution\": \"not available in demo dataset\", \"deviceCategory\": \"desktop\"}    \n",
       "4  {\"browser\": \"Chrome\", \"browserVersion\": \"not available in demo dataset\", \"browserSize\": \"not available in demo dataset\", \"operatingSystem\": \"Android\", \"operatingSystemVersion\": \"not available in demo dataset\", \"isMobile\": true, \"mobileDeviceBranding\": \"not available in demo dataset\", \"mobileDeviceModel\": \"not available in demo dataset\", \"mobileInputSelector\": \"not available in demo dataset\", \"mobileDeviceInfo\": \"not available in demo dataset\", \"mobileDeviceMarketingName\": \"not available in demo dataset\", \"flashVersion\": \"not available in demo dataset\", \"language\": \"not available in demo dataset\", \"screenColors\": \"not available in demo dataset\", \"screenResolution\": \"not available in demo dataset\", \"deviceCategory\": \"mobile\"}        \n",
       "\n",
       "         fullVisitorId  \\\n",
       "0  1131660440785968503   \n",
       "1  377306020877927890    \n",
       "2  3895546263509774583   \n",
       "3  4763447161404445595   \n",
       "4  27294437909732085     \n",
       "\n",
       "                                                                                                                                                                                                                                                                                                                                                                                                                                            geoNetwork  \\\n",
       "0  {\"continent\": \"Asia\", \"subContinent\": \"Western Asia\", \"country\": \"Turkey\", \"region\": \"Izmir\", \"metro\": \"(not set)\", \"city\": \"Izmir\", \"cityId\": \"not available in demo dataset\", \"networkDomain\": \"ttnet.com.tr\", \"latitude\": \"not available in demo dataset\", \"longitude\": \"not available in demo dataset\", \"networkLocation\": \"not available in demo dataset\"}                                                                                       \n",
       "1  {\"continent\": \"Oceania\", \"subContinent\": \"Australasia\", \"country\": \"Australia\", \"region\": \"not available in demo dataset\", \"metro\": \"not available in demo dataset\", \"city\": \"not available in demo dataset\", \"cityId\": \"not available in demo dataset\", \"networkDomain\": \"dodo.net.au\", \"latitude\": \"not available in demo dataset\", \"longitude\": \"not available in demo dataset\", \"networkLocation\": \"not available in demo dataset\"}               \n",
       "2  {\"continent\": \"Europe\", \"subContinent\": \"Southern Europe\", \"country\": \"Spain\", \"region\": \"Community of Madrid\", \"metro\": \"(not set)\", \"city\": \"Madrid\", \"cityId\": \"not available in demo dataset\", \"networkDomain\": \"unknown.unknown\", \"latitude\": \"not available in demo dataset\", \"longitude\": \"not available in demo dataset\", \"networkLocation\": \"not available in demo dataset\"}                                                                 \n",
       "3  {\"continent\": \"Asia\", \"subContinent\": \"Southeast Asia\", \"country\": \"Indonesia\", \"region\": \"not available in demo dataset\", \"metro\": \"not available in demo dataset\", \"city\": \"not available in demo dataset\", \"cityId\": \"not available in demo dataset\", \"networkDomain\": \"unknown.unknown\", \"latitude\": \"not available in demo dataset\", \"longitude\": \"not available in demo dataset\", \"networkLocation\": \"not available in demo dataset\"}           \n",
       "4  {\"continent\": \"Europe\", \"subContinent\": \"Northern Europe\", \"country\": \"United Kingdom\", \"region\": \"not available in demo dataset\", \"metro\": \"not available in demo dataset\", \"city\": \"not available in demo dataset\", \"cityId\": \"not available in demo dataset\", \"networkDomain\": \"unknown.unknown\", \"latitude\": \"not available in demo dataset\", \"longitude\": \"not available in demo dataset\", \"networkLocation\": \"not available in demo dataset\"}   \n",
       "\n",
       "                        sessionId  socialEngagementType  \\\n",
       "0  1131660440785968503_1472830385  Not Socially Engaged   \n",
       "1  377306020877927890_1472880147   Not Socially Engaged   \n",
       "2  3895546263509774583_1472865386  Not Socially Engaged   \n",
       "3  4763447161404445595_1472881213  Not Socially Engaged   \n",
       "4  27294437909732085_1472822600    Not Socially Engaged   \n",
       "\n",
       "                                                                             totals  \\\n",
       "0  {\"visits\": \"1\", \"hits\": \"1\", \"pageviews\": \"1\", \"bounces\": \"1\", \"newVisits\": \"1\"}   \n",
       "1  {\"visits\": \"1\", \"hits\": \"1\", \"pageviews\": \"1\", \"bounces\": \"1\", \"newVisits\": \"1\"}   \n",
       "2  {\"visits\": \"1\", \"hits\": \"1\", \"pageviews\": \"1\", \"bounces\": \"1\", \"newVisits\": \"1\"}   \n",
       "3  {\"visits\": \"1\", \"hits\": \"1\", \"pageviews\": \"1\", \"bounces\": \"1\", \"newVisits\": \"1\"}   \n",
       "4  {\"visits\": \"1\", \"hits\": \"1\", \"pageviews\": \"1\", \"bounces\": \"1\"}                     \n",
       "\n",
       "                                                                                                                                                                                        trafficSource  \\\n",
       "0  {\"campaign\": \"(not set)\", \"source\": \"google\", \"medium\": \"organic\", \"keyword\": \"(not provided)\", \"adwordsClickInfo\": {\"criteriaParameters\": \"not available in demo dataset\"}}                         \n",
       "1  {\"campaign\": \"(not set)\", \"source\": \"google\", \"medium\": \"organic\", \"keyword\": \"(not provided)\", \"adwordsClickInfo\": {\"criteriaParameters\": \"not available in demo dataset\"}}                         \n",
       "2  {\"campaign\": \"(not set)\", \"source\": \"google\", \"medium\": \"organic\", \"keyword\": \"(not provided)\", \"adwordsClickInfo\": {\"criteriaParameters\": \"not available in demo dataset\"}}                         \n",
       "3  {\"campaign\": \"(not set)\", \"source\": \"google\", \"medium\": \"organic\", \"keyword\": \"google + online\", \"adwordsClickInfo\": {\"criteriaParameters\": \"not available in demo dataset\"}}                        \n",
       "4  {\"campaign\": \"(not set)\", \"source\": \"google\", \"medium\": \"organic\", \"keyword\": \"(not provided)\", \"adwordsClickInfo\": {\"criteriaParameters\": \"not available in demo dataset\"}, \"isTrueDirect\": true}   \n",
       "\n",
       "      visitId  visitNumber  visitStartTime  \n",
       "0  1472830385  1            1472830385      \n",
       "1  1472880147  1            1472880147      \n",
       "2  1472865386  1            1472865386      \n",
       "3  1472881213  1            1472881213      \n",
       "4  1472822600  2            1472822600      "
      ]
     },
     "execution_count": 5,
     "metadata": {},
     "output_type": "execute_result"
    }
   ],
   "source": [
    "data.head(5)"
   ]
  },
  {
   "cell_type": "code",
   "execution_count": null,
   "metadata": {},
   "outputs": [],
   "source": []
  },
  {
   "cell_type": "code",
   "execution_count": null,
   "metadata": {},
   "outputs": [],
   "source": []
  },
  {
   "cell_type": "code",
   "execution_count": null,
   "metadata": {
    "_uuid": "c148d09cbdceb72be34745e3c30fad0b3df04bf9"
   },
   "outputs": [],
   "source": [
    "# Extract target values and Ids\n",
    "cat_cols = ['channelGrouping','device.browser',\n",
    "       'device.deviceCategory', 'device.isMobile', 'device.operatingSystem',\n",
    "       'geoNetwork.city', 'geoNetwork.continent', 'geoNetwork.country',\n",
    "       'geoNetwork.metro', 'geoNetwork.networkDomain', 'geoNetwork.region',\n",
    "       'geoNetwork.subContinent','trafficSource.adContent',\n",
    "       #'trafficSource.adwordsClickInfo.adNetworkType',\n",
    "       'trafficSource.adwordsClickInfo.gclId',\n",
    "       #'trafficSource.adwordsClickInfo.isVideoAd',\n",
    "       #'trafficSource.adwordsClickInfo.page',\n",
    "       #'trafficSource.adwordsClickInfo.slot', #Drop as only 3 values and always poor\n",
    "       'trafficSource.campaign',\n",
    "       'trafficSource.isTrueDirect', 'trafficSource.keyword',\n",
    "       'trafficSource.medium', 'trafficSource.referralPath',\n",
    "       'trafficSource.source',\n",
    "        #Interaction columns\n",
    "        'geoNetwork.city+geoNetwork.networkDomain',\n",
    "        'device.operatingSystem+geoNetwork.networkDomain',\n",
    "        'device.operatingSystem+geoNetwork.city', \n",
    "        'channelGrouping+geoNetwork.networkDomain',\n",
    "        'geoNetwork.city+trafficSource.source',\n",
    "        'geoNetwork.networkDomain+trafficSource.source',\n",
    "        'geoNetwork.networkDomain+trafficSource.referralPath',\n",
    "        'geoNetwork.networkDomain+trafficSource.medium',\n",
    "        'geoNetwork.city+trafficSource.medium',\n",
    "        'geoNetwork.city+geoNetwork.country',\n",
    "        #Time columns (categorical)\n",
    "         '_dayofweek', '_year'\n",
    "           ]\n",
    "\n",
    "to_drop = ['trafficSource.adwordsClickInfo.adNetworkType','trafficSource.adwordsClickInfo.isVideoAd',\n",
    "          'trafficSource.adwordsClickInfo.page','trafficSource.adwordsClickInfo.slot']\n",
    "\n",
    "num_cols = ['visitNumber', 'totals.bounces', 'totals.hits',\n",
    "            'totals.newVisits', 'totals.pageviews', '_time_since_last_visit' ]\n",
    "\n",
    "#interaction_cols = ['totals.hits / totals.pageviews']\n",
    "\n",
    "visitStartTime = ['visitStartTime']\n",
    "\n",
    "time_cols = [ '_local_hourofday' , ]\n",
    "\n",
    "ID_cols = ['date', 'fullVisitorId', 'sessionId', 'visitId']\n",
    "\n",
    "target_col = ['totals.transactionRevenue']\n",
    "\n"
   ]
  },
  {
   "cell_type": "code",
   "execution_count": null,
   "metadata": {
    "_uuid": "1df87f4b40a4204e3a57c585548e042097bf73e7"
   },
   "outputs": [],
   "source": [
    "train_df = pd.read_pickle('../input/kernel-for-file-processing-2/train_flat_FE_CAT_LE.pkl')\n",
    "test_df = pd.read_pickle('../input/kernel-for-file-processing-2/test_flat_FE_CAT_LE.pkl')\n",
    "\n",
    "#train_df['_time_since_last_visit'] = pd.to_numeric(train_df['_time_since_last_visit'])\n",
    "#test_df['_time_since_last_visit'] = pd.to_numeric(test_df['_time_since_last_visit'])\n",
    "\n",
    "train_df.drop(to_drop, axis = 1, inplace = True)\n",
    "test_df.drop(to_drop, axis = 1, inplace = True)"
   ]
  },
  {
   "cell_type": "code",
   "execution_count": null,
   "metadata": {
    "_uuid": "e3516b685186133436953d32cdc7ea0a2da96b23"
   },
   "outputs": [],
   "source": [
    "#Time features\n",
    "train_df['_dayofweek'] = train_df['visitStartTime'].dt.dayofweek\n",
    "train_df['_year'] = train_df['visitStartTime'].dt.year\n",
    "\n",
    "test_df['_dayofweek'] = test_df['visitStartTime'].dt.dayofweek\n",
    "test_df['_year'] = test_df['visitStartTime'].dt.year"
   ]
  },
  {
   "cell_type": "markdown",
   "metadata": {
    "_uuid": "fe834c14c4312a7d4fa71790b38be05bd1881e6b"
   },
   "source": [
    "## Categorical interactions \n",
    "- Remove categorical values with less than 10 values (default from LGBM anyways)\n",
    "- Generate order 2 interactions and keep the top 10\n",
    "- Rename to \"other\" category with less than 10 values"
   ]
  },
  {
   "cell_type": "code",
   "execution_count": null,
   "metadata": {
    "_uuid": "080e6695cedbdbe497ab70254a9866421a8ea265"
   },
   "outputs": [],
   "source": [
    "%%time\n",
    "#Categorical encoding\n",
    "for c in cat_cols:\n",
    "    #Convert NAs to unknown\n",
    "    train_df[c] = train_df[c].fillna('unknown')\n",
    "    test_df[c] = test_df[c].fillna('unknown')\n",
    "\n",
    "\n",
    "#Rename \"Other\" those with less than 10\n",
    "for col in cat_cols:\n",
    "    #For train data\n",
    "    series1 = pd.value_counts(train_df[col])\n",
    "    mask1 = series1 < 10\n",
    "    train_df[col] = np.where(train_df[col].isin(series1[mask1].index),'Other_{}'.format(col), train_df[col])\n",
    "    \n",
    "    #For test data\n",
    "    series2 = pd.value_counts(test_df[col])\n",
    "    mask2 = series2 < 10\n",
    "    test_df[col] = np.where(test_df[col].isin(series2[mask2].index),'Other_{}'.format(col), test_df[col])"
   ]
  },
  {
   "cell_type": "markdown",
   "metadata": {
    "_uuid": "9519a6dddb824e7128952429c289f4341d068821"
   },
   "source": [
    "## Other time based features "
   ]
  },
  {
   "cell_type": "code",
   "execution_count": null,
   "metadata": {
    "_uuid": "3dc2fc94c3cec0e3cacdc6b4406bf67e4998cf57"
   },
   "outputs": [],
   "source": [
    "%%time\n",
    "#train_df['_time_since_last_visit'] = pd.to_numeric(train_df['_time_since_last_visit'])\n",
    "#test_df['_time_since_last_visit'] = pd.to_numeric(test_df['_time_since_last_visit'])\n",
    "\n",
    "#Preparation\n",
    "wip_cols = ['fullVisitorId', 'sessionId', 'visitId',\n",
    "       'visitNumber', 'visitStartTime','totals.bounces', 'totals.hits',\n",
    "       'totals.newVisits', 'totals.pageviews', '_time_since_last_visit']\n",
    "\n",
    "train_ts = train_df.sort_values(['fullVisitorId', 'visitStartTime']).reset_index()\n",
    "train_ts['index'] = train_ts['index'].astype('str')\n",
    "train_ts_grouped = train_ts.groupby('fullVisitorId')\n",
    "\n",
    "#Calculating rolling frequency\n",
    "temp_roll = train_ts_grouped.rolling('1H', on ='visitStartTime')['visitNumber'].count().reset_index().add_suffix('_1H') \n",
    "train_ts = pd.concat([train_ts, temp_roll['visitNumber_1H']], axis = 1)\n",
    "\n",
    "temp_roll = train_ts_grouped.rolling('1D', on ='visitStartTime')['visitNumber'].count().reset_index().add_suffix('_1D') \n",
    "train_ts = pd.concat([train_ts, temp_roll['visitNumber_1D']], axis = 1)\n",
    "\n",
    "temp_roll = train_ts_grouped.rolling('30D', on ='visitStartTime')['visitNumber'].count().reset_index().add_suffix('_30D') \n",
    "train_ts = pd.concat([train_ts, temp_roll['visitNumber_30D']], axis = 1)\n",
    "\n"
   ]
  },
  {
   "cell_type": "code",
   "execution_count": null,
   "metadata": {
    "_uuid": "fb385d26c0fda8b28885bf0faad32f1115e68162"
   },
   "outputs": [],
   "source": [
    "%%time\n",
    "\n",
    "test_ts = test_df.sort_values(['fullVisitorId', 'visitStartTime']).reset_index()\n",
    "test_ts['index'] = test_ts['index'].astype('str')\n",
    "test_ts_grouped = test_ts.groupby('fullVisitorId')\n",
    "\n",
    "#Calculating rolling frequency\n",
    "temp_roll = test_ts_grouped.rolling('1H', on ='visitStartTime')['visitNumber'].count().reset_index().add_suffix('_1H') \n",
    "test_ts = pd.concat([test_ts, temp_roll['visitNumber_1H']], axis = 1)\n",
    "\n",
    "temp_roll = test_ts_grouped.rolling('1D', on ='visitStartTime')['visitNumber'].count().reset_index().add_suffix('_1D') \n",
    "test_ts = pd.concat([test_ts, temp_roll['visitNumber_1D']], axis = 1)\n",
    "\n",
    "test_roll = test_ts_grouped.rolling('30D', on ='visitStartTime')['visitNumber'].count().reset_index().add_suffix('_30D') \n",
    "test_ts = pd.concat([test_ts, temp_roll['visitNumber_30D']], axis = 1)\n",
    "\n"
   ]
  },
  {
   "cell_type": "code",
   "execution_count": null,
   "metadata": {
    "_uuid": "daf4051e9368c3c887d7c876ace2d11030150231"
   },
   "outputs": [],
   "source": [
    "%%time\n",
    "\n",
    "#Factorize cats\n",
    "for f in (cat_cols):\n",
    "    train_df[f], indexer = pd.factorize(train_df[f])\n",
    "    test_df[f] = indexer.get_indexer(test_df[f])\n",
    "\n",
    "del indexer"
   ]
  },
  {
   "cell_type": "code",
   "execution_count": null,
   "metadata": {
    "_uuid": "0f92d0a6b7535014667047033f12d73a04b7b940"
   },
   "outputs": [],
   "source": [
    "train_df.head()"
   ]
  },
  {
   "cell_type": "code",
   "execution_count": null,
   "metadata": {
    "_uuid": "0251a53c7ee42e4f25ea35530b903410b4c2822f"
   },
   "outputs": [],
   "source": [
    "%%time\n",
    "#Numeric as float\n",
    "for n in [cat_cols + num_cols + time_cols]:\n",
    "    train_df[n] = train_df[n].fillna(0).astype('int')\n",
    "    test_df[n] = test_df[n].fillna(0).astype('int')\n",
    "\n",
    "#train totals.transactionRevenue\n",
    "train_df['totals.transactionRevenue'] = train_df['totals.transactionRevenue'].fillna(0).astype('float')\n",
    "\n",
    "#visitStartTime\n",
    "for v in time_cols:\n",
    "    train_df[v] = pd.to_numeric(train_df[v])\n",
    "    test_df[v] = pd.to_numeric(test_df[v])\n"
   ]
  },
  {
   "cell_type": "code",
   "execution_count": null,
   "metadata": {
    "_uuid": "de8a71b7646479655df746e963ce47bb6b74f996"
   },
   "outputs": [],
   "source": [
    "#Index\n",
    "train_idx = train_df['fullVisitorId']\n",
    "test_idx = test_df['fullVisitorId']\n",
    "\n",
    "#Targets\n",
    "train_target = np.log1p(train_df.groupby(\"fullVisitorId\")[\"totals.transactionRevenue\"].sum())\n",
    "train_y = np.log1p(train_df[\"totals.transactionRevenue\"])\n",
    "\n",
    "#Datasets\n",
    "train_X = train_df[cat_cols + num_cols + time_cols]\n",
    "test_X = test_df[cat_cols + num_cols +  time_cols]\n",
    "\n",
    "\n",
    "print(train_X.shape)\n",
    "print(test_X.shape)"
   ]
  },
  {
   "cell_type": "code",
   "execution_count": null,
   "metadata": {
    "_uuid": "bd7e23e5fc034417c1230c0c124e96abbd7aecc1"
   },
   "outputs": [],
   "source": [
    "predictions_train = pd.DataFrame(data = {'fullVisitorId':train_df['fullVisitorId'], \n",
    "                                         'sessionId':train_df['sessionId'], \n",
    "                                         'visitId':train_df['visitId'],\n",
    "                                         'index':train_df.index,\n",
    "                                         'totals.transactionRevenue':np.log1p(train_df['totals.transactionRevenue']),\n",
    "                                         'predictedRevenue':np.nan})\n",
    "\n",
    "predictions_test = pd.DataFrame(data = {'fullVisitorId':test_df['fullVisitorId'], \n",
    "                                         'sessionId':test_df['sessionId'], \n",
    "                                         'visitId':test_df['visitId'],\n",
    "                                         'index':test_df.index, \n",
    "                                         'predictedRevenue':np.nan})\n"
   ]
  },
  {
   "cell_type": "code",
   "execution_count": null,
   "metadata": {
    "_uuid": "624080b702473533334f1411fae0ad83d649a20f"
   },
   "outputs": [],
   "source": [
    "from lightgbm import LGBMRegressor\n",
    "\n",
    "#Initialize LGBM\n",
    "gbm = LGBMRegressor(objective = 'regression', \n",
    "                     boosting_type = 'gbdt', \n",
    "                     metric = 'rmse',\n",
    "                     n_estimators = 10000, #10000\n",
    "                     num_leaves = 30,\n",
    "                     learning_rate = 0.01, #0.01\n",
    "                     bagging_fraction = 0.9,#0.8\n",
    "                     feature_fraction = 0.3,#.3\n",
    "                     #bagging_seed = 42,\n",
    "                     #max_depth = 12, #-1 \n",
    "                     #categorical_feature = [train_df[cat_cols].columns.get_loc(c) for c in cat_cols ] ,\n",
    "                     #cat_smooth = 20\n",
    "                    )"
   ]
  },
  {
   "cell_type": "code",
   "execution_count": null,
   "metadata": {
    "_kg_hide-output": true,
    "_uuid": "99b6b3c4865de8b41cde4bbcaa98cced42f7aebc"
   },
   "outputs": [],
   "source": [
    "%%time\n",
    "#Initilization\n",
    "all_K_fold_results = []\n",
    "kf = KFold(n_splits=5, shuffle = True)\n",
    "k = 0\n",
    "\n",
    "\n",
    "for i, v in kf.split(train_X):\n",
    "    dev_index, val_index  = train_X.index[i], train_X.index[v]\n",
    "    X_dev, X_val = train_X.loc[dev_index], train_X.loc[val_index]\n",
    "    y_dev, y_val = train_y[dev_index], train_y[val_index]\n",
    "    \n",
    "    #Fit the model\n",
    "    model = gbm.fit(X_dev,y_dev, eval_set=[(X_val, y_val)],verbose = 100, \n",
    "                    eval_metric = 'rmse', early_stopping_rounds = 100) #100\n",
    "    \n",
    "    #Predict out of fold \n",
    "    predictions_train.loc[val_index, 'predictedRevenue'] = gbm.predict(X_val, num_iteration= model.best_iteration_)\n",
    "    predictions_train[predictions_train['predictedRevenue'] < 0] = 0\n",
    "        \n",
    "    #Predict on test set based on current fold model. Average results\n",
    "    sub_prediction = pd.Series(data = gbm.predict(test_X, num_iteration= model.best_iteration_))\n",
    "    sub_prediction[sub_prediction<0] = 0\n",
    "    predictions_test['Predictions_{}'.format(k)] = sub_prediction.copy()\n",
    "    k += 1 #increase by 1\n",
    "    \n",
    "    #Save current fold values\n",
    "    fold_results = {'best_iteration_' : model.best_iteration_, \n",
    "                   'best_score_' : model.best_score_['valid_0']['rmse'], \n",
    "                   'evals_result_': model.evals_result_['valid_0']['rmse'],\n",
    "                   'feature_importances_' : model.feature_importances_}\n",
    "\n",
    "    all_K_fold_results.append(fold_results.copy())\n",
    "    \n",
    "\n",
    "#Save results\n",
    "results = pd.DataFrame(all_K_fold_results)\n",
    "predictions_test['average_predictions'] = predictions_test.iloc[:,-5:].mean(axis = 1).copy()\n",
    "\n"
   ]
  },
  {
   "cell_type": "code",
   "execution_count": null,
   "metadata": {
    "_uuid": "e3a53cb583612d114b39e540fc56935fa80bcac3"
   },
   "outputs": [],
   "source": [
    "def RMSE_log_sum(pred, df):\n",
    "    #set negative values to zero\n",
    "    pred[pred < 0] = 0\n",
    "    \n",
    "    #Build new dataframe\n",
    "    pred_df = pd.DataFrame(data = {'fullVisitorId': df['fullVisitorId'].values, \n",
    "                                       'transactionRevenue': df['totals.transactionRevenue'].values,\n",
    "                                      'predictedRevenue':np.expm1(pred) })\n",
    "    #Compute sum\n",
    "    pred_df = pred_df.groupby('fullVisitorId').sum().apply(np.log1p).reset_index()\n",
    "\n",
    "    mse_log_sum = mean_squared_error( pred_df['transactionRevenue'].values, \n",
    "                             pred_df['predictedRevenue'].values)  \n",
    "\n",
    "    \n",
    "    #print('log (sum + 1): ',np.sqrt(mse_log_sum))\n",
    "    return np.sqrt(mse_log_sum)\n",
    "\n",
    "\n",
    "def save_submission(pred_test, test_df, file_name):\n",
    "    #Zero negative predictions\n",
    "    pred_test[pred_test < 0] = 0\n",
    "    \n",
    "    #Create temporary dataframe\n",
    "    sub_df = pd.DataFrame(data = {'fullVisitorId':test_df['fullVisitorId'], \n",
    "                             'predictedRevenue':np.expm1(pred_test)})\n",
    "    sub_df = sub_df.groupby('fullVisitorId').sum().apply(np.log1p).reset_index()\n",
    "    sub_df.columns = ['fullVisitorId', 'predictedLogRevenue']\n",
    "    #sub_df['predictedLogRevenue'] = np.log1p(sub_df['predictedLogRevenue'])\n",
    "    sub_df.to_csv(file_name, index = False)\n",
    "\n",
    "    \n",
    "def visualize_results(results):\n",
    "#Utility function to plot fold loss and best model feature importance\n",
    "    plt.figure(figsize=(16, 12))\n",
    "\n",
    "    #----------------------------------------\n",
    "    # Plot validation loss\n",
    "    plt.subplot(2,2,1)\n",
    "\n",
    "    for K in range(results.shape[0]):\n",
    "        plt.plot(np.arange(len(results.evals_result_[K])), results.evals_result_[K], label = 'fold {}'.format(K))\n",
    "\n",
    "    plt.xlabel('Boosting iterations')\n",
    "    plt.ylabel('RMSE')\n",
    "    plt.title('Validation loss vs boosting iterations')\n",
    "    plt.legend()\n",
    "\n",
    "    #----------------------------------------\n",
    "    # Plot box plot of RMSE\n",
    "    plt.subplot(2, 2, 2)    \n",
    "    scores = results.best_score_\n",
    "    plt.boxplot(scores)\n",
    "    rmse_mean = np.mean(scores)\n",
    "    rmse_std = np.std(scores)\n",
    "    plt.title('RMSE Mean:{:.3f} Std: {:.4f}'.format(rmse_mean,rmse_std ))\n",
    "    \n",
    "    #----------------------------------------\n",
    "    # Plot feature importance\n",
    "    #feature_importance = results.sort_values('best_score_').feature_importances_[0]\n",
    "    df_feature_importance = pd.DataFrame.from_records(results.feature_importances_)\n",
    "    feature_importance = df_feature_importance.mean()\n",
    "    std_feature_importance = df_feature_importance.std()\n",
    "    \n",
    "    # make importances relative to max importance\n",
    "    #feature_importance = 100.0 * (mean_feature_importance / mean_feature_importance.sum())\n",
    "    sorted_idx = np.argsort(feature_importance)\n",
    "    pos = np.arange(sorted_idx.shape[0]) + .5\n",
    "    plt.subplot(2, 1, 2)\n",
    "    plt.bar(pos, feature_importance[sorted_idx], align='center', yerr = std_feature_importance)\n",
    "    xlabels = [ test_X.columns.values[i] for i in sorted_idx]\n",
    "    plt.xticks(pos, xlabels, rotation = 90)\n",
    "    plt.xlabel('Feature')\n",
    "    plt.ylabel('Avg Importance score')\n",
    "    plt.title('Mean Feature Importance over K folds') \n",
    "    \n",
    "    plt.show()"
   ]
  },
  {
   "cell_type": "markdown",
   "metadata": {
    "_uuid": "25dd9b6ff2410a4871060febfd5cc8162e88c258"
   },
   "source": [
    "### Previous iteration\n",
    "Session level CV score:  1.6112586662249373\n",
    "User level CV score:  1.5919866631295672"
   ]
  },
  {
   "cell_type": "code",
   "execution_count": null,
   "metadata": {
    "_uuid": "4e0a0a727f93a0a4066ba4abea0e679ca396be2e"
   },
   "outputs": [],
   "source": [
    "print('Session level CV score (filtered data): ', np.mean(results.best_score_))\n",
    "print('Session level CV score (all data):', np.sqrt(mean_squared_error(predictions_train['totals.transactionRevenue'], predictions_train['predictedRevenue'])))\n",
    "print('User level CV score: ', RMSE_log_sum(predictions_train['predictedRevenue'],train_df))"
   ]
  },
  {
   "cell_type": "code",
   "execution_count": null,
   "metadata": {
    "_uuid": "71043451b5aeb4cd2b97cc9bb21b17889899a4af"
   },
   "outputs": [],
   "source": [
    "visualize_results(results)"
   ]
  },
  {
   "cell_type": "code",
   "execution_count": null,
   "metadata": {
    "_uuid": "2f5f6109b9e773ba4ca78f9aae4c4111302abbbb"
   },
   "outputs": [],
   "source": [
    "train_df['visitStartTime'] = pd.to_datetime(train_df['visitStartTime'])\n",
    "\n",
    "error_df = pd.DataFrame(data = {'visitStartTime':train_df['visitStartTime'],'fullVisitorId':train_df['sessionId'], \n",
    "                                'True_log_revenue' : np.log1p(train_df['totals.transactionRevenue']), \n",
    "                                'Predicted_log_revenue':predictions_train['predictedRevenue']  })\n",
    "\n",
    "error_df['Difference'] = error_df['True_log_revenue'] - error_df['Predicted_log_revenue']\n",
    "error_df['True_is_non_zero'] = error_df['True_log_revenue'] > 0\n",
    "#temp_df.columns = ['fullVisitorId', 'predictedLogRevenue']\n",
    "#sub_df['predictedLogRevenue'] = np.log1p(sub_df['predictedLogRevenue'])\n",
    "#sub_df.to_csv(file_name, index = False)\n",
    "error_df.head(5).sort_values('True_log_revenue')"
   ]
  },
  {
   "cell_type": "code",
   "execution_count": null,
   "metadata": {
    "_uuid": "2f1bbf04ac798d53a163ae778df36002e2f02361"
   },
   "outputs": [],
   "source": [
    "fig, (ax1, ax2) = plt.subplots(nrows=1, ncols=2, figsize = (20,7))\n",
    "\n",
    "\n",
    "sns.distplot(error_df[error_df['True_is_non_zero'] == False]['True_log_revenue'], ax = ax1, label = 'true')\n",
    "sns.distplot(error_df[error_df['True_is_non_zero'] == False ]['Predicted_log_revenue'], ax = ax1, label = 'pred')\n",
    "ax1.legend()\n",
    "ax1.set_ylim(0,.1)\n",
    "ax1.set_xlabel('Log revenue (session)')\n",
    "ax1.set_title('Distribution of log revenues for sessions with zero true revenue ')\n",
    "\n",
    "sns.distplot(error_df[error_df['True_is_non_zero'] == True]['True_log_revenue'], ax = ax2, label = 'true')\n",
    "sns.distplot(error_df[error_df['True_is_non_zero'] == True ]['Predicted_log_revenue'], ax = ax2, label = 'pred')\n",
    "ax2.legend()\n",
    "ax2.set_ylim(0,.5)\n",
    "ax2.set_xlabel('Log revenue (session)')\n",
    "ax2.set_title('Distribution of log revenues for sessions with non zero true revenue ')\n",
    "\n",
    "plt.show()"
   ]
  },
  {
   "cell_type": "code",
   "execution_count": null,
   "metadata": {
    "_uuid": "1d47365c65551cf87e0848b22e93058e95efa01c"
   },
   "outputs": [],
   "source": [
    "sorted_non_zero = error_df[error_df['True_is_non_zero'] == True].sort_values('visitStartTime')\n",
    "\n",
    "\n",
    "plt.figure(figsize = (20,15))\n",
    "plt.subplot(2,2,1)\n",
    "plt.plot(sorted_non_zero.visitStartTime, sorted_non_zero.True_log_revenue , label = 'True')\n",
    "plt.plot(sorted_non_zero.visitStartTime, sorted_non_zero.Predicted_log_revenue , alpha = .5, label = 'Pred')\n",
    "plt.title('Log revenue over time (non zero true sessions only)')\n",
    "plt.legend()\n",
    "plt.xlabel('Time: sessions')\n",
    "\n",
    "plt.subplot(2,2,2)\n",
    "daily_error_non_zero_df = sorted_non_zero.set_index('visitStartTime', drop = True).resample('D').mean()\n",
    "plt.plot(daily_error_non_zero_df.index, daily_error_non_zero_df.True_log_revenue , label = 'True')\n",
    "plt.plot(daily_error_non_zero_df.index, daily_error_non_zero_df.Predicted_log_revenue , label = 'Pred')\n",
    "plt.title('Daily average log revenue (non zero true sessions only)')\n",
    "\n",
    "plt.subplot(2,2,3)\n",
    "weekly_error_df = error_df.set_index('visitStartTime', drop = True).resample('W').mean()\n",
    "plt.plot(weekly_error_df.index, weekly_error_df.True_log_revenue , label = 'True')\n",
    "plt.plot(weekly_error_df.index, weekly_error_df.Predicted_log_revenue , label = 'Pred')\n",
    "plt.title('Weekly average log revenue (all session)')\n",
    "\n",
    "\n",
    "plt.subplot(2,2,4)\n",
    "daily_error_df = error_df.set_index('visitStartTime', drop = True).resample('D').mean()\n",
    "plt.plot(daily_error_df.index, daily_error_df.True_log_revenue , label = 'True')\n",
    "plt.plot(daily_error_df.index, daily_error_df.Predicted_log_revenue , label = 'Pred')\n",
    "plt.title('Daily average log revenue (all session)')\n",
    "\n",
    "plt.legend()\n",
    "plt.show()"
   ]
  },
  {
   "cell_type": "code",
   "execution_count": null,
   "metadata": {
    "_uuid": "6a6e665d2f3b0bc25d77e9457fb4c485be1104a9"
   },
   "outputs": [],
   "source": [
    "sorted_non_zero = error_df[error_df['True_is_non_zero'] == True].sort_values('visitStartTime')\n",
    "sorted_zero = error_df[error_df['True_is_non_zero'] == False].sort_values('visitStartTime')\n",
    "\n",
    "\n",
    "plt.figure(figsize = (20,5))\n",
    "plt.subplot(1,3,1)\n",
    "ts_error_df = error_df.set_index('visitStartTime', drop = True)\n",
    "difference_rev_df = error_df.sort_values('visitStartTime')\n",
    "plt.plot(error_df.visitStartTime, error_df.Difference , label = 'True - predicted', color = 'grey')\n",
    "plt.title('Train - Pred (log rev) for all sessions')\n",
    "\n",
    "plt.subplot(1,3,2)\n",
    "plt.plot(sorted_non_zero.visitStartTime, sorted_non_zero.Difference , label = 'True - predicted',\n",
    "         color = 'grey')\n",
    "plt.title('Train - Pred for non zero sessions only')\n",
    "\n",
    "plt.subplot(1,3,3)\n",
    "plt.plot(sorted_zero.visitStartTime, sorted_zero.Difference,\n",
    "         color = 'grey')\n",
    "plt.title('Train - Pred for zero sessions only')\n",
    "\n",
    "plt.legend()\n",
    "plt.show()"
   ]
  },
  {
   "cell_type": "code",
   "execution_count": null,
   "metadata": {
    "_uuid": "8220eae53b995a64062270f63512e284a6c69350"
   },
   "outputs": [],
   "source": [
    "sns.jointplot(x=\"True_log_revenue\", y=\"Predicted_log_revenue\", data=sorted_non_zero)\n",
    "display('Joint distribution of log rev for non zero sessions only')\n",
    "\n",
    "plt.show()"
   ]
  },
  {
   "cell_type": "code",
   "execution_count": null,
   "metadata": {
    "_uuid": "e48ae93631e92186cbb44b637f6b0386b4275ca1"
   },
   "outputs": [],
   "source": [
    "save_submission(predictions_test['average_predictions'], test_df, 'submission.csv')"
   ]
  },
  {
   "cell_type": "code",
   "execution_count": null,
   "metadata": {
    "_uuid": "636ee4b790e36405e146f58cb8f48a956aea65ef"
   },
   "outputs": [],
   "source": [
    "test_df.head()"
   ]
  },
  {
   "cell_type": "code",
   "execution_count": null,
   "metadata": {
    "_uuid": "e6867eb4a1882b712f554e4dc4aa4795c120de11"
   },
   "outputs": [],
   "source": [
    "\n",
    "#test_df['PredictedLogRevenue'] = predictions_test['average_predictions']\n",
    "tt = test_df.groupby('fullVisitorId').sum() #.apply(np.log1p).reset_index()"
   ]
  },
  {
   "cell_type": "code",
   "execution_count": null,
   "metadata": {
    "_uuid": "e6d0ab91805ae3212552424fd8c1db5cd7383a3f"
   },
   "outputs": [],
   "source": [
    "tt.shape"
   ]
  },
  {
   "cell_type": "code",
   "execution_count": null,
   "metadata": {
    "_uuid": "724023df0b329cdbbb6d54ad52e193ec210ea3ed"
   },
   "outputs": [],
   "source": [
    "test_df.shape"
   ]
  },
  {
   "cell_type": "code",
   "execution_count": null,
   "metadata": {
    "_uuid": "248489ea9b619b4cfecc55fd15a9447d6a3e0d37"
   },
   "outputs": [],
   "source": [
    "train_df.shape"
   ]
  },
  {
   "cell_type": "code",
   "execution_count": null,
   "metadata": {
    "_uuid": "46661c2e8514c990793b1bd6cb87680ab6d7f218"
   },
   "outputs": [],
   "source": [
    "ss = pd.read_csv('../input/ga-customer-revenue-prediction/test.csv')\n",
    "ss.shape"
   ]
  },
  {
   "cell_type": "code",
   "execution_count": null,
   "metadata": {
    "_uuid": "5d7c0759d86d68f8e25a5603531e59b4061536d9"
   },
   "outputs": [],
   "source": [
    "    pred_test[pred_test < 0] = 0\n",
    "    \n",
    "    #Create temporary dataframe\n",
    "    sub_df = pd.DataFrame(data = {'fullVisitorId':test_df['fullVisitorId'], \n",
    "                             'predictedRevenue':np.expm1(pred_test)})\n",
    "    sub_df = sub_df.groupby('fullVisitorId').sum().apply(np.log1p).reset_index()\n",
    "    sub_df.columns = ['fullVisitorId', 'predictedLogRevenue']\n",
    "    #sub_df['predictedLogRevenue'] = np.log1p(sub_df['predictedLogRevenue'])\n",
    "    sub_df.to_csv(file_name, index = False)\n",
    "    \n",
    "    test['PredictedLogRevenue'] = sub_reg_preds\n",
    "test[['fullVisitorId', 'PredictedLogRevenue']].groupby('fullVisitorId').sum()['PredictedLogRevenue'].apply(np.log1p).reset_index()\\\n",
    "    .to_csv('test_clf_reg_log_of_sum.csv', index=False)"
   ]
  },
  {
   "cell_type": "markdown",
   "metadata": {
    "_uuid": "e49790297f26fecdcfbca84ef11eeb90a69b1363"
   },
   "source": [
    "## Best features "
   ]
  },
  {
   "cell_type": "code",
   "execution_count": null,
   "metadata": {
    "_uuid": "f5b4237b3a16e98db83ab4d91b0b3dd3d8934217"
   },
   "outputs": [],
   "source": [
    "feature_importance = results.feature_importances_.mean()\n",
    "sorted_idx = np.argsort(feature_importance)\n",
    "feature_importance[sorted_idx]\n",
    "feature_names = [ test_X.columns.values[i] for i in sorted_idx]"
   ]
  },
  {
   "cell_type": "code",
   "execution_count": null,
   "metadata": {
    "_uuid": "0b70d6dd50c41d067a58445565c2ffd994be9003"
   },
   "outputs": [],
   "source": [
    "importance_df = pd.DataFrame({'features_names': feature_names, 'importance':feature_importance[sorted_idx] })\n",
    "importance_df.sort_values('importance', ascending = False)['features_names'][0:20].values"
   ]
  },
  {
   "cell_type": "code",
   "execution_count": null,
   "metadata": {
    "_uuid": "745eda15fac1e2f9ac9035efe4e7dc7fa7da730a"
   },
   "outputs": [],
   "source": [
    "predictions_test['average_predictions'].sum()"
   ]
  },
  {
   "cell_type": "markdown",
   "metadata": {
    "_uuid": "ae117dad8316ce4f2cab51e51e6351f73a2959be"
   },
   "source": [
    "### Post processing attempt "
   ]
  },
  {
   "cell_type": "code",
   "execution_count": null,
   "metadata": {
    "_uuid": "17518bcbcfea270913fb1ef1e33c4fa01d233bdd"
   },
   "outputs": [],
   "source": [
    "\n",
    "test_df['average_predictions'] = predictions_test['average_predictions']\n",
    "predictions_test['totals.bounces'] = test_df['totals.bounces']\n",
    "error_df['totals.bounces'] = train_df['totals.bounces']\n"
   ]
  },
  {
   "cell_type": "code",
   "execution_count": null,
   "metadata": {
    "_uuid": "e773160c21019d8d1121f3d6491a373635076790"
   },
   "outputs": [],
   "source": [
    "fig, (ax1, ax2) = plt.subplots(nrows=1, ncols=2, figsize = (20,7))\n",
    "\n",
    "\n",
    "sns.distplot(error_df['True_log_revenue'], ax = ax1, label = 'true')\n",
    "sns.distplot(error_df['Predicted_log_revenue'], ax = ax1, label = 'pred')\n",
    "sns.distplot(test_df['average_predictions'], ax = ax1, label = 'test', color = 'yellow')\n",
    "ax1.legend()\n",
    "ax1.set_ylim(0,.1)\n",
    "ax1.set_xlabel('Log revenue (session)')\n",
    "ax1.set_title('Distribution of log revenues and predictions ')\n",
    "\n",
    "sns.distplot(error_df[error_df['totals.bounces'] ==1 ]['True_log_revenue'], ax = ax2, label = 'true')\n",
    "sns.distplot(error_df[error_df['totals.bounces'] ==1 ]['Predicted_log_revenue'], ax = ax2, label = 'pred')\n",
    "sns.distplot(test_df[test_df['totals.bounces'] ==1]['average_predictions'], ax = ax2, label = 'test', color = 'yellow')\n",
    "ax2.legend()\n",
    "ax2.set_ylim(0,.5)\n",
    "ax2.set_xlabel('Log revenue (session)')\n",
    "ax2.set_title('Distribution of log revenues for sessions with bounce = 1')\n",
    "\n",
    "plt.show()"
   ]
  },
  {
   "cell_type": "code",
   "execution_count": null,
   "metadata": {
    "_uuid": "c630c0bd4f23a3857f4ce8771547f12d63487be2"
   },
   "outputs": [],
   "source": [
    "#Sum of predicted revenues for sessions with a bounce\n",
    "print('Revenue: True train sessions with bounce =1 : ' ,error_df[error_df['totals.bounces'] ==1 ]['True_log_revenue'].sum(),error_df[error_df['totals.bounces'] ==1 ]['True_log_revenue'].count() ,'sessions')\n",
    "print('Revenue: Predicted train sessions with bounce =1 : ' , error_df[error_df['totals.bounces'] ==1 ]['Predicted_log_revenue'].sum(), error_df[error_df['totals.bounces'] ==1 ]['Predicted_log_revenue'].count() ,'sessions')\n",
    "print('Revenue: Predicted test sessions with bounce =1 : ' , test_df[test_df['totals.bounces'] ==1]['average_predictions'].sum(), test_df[test_df['totals.bounces'] ==1 ]['average_predictions'].count() ,'sessions')\n"
   ]
  },
  {
   "cell_type": "code",
   "execution_count": null,
   "metadata": {
    "_uuid": "1e52d46add10cd9dd9300277e828b4701b6143a9"
   },
   "outputs": [],
   "source": [
    "print('Revenue: True train sessions with bounce =0 : ' ,error_df[error_df['totals.bounces'] ==0 ]['True_log_revenue'].sum(), error_df[error_df['totals.bounces'] ==0 ]['True_log_revenue'].count() ,'sessions')\n",
    "print('Revenue: Predicted train sessions with bounce =0 : ' , error_df[error_df['totals.bounces'] ==0 ]['Predicted_log_revenue'].sum(), error_df[error_df['totals.bounces'] ==0 ]['True_log_revenue'].count() ,'sessions')\n",
    "print('Revenue: Predicted test sessions with bounce =0 : ' , test_df[test_df['totals.bounces'] ==0]['average_predictions'].sum(), test_df[test_df['totals.bounces'] ==1 ]['average_predictions'].count() ,'sessions')\n"
   ]
  },
  {
   "cell_type": "markdown",
   "metadata": {
    "_uuid": "22ae148d6c97a4b7dedc309adffecfb13b2f2475"
   },
   "source": [
    "### Assigning values to zero as post processing "
   ]
  },
  {
   "cell_type": "code",
   "execution_count": null,
   "metadata": {
    "_uuid": "d8f25715c12a310c97e08e7c87651df644f10a99"
   },
   "outputs": [],
   "source": [
    "predictions_test[predictions_test['totals.bounces'] ==1]['average_predictions'] = 0"
   ]
  },
  {
   "cell_type": "code",
   "execution_count": null,
   "metadata": {
    "_uuid": "7c3f3997c0d9ea161d22e5e09ed91b0f4f380cb2"
   },
   "outputs": [],
   "source": [
    "save_submission(predictions_test['average_predictions'], test_df, 'submission_post_process.csv')"
   ]
  },
  {
   "cell_type": "code",
   "execution_count": null,
   "metadata": {
    "_uuid": "860aa639bbc111a64082600fc57c3e9a248d9947"
   },
   "outputs": [],
   "source": []
  }
 ],
 "metadata": {
  "kernelspec": {
   "display_name": "Python [conda env:anaconda3]",
   "language": "python",
   "name": "conda-env-anaconda3-py"
  },
  "language_info": {
   "codemirror_mode": {
    "name": "ipython",
    "version": 3
   },
   "file_extension": ".py",
   "mimetype": "text/x-python",
   "name": "python",
   "nbconvert_exporter": "python",
   "pygments_lexer": "ipython3",
   "version": "3.6.6"
  }
 },
 "nbformat": 4,
 "nbformat_minor": 1
}
