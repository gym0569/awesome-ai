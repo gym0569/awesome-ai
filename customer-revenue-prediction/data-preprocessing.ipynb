{
 "cells": [
  {
   "cell_type": "code",
   "execution_count": 2,
   "metadata": {
    "ExecuteTime": {
     "end_time": "2018-10-08T17:31:45.272774Z",
     "start_time": "2018-10-08T17:31:44.632727Z"
    }
   },
   "outputs": [],
   "source": [
    "# load basic packages\n",
    "import os\n",
    "import sys\n",
    "import warnings\n",
    "\n",
    "import numpy as np\n",
    "import pandas as pd\n",
    "import scipy as sp\n",
    "import json\n",
    "\n",
    "import matplotlib.pyplot as plt\n",
    "plt.style.use(\"seaborn\")\n",
    "import seaborn as sns\n",
    "import spacy\n",
    "nlp = spacy.load(\"en\")\n",
    "\n",
    "# save model\n",
    "import pickle\n",
    "\n",
    "# set environment\n",
    "pd.set_option(\"display.max_columns\", 100)\n",
    "pd.set_option(\"display.max_Colwidth\", -1)\n",
    "warnings.filterwarnings(\"ignore\")"
   ]
  },
  {
   "cell_type": "code",
   "execution_count": 3,
   "metadata": {
    "ExecuteTime": {
     "end_time": "2018-10-08T17:31:57.587795Z",
     "start_time": "2018-10-08T17:31:45.275533Z"
    }
   },
   "outputs": [],
   "source": [
    "data = pd.read_csv(\"data/train.csv\")"
   ]
  },
  {
   "cell_type": "code",
   "execution_count": 4,
   "metadata": {
    "ExecuteTime": {
     "end_time": "2018-10-08T17:31:57.597432Z",
     "start_time": "2018-10-08T17:31:57.591164Z"
    }
   },
   "outputs": [
    {
     "data": {
      "text/plain": [
       "Index(['channelGrouping', 'date', 'device', 'fullVisitorId', 'geoNetwork',\n",
       "       'sessionId', 'socialEngagementType', 'totals', 'trafficSource',\n",
       "       'visitId', 'visitNumber', 'visitStartTime'],\n",
       "      dtype='object')"
      ]
     },
     "execution_count": 4,
     "metadata": {},
     "output_type": "execute_result"
    }
   ],
   "source": [
    "data.columns"
   ]
  },
  {
   "cell_type": "code",
   "execution_count": 5,
   "metadata": {
    "ExecuteTime": {
     "end_time": "2018-10-08T17:31:57.618637Z",
     "start_time": "2018-10-08T17:31:57.600881Z"
    },
    "scrolled": true
   },
   "outputs": [
    {
     "data": {
      "text/html": [
       "<div>\n",
       "<style scoped>\n",
       "    .dataframe tbody tr th:only-of-type {\n",
       "        vertical-align: middle;\n",
       "    }\n",
       "\n",
       "    .dataframe tbody tr th {\n",
       "        vertical-align: top;\n",
       "    }\n",
       "\n",
       "    .dataframe thead th {\n",
       "        text-align: right;\n",
       "    }\n",
       "</style>\n",
       "<table border=\"1\" class=\"dataframe\">\n",
       "  <thead>\n",
       "    <tr style=\"text-align: right;\">\n",
       "      <th></th>\n",
       "      <th>channelGrouping</th>\n",
       "      <th>date</th>\n",
       "      <th>device</th>\n",
       "      <th>fullVisitorId</th>\n",
       "      <th>geoNetwork</th>\n",
       "      <th>sessionId</th>\n",
       "      <th>socialEngagementType</th>\n",
       "      <th>totals</th>\n",
       "      <th>trafficSource</th>\n",
       "      <th>visitId</th>\n",
       "      <th>visitNumber</th>\n",
       "      <th>visitStartTime</th>\n",
       "    </tr>\n",
       "  </thead>\n",
       "  <tbody>\n",
       "    <tr>\n",
       "      <th>0</th>\n",
       "      <td>Organic Search</td>\n",
       "      <td>20160902</td>\n",
       "      <td>{\"browser\": \"Chrome\", \"browserVersion\": \"not available in demo dataset\", \"browserSize\": \"not available in demo dataset\", \"operatingSystem\": \"Windows\", \"operatingSystemVersion\": \"not available in demo dataset\", \"isMobile\": false, \"mobileDeviceBranding\": \"not available in demo dataset\", \"mobileDeviceModel\": \"not available in demo dataset\", \"mobileInputSelector\": \"not available in demo dataset\", \"mobileDeviceInfo\": \"not available in demo dataset\", \"mobileDeviceMarketingName\": \"not available in demo dataset\", \"flashVersion\": \"not available in demo dataset\", \"language\": \"not available in demo dataset\", \"screenColors\": \"not available in demo dataset\", \"screenResolution\": \"not available in demo dataset\", \"deviceCategory\": \"desktop\"}</td>\n",
       "      <td>1131660440785968503</td>\n",
       "      <td>{\"continent\": \"Asia\", \"subContinent\": \"Western Asia\", \"country\": \"Turkey\", \"region\": \"Izmir\", \"metro\": \"(not set)\", \"city\": \"Izmir\", \"cityId\": \"not available in demo dataset\", \"networkDomain\": \"ttnet.com.tr\", \"latitude\": \"not available in demo dataset\", \"longitude\": \"not available in demo dataset\", \"networkLocation\": \"not available in demo dataset\"}</td>\n",
       "      <td>1131660440785968503_1472830385</td>\n",
       "      <td>Not Socially Engaged</td>\n",
       "      <td>{\"visits\": \"1\", \"hits\": \"1\", \"pageviews\": \"1\", \"bounces\": \"1\", \"newVisits\": \"1\"}</td>\n",
       "      <td>{\"campaign\": \"(not set)\", \"source\": \"google\", \"medium\": \"organic\", \"keyword\": \"(not provided)\", \"adwordsClickInfo\": {\"criteriaParameters\": \"not available in demo dataset\"}}</td>\n",
       "      <td>1472830385</td>\n",
       "      <td>1</td>\n",
       "      <td>1472830385</td>\n",
       "    </tr>\n",
       "    <tr>\n",
       "      <th>1</th>\n",
       "      <td>Organic Search</td>\n",
       "      <td>20160902</td>\n",
       "      <td>{\"browser\": \"Firefox\", \"browserVersion\": \"not available in demo dataset\", \"browserSize\": \"not available in demo dataset\", \"operatingSystem\": \"Macintosh\", \"operatingSystemVersion\": \"not available in demo dataset\", \"isMobile\": false, \"mobileDeviceBranding\": \"not available in demo dataset\", \"mobileDeviceModel\": \"not available in demo dataset\", \"mobileInputSelector\": \"not available in demo dataset\", \"mobileDeviceInfo\": \"not available in demo dataset\", \"mobileDeviceMarketingName\": \"not available in demo dataset\", \"flashVersion\": \"not available in demo dataset\", \"language\": \"not available in demo dataset\", \"screenColors\": \"not available in demo dataset\", \"screenResolution\": \"not available in demo dataset\", \"deviceCategory\": \"desktop\"}</td>\n",
       "      <td>377306020877927890</td>\n",
       "      <td>{\"continent\": \"Oceania\", \"subContinent\": \"Australasia\", \"country\": \"Australia\", \"region\": \"not available in demo dataset\", \"metro\": \"not available in demo dataset\", \"city\": \"not available in demo dataset\", \"cityId\": \"not available in demo dataset\", \"networkDomain\": \"dodo.net.au\", \"latitude\": \"not available in demo dataset\", \"longitude\": \"not available in demo dataset\", \"networkLocation\": \"not available in demo dataset\"}</td>\n",
       "      <td>377306020877927890_1472880147</td>\n",
       "      <td>Not Socially Engaged</td>\n",
       "      <td>{\"visits\": \"1\", \"hits\": \"1\", \"pageviews\": \"1\", \"bounces\": \"1\", \"newVisits\": \"1\"}</td>\n",
       "      <td>{\"campaign\": \"(not set)\", \"source\": \"google\", \"medium\": \"organic\", \"keyword\": \"(not provided)\", \"adwordsClickInfo\": {\"criteriaParameters\": \"not available in demo dataset\"}}</td>\n",
       "      <td>1472880147</td>\n",
       "      <td>1</td>\n",
       "      <td>1472880147</td>\n",
       "    </tr>\n",
       "    <tr>\n",
       "      <th>2</th>\n",
       "      <td>Organic Search</td>\n",
       "      <td>20160902</td>\n",
       "      <td>{\"browser\": \"Chrome\", \"browserVersion\": \"not available in demo dataset\", \"browserSize\": \"not available in demo dataset\", \"operatingSystem\": \"Windows\", \"operatingSystemVersion\": \"not available in demo dataset\", \"isMobile\": false, \"mobileDeviceBranding\": \"not available in demo dataset\", \"mobileDeviceModel\": \"not available in demo dataset\", \"mobileInputSelector\": \"not available in demo dataset\", \"mobileDeviceInfo\": \"not available in demo dataset\", \"mobileDeviceMarketingName\": \"not available in demo dataset\", \"flashVersion\": \"not available in demo dataset\", \"language\": \"not available in demo dataset\", \"screenColors\": \"not available in demo dataset\", \"screenResolution\": \"not available in demo dataset\", \"deviceCategory\": \"desktop\"}</td>\n",
       "      <td>3895546263509774583</td>\n",
       "      <td>{\"continent\": \"Europe\", \"subContinent\": \"Southern Europe\", \"country\": \"Spain\", \"region\": \"Community of Madrid\", \"metro\": \"(not set)\", \"city\": \"Madrid\", \"cityId\": \"not available in demo dataset\", \"networkDomain\": \"unknown.unknown\", \"latitude\": \"not available in demo dataset\", \"longitude\": \"not available in demo dataset\", \"networkLocation\": \"not available in demo dataset\"}</td>\n",
       "      <td>3895546263509774583_1472865386</td>\n",
       "      <td>Not Socially Engaged</td>\n",
       "      <td>{\"visits\": \"1\", \"hits\": \"1\", \"pageviews\": \"1\", \"bounces\": \"1\", \"newVisits\": \"1\"}</td>\n",
       "      <td>{\"campaign\": \"(not set)\", \"source\": \"google\", \"medium\": \"organic\", \"keyword\": \"(not provided)\", \"adwordsClickInfo\": {\"criteriaParameters\": \"not available in demo dataset\"}}</td>\n",
       "      <td>1472865386</td>\n",
       "      <td>1</td>\n",
       "      <td>1472865386</td>\n",
       "    </tr>\n",
       "  </tbody>\n",
       "</table>\n",
       "</div>"
      ],
      "text/plain": [
       "  channelGrouping      date  \\\n",
       "0  Organic Search  20160902   \n",
       "1  Organic Search  20160902   \n",
       "2  Organic Search  20160902   \n",
       "\n",
       "                                                                                                                                                                                                                                                                                                                                                                                                                                                                                                                                                                                                                                                                                                                                                               device  \\\n",
       "0  {\"browser\": \"Chrome\", \"browserVersion\": \"not available in demo dataset\", \"browserSize\": \"not available in demo dataset\", \"operatingSystem\": \"Windows\", \"operatingSystemVersion\": \"not available in demo dataset\", \"isMobile\": false, \"mobileDeviceBranding\": \"not available in demo dataset\", \"mobileDeviceModel\": \"not available in demo dataset\", \"mobileInputSelector\": \"not available in demo dataset\", \"mobileDeviceInfo\": \"not available in demo dataset\", \"mobileDeviceMarketingName\": \"not available in demo dataset\", \"flashVersion\": \"not available in demo dataset\", \"language\": \"not available in demo dataset\", \"screenColors\": \"not available in demo dataset\", \"screenResolution\": \"not available in demo dataset\", \"deviceCategory\": \"desktop\"}      \n",
       "1  {\"browser\": \"Firefox\", \"browserVersion\": \"not available in demo dataset\", \"browserSize\": \"not available in demo dataset\", \"operatingSystem\": \"Macintosh\", \"operatingSystemVersion\": \"not available in demo dataset\", \"isMobile\": false, \"mobileDeviceBranding\": \"not available in demo dataset\", \"mobileDeviceModel\": \"not available in demo dataset\", \"mobileInputSelector\": \"not available in demo dataset\", \"mobileDeviceInfo\": \"not available in demo dataset\", \"mobileDeviceMarketingName\": \"not available in demo dataset\", \"flashVersion\": \"not available in demo dataset\", \"language\": \"not available in demo dataset\", \"screenColors\": \"not available in demo dataset\", \"screenResolution\": \"not available in demo dataset\", \"deviceCategory\": \"desktop\"}   \n",
       "2  {\"browser\": \"Chrome\", \"browserVersion\": \"not available in demo dataset\", \"browserSize\": \"not available in demo dataset\", \"operatingSystem\": \"Windows\", \"operatingSystemVersion\": \"not available in demo dataset\", \"isMobile\": false, \"mobileDeviceBranding\": \"not available in demo dataset\", \"mobileDeviceModel\": \"not available in demo dataset\", \"mobileInputSelector\": \"not available in demo dataset\", \"mobileDeviceInfo\": \"not available in demo dataset\", \"mobileDeviceMarketingName\": \"not available in demo dataset\", \"flashVersion\": \"not available in demo dataset\", \"language\": \"not available in demo dataset\", \"screenColors\": \"not available in demo dataset\", \"screenResolution\": \"not available in demo dataset\", \"deviceCategory\": \"desktop\"}      \n",
       "\n",
       "         fullVisitorId  \\\n",
       "0  1131660440785968503   \n",
       "1  377306020877927890    \n",
       "2  3895546263509774583   \n",
       "\n",
       "                                                                                                                                                                                                                                                                                                                                                                                                                                geoNetwork  \\\n",
       "0  {\"continent\": \"Asia\", \"subContinent\": \"Western Asia\", \"country\": \"Turkey\", \"region\": \"Izmir\", \"metro\": \"(not set)\", \"city\": \"Izmir\", \"cityId\": \"not available in demo dataset\", \"networkDomain\": \"ttnet.com.tr\", \"latitude\": \"not available in demo dataset\", \"longitude\": \"not available in demo dataset\", \"networkLocation\": \"not available in demo dataset\"}                                                                           \n",
       "1  {\"continent\": \"Oceania\", \"subContinent\": \"Australasia\", \"country\": \"Australia\", \"region\": \"not available in demo dataset\", \"metro\": \"not available in demo dataset\", \"city\": \"not available in demo dataset\", \"cityId\": \"not available in demo dataset\", \"networkDomain\": \"dodo.net.au\", \"latitude\": \"not available in demo dataset\", \"longitude\": \"not available in demo dataset\", \"networkLocation\": \"not available in demo dataset\"}   \n",
       "2  {\"continent\": \"Europe\", \"subContinent\": \"Southern Europe\", \"country\": \"Spain\", \"region\": \"Community of Madrid\", \"metro\": \"(not set)\", \"city\": \"Madrid\", \"cityId\": \"not available in demo dataset\", \"networkDomain\": \"unknown.unknown\", \"latitude\": \"not available in demo dataset\", \"longitude\": \"not available in demo dataset\", \"networkLocation\": \"not available in demo dataset\"}                                                     \n",
       "\n",
       "                        sessionId  socialEngagementType  \\\n",
       "0  1131660440785968503_1472830385  Not Socially Engaged   \n",
       "1  377306020877927890_1472880147   Not Socially Engaged   \n",
       "2  3895546263509774583_1472865386  Not Socially Engaged   \n",
       "\n",
       "                                                                             totals  \\\n",
       "0  {\"visits\": \"1\", \"hits\": \"1\", \"pageviews\": \"1\", \"bounces\": \"1\", \"newVisits\": \"1\"}   \n",
       "1  {\"visits\": \"1\", \"hits\": \"1\", \"pageviews\": \"1\", \"bounces\": \"1\", \"newVisits\": \"1\"}   \n",
       "2  {\"visits\": \"1\", \"hits\": \"1\", \"pageviews\": \"1\", \"bounces\": \"1\", \"newVisits\": \"1\"}   \n",
       "\n",
       "                                                                                                                                                                  trafficSource  \\\n",
       "0  {\"campaign\": \"(not set)\", \"source\": \"google\", \"medium\": \"organic\", \"keyword\": \"(not provided)\", \"adwordsClickInfo\": {\"criteriaParameters\": \"not available in demo dataset\"}}   \n",
       "1  {\"campaign\": \"(not set)\", \"source\": \"google\", \"medium\": \"organic\", \"keyword\": \"(not provided)\", \"adwordsClickInfo\": {\"criteriaParameters\": \"not available in demo dataset\"}}   \n",
       "2  {\"campaign\": \"(not set)\", \"source\": \"google\", \"medium\": \"organic\", \"keyword\": \"(not provided)\", \"adwordsClickInfo\": {\"criteriaParameters\": \"not available in demo dataset\"}}   \n",
       "\n",
       "      visitId  visitNumber  visitStartTime  \n",
       "0  1472830385  1            1472830385      \n",
       "1  1472880147  1            1472880147      \n",
       "2  1472865386  1            1472865386      "
      ]
     },
     "execution_count": 5,
     "metadata": {},
     "output_type": "execute_result"
    }
   ],
   "source": [
    "data.head(3)"
   ]
  },
  {
   "cell_type": "code",
   "execution_count": 6,
   "metadata": {
    "ExecuteTime": {
     "end_time": "2018-10-08T17:31:57.625824Z",
     "start_time": "2018-10-08T17:31:57.620762Z"
    },
    "scrolled": true
   },
   "outputs": [
    {
     "name": "stdout",
     "output_type": "stream",
     "text": [
      "What files do I need?\n",
      "\n",
      "You will need to download train.csv and test.csv. These contain the data necessary to make predictions for each fullVisitorId listed in sample_submission.csv.\n",
      "\n",
      "You can also access this data via BigQuery, using the example notebook provided as a way to get started. The data in train.csv is contained in the BigQuery ga_train_set dataset, and the data in test.csv is contained in the ga_test_set dataset, under the kaggle-public-datasets project, accessible through Kernels. In those BigQuery datasets, each day's worth of data is a separate table for more efficient EDA / download.\n",
      "\n",
      "All information below pertains to the data in both CSV and BigQuery format.\n",
      "What should I expect the data format to be?\n",
      "\n",
      "Both train.csv and test.csv contain the columns listed under Data Fields. Each row in the dataset is one visit to the store. Because we are predicting the log of the total revenue per user, be aware that not all rows in test.csv will correspond to a row in the submission, but all unique fullVisitorIds will correspond to a row in the submission.\n",
      "IMPORTANT: Due to the formatting of fullVisitorId you must load the Id's as strings in order for all Id's to be properly unique!\n",
      "\n",
      "There are multiple columns which contain JSON blobs of varying depth. In one of those JSON columns, totals, the sub-column transactionRevenue contains the revenue information we are trying to predict. This sub-column exists only for the training data.\n",
      "What am I predicting?\n",
      "\n",
      "We are predicting the natural log of the sum of all transactions per user. For every user in the test set, the target is:\n",
      "yuser=∑i=1ntransactionuseri\n",
      "targetuser=ln(yuser+1)\n",
      "\n",
      "File Descriptions\n",
      "\n",
      "    train.csv - the training set - contains the same data as the BigQuery rstudio_train_set.\n",
      "    test.csv - the test set - contains the same data as the BigQuery rstudio_test_set.\n",
      "    sampleSubmission.csv - a sample submission file in the correct format. Contains all fullVisitorIds in test.csv.\n",
      "\n",
      "Data Fields\n",
      "\n",
      "    fullVisitorId- A unique identifier for each user of the Google Merchandise Store.\n",
      "    channelGrouping - The channel via which the user came to the Store.\n",
      "    date - The date on which the user visited the Store.\n",
      "    device - The specifications for the device used to access the Store.\n",
      "    geoNetwork - This section contains information about the geography of the user.\n",
      "    sessionId - A unique identifier for this visit to the store.\n",
      "    socialEngagementType - Engagement type, either \"Socially Engaged\" or \"Not Socially Engaged\".\n",
      "    totals - This section contains aggregate values across the session.\n",
      "    trafficSource - This section contains information about the Traffic Source from which the session originated.\n",
      "    visitId - An identifier for this session. This is part of the value usually stored as the _utmb cookie. This is only unique to the user. For a completely unique ID, you should use a combination of fullVisitorId and visitId.\n",
      "    visitNumber - The session number for this user. If this is the first session, then this is set to 1.\n",
      "    visitStartTime - The timestamp (expressed as POSIX time).\n",
      "\n",
      "Removed Data Fields\n",
      "\n",
      "Some fields were censored to remove target leakage. The major censored fields are listed below.\n",
      "\n",
      "    hits - This row and nested fields are populated for any and all types of hits. Provides a record of all page visits.\n",
      "    customDimensions - This section contains any user-level or session-level custom dimensions that are set for a session. This is a repeated field and has an entry for each dimension that is set.\n",
      "    totals - Multiple sub-columns were removed from the totals field.\n",
      "\n"
     ]
    }
   ],
   "source": [
    "with open(\"data/description.txt\", mode=\"r\") as fp:\n",
    "    content = fp.read()\n",
    "    print(content)"
   ]
  },
  {
   "cell_type": "markdown",
   "metadata": {},
   "source": [
    "### channelGrouping"
   ]
  },
  {
   "cell_type": "code",
   "execution_count": 7,
   "metadata": {
    "ExecuteTime": {
     "end_time": "2018-10-08T17:31:57.672108Z",
     "start_time": "2018-10-08T17:31:57.627736Z"
    }
   },
   "outputs": [
    {
     "data": {
      "text/plain": [
       "array(['Organic Search', 'Referral', 'Paid Search', 'Affiliates',\n",
       "       'Direct', 'Display', 'Social', '(Other)'], dtype=object)"
      ]
     },
     "execution_count": 7,
     "metadata": {},
     "output_type": "execute_result"
    }
   ],
   "source": [
    "data.channelGrouping.unique()"
   ]
  },
  {
   "cell_type": "code",
   "execution_count": 8,
   "metadata": {
    "ExecuteTime": {
     "end_time": "2018-10-08T17:31:57.718001Z",
     "start_time": "2018-10-08T17:31:57.674292Z"
    }
   },
   "outputs": [
    {
     "data": {
      "text/plain": [
       "0"
      ]
     },
     "execution_count": 8,
     "metadata": {},
     "output_type": "execute_result"
    }
   ],
   "source": [
    "data.channelGrouping.isnull().sum()"
   ]
  },
  {
   "cell_type": "code",
   "execution_count": 9,
   "metadata": {
    "ExecuteTime": {
     "end_time": "2018-10-08T17:31:57.762391Z",
     "start_time": "2018-10-08T17:31:57.720144Z"
    }
   },
   "outputs": [
    {
     "data": {
      "text/plain": [
       "0"
      ]
     },
     "execution_count": 9,
     "metadata": {},
     "output_type": "execute_result"
    }
   ],
   "source": [
    "data.channelGrouping.isna().sum()"
   ]
  },
  {
   "cell_type": "code",
   "execution_count": 10,
   "metadata": {
    "ExecuteTime": {
     "end_time": "2018-10-08T17:31:57.767592Z",
     "start_time": "2018-10-08T17:31:57.764424Z"
    }
   },
   "outputs": [],
   "source": [
    "channelGroupingMap = {\n",
    "    \"Organic Search\": 1,\n",
    "    \"Referral\": 2,\n",
    "    \"Paid Search\": 3,\n",
    "    \"Affiliates\": 4,\n",
    "    \"Direct\": 5,\n",
    "    \"Display\": 6,\n",
    "    \"Social\": 7,\n",
    "    \"(Other)\": 8\n",
    "}"
   ]
  },
  {
   "cell_type": "code",
   "execution_count": 11,
   "metadata": {
    "ExecuteTime": {
     "end_time": "2018-10-08T17:31:58.002439Z",
     "start_time": "2018-10-08T17:31:57.769257Z"
    }
   },
   "outputs": [],
   "source": [
    "data.channelGrouping = data.channelGrouping.astype(\"category\")"
   ]
  },
  {
   "cell_type": "code",
   "execution_count": 12,
   "metadata": {
    "ExecuteTime": {
     "end_time": "2018-10-08T17:31:58.013679Z",
     "start_time": "2018-10-08T17:31:58.008267Z"
    }
   },
   "outputs": [
    {
     "data": {
      "text/plain": [
       "CategoricalDtype(categories=['(Other)', 'Affiliates', 'Direct', 'Display',\n",
       "                  'Organic Search', 'Paid Search', 'Referral', 'Social'],\n",
       "                 ordered=False)"
      ]
     },
     "execution_count": 12,
     "metadata": {},
     "output_type": "execute_result"
    }
   ],
   "source": [
    "data.channelGrouping.dtypes"
   ]
  },
  {
   "cell_type": "code",
   "execution_count": 13,
   "metadata": {
    "ExecuteTime": {
     "end_time": "2018-10-08T17:31:58.622559Z",
     "start_time": "2018-10-08T17:31:58.017483Z"
    }
   },
   "outputs": [],
   "source": [
    "data.channelGrouping = data.channelGrouping.replace(channelGroupingMap)"
   ]
  },
  {
   "cell_type": "code",
   "execution_count": 14,
   "metadata": {
    "ExecuteTime": {
     "end_time": "2018-10-08T17:31:58.641217Z",
     "start_time": "2018-10-08T17:31:58.624774Z"
    }
   },
   "outputs": [
    {
     "data": {
      "text/html": [
       "<div>\n",
       "<style scoped>\n",
       "    .dataframe tbody tr th:only-of-type {\n",
       "        vertical-align: middle;\n",
       "    }\n",
       "\n",
       "    .dataframe tbody tr th {\n",
       "        vertical-align: top;\n",
       "    }\n",
       "\n",
       "    .dataframe thead th {\n",
       "        text-align: right;\n",
       "    }\n",
       "</style>\n",
       "<table border=\"1\" class=\"dataframe\">\n",
       "  <thead>\n",
       "    <tr style=\"text-align: right;\">\n",
       "      <th></th>\n",
       "      <th>channelGrouping</th>\n",
       "      <th>date</th>\n",
       "      <th>device</th>\n",
       "      <th>fullVisitorId</th>\n",
       "      <th>geoNetwork</th>\n",
       "      <th>sessionId</th>\n",
       "      <th>socialEngagementType</th>\n",
       "      <th>totals</th>\n",
       "      <th>trafficSource</th>\n",
       "      <th>visitId</th>\n",
       "      <th>visitNumber</th>\n",
       "      <th>visitStartTime</th>\n",
       "    </tr>\n",
       "  </thead>\n",
       "  <tbody>\n",
       "    <tr>\n",
       "      <th>0</th>\n",
       "      <td>1</td>\n",
       "      <td>20160902</td>\n",
       "      <td>{\"browser\": \"Chrome\", \"browserVersion\": \"not available in demo dataset\", \"browserSize\": \"not available in demo dataset\", \"operatingSystem\": \"Windows\", \"operatingSystemVersion\": \"not available in demo dataset\", \"isMobile\": false, \"mobileDeviceBranding\": \"not available in demo dataset\", \"mobileDeviceModel\": \"not available in demo dataset\", \"mobileInputSelector\": \"not available in demo dataset\", \"mobileDeviceInfo\": \"not available in demo dataset\", \"mobileDeviceMarketingName\": \"not available in demo dataset\", \"flashVersion\": \"not available in demo dataset\", \"language\": \"not available in demo dataset\", \"screenColors\": \"not available in demo dataset\", \"screenResolution\": \"not available in demo dataset\", \"deviceCategory\": \"desktop\"}</td>\n",
       "      <td>1131660440785968503</td>\n",
       "      <td>{\"continent\": \"Asia\", \"subContinent\": \"Western Asia\", \"country\": \"Turkey\", \"region\": \"Izmir\", \"metro\": \"(not set)\", \"city\": \"Izmir\", \"cityId\": \"not available in demo dataset\", \"networkDomain\": \"ttnet.com.tr\", \"latitude\": \"not available in demo dataset\", \"longitude\": \"not available in demo dataset\", \"networkLocation\": \"not available in demo dataset\"}</td>\n",
       "      <td>1131660440785968503_1472830385</td>\n",
       "      <td>Not Socially Engaged</td>\n",
       "      <td>{\"visits\": \"1\", \"hits\": \"1\", \"pageviews\": \"1\", \"bounces\": \"1\", \"newVisits\": \"1\"}</td>\n",
       "      <td>{\"campaign\": \"(not set)\", \"source\": \"google\", \"medium\": \"organic\", \"keyword\": \"(not provided)\", \"adwordsClickInfo\": {\"criteriaParameters\": \"not available in demo dataset\"}}</td>\n",
       "      <td>1472830385</td>\n",
       "      <td>1</td>\n",
       "      <td>1472830385</td>\n",
       "    </tr>\n",
       "    <tr>\n",
       "      <th>1</th>\n",
       "      <td>1</td>\n",
       "      <td>20160902</td>\n",
       "      <td>{\"browser\": \"Firefox\", \"browserVersion\": \"not available in demo dataset\", \"browserSize\": \"not available in demo dataset\", \"operatingSystem\": \"Macintosh\", \"operatingSystemVersion\": \"not available in demo dataset\", \"isMobile\": false, \"mobileDeviceBranding\": \"not available in demo dataset\", \"mobileDeviceModel\": \"not available in demo dataset\", \"mobileInputSelector\": \"not available in demo dataset\", \"mobileDeviceInfo\": \"not available in demo dataset\", \"mobileDeviceMarketingName\": \"not available in demo dataset\", \"flashVersion\": \"not available in demo dataset\", \"language\": \"not available in demo dataset\", \"screenColors\": \"not available in demo dataset\", \"screenResolution\": \"not available in demo dataset\", \"deviceCategory\": \"desktop\"}</td>\n",
       "      <td>377306020877927890</td>\n",
       "      <td>{\"continent\": \"Oceania\", \"subContinent\": \"Australasia\", \"country\": \"Australia\", \"region\": \"not available in demo dataset\", \"metro\": \"not available in demo dataset\", \"city\": \"not available in demo dataset\", \"cityId\": \"not available in demo dataset\", \"networkDomain\": \"dodo.net.au\", \"latitude\": \"not available in demo dataset\", \"longitude\": \"not available in demo dataset\", \"networkLocation\": \"not available in demo dataset\"}</td>\n",
       "      <td>377306020877927890_1472880147</td>\n",
       "      <td>Not Socially Engaged</td>\n",
       "      <td>{\"visits\": \"1\", \"hits\": \"1\", \"pageviews\": \"1\", \"bounces\": \"1\", \"newVisits\": \"1\"}</td>\n",
       "      <td>{\"campaign\": \"(not set)\", \"source\": \"google\", \"medium\": \"organic\", \"keyword\": \"(not provided)\", \"adwordsClickInfo\": {\"criteriaParameters\": \"not available in demo dataset\"}}</td>\n",
       "      <td>1472880147</td>\n",
       "      <td>1</td>\n",
       "      <td>1472880147</td>\n",
       "    </tr>\n",
       "    <tr>\n",
       "      <th>2</th>\n",
       "      <td>1</td>\n",
       "      <td>20160902</td>\n",
       "      <td>{\"browser\": \"Chrome\", \"browserVersion\": \"not available in demo dataset\", \"browserSize\": \"not available in demo dataset\", \"operatingSystem\": \"Windows\", \"operatingSystemVersion\": \"not available in demo dataset\", \"isMobile\": false, \"mobileDeviceBranding\": \"not available in demo dataset\", \"mobileDeviceModel\": \"not available in demo dataset\", \"mobileInputSelector\": \"not available in demo dataset\", \"mobileDeviceInfo\": \"not available in demo dataset\", \"mobileDeviceMarketingName\": \"not available in demo dataset\", \"flashVersion\": \"not available in demo dataset\", \"language\": \"not available in demo dataset\", \"screenColors\": \"not available in demo dataset\", \"screenResolution\": \"not available in demo dataset\", \"deviceCategory\": \"desktop\"}</td>\n",
       "      <td>3895546263509774583</td>\n",
       "      <td>{\"continent\": \"Europe\", \"subContinent\": \"Southern Europe\", \"country\": \"Spain\", \"region\": \"Community of Madrid\", \"metro\": \"(not set)\", \"city\": \"Madrid\", \"cityId\": \"not available in demo dataset\", \"networkDomain\": \"unknown.unknown\", \"latitude\": \"not available in demo dataset\", \"longitude\": \"not available in demo dataset\", \"networkLocation\": \"not available in demo dataset\"}</td>\n",
       "      <td>3895546263509774583_1472865386</td>\n",
       "      <td>Not Socially Engaged</td>\n",
       "      <td>{\"visits\": \"1\", \"hits\": \"1\", \"pageviews\": \"1\", \"bounces\": \"1\", \"newVisits\": \"1\"}</td>\n",
       "      <td>{\"campaign\": \"(not set)\", \"source\": \"google\", \"medium\": \"organic\", \"keyword\": \"(not provided)\", \"adwordsClickInfo\": {\"criteriaParameters\": \"not available in demo dataset\"}}</td>\n",
       "      <td>1472865386</td>\n",
       "      <td>1</td>\n",
       "      <td>1472865386</td>\n",
       "    </tr>\n",
       "    <tr>\n",
       "      <th>3</th>\n",
       "      <td>1</td>\n",
       "      <td>20160902</td>\n",
       "      <td>{\"browser\": \"UC Browser\", \"browserVersion\": \"not available in demo dataset\", \"browserSize\": \"not available in demo dataset\", \"operatingSystem\": \"Linux\", \"operatingSystemVersion\": \"not available in demo dataset\", \"isMobile\": false, \"mobileDeviceBranding\": \"not available in demo dataset\", \"mobileDeviceModel\": \"not available in demo dataset\", \"mobileInputSelector\": \"not available in demo dataset\", \"mobileDeviceInfo\": \"not available in demo dataset\", \"mobileDeviceMarketingName\": \"not available in demo dataset\", \"flashVersion\": \"not available in demo dataset\", \"language\": \"not available in demo dataset\", \"screenColors\": \"not available in demo dataset\", \"screenResolution\": \"not available in demo dataset\", \"deviceCategory\": \"desktop\"}</td>\n",
       "      <td>4763447161404445595</td>\n",
       "      <td>{\"continent\": \"Asia\", \"subContinent\": \"Southeast Asia\", \"country\": \"Indonesia\", \"region\": \"not available in demo dataset\", \"metro\": \"not available in demo dataset\", \"city\": \"not available in demo dataset\", \"cityId\": \"not available in demo dataset\", \"networkDomain\": \"unknown.unknown\", \"latitude\": \"not available in demo dataset\", \"longitude\": \"not available in demo dataset\", \"networkLocation\": \"not available in demo dataset\"}</td>\n",
       "      <td>4763447161404445595_1472881213</td>\n",
       "      <td>Not Socially Engaged</td>\n",
       "      <td>{\"visits\": \"1\", \"hits\": \"1\", \"pageviews\": \"1\", \"bounces\": \"1\", \"newVisits\": \"1\"}</td>\n",
       "      <td>{\"campaign\": \"(not set)\", \"source\": \"google\", \"medium\": \"organic\", \"keyword\": \"google + online\", \"adwordsClickInfo\": {\"criteriaParameters\": \"not available in demo dataset\"}}</td>\n",
       "      <td>1472881213</td>\n",
       "      <td>1</td>\n",
       "      <td>1472881213</td>\n",
       "    </tr>\n",
       "    <tr>\n",
       "      <th>4</th>\n",
       "      <td>1</td>\n",
       "      <td>20160902</td>\n",
       "      <td>{\"browser\": \"Chrome\", \"browserVersion\": \"not available in demo dataset\", \"browserSize\": \"not available in demo dataset\", \"operatingSystem\": \"Android\", \"operatingSystemVersion\": \"not available in demo dataset\", \"isMobile\": true, \"mobileDeviceBranding\": \"not available in demo dataset\", \"mobileDeviceModel\": \"not available in demo dataset\", \"mobileInputSelector\": \"not available in demo dataset\", \"mobileDeviceInfo\": \"not available in demo dataset\", \"mobileDeviceMarketingName\": \"not available in demo dataset\", \"flashVersion\": \"not available in demo dataset\", \"language\": \"not available in demo dataset\", \"screenColors\": \"not available in demo dataset\", \"screenResolution\": \"not available in demo dataset\", \"deviceCategory\": \"mobile\"}</td>\n",
       "      <td>27294437909732085</td>\n",
       "      <td>{\"continent\": \"Europe\", \"subContinent\": \"Northern Europe\", \"country\": \"United Kingdom\", \"region\": \"not available in demo dataset\", \"metro\": \"not available in demo dataset\", \"city\": \"not available in demo dataset\", \"cityId\": \"not available in demo dataset\", \"networkDomain\": \"unknown.unknown\", \"latitude\": \"not available in demo dataset\", \"longitude\": \"not available in demo dataset\", \"networkLocation\": \"not available in demo dataset\"}</td>\n",
       "      <td>27294437909732085_1472822600</td>\n",
       "      <td>Not Socially Engaged</td>\n",
       "      <td>{\"visits\": \"1\", \"hits\": \"1\", \"pageviews\": \"1\", \"bounces\": \"1\"}</td>\n",
       "      <td>{\"campaign\": \"(not set)\", \"source\": \"google\", \"medium\": \"organic\", \"keyword\": \"(not provided)\", \"adwordsClickInfo\": {\"criteriaParameters\": \"not available in demo dataset\"}, \"isTrueDirect\": true}</td>\n",
       "      <td>1472822600</td>\n",
       "      <td>2</td>\n",
       "      <td>1472822600</td>\n",
       "    </tr>\n",
       "  </tbody>\n",
       "</table>\n",
       "</div>"
      ],
      "text/plain": [
       "   channelGrouping      date  \\\n",
       "0  1                20160902   \n",
       "1  1                20160902   \n",
       "2  1                20160902   \n",
       "3  1                20160902   \n",
       "4  1                20160902   \n",
       "\n",
       "                                                                                                                                                                                                                                                                                                                                                                                                                                                                                                                                                                                                                                                                                                                                                               device  \\\n",
       "0  {\"browser\": \"Chrome\", \"browserVersion\": \"not available in demo dataset\", \"browserSize\": \"not available in demo dataset\", \"operatingSystem\": \"Windows\", \"operatingSystemVersion\": \"not available in demo dataset\", \"isMobile\": false, \"mobileDeviceBranding\": \"not available in demo dataset\", \"mobileDeviceModel\": \"not available in demo dataset\", \"mobileInputSelector\": \"not available in demo dataset\", \"mobileDeviceInfo\": \"not available in demo dataset\", \"mobileDeviceMarketingName\": \"not available in demo dataset\", \"flashVersion\": \"not available in demo dataset\", \"language\": \"not available in demo dataset\", \"screenColors\": \"not available in demo dataset\", \"screenResolution\": \"not available in demo dataset\", \"deviceCategory\": \"desktop\"}      \n",
       "1  {\"browser\": \"Firefox\", \"browserVersion\": \"not available in demo dataset\", \"browserSize\": \"not available in demo dataset\", \"operatingSystem\": \"Macintosh\", \"operatingSystemVersion\": \"not available in demo dataset\", \"isMobile\": false, \"mobileDeviceBranding\": \"not available in demo dataset\", \"mobileDeviceModel\": \"not available in demo dataset\", \"mobileInputSelector\": \"not available in demo dataset\", \"mobileDeviceInfo\": \"not available in demo dataset\", \"mobileDeviceMarketingName\": \"not available in demo dataset\", \"flashVersion\": \"not available in demo dataset\", \"language\": \"not available in demo dataset\", \"screenColors\": \"not available in demo dataset\", \"screenResolution\": \"not available in demo dataset\", \"deviceCategory\": \"desktop\"}   \n",
       "2  {\"browser\": \"Chrome\", \"browserVersion\": \"not available in demo dataset\", \"browserSize\": \"not available in demo dataset\", \"operatingSystem\": \"Windows\", \"operatingSystemVersion\": \"not available in demo dataset\", \"isMobile\": false, \"mobileDeviceBranding\": \"not available in demo dataset\", \"mobileDeviceModel\": \"not available in demo dataset\", \"mobileInputSelector\": \"not available in demo dataset\", \"mobileDeviceInfo\": \"not available in demo dataset\", \"mobileDeviceMarketingName\": \"not available in demo dataset\", \"flashVersion\": \"not available in demo dataset\", \"language\": \"not available in demo dataset\", \"screenColors\": \"not available in demo dataset\", \"screenResolution\": \"not available in demo dataset\", \"deviceCategory\": \"desktop\"}      \n",
       "3  {\"browser\": \"UC Browser\", \"browserVersion\": \"not available in demo dataset\", \"browserSize\": \"not available in demo dataset\", \"operatingSystem\": \"Linux\", \"operatingSystemVersion\": \"not available in demo dataset\", \"isMobile\": false, \"mobileDeviceBranding\": \"not available in demo dataset\", \"mobileDeviceModel\": \"not available in demo dataset\", \"mobileInputSelector\": \"not available in demo dataset\", \"mobileDeviceInfo\": \"not available in demo dataset\", \"mobileDeviceMarketingName\": \"not available in demo dataset\", \"flashVersion\": \"not available in demo dataset\", \"language\": \"not available in demo dataset\", \"screenColors\": \"not available in demo dataset\", \"screenResolution\": \"not available in demo dataset\", \"deviceCategory\": \"desktop\"}    \n",
       "4  {\"browser\": \"Chrome\", \"browserVersion\": \"not available in demo dataset\", \"browserSize\": \"not available in demo dataset\", \"operatingSystem\": \"Android\", \"operatingSystemVersion\": \"not available in demo dataset\", \"isMobile\": true, \"mobileDeviceBranding\": \"not available in demo dataset\", \"mobileDeviceModel\": \"not available in demo dataset\", \"mobileInputSelector\": \"not available in demo dataset\", \"mobileDeviceInfo\": \"not available in demo dataset\", \"mobileDeviceMarketingName\": \"not available in demo dataset\", \"flashVersion\": \"not available in demo dataset\", \"language\": \"not available in demo dataset\", \"screenColors\": \"not available in demo dataset\", \"screenResolution\": \"not available in demo dataset\", \"deviceCategory\": \"mobile\"}        \n",
       "\n",
       "         fullVisitorId  \\\n",
       "0  1131660440785968503   \n",
       "1  377306020877927890    \n",
       "2  3895546263509774583   \n",
       "3  4763447161404445595   \n",
       "4  27294437909732085     \n",
       "\n",
       "                                                                                                                                                                                                                                                                                                                                                                                                                                            geoNetwork  \\\n",
       "0  {\"continent\": \"Asia\", \"subContinent\": \"Western Asia\", \"country\": \"Turkey\", \"region\": \"Izmir\", \"metro\": \"(not set)\", \"city\": \"Izmir\", \"cityId\": \"not available in demo dataset\", \"networkDomain\": \"ttnet.com.tr\", \"latitude\": \"not available in demo dataset\", \"longitude\": \"not available in demo dataset\", \"networkLocation\": \"not available in demo dataset\"}                                                                                       \n",
       "1  {\"continent\": \"Oceania\", \"subContinent\": \"Australasia\", \"country\": \"Australia\", \"region\": \"not available in demo dataset\", \"metro\": \"not available in demo dataset\", \"city\": \"not available in demo dataset\", \"cityId\": \"not available in demo dataset\", \"networkDomain\": \"dodo.net.au\", \"latitude\": \"not available in demo dataset\", \"longitude\": \"not available in demo dataset\", \"networkLocation\": \"not available in demo dataset\"}               \n",
       "2  {\"continent\": \"Europe\", \"subContinent\": \"Southern Europe\", \"country\": \"Spain\", \"region\": \"Community of Madrid\", \"metro\": \"(not set)\", \"city\": \"Madrid\", \"cityId\": \"not available in demo dataset\", \"networkDomain\": \"unknown.unknown\", \"latitude\": \"not available in demo dataset\", \"longitude\": \"not available in demo dataset\", \"networkLocation\": \"not available in demo dataset\"}                                                                 \n",
       "3  {\"continent\": \"Asia\", \"subContinent\": \"Southeast Asia\", \"country\": \"Indonesia\", \"region\": \"not available in demo dataset\", \"metro\": \"not available in demo dataset\", \"city\": \"not available in demo dataset\", \"cityId\": \"not available in demo dataset\", \"networkDomain\": \"unknown.unknown\", \"latitude\": \"not available in demo dataset\", \"longitude\": \"not available in demo dataset\", \"networkLocation\": \"not available in demo dataset\"}           \n",
       "4  {\"continent\": \"Europe\", \"subContinent\": \"Northern Europe\", \"country\": \"United Kingdom\", \"region\": \"not available in demo dataset\", \"metro\": \"not available in demo dataset\", \"city\": \"not available in demo dataset\", \"cityId\": \"not available in demo dataset\", \"networkDomain\": \"unknown.unknown\", \"latitude\": \"not available in demo dataset\", \"longitude\": \"not available in demo dataset\", \"networkLocation\": \"not available in demo dataset\"}   \n",
       "\n",
       "                        sessionId  socialEngagementType  \\\n",
       "0  1131660440785968503_1472830385  Not Socially Engaged   \n",
       "1  377306020877927890_1472880147   Not Socially Engaged   \n",
       "2  3895546263509774583_1472865386  Not Socially Engaged   \n",
       "3  4763447161404445595_1472881213  Not Socially Engaged   \n",
       "4  27294437909732085_1472822600    Not Socially Engaged   \n",
       "\n",
       "                                                                             totals  \\\n",
       "0  {\"visits\": \"1\", \"hits\": \"1\", \"pageviews\": \"1\", \"bounces\": \"1\", \"newVisits\": \"1\"}   \n",
       "1  {\"visits\": \"1\", \"hits\": \"1\", \"pageviews\": \"1\", \"bounces\": \"1\", \"newVisits\": \"1\"}   \n",
       "2  {\"visits\": \"1\", \"hits\": \"1\", \"pageviews\": \"1\", \"bounces\": \"1\", \"newVisits\": \"1\"}   \n",
       "3  {\"visits\": \"1\", \"hits\": \"1\", \"pageviews\": \"1\", \"bounces\": \"1\", \"newVisits\": \"1\"}   \n",
       "4  {\"visits\": \"1\", \"hits\": \"1\", \"pageviews\": \"1\", \"bounces\": \"1\"}                     \n",
       "\n",
       "                                                                                                                                                                                        trafficSource  \\\n",
       "0  {\"campaign\": \"(not set)\", \"source\": \"google\", \"medium\": \"organic\", \"keyword\": \"(not provided)\", \"adwordsClickInfo\": {\"criteriaParameters\": \"not available in demo dataset\"}}                         \n",
       "1  {\"campaign\": \"(not set)\", \"source\": \"google\", \"medium\": \"organic\", \"keyword\": \"(not provided)\", \"adwordsClickInfo\": {\"criteriaParameters\": \"not available in demo dataset\"}}                         \n",
       "2  {\"campaign\": \"(not set)\", \"source\": \"google\", \"medium\": \"organic\", \"keyword\": \"(not provided)\", \"adwordsClickInfo\": {\"criteriaParameters\": \"not available in demo dataset\"}}                         \n",
       "3  {\"campaign\": \"(not set)\", \"source\": \"google\", \"medium\": \"organic\", \"keyword\": \"google + online\", \"adwordsClickInfo\": {\"criteriaParameters\": \"not available in demo dataset\"}}                        \n",
       "4  {\"campaign\": \"(not set)\", \"source\": \"google\", \"medium\": \"organic\", \"keyword\": \"(not provided)\", \"adwordsClickInfo\": {\"criteriaParameters\": \"not available in demo dataset\"}, \"isTrueDirect\": true}   \n",
       "\n",
       "      visitId  visitNumber  visitStartTime  \n",
       "0  1472830385  1            1472830385      \n",
       "1  1472880147  1            1472880147      \n",
       "2  1472865386  1            1472865386      \n",
       "3  1472881213  1            1472881213      \n",
       "4  1472822600  2            1472822600      "
      ]
     },
     "execution_count": 14,
     "metadata": {},
     "output_type": "execute_result"
    }
   ],
   "source": [
    "data.head(5)"
   ]
  },
  {
   "cell_type": "markdown",
   "metadata": {},
   "source": [
    "### socialEngagementType"
   ]
  },
  {
   "cell_type": "code",
   "execution_count": 15,
   "metadata": {
    "ExecuteTime": {
     "end_time": "2018-10-08T17:31:58.703614Z",
     "start_time": "2018-10-08T17:31:58.643831Z"
    }
   },
   "outputs": [
    {
     "data": {
      "text/plain": [
       "array(['Not Socially Engaged'], dtype=object)"
      ]
     },
     "execution_count": 15,
     "metadata": {},
     "output_type": "execute_result"
    }
   ],
   "source": [
    "data.socialEngagementType.unique()"
   ]
  },
  {
   "cell_type": "code",
   "execution_count": 16,
   "metadata": {
    "ExecuteTime": {
     "end_time": "2018-10-08T17:31:58.750267Z",
     "start_time": "2018-10-08T17:31:58.706182Z"
    }
   },
   "outputs": [
    {
     "data": {
      "text/plain": [
       "0"
      ]
     },
     "execution_count": 16,
     "metadata": {},
     "output_type": "execute_result"
    }
   ],
   "source": [
    "data.socialEngagementType.isnull().sum()"
   ]
  },
  {
   "cell_type": "code",
   "execution_count": 17,
   "metadata": {
    "ExecuteTime": {
     "end_time": "2018-10-08T17:31:58.800152Z",
     "start_time": "2018-10-08T17:31:58.752450Z"
    }
   },
   "outputs": [
    {
     "data": {
      "text/plain": [
       "0"
      ]
     },
     "execution_count": 17,
     "metadata": {},
     "output_type": "execute_result"
    }
   ],
   "source": [
    "data.socialEngagementType.isna().sum()"
   ]
  },
  {
   "cell_type": "code",
   "execution_count": 18,
   "metadata": {
    "ExecuteTime": {
     "end_time": "2018-10-08T17:31:59.007136Z",
     "start_time": "2018-10-08T17:31:58.802657Z"
    }
   },
   "outputs": [],
   "source": [
    "data.socialEngagementType = data.socialEngagementType.astype(\"category\")"
   ]
  },
  {
   "cell_type": "code",
   "execution_count": 19,
   "metadata": {
    "ExecuteTime": {
     "end_time": "2018-10-08T17:31:59.105749Z",
     "start_time": "2018-10-08T17:31:59.009421Z"
    }
   },
   "outputs": [],
   "source": [
    "data.socialEngagementType = data.socialEngagementType.replace({\"Not Socially Engaged\": 1})"
   ]
  },
  {
   "cell_type": "code",
   "execution_count": 20,
   "metadata": {
    "ExecuteTime": {
     "end_time": "2018-10-08T17:31:59.123124Z",
     "start_time": "2018-10-08T17:31:59.107839Z"
    }
   },
   "outputs": [
    {
     "data": {
      "text/html": [
       "<div>\n",
       "<style scoped>\n",
       "    .dataframe tbody tr th:only-of-type {\n",
       "        vertical-align: middle;\n",
       "    }\n",
       "\n",
       "    .dataframe tbody tr th {\n",
       "        vertical-align: top;\n",
       "    }\n",
       "\n",
       "    .dataframe thead th {\n",
       "        text-align: right;\n",
       "    }\n",
       "</style>\n",
       "<table border=\"1\" class=\"dataframe\">\n",
       "  <thead>\n",
       "    <tr style=\"text-align: right;\">\n",
       "      <th></th>\n",
       "      <th>channelGrouping</th>\n",
       "      <th>date</th>\n",
       "      <th>device</th>\n",
       "      <th>fullVisitorId</th>\n",
       "      <th>geoNetwork</th>\n",
       "      <th>sessionId</th>\n",
       "      <th>socialEngagementType</th>\n",
       "      <th>totals</th>\n",
       "      <th>trafficSource</th>\n",
       "      <th>visitId</th>\n",
       "      <th>visitNumber</th>\n",
       "      <th>visitStartTime</th>\n",
       "    </tr>\n",
       "  </thead>\n",
       "  <tbody>\n",
       "    <tr>\n",
       "      <th>0</th>\n",
       "      <td>1</td>\n",
       "      <td>20160902</td>\n",
       "      <td>{\"browser\": \"Chrome\", \"browserVersion\": \"not available in demo dataset\", \"browserSize\": \"not available in demo dataset\", \"operatingSystem\": \"Windows\", \"operatingSystemVersion\": \"not available in demo dataset\", \"isMobile\": false, \"mobileDeviceBranding\": \"not available in demo dataset\", \"mobileDeviceModel\": \"not available in demo dataset\", \"mobileInputSelector\": \"not available in demo dataset\", \"mobileDeviceInfo\": \"not available in demo dataset\", \"mobileDeviceMarketingName\": \"not available in demo dataset\", \"flashVersion\": \"not available in demo dataset\", \"language\": \"not available in demo dataset\", \"screenColors\": \"not available in demo dataset\", \"screenResolution\": \"not available in demo dataset\", \"deviceCategory\": \"desktop\"}</td>\n",
       "      <td>1131660440785968503</td>\n",
       "      <td>{\"continent\": \"Asia\", \"subContinent\": \"Western Asia\", \"country\": \"Turkey\", \"region\": \"Izmir\", \"metro\": \"(not set)\", \"city\": \"Izmir\", \"cityId\": \"not available in demo dataset\", \"networkDomain\": \"ttnet.com.tr\", \"latitude\": \"not available in demo dataset\", \"longitude\": \"not available in demo dataset\", \"networkLocation\": \"not available in demo dataset\"}</td>\n",
       "      <td>1131660440785968503_1472830385</td>\n",
       "      <td>1</td>\n",
       "      <td>{\"visits\": \"1\", \"hits\": \"1\", \"pageviews\": \"1\", \"bounces\": \"1\", \"newVisits\": \"1\"}</td>\n",
       "      <td>{\"campaign\": \"(not set)\", \"source\": \"google\", \"medium\": \"organic\", \"keyword\": \"(not provided)\", \"adwordsClickInfo\": {\"criteriaParameters\": \"not available in demo dataset\"}}</td>\n",
       "      <td>1472830385</td>\n",
       "      <td>1</td>\n",
       "      <td>1472830385</td>\n",
       "    </tr>\n",
       "    <tr>\n",
       "      <th>1</th>\n",
       "      <td>1</td>\n",
       "      <td>20160902</td>\n",
       "      <td>{\"browser\": \"Firefox\", \"browserVersion\": \"not available in demo dataset\", \"browserSize\": \"not available in demo dataset\", \"operatingSystem\": \"Macintosh\", \"operatingSystemVersion\": \"not available in demo dataset\", \"isMobile\": false, \"mobileDeviceBranding\": \"not available in demo dataset\", \"mobileDeviceModel\": \"not available in demo dataset\", \"mobileInputSelector\": \"not available in demo dataset\", \"mobileDeviceInfo\": \"not available in demo dataset\", \"mobileDeviceMarketingName\": \"not available in demo dataset\", \"flashVersion\": \"not available in demo dataset\", \"language\": \"not available in demo dataset\", \"screenColors\": \"not available in demo dataset\", \"screenResolution\": \"not available in demo dataset\", \"deviceCategory\": \"desktop\"}</td>\n",
       "      <td>377306020877927890</td>\n",
       "      <td>{\"continent\": \"Oceania\", \"subContinent\": \"Australasia\", \"country\": \"Australia\", \"region\": \"not available in demo dataset\", \"metro\": \"not available in demo dataset\", \"city\": \"not available in demo dataset\", \"cityId\": \"not available in demo dataset\", \"networkDomain\": \"dodo.net.au\", \"latitude\": \"not available in demo dataset\", \"longitude\": \"not available in demo dataset\", \"networkLocation\": \"not available in demo dataset\"}</td>\n",
       "      <td>377306020877927890_1472880147</td>\n",
       "      <td>1</td>\n",
       "      <td>{\"visits\": \"1\", \"hits\": \"1\", \"pageviews\": \"1\", \"bounces\": \"1\", \"newVisits\": \"1\"}</td>\n",
       "      <td>{\"campaign\": \"(not set)\", \"source\": \"google\", \"medium\": \"organic\", \"keyword\": \"(not provided)\", \"adwordsClickInfo\": {\"criteriaParameters\": \"not available in demo dataset\"}}</td>\n",
       "      <td>1472880147</td>\n",
       "      <td>1</td>\n",
       "      <td>1472880147</td>\n",
       "    </tr>\n",
       "    <tr>\n",
       "      <th>2</th>\n",
       "      <td>1</td>\n",
       "      <td>20160902</td>\n",
       "      <td>{\"browser\": \"Chrome\", \"browserVersion\": \"not available in demo dataset\", \"browserSize\": \"not available in demo dataset\", \"operatingSystem\": \"Windows\", \"operatingSystemVersion\": \"not available in demo dataset\", \"isMobile\": false, \"mobileDeviceBranding\": \"not available in demo dataset\", \"mobileDeviceModel\": \"not available in demo dataset\", \"mobileInputSelector\": \"not available in demo dataset\", \"mobileDeviceInfo\": \"not available in demo dataset\", \"mobileDeviceMarketingName\": \"not available in demo dataset\", \"flashVersion\": \"not available in demo dataset\", \"language\": \"not available in demo dataset\", \"screenColors\": \"not available in demo dataset\", \"screenResolution\": \"not available in demo dataset\", \"deviceCategory\": \"desktop\"}</td>\n",
       "      <td>3895546263509774583</td>\n",
       "      <td>{\"continent\": \"Europe\", \"subContinent\": \"Southern Europe\", \"country\": \"Spain\", \"region\": \"Community of Madrid\", \"metro\": \"(not set)\", \"city\": \"Madrid\", \"cityId\": \"not available in demo dataset\", \"networkDomain\": \"unknown.unknown\", \"latitude\": \"not available in demo dataset\", \"longitude\": \"not available in demo dataset\", \"networkLocation\": \"not available in demo dataset\"}</td>\n",
       "      <td>3895546263509774583_1472865386</td>\n",
       "      <td>1</td>\n",
       "      <td>{\"visits\": \"1\", \"hits\": \"1\", \"pageviews\": \"1\", \"bounces\": \"1\", \"newVisits\": \"1\"}</td>\n",
       "      <td>{\"campaign\": \"(not set)\", \"source\": \"google\", \"medium\": \"organic\", \"keyword\": \"(not provided)\", \"adwordsClickInfo\": {\"criteriaParameters\": \"not available in demo dataset\"}}</td>\n",
       "      <td>1472865386</td>\n",
       "      <td>1</td>\n",
       "      <td>1472865386</td>\n",
       "    </tr>\n",
       "    <tr>\n",
       "      <th>3</th>\n",
       "      <td>1</td>\n",
       "      <td>20160902</td>\n",
       "      <td>{\"browser\": \"UC Browser\", \"browserVersion\": \"not available in demo dataset\", \"browserSize\": \"not available in demo dataset\", \"operatingSystem\": \"Linux\", \"operatingSystemVersion\": \"not available in demo dataset\", \"isMobile\": false, \"mobileDeviceBranding\": \"not available in demo dataset\", \"mobileDeviceModel\": \"not available in demo dataset\", \"mobileInputSelector\": \"not available in demo dataset\", \"mobileDeviceInfo\": \"not available in demo dataset\", \"mobileDeviceMarketingName\": \"not available in demo dataset\", \"flashVersion\": \"not available in demo dataset\", \"language\": \"not available in demo dataset\", \"screenColors\": \"not available in demo dataset\", \"screenResolution\": \"not available in demo dataset\", \"deviceCategory\": \"desktop\"}</td>\n",
       "      <td>4763447161404445595</td>\n",
       "      <td>{\"continent\": \"Asia\", \"subContinent\": \"Southeast Asia\", \"country\": \"Indonesia\", \"region\": \"not available in demo dataset\", \"metro\": \"not available in demo dataset\", \"city\": \"not available in demo dataset\", \"cityId\": \"not available in demo dataset\", \"networkDomain\": \"unknown.unknown\", \"latitude\": \"not available in demo dataset\", \"longitude\": \"not available in demo dataset\", \"networkLocation\": \"not available in demo dataset\"}</td>\n",
       "      <td>4763447161404445595_1472881213</td>\n",
       "      <td>1</td>\n",
       "      <td>{\"visits\": \"1\", \"hits\": \"1\", \"pageviews\": \"1\", \"bounces\": \"1\", \"newVisits\": \"1\"}</td>\n",
       "      <td>{\"campaign\": \"(not set)\", \"source\": \"google\", \"medium\": \"organic\", \"keyword\": \"google + online\", \"adwordsClickInfo\": {\"criteriaParameters\": \"not available in demo dataset\"}}</td>\n",
       "      <td>1472881213</td>\n",
       "      <td>1</td>\n",
       "      <td>1472881213</td>\n",
       "    </tr>\n",
       "    <tr>\n",
       "      <th>4</th>\n",
       "      <td>1</td>\n",
       "      <td>20160902</td>\n",
       "      <td>{\"browser\": \"Chrome\", \"browserVersion\": \"not available in demo dataset\", \"browserSize\": \"not available in demo dataset\", \"operatingSystem\": \"Android\", \"operatingSystemVersion\": \"not available in demo dataset\", \"isMobile\": true, \"mobileDeviceBranding\": \"not available in demo dataset\", \"mobileDeviceModel\": \"not available in demo dataset\", \"mobileInputSelector\": \"not available in demo dataset\", \"mobileDeviceInfo\": \"not available in demo dataset\", \"mobileDeviceMarketingName\": \"not available in demo dataset\", \"flashVersion\": \"not available in demo dataset\", \"language\": \"not available in demo dataset\", \"screenColors\": \"not available in demo dataset\", \"screenResolution\": \"not available in demo dataset\", \"deviceCategory\": \"mobile\"}</td>\n",
       "      <td>27294437909732085</td>\n",
       "      <td>{\"continent\": \"Europe\", \"subContinent\": \"Northern Europe\", \"country\": \"United Kingdom\", \"region\": \"not available in demo dataset\", \"metro\": \"not available in demo dataset\", \"city\": \"not available in demo dataset\", \"cityId\": \"not available in demo dataset\", \"networkDomain\": \"unknown.unknown\", \"latitude\": \"not available in demo dataset\", \"longitude\": \"not available in demo dataset\", \"networkLocation\": \"not available in demo dataset\"}</td>\n",
       "      <td>27294437909732085_1472822600</td>\n",
       "      <td>1</td>\n",
       "      <td>{\"visits\": \"1\", \"hits\": \"1\", \"pageviews\": \"1\", \"bounces\": \"1\"}</td>\n",
       "      <td>{\"campaign\": \"(not set)\", \"source\": \"google\", \"medium\": \"organic\", \"keyword\": \"(not provided)\", \"adwordsClickInfo\": {\"criteriaParameters\": \"not available in demo dataset\"}, \"isTrueDirect\": true}</td>\n",
       "      <td>1472822600</td>\n",
       "      <td>2</td>\n",
       "      <td>1472822600</td>\n",
       "    </tr>\n",
       "  </tbody>\n",
       "</table>\n",
       "</div>"
      ],
      "text/plain": [
       "   channelGrouping      date  \\\n",
       "0  1                20160902   \n",
       "1  1                20160902   \n",
       "2  1                20160902   \n",
       "3  1                20160902   \n",
       "4  1                20160902   \n",
       "\n",
       "                                                                                                                                                                                                                                                                                                                                                                                                                                                                                                                                                                                                                                                                                                                                                               device  \\\n",
       "0  {\"browser\": \"Chrome\", \"browserVersion\": \"not available in demo dataset\", \"browserSize\": \"not available in demo dataset\", \"operatingSystem\": \"Windows\", \"operatingSystemVersion\": \"not available in demo dataset\", \"isMobile\": false, \"mobileDeviceBranding\": \"not available in demo dataset\", \"mobileDeviceModel\": \"not available in demo dataset\", \"mobileInputSelector\": \"not available in demo dataset\", \"mobileDeviceInfo\": \"not available in demo dataset\", \"mobileDeviceMarketingName\": \"not available in demo dataset\", \"flashVersion\": \"not available in demo dataset\", \"language\": \"not available in demo dataset\", \"screenColors\": \"not available in demo dataset\", \"screenResolution\": \"not available in demo dataset\", \"deviceCategory\": \"desktop\"}      \n",
       "1  {\"browser\": \"Firefox\", \"browserVersion\": \"not available in demo dataset\", \"browserSize\": \"not available in demo dataset\", \"operatingSystem\": \"Macintosh\", \"operatingSystemVersion\": \"not available in demo dataset\", \"isMobile\": false, \"mobileDeviceBranding\": \"not available in demo dataset\", \"mobileDeviceModel\": \"not available in demo dataset\", \"mobileInputSelector\": \"not available in demo dataset\", \"mobileDeviceInfo\": \"not available in demo dataset\", \"mobileDeviceMarketingName\": \"not available in demo dataset\", \"flashVersion\": \"not available in demo dataset\", \"language\": \"not available in demo dataset\", \"screenColors\": \"not available in demo dataset\", \"screenResolution\": \"not available in demo dataset\", \"deviceCategory\": \"desktop\"}   \n",
       "2  {\"browser\": \"Chrome\", \"browserVersion\": \"not available in demo dataset\", \"browserSize\": \"not available in demo dataset\", \"operatingSystem\": \"Windows\", \"operatingSystemVersion\": \"not available in demo dataset\", \"isMobile\": false, \"mobileDeviceBranding\": \"not available in demo dataset\", \"mobileDeviceModel\": \"not available in demo dataset\", \"mobileInputSelector\": \"not available in demo dataset\", \"mobileDeviceInfo\": \"not available in demo dataset\", \"mobileDeviceMarketingName\": \"not available in demo dataset\", \"flashVersion\": \"not available in demo dataset\", \"language\": \"not available in demo dataset\", \"screenColors\": \"not available in demo dataset\", \"screenResolution\": \"not available in demo dataset\", \"deviceCategory\": \"desktop\"}      \n",
       "3  {\"browser\": \"UC Browser\", \"browserVersion\": \"not available in demo dataset\", \"browserSize\": \"not available in demo dataset\", \"operatingSystem\": \"Linux\", \"operatingSystemVersion\": \"not available in demo dataset\", \"isMobile\": false, \"mobileDeviceBranding\": \"not available in demo dataset\", \"mobileDeviceModel\": \"not available in demo dataset\", \"mobileInputSelector\": \"not available in demo dataset\", \"mobileDeviceInfo\": \"not available in demo dataset\", \"mobileDeviceMarketingName\": \"not available in demo dataset\", \"flashVersion\": \"not available in demo dataset\", \"language\": \"not available in demo dataset\", \"screenColors\": \"not available in demo dataset\", \"screenResolution\": \"not available in demo dataset\", \"deviceCategory\": \"desktop\"}    \n",
       "4  {\"browser\": \"Chrome\", \"browserVersion\": \"not available in demo dataset\", \"browserSize\": \"not available in demo dataset\", \"operatingSystem\": \"Android\", \"operatingSystemVersion\": \"not available in demo dataset\", \"isMobile\": true, \"mobileDeviceBranding\": \"not available in demo dataset\", \"mobileDeviceModel\": \"not available in demo dataset\", \"mobileInputSelector\": \"not available in demo dataset\", \"mobileDeviceInfo\": \"not available in demo dataset\", \"mobileDeviceMarketingName\": \"not available in demo dataset\", \"flashVersion\": \"not available in demo dataset\", \"language\": \"not available in demo dataset\", \"screenColors\": \"not available in demo dataset\", \"screenResolution\": \"not available in demo dataset\", \"deviceCategory\": \"mobile\"}        \n",
       "\n",
       "         fullVisitorId  \\\n",
       "0  1131660440785968503   \n",
       "1  377306020877927890    \n",
       "2  3895546263509774583   \n",
       "3  4763447161404445595   \n",
       "4  27294437909732085     \n",
       "\n",
       "                                                                                                                                                                                                                                                                                                                                                                                                                                            geoNetwork  \\\n",
       "0  {\"continent\": \"Asia\", \"subContinent\": \"Western Asia\", \"country\": \"Turkey\", \"region\": \"Izmir\", \"metro\": \"(not set)\", \"city\": \"Izmir\", \"cityId\": \"not available in demo dataset\", \"networkDomain\": \"ttnet.com.tr\", \"latitude\": \"not available in demo dataset\", \"longitude\": \"not available in demo dataset\", \"networkLocation\": \"not available in demo dataset\"}                                                                                       \n",
       "1  {\"continent\": \"Oceania\", \"subContinent\": \"Australasia\", \"country\": \"Australia\", \"region\": \"not available in demo dataset\", \"metro\": \"not available in demo dataset\", \"city\": \"not available in demo dataset\", \"cityId\": \"not available in demo dataset\", \"networkDomain\": \"dodo.net.au\", \"latitude\": \"not available in demo dataset\", \"longitude\": \"not available in demo dataset\", \"networkLocation\": \"not available in demo dataset\"}               \n",
       "2  {\"continent\": \"Europe\", \"subContinent\": \"Southern Europe\", \"country\": \"Spain\", \"region\": \"Community of Madrid\", \"metro\": \"(not set)\", \"city\": \"Madrid\", \"cityId\": \"not available in demo dataset\", \"networkDomain\": \"unknown.unknown\", \"latitude\": \"not available in demo dataset\", \"longitude\": \"not available in demo dataset\", \"networkLocation\": \"not available in demo dataset\"}                                                                 \n",
       "3  {\"continent\": \"Asia\", \"subContinent\": \"Southeast Asia\", \"country\": \"Indonesia\", \"region\": \"not available in demo dataset\", \"metro\": \"not available in demo dataset\", \"city\": \"not available in demo dataset\", \"cityId\": \"not available in demo dataset\", \"networkDomain\": \"unknown.unknown\", \"latitude\": \"not available in demo dataset\", \"longitude\": \"not available in demo dataset\", \"networkLocation\": \"not available in demo dataset\"}           \n",
       "4  {\"continent\": \"Europe\", \"subContinent\": \"Northern Europe\", \"country\": \"United Kingdom\", \"region\": \"not available in demo dataset\", \"metro\": \"not available in demo dataset\", \"city\": \"not available in demo dataset\", \"cityId\": \"not available in demo dataset\", \"networkDomain\": \"unknown.unknown\", \"latitude\": \"not available in demo dataset\", \"longitude\": \"not available in demo dataset\", \"networkLocation\": \"not available in demo dataset\"}   \n",
       "\n",
       "                        sessionId socialEngagementType  \\\n",
       "0  1131660440785968503_1472830385  1                     \n",
       "1  377306020877927890_1472880147   1                     \n",
       "2  3895546263509774583_1472865386  1                     \n",
       "3  4763447161404445595_1472881213  1                     \n",
       "4  27294437909732085_1472822600    1                     \n",
       "\n",
       "                                                                             totals  \\\n",
       "0  {\"visits\": \"1\", \"hits\": \"1\", \"pageviews\": \"1\", \"bounces\": \"1\", \"newVisits\": \"1\"}   \n",
       "1  {\"visits\": \"1\", \"hits\": \"1\", \"pageviews\": \"1\", \"bounces\": \"1\", \"newVisits\": \"1\"}   \n",
       "2  {\"visits\": \"1\", \"hits\": \"1\", \"pageviews\": \"1\", \"bounces\": \"1\", \"newVisits\": \"1\"}   \n",
       "3  {\"visits\": \"1\", \"hits\": \"1\", \"pageviews\": \"1\", \"bounces\": \"1\", \"newVisits\": \"1\"}   \n",
       "4  {\"visits\": \"1\", \"hits\": \"1\", \"pageviews\": \"1\", \"bounces\": \"1\"}                     \n",
       "\n",
       "                                                                                                                                                                                        trafficSource  \\\n",
       "0  {\"campaign\": \"(not set)\", \"source\": \"google\", \"medium\": \"organic\", \"keyword\": \"(not provided)\", \"adwordsClickInfo\": {\"criteriaParameters\": \"not available in demo dataset\"}}                         \n",
       "1  {\"campaign\": \"(not set)\", \"source\": \"google\", \"medium\": \"organic\", \"keyword\": \"(not provided)\", \"adwordsClickInfo\": {\"criteriaParameters\": \"not available in demo dataset\"}}                         \n",
       "2  {\"campaign\": \"(not set)\", \"source\": \"google\", \"medium\": \"organic\", \"keyword\": \"(not provided)\", \"adwordsClickInfo\": {\"criteriaParameters\": \"not available in demo dataset\"}}                         \n",
       "3  {\"campaign\": \"(not set)\", \"source\": \"google\", \"medium\": \"organic\", \"keyword\": \"google + online\", \"adwordsClickInfo\": {\"criteriaParameters\": \"not available in demo dataset\"}}                        \n",
       "4  {\"campaign\": \"(not set)\", \"source\": \"google\", \"medium\": \"organic\", \"keyword\": \"(not provided)\", \"adwordsClickInfo\": {\"criteriaParameters\": \"not available in demo dataset\"}, \"isTrueDirect\": true}   \n",
       "\n",
       "      visitId  visitNumber  visitStartTime  \n",
       "0  1472830385  1            1472830385      \n",
       "1  1472880147  1            1472880147      \n",
       "2  1472865386  1            1472865386      \n",
       "3  1472881213  1            1472881213      \n",
       "4  1472822600  2            1472822600      "
      ]
     },
     "execution_count": 20,
     "metadata": {},
     "output_type": "execute_result"
    }
   ],
   "source": [
    "data.head(5)"
   ]
  },
  {
   "cell_type": "markdown",
   "metadata": {},
   "source": [
    "### visitId"
   ]
  },
  {
   "cell_type": "code",
   "execution_count": 21,
   "metadata": {
    "ExecuteTime": {
     "end_time": "2018-10-08T17:31:59.228374Z",
     "start_time": "2018-10-08T17:31:59.125343Z"
    }
   },
   "outputs": [
    {
     "data": {
      "text/plain": [
       "array([1472830385, 1472880147, 1472865386, ..., 1483526434, 1483592857,\n",
       "       1483574474])"
      ]
     },
     "execution_count": 21,
     "metadata": {},
     "output_type": "execute_result"
    }
   ],
   "source": [
    "data.visitId.unique()"
   ]
  },
  {
   "cell_type": "code",
   "execution_count": 22,
   "metadata": {
    "ExecuteTime": {
     "end_time": "2018-10-08T17:31:59.245623Z",
     "start_time": "2018-10-08T17:31:59.230906Z"
    }
   },
   "outputs": [
    {
     "data": {
      "text/plain": [
       "0"
      ]
     },
     "execution_count": 22,
     "metadata": {},
     "output_type": "execute_result"
    }
   ],
   "source": [
    "data.visitId.isnull().sum()"
   ]
  },
  {
   "cell_type": "code",
   "execution_count": 23,
   "metadata": {
    "ExecuteTime": {
     "end_time": "2018-10-08T17:31:59.263491Z",
     "start_time": "2018-10-08T17:31:59.247972Z"
    }
   },
   "outputs": [
    {
     "data": {
      "text/plain": [
       "0"
      ]
     },
     "execution_count": 23,
     "metadata": {},
     "output_type": "execute_result"
    }
   ],
   "source": [
    "data.visitId.isna().sum()"
   ]
  },
  {
   "cell_type": "markdown",
   "metadata": {},
   "source": [
    "### visitStartTime"
   ]
  },
  {
   "cell_type": "code",
   "execution_count": 24,
   "metadata": {
    "ExecuteTime": {
     "end_time": "2018-10-08T17:31:59.398630Z",
     "start_time": "2018-10-08T17:31:59.266079Z"
    }
   },
   "outputs": [
    {
     "data": {
      "text/plain": [
       "array([1472830385, 1472880147, 1472865386, ..., 1483526434, 1483592864,\n",
       "       1483574474])"
      ]
     },
     "execution_count": 24,
     "metadata": {},
     "output_type": "execute_result"
    }
   ],
   "source": [
    "data.visitStartTime.unique()"
   ]
  },
  {
   "cell_type": "code",
   "execution_count": 25,
   "metadata": {
    "ExecuteTime": {
     "end_time": "2018-10-08T17:31:59.418142Z",
     "start_time": "2018-10-08T17:31:59.401002Z"
    }
   },
   "outputs": [
    {
     "data": {
      "text/plain": [
       "0"
      ]
     },
     "execution_count": 25,
     "metadata": {},
     "output_type": "execute_result"
    }
   ],
   "source": [
    "data.visitStartTime.isnull().sum()"
   ]
  },
  {
   "cell_type": "code",
   "execution_count": 26,
   "metadata": {
    "ExecuteTime": {
     "end_time": "2018-10-08T17:31:59.439276Z",
     "start_time": "2018-10-08T17:31:59.420825Z"
    }
   },
   "outputs": [
    {
     "data": {
      "text/plain": [
       "0"
      ]
     },
     "execution_count": 26,
     "metadata": {},
     "output_type": "execute_result"
    }
   ],
   "source": [
    "data.visitStartTime.isna().sum()"
   ]
  },
  {
   "cell_type": "markdown",
   "metadata": {},
   "source": [
    "### visitNumber"
   ]
  },
  {
   "cell_type": "code",
   "execution_count": 27,
   "metadata": {
    "ExecuteTime": {
     "end_time": "2018-10-08T17:31:59.455435Z",
     "start_time": "2018-10-08T17:31:59.441887Z"
    }
   },
   "outputs": [
    {
     "data": {
      "text/plain": [
       "array([  1,   2,   3,   5,  11,   4,  57,   6,  56,   7,  20,   8,  15,\n",
       "         9,  25,  24,  14,  89, 136,  13,  85,  10, 105,  22,  21,  48,\n",
       "        18,  26,  17,  83,  38,  84,  27,  42, 100,  31,  16,  30,  59,\n",
       "        50,  19,  51,  29, 160,  52,  12,  63,  23,  47,  49,  28,  34,\n",
       "       178,  88,  33, 317,  93, 140,  35,  41,  91,  92,  74, 309,  43,\n",
       "        61,  46,  45,  32, 108,  86, 195,  36, 236,  72, 162, 235,  90,\n",
       "        76,  77,  94,  96,  73,  78,  97,  87, 304, 106, 107, 389,  68,\n",
       "        98, 132,  58, 266, 267, 221,  39, 121, 143, 142, 174, 175, 189,\n",
       "       191,  55, 190, 104, 245, 204,  37,  82, 137, 206, 101,  62, 110,\n",
       "       156, 158, 157, 159, 138, 109, 194, 193, 147, 254,  71,  53, 144,\n",
       "       145, 146,  80, 253,  99, 134, 135, 102,  44, 130,  95,  75, 103,\n",
       "       315,  70,  69, 117, 163, 154, 153, 283,  65, 262, 263, 295, 297,\n",
       "       298, 219,  64, 296, 155, 141, 169, 170,  60, 207,  54, 187, 133,\n",
       "       118, 264,  67,  66, 126,  40, 122, 325, 326, 197, 167, 196, 188,\n",
       "       279, 185, 230, 161, 186, 278, 139, 234, 233, 168, 115, 114, 119,\n",
       "       150, 149, 148,  79, 306, 123, 131, 171, 124, 129, 258, 112, 218,\n",
       "       183, 199, 261, 259, 260, 200, 220, 152, 151, 111, 202, 203, 205,\n",
       "       173, 125, 198, 280, 281, 177, 182, 127, 120, 116,  81, 373, 113,\n",
       "       212, 213, 226, 225, 348, 224, 128, 176, 269, 250, 355, 370, 285,\n",
       "       369, 286, 287, 247, 248, 288, 308, 165, 166, 164, 362, 214, 346,\n",
       "       345, 215, 216, 179, 244, 184, 329, 243, 255, 257, 217, 256, 181,\n",
       "       192, 252, 251, 180, 359, 356, 358, 357, 277, 229, 223, 271, 273,\n",
       "       272, 172, 208, 292, 291, 265, 232, 228, 227, 341, 340, 339, 338,\n",
       "       209, 210, 211, 301, 299, 300, 303, 302, 307, 324, 238, 239, 222,\n",
       "       268, 270, 395, 231, 284, 363, 364, 328, 319, 320, 201, 322, 323,\n",
       "       375, 276, 241, 242, 289, 240, 388, 282, 274, 390, 391, 249, 275,\n",
       "       294, 293, 316, 246, 321, 354, 349, 350, 353, 352, 351, 347, 343,\n",
       "       342, 344, 383, 290, 385, 384, 374, 327, 318, 393, 335, 334, 333,\n",
       "       237, 371, 372, 312, 313, 314, 336, 337, 386, 310, 311, 394, 360,\n",
       "       361, 305, 376, 379, 378, 377, 387])"
      ]
     },
     "execution_count": 27,
     "metadata": {},
     "output_type": "execute_result"
    }
   ],
   "source": [
    "data.visitNumber.unique()"
   ]
  },
  {
   "cell_type": "code",
   "execution_count": 28,
   "metadata": {
    "ExecuteTime": {
     "end_time": "2018-10-08T17:31:59.473212Z",
     "start_time": "2018-10-08T17:31:59.458064Z"
    }
   },
   "outputs": [
    {
     "data": {
      "text/plain": [
       "0"
      ]
     },
     "execution_count": 28,
     "metadata": {},
     "output_type": "execute_result"
    }
   ],
   "source": [
    "data.visitNumber.isnull().sum()"
   ]
  },
  {
   "cell_type": "code",
   "execution_count": 29,
   "metadata": {
    "ExecuteTime": {
     "end_time": "2018-10-08T17:31:59.490850Z",
     "start_time": "2018-10-08T17:31:59.475615Z"
    }
   },
   "outputs": [
    {
     "data": {
      "text/plain": [
       "0"
      ]
     },
     "execution_count": 29,
     "metadata": {},
     "output_type": "execute_result"
    }
   ],
   "source": [
    "data.visitNumber.isna().sum()"
   ]
  },
  {
   "cell_type": "code",
   "execution_count": 30,
   "metadata": {
    "ExecuteTime": {
     "end_time": "2018-10-08T17:31:59.511732Z",
     "start_time": "2018-10-08T17:31:59.493283Z"
    }
   },
   "outputs": [
    {
     "data": {
      "text/html": [
       "<div>\n",
       "<style scoped>\n",
       "    .dataframe tbody tr th:only-of-type {\n",
       "        vertical-align: middle;\n",
       "    }\n",
       "\n",
       "    .dataframe tbody tr th {\n",
       "        vertical-align: top;\n",
       "    }\n",
       "\n",
       "    .dataframe thead th {\n",
       "        text-align: right;\n",
       "    }\n",
       "</style>\n",
       "<table border=\"1\" class=\"dataframe\">\n",
       "  <thead>\n",
       "    <tr style=\"text-align: right;\">\n",
       "      <th></th>\n",
       "      <th>channelGrouping</th>\n",
       "      <th>date</th>\n",
       "      <th>device</th>\n",
       "      <th>fullVisitorId</th>\n",
       "      <th>geoNetwork</th>\n",
       "      <th>sessionId</th>\n",
       "      <th>socialEngagementType</th>\n",
       "      <th>totals</th>\n",
       "      <th>trafficSource</th>\n",
       "      <th>visitId</th>\n",
       "      <th>visitNumber</th>\n",
       "      <th>visitStartTime</th>\n",
       "    </tr>\n",
       "  </thead>\n",
       "  <tbody>\n",
       "    <tr>\n",
       "      <th>0</th>\n",
       "      <td>1</td>\n",
       "      <td>20160902</td>\n",
       "      <td>{\"browser\": \"Chrome\", \"browserVersion\": \"not available in demo dataset\", \"browserSize\": \"not available in demo dataset\", \"operatingSystem\": \"Windows\", \"operatingSystemVersion\": \"not available in demo dataset\", \"isMobile\": false, \"mobileDeviceBranding\": \"not available in demo dataset\", \"mobileDeviceModel\": \"not available in demo dataset\", \"mobileInputSelector\": \"not available in demo dataset\", \"mobileDeviceInfo\": \"not available in demo dataset\", \"mobileDeviceMarketingName\": \"not available in demo dataset\", \"flashVersion\": \"not available in demo dataset\", \"language\": \"not available in demo dataset\", \"screenColors\": \"not available in demo dataset\", \"screenResolution\": \"not available in demo dataset\", \"deviceCategory\": \"desktop\"}</td>\n",
       "      <td>1131660440785968503</td>\n",
       "      <td>{\"continent\": \"Asia\", \"subContinent\": \"Western Asia\", \"country\": \"Turkey\", \"region\": \"Izmir\", \"metro\": \"(not set)\", \"city\": \"Izmir\", \"cityId\": \"not available in demo dataset\", \"networkDomain\": \"ttnet.com.tr\", \"latitude\": \"not available in demo dataset\", \"longitude\": \"not available in demo dataset\", \"networkLocation\": \"not available in demo dataset\"}</td>\n",
       "      <td>1131660440785968503_1472830385</td>\n",
       "      <td>1</td>\n",
       "      <td>{\"visits\": \"1\", \"hits\": \"1\", \"pageviews\": \"1\", \"bounces\": \"1\", \"newVisits\": \"1\"}</td>\n",
       "      <td>{\"campaign\": \"(not set)\", \"source\": \"google\", \"medium\": \"organic\", \"keyword\": \"(not provided)\", \"adwordsClickInfo\": {\"criteriaParameters\": \"not available in demo dataset\"}}</td>\n",
       "      <td>1472830385</td>\n",
       "      <td>1</td>\n",
       "      <td>1472830385</td>\n",
       "    </tr>\n",
       "    <tr>\n",
       "      <th>1</th>\n",
       "      <td>1</td>\n",
       "      <td>20160902</td>\n",
       "      <td>{\"browser\": \"Firefox\", \"browserVersion\": \"not available in demo dataset\", \"browserSize\": \"not available in demo dataset\", \"operatingSystem\": \"Macintosh\", \"operatingSystemVersion\": \"not available in demo dataset\", \"isMobile\": false, \"mobileDeviceBranding\": \"not available in demo dataset\", \"mobileDeviceModel\": \"not available in demo dataset\", \"mobileInputSelector\": \"not available in demo dataset\", \"mobileDeviceInfo\": \"not available in demo dataset\", \"mobileDeviceMarketingName\": \"not available in demo dataset\", \"flashVersion\": \"not available in demo dataset\", \"language\": \"not available in demo dataset\", \"screenColors\": \"not available in demo dataset\", \"screenResolution\": \"not available in demo dataset\", \"deviceCategory\": \"desktop\"}</td>\n",
       "      <td>377306020877927890</td>\n",
       "      <td>{\"continent\": \"Oceania\", \"subContinent\": \"Australasia\", \"country\": \"Australia\", \"region\": \"not available in demo dataset\", \"metro\": \"not available in demo dataset\", \"city\": \"not available in demo dataset\", \"cityId\": \"not available in demo dataset\", \"networkDomain\": \"dodo.net.au\", \"latitude\": \"not available in demo dataset\", \"longitude\": \"not available in demo dataset\", \"networkLocation\": \"not available in demo dataset\"}</td>\n",
       "      <td>377306020877927890_1472880147</td>\n",
       "      <td>1</td>\n",
       "      <td>{\"visits\": \"1\", \"hits\": \"1\", \"pageviews\": \"1\", \"bounces\": \"1\", \"newVisits\": \"1\"}</td>\n",
       "      <td>{\"campaign\": \"(not set)\", \"source\": \"google\", \"medium\": \"organic\", \"keyword\": \"(not provided)\", \"adwordsClickInfo\": {\"criteriaParameters\": \"not available in demo dataset\"}}</td>\n",
       "      <td>1472880147</td>\n",
       "      <td>1</td>\n",
       "      <td>1472880147</td>\n",
       "    </tr>\n",
       "    <tr>\n",
       "      <th>2</th>\n",
       "      <td>1</td>\n",
       "      <td>20160902</td>\n",
       "      <td>{\"browser\": \"Chrome\", \"browserVersion\": \"not available in demo dataset\", \"browserSize\": \"not available in demo dataset\", \"operatingSystem\": \"Windows\", \"operatingSystemVersion\": \"not available in demo dataset\", \"isMobile\": false, \"mobileDeviceBranding\": \"not available in demo dataset\", \"mobileDeviceModel\": \"not available in demo dataset\", \"mobileInputSelector\": \"not available in demo dataset\", \"mobileDeviceInfo\": \"not available in demo dataset\", \"mobileDeviceMarketingName\": \"not available in demo dataset\", \"flashVersion\": \"not available in demo dataset\", \"language\": \"not available in demo dataset\", \"screenColors\": \"not available in demo dataset\", \"screenResolution\": \"not available in demo dataset\", \"deviceCategory\": \"desktop\"}</td>\n",
       "      <td>3895546263509774583</td>\n",
       "      <td>{\"continent\": \"Europe\", \"subContinent\": \"Southern Europe\", \"country\": \"Spain\", \"region\": \"Community of Madrid\", \"metro\": \"(not set)\", \"city\": \"Madrid\", \"cityId\": \"not available in demo dataset\", \"networkDomain\": \"unknown.unknown\", \"latitude\": \"not available in demo dataset\", \"longitude\": \"not available in demo dataset\", \"networkLocation\": \"not available in demo dataset\"}</td>\n",
       "      <td>3895546263509774583_1472865386</td>\n",
       "      <td>1</td>\n",
       "      <td>{\"visits\": \"1\", \"hits\": \"1\", \"pageviews\": \"1\", \"bounces\": \"1\", \"newVisits\": \"1\"}</td>\n",
       "      <td>{\"campaign\": \"(not set)\", \"source\": \"google\", \"medium\": \"organic\", \"keyword\": \"(not provided)\", \"adwordsClickInfo\": {\"criteriaParameters\": \"not available in demo dataset\"}}</td>\n",
       "      <td>1472865386</td>\n",
       "      <td>1</td>\n",
       "      <td>1472865386</td>\n",
       "    </tr>\n",
       "    <tr>\n",
       "      <th>3</th>\n",
       "      <td>1</td>\n",
       "      <td>20160902</td>\n",
       "      <td>{\"browser\": \"UC Browser\", \"browserVersion\": \"not available in demo dataset\", \"browserSize\": \"not available in demo dataset\", \"operatingSystem\": \"Linux\", \"operatingSystemVersion\": \"not available in demo dataset\", \"isMobile\": false, \"mobileDeviceBranding\": \"not available in demo dataset\", \"mobileDeviceModel\": \"not available in demo dataset\", \"mobileInputSelector\": \"not available in demo dataset\", \"mobileDeviceInfo\": \"not available in demo dataset\", \"mobileDeviceMarketingName\": \"not available in demo dataset\", \"flashVersion\": \"not available in demo dataset\", \"language\": \"not available in demo dataset\", \"screenColors\": \"not available in demo dataset\", \"screenResolution\": \"not available in demo dataset\", \"deviceCategory\": \"desktop\"}</td>\n",
       "      <td>4763447161404445595</td>\n",
       "      <td>{\"continent\": \"Asia\", \"subContinent\": \"Southeast Asia\", \"country\": \"Indonesia\", \"region\": \"not available in demo dataset\", \"metro\": \"not available in demo dataset\", \"city\": \"not available in demo dataset\", \"cityId\": \"not available in demo dataset\", \"networkDomain\": \"unknown.unknown\", \"latitude\": \"not available in demo dataset\", \"longitude\": \"not available in demo dataset\", \"networkLocation\": \"not available in demo dataset\"}</td>\n",
       "      <td>4763447161404445595_1472881213</td>\n",
       "      <td>1</td>\n",
       "      <td>{\"visits\": \"1\", \"hits\": \"1\", \"pageviews\": \"1\", \"bounces\": \"1\", \"newVisits\": \"1\"}</td>\n",
       "      <td>{\"campaign\": \"(not set)\", \"source\": \"google\", \"medium\": \"organic\", \"keyword\": \"google + online\", \"adwordsClickInfo\": {\"criteriaParameters\": \"not available in demo dataset\"}}</td>\n",
       "      <td>1472881213</td>\n",
       "      <td>1</td>\n",
       "      <td>1472881213</td>\n",
       "    </tr>\n",
       "    <tr>\n",
       "      <th>4</th>\n",
       "      <td>1</td>\n",
       "      <td>20160902</td>\n",
       "      <td>{\"browser\": \"Chrome\", \"browserVersion\": \"not available in demo dataset\", \"browserSize\": \"not available in demo dataset\", \"operatingSystem\": \"Android\", \"operatingSystemVersion\": \"not available in demo dataset\", \"isMobile\": true, \"mobileDeviceBranding\": \"not available in demo dataset\", \"mobileDeviceModel\": \"not available in demo dataset\", \"mobileInputSelector\": \"not available in demo dataset\", \"mobileDeviceInfo\": \"not available in demo dataset\", \"mobileDeviceMarketingName\": \"not available in demo dataset\", \"flashVersion\": \"not available in demo dataset\", \"language\": \"not available in demo dataset\", \"screenColors\": \"not available in demo dataset\", \"screenResolution\": \"not available in demo dataset\", \"deviceCategory\": \"mobile\"}</td>\n",
       "      <td>27294437909732085</td>\n",
       "      <td>{\"continent\": \"Europe\", \"subContinent\": \"Northern Europe\", \"country\": \"United Kingdom\", \"region\": \"not available in demo dataset\", \"metro\": \"not available in demo dataset\", \"city\": \"not available in demo dataset\", \"cityId\": \"not available in demo dataset\", \"networkDomain\": \"unknown.unknown\", \"latitude\": \"not available in demo dataset\", \"longitude\": \"not available in demo dataset\", \"networkLocation\": \"not available in demo dataset\"}</td>\n",
       "      <td>27294437909732085_1472822600</td>\n",
       "      <td>1</td>\n",
       "      <td>{\"visits\": \"1\", \"hits\": \"1\", \"pageviews\": \"1\", \"bounces\": \"1\"}</td>\n",
       "      <td>{\"campaign\": \"(not set)\", \"source\": \"google\", \"medium\": \"organic\", \"keyword\": \"(not provided)\", \"adwordsClickInfo\": {\"criteriaParameters\": \"not available in demo dataset\"}, \"isTrueDirect\": true}</td>\n",
       "      <td>1472822600</td>\n",
       "      <td>2</td>\n",
       "      <td>1472822600</td>\n",
       "    </tr>\n",
       "  </tbody>\n",
       "</table>\n",
       "</div>"
      ],
      "text/plain": [
       "   channelGrouping      date  \\\n",
       "0  1                20160902   \n",
       "1  1                20160902   \n",
       "2  1                20160902   \n",
       "3  1                20160902   \n",
       "4  1                20160902   \n",
       "\n",
       "                                                                                                                                                                                                                                                                                                                                                                                                                                                                                                                                                                                                                                                                                                                                                               device  \\\n",
       "0  {\"browser\": \"Chrome\", \"browserVersion\": \"not available in demo dataset\", \"browserSize\": \"not available in demo dataset\", \"operatingSystem\": \"Windows\", \"operatingSystemVersion\": \"not available in demo dataset\", \"isMobile\": false, \"mobileDeviceBranding\": \"not available in demo dataset\", \"mobileDeviceModel\": \"not available in demo dataset\", \"mobileInputSelector\": \"not available in demo dataset\", \"mobileDeviceInfo\": \"not available in demo dataset\", \"mobileDeviceMarketingName\": \"not available in demo dataset\", \"flashVersion\": \"not available in demo dataset\", \"language\": \"not available in demo dataset\", \"screenColors\": \"not available in demo dataset\", \"screenResolution\": \"not available in demo dataset\", \"deviceCategory\": \"desktop\"}      \n",
       "1  {\"browser\": \"Firefox\", \"browserVersion\": \"not available in demo dataset\", \"browserSize\": \"not available in demo dataset\", \"operatingSystem\": \"Macintosh\", \"operatingSystemVersion\": \"not available in demo dataset\", \"isMobile\": false, \"mobileDeviceBranding\": \"not available in demo dataset\", \"mobileDeviceModel\": \"not available in demo dataset\", \"mobileInputSelector\": \"not available in demo dataset\", \"mobileDeviceInfo\": \"not available in demo dataset\", \"mobileDeviceMarketingName\": \"not available in demo dataset\", \"flashVersion\": \"not available in demo dataset\", \"language\": \"not available in demo dataset\", \"screenColors\": \"not available in demo dataset\", \"screenResolution\": \"not available in demo dataset\", \"deviceCategory\": \"desktop\"}   \n",
       "2  {\"browser\": \"Chrome\", \"browserVersion\": \"not available in demo dataset\", \"browserSize\": \"not available in demo dataset\", \"operatingSystem\": \"Windows\", \"operatingSystemVersion\": \"not available in demo dataset\", \"isMobile\": false, \"mobileDeviceBranding\": \"not available in demo dataset\", \"mobileDeviceModel\": \"not available in demo dataset\", \"mobileInputSelector\": \"not available in demo dataset\", \"mobileDeviceInfo\": \"not available in demo dataset\", \"mobileDeviceMarketingName\": \"not available in demo dataset\", \"flashVersion\": \"not available in demo dataset\", \"language\": \"not available in demo dataset\", \"screenColors\": \"not available in demo dataset\", \"screenResolution\": \"not available in demo dataset\", \"deviceCategory\": \"desktop\"}      \n",
       "3  {\"browser\": \"UC Browser\", \"browserVersion\": \"not available in demo dataset\", \"browserSize\": \"not available in demo dataset\", \"operatingSystem\": \"Linux\", \"operatingSystemVersion\": \"not available in demo dataset\", \"isMobile\": false, \"mobileDeviceBranding\": \"not available in demo dataset\", \"mobileDeviceModel\": \"not available in demo dataset\", \"mobileInputSelector\": \"not available in demo dataset\", \"mobileDeviceInfo\": \"not available in demo dataset\", \"mobileDeviceMarketingName\": \"not available in demo dataset\", \"flashVersion\": \"not available in demo dataset\", \"language\": \"not available in demo dataset\", \"screenColors\": \"not available in demo dataset\", \"screenResolution\": \"not available in demo dataset\", \"deviceCategory\": \"desktop\"}    \n",
       "4  {\"browser\": \"Chrome\", \"browserVersion\": \"not available in demo dataset\", \"browserSize\": \"not available in demo dataset\", \"operatingSystem\": \"Android\", \"operatingSystemVersion\": \"not available in demo dataset\", \"isMobile\": true, \"mobileDeviceBranding\": \"not available in demo dataset\", \"mobileDeviceModel\": \"not available in demo dataset\", \"mobileInputSelector\": \"not available in demo dataset\", \"mobileDeviceInfo\": \"not available in demo dataset\", \"mobileDeviceMarketingName\": \"not available in demo dataset\", \"flashVersion\": \"not available in demo dataset\", \"language\": \"not available in demo dataset\", \"screenColors\": \"not available in demo dataset\", \"screenResolution\": \"not available in demo dataset\", \"deviceCategory\": \"mobile\"}        \n",
       "\n",
       "         fullVisitorId  \\\n",
       "0  1131660440785968503   \n",
       "1  377306020877927890    \n",
       "2  3895546263509774583   \n",
       "3  4763447161404445595   \n",
       "4  27294437909732085     \n",
       "\n",
       "                                                                                                                                                                                                                                                                                                                                                                                                                                            geoNetwork  \\\n",
       "0  {\"continent\": \"Asia\", \"subContinent\": \"Western Asia\", \"country\": \"Turkey\", \"region\": \"Izmir\", \"metro\": \"(not set)\", \"city\": \"Izmir\", \"cityId\": \"not available in demo dataset\", \"networkDomain\": \"ttnet.com.tr\", \"latitude\": \"not available in demo dataset\", \"longitude\": \"not available in demo dataset\", \"networkLocation\": \"not available in demo dataset\"}                                                                                       \n",
       "1  {\"continent\": \"Oceania\", \"subContinent\": \"Australasia\", \"country\": \"Australia\", \"region\": \"not available in demo dataset\", \"metro\": \"not available in demo dataset\", \"city\": \"not available in demo dataset\", \"cityId\": \"not available in demo dataset\", \"networkDomain\": \"dodo.net.au\", \"latitude\": \"not available in demo dataset\", \"longitude\": \"not available in demo dataset\", \"networkLocation\": \"not available in demo dataset\"}               \n",
       "2  {\"continent\": \"Europe\", \"subContinent\": \"Southern Europe\", \"country\": \"Spain\", \"region\": \"Community of Madrid\", \"metro\": \"(not set)\", \"city\": \"Madrid\", \"cityId\": \"not available in demo dataset\", \"networkDomain\": \"unknown.unknown\", \"latitude\": \"not available in demo dataset\", \"longitude\": \"not available in demo dataset\", \"networkLocation\": \"not available in demo dataset\"}                                                                 \n",
       "3  {\"continent\": \"Asia\", \"subContinent\": \"Southeast Asia\", \"country\": \"Indonesia\", \"region\": \"not available in demo dataset\", \"metro\": \"not available in demo dataset\", \"city\": \"not available in demo dataset\", \"cityId\": \"not available in demo dataset\", \"networkDomain\": \"unknown.unknown\", \"latitude\": \"not available in demo dataset\", \"longitude\": \"not available in demo dataset\", \"networkLocation\": \"not available in demo dataset\"}           \n",
       "4  {\"continent\": \"Europe\", \"subContinent\": \"Northern Europe\", \"country\": \"United Kingdom\", \"region\": \"not available in demo dataset\", \"metro\": \"not available in demo dataset\", \"city\": \"not available in demo dataset\", \"cityId\": \"not available in demo dataset\", \"networkDomain\": \"unknown.unknown\", \"latitude\": \"not available in demo dataset\", \"longitude\": \"not available in demo dataset\", \"networkLocation\": \"not available in demo dataset\"}   \n",
       "\n",
       "                        sessionId socialEngagementType  \\\n",
       "0  1131660440785968503_1472830385  1                     \n",
       "1  377306020877927890_1472880147   1                     \n",
       "2  3895546263509774583_1472865386  1                     \n",
       "3  4763447161404445595_1472881213  1                     \n",
       "4  27294437909732085_1472822600    1                     \n",
       "\n",
       "                                                                             totals  \\\n",
       "0  {\"visits\": \"1\", \"hits\": \"1\", \"pageviews\": \"1\", \"bounces\": \"1\", \"newVisits\": \"1\"}   \n",
       "1  {\"visits\": \"1\", \"hits\": \"1\", \"pageviews\": \"1\", \"bounces\": \"1\", \"newVisits\": \"1\"}   \n",
       "2  {\"visits\": \"1\", \"hits\": \"1\", \"pageviews\": \"1\", \"bounces\": \"1\", \"newVisits\": \"1\"}   \n",
       "3  {\"visits\": \"1\", \"hits\": \"1\", \"pageviews\": \"1\", \"bounces\": \"1\", \"newVisits\": \"1\"}   \n",
       "4  {\"visits\": \"1\", \"hits\": \"1\", \"pageviews\": \"1\", \"bounces\": \"1\"}                     \n",
       "\n",
       "                                                                                                                                                                                        trafficSource  \\\n",
       "0  {\"campaign\": \"(not set)\", \"source\": \"google\", \"medium\": \"organic\", \"keyword\": \"(not provided)\", \"adwordsClickInfo\": {\"criteriaParameters\": \"not available in demo dataset\"}}                         \n",
       "1  {\"campaign\": \"(not set)\", \"source\": \"google\", \"medium\": \"organic\", \"keyword\": \"(not provided)\", \"adwordsClickInfo\": {\"criteriaParameters\": \"not available in demo dataset\"}}                         \n",
       "2  {\"campaign\": \"(not set)\", \"source\": \"google\", \"medium\": \"organic\", \"keyword\": \"(not provided)\", \"adwordsClickInfo\": {\"criteriaParameters\": \"not available in demo dataset\"}}                         \n",
       "3  {\"campaign\": \"(not set)\", \"source\": \"google\", \"medium\": \"organic\", \"keyword\": \"google + online\", \"adwordsClickInfo\": {\"criteriaParameters\": \"not available in demo dataset\"}}                        \n",
       "4  {\"campaign\": \"(not set)\", \"source\": \"google\", \"medium\": \"organic\", \"keyword\": \"(not provided)\", \"adwordsClickInfo\": {\"criteriaParameters\": \"not available in demo dataset\"}, \"isTrueDirect\": true}   \n",
       "\n",
       "      visitId  visitNumber  visitStartTime  \n",
       "0  1472830385  1            1472830385      \n",
       "1  1472880147  1            1472880147      \n",
       "2  1472865386  1            1472865386      \n",
       "3  1472881213  1            1472881213      \n",
       "4  1472822600  2            1472822600      "
      ]
     },
     "execution_count": 30,
     "metadata": {},
     "output_type": "execute_result"
    }
   ],
   "source": [
    "data.head(5)"
   ]
  },
  {
   "cell_type": "markdown",
   "metadata": {},
   "source": [
    "### totals"
   ]
  },
  {
   "cell_type": "code",
   "execution_count": 31,
   "metadata": {
    "ExecuteTime": {
     "end_time": "2018-10-08T17:32:04.823171Z",
     "start_time": "2018-10-08T17:31:59.514265Z"
    }
   },
   "outputs": [
    {
     "data": {
      "text/html": [
       "<div>\n",
       "<style scoped>\n",
       "    .dataframe tbody tr th:only-of-type {\n",
       "        vertical-align: middle;\n",
       "    }\n",
       "\n",
       "    .dataframe tbody tr th {\n",
       "        vertical-align: top;\n",
       "    }\n",
       "\n",
       "    .dataframe thead th {\n",
       "        text-align: right;\n",
       "    }\n",
       "</style>\n",
       "<table border=\"1\" class=\"dataframe\">\n",
       "  <thead>\n",
       "    <tr style=\"text-align: right;\">\n",
       "      <th></th>\n",
       "      <th>channelGrouping</th>\n",
       "      <th>date</th>\n",
       "      <th>device</th>\n",
       "      <th>fullVisitorId</th>\n",
       "      <th>geoNetwork</th>\n",
       "      <th>sessionId</th>\n",
       "      <th>socialEngagementType</th>\n",
       "      <th>totals</th>\n",
       "      <th>trafficSource</th>\n",
       "      <th>visitId</th>\n",
       "      <th>visitNumber</th>\n",
       "      <th>visitStartTime</th>\n",
       "      <th>transactionRevenue</th>\n",
       "    </tr>\n",
       "  </thead>\n",
       "  <tbody>\n",
       "    <tr>\n",
       "      <th>0</th>\n",
       "      <td>1</td>\n",
       "      <td>20160902</td>\n",
       "      <td>{\"browser\": \"Chrome\", \"browserVersion\": \"not available in demo dataset\", \"browserSize\": \"not available in demo dataset\", \"operatingSystem\": \"Windows\", \"operatingSystemVersion\": \"not available in demo dataset\", \"isMobile\": false, \"mobileDeviceBranding\": \"not available in demo dataset\", \"mobileDeviceModel\": \"not available in demo dataset\", \"mobileInputSelector\": \"not available in demo dataset\", \"mobileDeviceInfo\": \"not available in demo dataset\", \"mobileDeviceMarketingName\": \"not available in demo dataset\", \"flashVersion\": \"not available in demo dataset\", \"language\": \"not available in demo dataset\", \"screenColors\": \"not available in demo dataset\", \"screenResolution\": \"not available in demo dataset\", \"deviceCategory\": \"desktop\"}</td>\n",
       "      <td>1131660440785968503</td>\n",
       "      <td>{\"continent\": \"Asia\", \"subContinent\": \"Western Asia\", \"country\": \"Turkey\", \"region\": \"Izmir\", \"metro\": \"(not set)\", \"city\": \"Izmir\", \"cityId\": \"not available in demo dataset\", \"networkDomain\": \"ttnet.com.tr\", \"latitude\": \"not available in demo dataset\", \"longitude\": \"not available in demo dataset\", \"networkLocation\": \"not available in demo dataset\"}</td>\n",
       "      <td>1131660440785968503_1472830385</td>\n",
       "      <td>1</td>\n",
       "      <td>{\"visits\": \"1\", \"hits\": \"1\", \"pageviews\": \"1\", \"bounces\": \"1\", \"newVisits\": \"1\"}</td>\n",
       "      <td>{\"campaign\": \"(not set)\", \"source\": \"google\", \"medium\": \"organic\", \"keyword\": \"(not provided)\", \"adwordsClickInfo\": {\"criteriaParameters\": \"not available in demo dataset\"}}</td>\n",
       "      <td>1472830385</td>\n",
       "      <td>1</td>\n",
       "      <td>1472830385</td>\n",
       "      <td>NaN</td>\n",
       "    </tr>\n",
       "    <tr>\n",
       "      <th>1</th>\n",
       "      <td>1</td>\n",
       "      <td>20160902</td>\n",
       "      <td>{\"browser\": \"Firefox\", \"browserVersion\": \"not available in demo dataset\", \"browserSize\": \"not available in demo dataset\", \"operatingSystem\": \"Macintosh\", \"operatingSystemVersion\": \"not available in demo dataset\", \"isMobile\": false, \"mobileDeviceBranding\": \"not available in demo dataset\", \"mobileDeviceModel\": \"not available in demo dataset\", \"mobileInputSelector\": \"not available in demo dataset\", \"mobileDeviceInfo\": \"not available in demo dataset\", \"mobileDeviceMarketingName\": \"not available in demo dataset\", \"flashVersion\": \"not available in demo dataset\", \"language\": \"not available in demo dataset\", \"screenColors\": \"not available in demo dataset\", \"screenResolution\": \"not available in demo dataset\", \"deviceCategory\": \"desktop\"}</td>\n",
       "      <td>377306020877927890</td>\n",
       "      <td>{\"continent\": \"Oceania\", \"subContinent\": \"Australasia\", \"country\": \"Australia\", \"region\": \"not available in demo dataset\", \"metro\": \"not available in demo dataset\", \"city\": \"not available in demo dataset\", \"cityId\": \"not available in demo dataset\", \"networkDomain\": \"dodo.net.au\", \"latitude\": \"not available in demo dataset\", \"longitude\": \"not available in demo dataset\", \"networkLocation\": \"not available in demo dataset\"}</td>\n",
       "      <td>377306020877927890_1472880147</td>\n",
       "      <td>1</td>\n",
       "      <td>{\"visits\": \"1\", \"hits\": \"1\", \"pageviews\": \"1\", \"bounces\": \"1\", \"newVisits\": \"1\"}</td>\n",
       "      <td>{\"campaign\": \"(not set)\", \"source\": \"google\", \"medium\": \"organic\", \"keyword\": \"(not provided)\", \"adwordsClickInfo\": {\"criteriaParameters\": \"not available in demo dataset\"}}</td>\n",
       "      <td>1472880147</td>\n",
       "      <td>1</td>\n",
       "      <td>1472880147</td>\n",
       "      <td>NaN</td>\n",
       "    </tr>\n",
       "    <tr>\n",
       "      <th>2</th>\n",
       "      <td>1</td>\n",
       "      <td>20160902</td>\n",
       "      <td>{\"browser\": \"Chrome\", \"browserVersion\": \"not available in demo dataset\", \"browserSize\": \"not available in demo dataset\", \"operatingSystem\": \"Windows\", \"operatingSystemVersion\": \"not available in demo dataset\", \"isMobile\": false, \"mobileDeviceBranding\": \"not available in demo dataset\", \"mobileDeviceModel\": \"not available in demo dataset\", \"mobileInputSelector\": \"not available in demo dataset\", \"mobileDeviceInfo\": \"not available in demo dataset\", \"mobileDeviceMarketingName\": \"not available in demo dataset\", \"flashVersion\": \"not available in demo dataset\", \"language\": \"not available in demo dataset\", \"screenColors\": \"not available in demo dataset\", \"screenResolution\": \"not available in demo dataset\", \"deviceCategory\": \"desktop\"}</td>\n",
       "      <td>3895546263509774583</td>\n",
       "      <td>{\"continent\": \"Europe\", \"subContinent\": \"Southern Europe\", \"country\": \"Spain\", \"region\": \"Community of Madrid\", \"metro\": \"(not set)\", \"city\": \"Madrid\", \"cityId\": \"not available in demo dataset\", \"networkDomain\": \"unknown.unknown\", \"latitude\": \"not available in demo dataset\", \"longitude\": \"not available in demo dataset\", \"networkLocation\": \"not available in demo dataset\"}</td>\n",
       "      <td>3895546263509774583_1472865386</td>\n",
       "      <td>1</td>\n",
       "      <td>{\"visits\": \"1\", \"hits\": \"1\", \"pageviews\": \"1\", \"bounces\": \"1\", \"newVisits\": \"1\"}</td>\n",
       "      <td>{\"campaign\": \"(not set)\", \"source\": \"google\", \"medium\": \"organic\", \"keyword\": \"(not provided)\", \"adwordsClickInfo\": {\"criteriaParameters\": \"not available in demo dataset\"}}</td>\n",
       "      <td>1472865386</td>\n",
       "      <td>1</td>\n",
       "      <td>1472865386</td>\n",
       "      <td>NaN</td>\n",
       "    </tr>\n",
       "    <tr>\n",
       "      <th>3</th>\n",
       "      <td>1</td>\n",
       "      <td>20160902</td>\n",
       "      <td>{\"browser\": \"UC Browser\", \"browserVersion\": \"not available in demo dataset\", \"browserSize\": \"not available in demo dataset\", \"operatingSystem\": \"Linux\", \"operatingSystemVersion\": \"not available in demo dataset\", \"isMobile\": false, \"mobileDeviceBranding\": \"not available in demo dataset\", \"mobileDeviceModel\": \"not available in demo dataset\", \"mobileInputSelector\": \"not available in demo dataset\", \"mobileDeviceInfo\": \"not available in demo dataset\", \"mobileDeviceMarketingName\": \"not available in demo dataset\", \"flashVersion\": \"not available in demo dataset\", \"language\": \"not available in demo dataset\", \"screenColors\": \"not available in demo dataset\", \"screenResolution\": \"not available in demo dataset\", \"deviceCategory\": \"desktop\"}</td>\n",
       "      <td>4763447161404445595</td>\n",
       "      <td>{\"continent\": \"Asia\", \"subContinent\": \"Southeast Asia\", \"country\": \"Indonesia\", \"region\": \"not available in demo dataset\", \"metro\": \"not available in demo dataset\", \"city\": \"not available in demo dataset\", \"cityId\": \"not available in demo dataset\", \"networkDomain\": \"unknown.unknown\", \"latitude\": \"not available in demo dataset\", \"longitude\": \"not available in demo dataset\", \"networkLocation\": \"not available in demo dataset\"}</td>\n",
       "      <td>4763447161404445595_1472881213</td>\n",
       "      <td>1</td>\n",
       "      <td>{\"visits\": \"1\", \"hits\": \"1\", \"pageviews\": \"1\", \"bounces\": \"1\", \"newVisits\": \"1\"}</td>\n",
       "      <td>{\"campaign\": \"(not set)\", \"source\": \"google\", \"medium\": \"organic\", \"keyword\": \"google + online\", \"adwordsClickInfo\": {\"criteriaParameters\": \"not available in demo dataset\"}}</td>\n",
       "      <td>1472881213</td>\n",
       "      <td>1</td>\n",
       "      <td>1472881213</td>\n",
       "      <td>NaN</td>\n",
       "    </tr>\n",
       "    <tr>\n",
       "      <th>4</th>\n",
       "      <td>1</td>\n",
       "      <td>20160902</td>\n",
       "      <td>{\"browser\": \"Chrome\", \"browserVersion\": \"not available in demo dataset\", \"browserSize\": \"not available in demo dataset\", \"operatingSystem\": \"Android\", \"operatingSystemVersion\": \"not available in demo dataset\", \"isMobile\": true, \"mobileDeviceBranding\": \"not available in demo dataset\", \"mobileDeviceModel\": \"not available in demo dataset\", \"mobileInputSelector\": \"not available in demo dataset\", \"mobileDeviceInfo\": \"not available in demo dataset\", \"mobileDeviceMarketingName\": \"not available in demo dataset\", \"flashVersion\": \"not available in demo dataset\", \"language\": \"not available in demo dataset\", \"screenColors\": \"not available in demo dataset\", \"screenResolution\": \"not available in demo dataset\", \"deviceCategory\": \"mobile\"}</td>\n",
       "      <td>27294437909732085</td>\n",
       "      <td>{\"continent\": \"Europe\", \"subContinent\": \"Northern Europe\", \"country\": \"United Kingdom\", \"region\": \"not available in demo dataset\", \"metro\": \"not available in demo dataset\", \"city\": \"not available in demo dataset\", \"cityId\": \"not available in demo dataset\", \"networkDomain\": \"unknown.unknown\", \"latitude\": \"not available in demo dataset\", \"longitude\": \"not available in demo dataset\", \"networkLocation\": \"not available in demo dataset\"}</td>\n",
       "      <td>27294437909732085_1472822600</td>\n",
       "      <td>1</td>\n",
       "      <td>{\"visits\": \"1\", \"hits\": \"1\", \"pageviews\": \"1\", \"bounces\": \"1\"}</td>\n",
       "      <td>{\"campaign\": \"(not set)\", \"source\": \"google\", \"medium\": \"organic\", \"keyword\": \"(not provided)\", \"adwordsClickInfo\": {\"criteriaParameters\": \"not available in demo dataset\"}, \"isTrueDirect\": true}</td>\n",
       "      <td>1472822600</td>\n",
       "      <td>2</td>\n",
       "      <td>1472822600</td>\n",
       "      <td>NaN</td>\n",
       "    </tr>\n",
       "  </tbody>\n",
       "</table>\n",
       "</div>"
      ],
      "text/plain": [
       "   channelGrouping      date  \\\n",
       "0  1                20160902   \n",
       "1  1                20160902   \n",
       "2  1                20160902   \n",
       "3  1                20160902   \n",
       "4  1                20160902   \n",
       "\n",
       "                                                                                                                                                                                                                                                                                                                                                                                                                                                                                                                                                                                                                                                                                                                                                               device  \\\n",
       "0  {\"browser\": \"Chrome\", \"browserVersion\": \"not available in demo dataset\", \"browserSize\": \"not available in demo dataset\", \"operatingSystem\": \"Windows\", \"operatingSystemVersion\": \"not available in demo dataset\", \"isMobile\": false, \"mobileDeviceBranding\": \"not available in demo dataset\", \"mobileDeviceModel\": \"not available in demo dataset\", \"mobileInputSelector\": \"not available in demo dataset\", \"mobileDeviceInfo\": \"not available in demo dataset\", \"mobileDeviceMarketingName\": \"not available in demo dataset\", \"flashVersion\": \"not available in demo dataset\", \"language\": \"not available in demo dataset\", \"screenColors\": \"not available in demo dataset\", \"screenResolution\": \"not available in demo dataset\", \"deviceCategory\": \"desktop\"}      \n",
       "1  {\"browser\": \"Firefox\", \"browserVersion\": \"not available in demo dataset\", \"browserSize\": \"not available in demo dataset\", \"operatingSystem\": \"Macintosh\", \"operatingSystemVersion\": \"not available in demo dataset\", \"isMobile\": false, \"mobileDeviceBranding\": \"not available in demo dataset\", \"mobileDeviceModel\": \"not available in demo dataset\", \"mobileInputSelector\": \"not available in demo dataset\", \"mobileDeviceInfo\": \"not available in demo dataset\", \"mobileDeviceMarketingName\": \"not available in demo dataset\", \"flashVersion\": \"not available in demo dataset\", \"language\": \"not available in demo dataset\", \"screenColors\": \"not available in demo dataset\", \"screenResolution\": \"not available in demo dataset\", \"deviceCategory\": \"desktop\"}   \n",
       "2  {\"browser\": \"Chrome\", \"browserVersion\": \"not available in demo dataset\", \"browserSize\": \"not available in demo dataset\", \"operatingSystem\": \"Windows\", \"operatingSystemVersion\": \"not available in demo dataset\", \"isMobile\": false, \"mobileDeviceBranding\": \"not available in demo dataset\", \"mobileDeviceModel\": \"not available in demo dataset\", \"mobileInputSelector\": \"not available in demo dataset\", \"mobileDeviceInfo\": \"not available in demo dataset\", \"mobileDeviceMarketingName\": \"not available in demo dataset\", \"flashVersion\": \"not available in demo dataset\", \"language\": \"not available in demo dataset\", \"screenColors\": \"not available in demo dataset\", \"screenResolution\": \"not available in demo dataset\", \"deviceCategory\": \"desktop\"}      \n",
       "3  {\"browser\": \"UC Browser\", \"browserVersion\": \"not available in demo dataset\", \"browserSize\": \"not available in demo dataset\", \"operatingSystem\": \"Linux\", \"operatingSystemVersion\": \"not available in demo dataset\", \"isMobile\": false, \"mobileDeviceBranding\": \"not available in demo dataset\", \"mobileDeviceModel\": \"not available in demo dataset\", \"mobileInputSelector\": \"not available in demo dataset\", \"mobileDeviceInfo\": \"not available in demo dataset\", \"mobileDeviceMarketingName\": \"not available in demo dataset\", \"flashVersion\": \"not available in demo dataset\", \"language\": \"not available in demo dataset\", \"screenColors\": \"not available in demo dataset\", \"screenResolution\": \"not available in demo dataset\", \"deviceCategory\": \"desktop\"}    \n",
       "4  {\"browser\": \"Chrome\", \"browserVersion\": \"not available in demo dataset\", \"browserSize\": \"not available in demo dataset\", \"operatingSystem\": \"Android\", \"operatingSystemVersion\": \"not available in demo dataset\", \"isMobile\": true, \"mobileDeviceBranding\": \"not available in demo dataset\", \"mobileDeviceModel\": \"not available in demo dataset\", \"mobileInputSelector\": \"not available in demo dataset\", \"mobileDeviceInfo\": \"not available in demo dataset\", \"mobileDeviceMarketingName\": \"not available in demo dataset\", \"flashVersion\": \"not available in demo dataset\", \"language\": \"not available in demo dataset\", \"screenColors\": \"not available in demo dataset\", \"screenResolution\": \"not available in demo dataset\", \"deviceCategory\": \"mobile\"}        \n",
       "\n",
       "         fullVisitorId  \\\n",
       "0  1131660440785968503   \n",
       "1  377306020877927890    \n",
       "2  3895546263509774583   \n",
       "3  4763447161404445595   \n",
       "4  27294437909732085     \n",
       "\n",
       "                                                                                                                                                                                                                                                                                                                                                                                                                                            geoNetwork  \\\n",
       "0  {\"continent\": \"Asia\", \"subContinent\": \"Western Asia\", \"country\": \"Turkey\", \"region\": \"Izmir\", \"metro\": \"(not set)\", \"city\": \"Izmir\", \"cityId\": \"not available in demo dataset\", \"networkDomain\": \"ttnet.com.tr\", \"latitude\": \"not available in demo dataset\", \"longitude\": \"not available in demo dataset\", \"networkLocation\": \"not available in demo dataset\"}                                                                                       \n",
       "1  {\"continent\": \"Oceania\", \"subContinent\": \"Australasia\", \"country\": \"Australia\", \"region\": \"not available in demo dataset\", \"metro\": \"not available in demo dataset\", \"city\": \"not available in demo dataset\", \"cityId\": \"not available in demo dataset\", \"networkDomain\": \"dodo.net.au\", \"latitude\": \"not available in demo dataset\", \"longitude\": \"not available in demo dataset\", \"networkLocation\": \"not available in demo dataset\"}               \n",
       "2  {\"continent\": \"Europe\", \"subContinent\": \"Southern Europe\", \"country\": \"Spain\", \"region\": \"Community of Madrid\", \"metro\": \"(not set)\", \"city\": \"Madrid\", \"cityId\": \"not available in demo dataset\", \"networkDomain\": \"unknown.unknown\", \"latitude\": \"not available in demo dataset\", \"longitude\": \"not available in demo dataset\", \"networkLocation\": \"not available in demo dataset\"}                                                                 \n",
       "3  {\"continent\": \"Asia\", \"subContinent\": \"Southeast Asia\", \"country\": \"Indonesia\", \"region\": \"not available in demo dataset\", \"metro\": \"not available in demo dataset\", \"city\": \"not available in demo dataset\", \"cityId\": \"not available in demo dataset\", \"networkDomain\": \"unknown.unknown\", \"latitude\": \"not available in demo dataset\", \"longitude\": \"not available in demo dataset\", \"networkLocation\": \"not available in demo dataset\"}           \n",
       "4  {\"continent\": \"Europe\", \"subContinent\": \"Northern Europe\", \"country\": \"United Kingdom\", \"region\": \"not available in demo dataset\", \"metro\": \"not available in demo dataset\", \"city\": \"not available in demo dataset\", \"cityId\": \"not available in demo dataset\", \"networkDomain\": \"unknown.unknown\", \"latitude\": \"not available in demo dataset\", \"longitude\": \"not available in demo dataset\", \"networkLocation\": \"not available in demo dataset\"}   \n",
       "\n",
       "                        sessionId socialEngagementType  \\\n",
       "0  1131660440785968503_1472830385  1                     \n",
       "1  377306020877927890_1472880147   1                     \n",
       "2  3895546263509774583_1472865386  1                     \n",
       "3  4763447161404445595_1472881213  1                     \n",
       "4  27294437909732085_1472822600    1                     \n",
       "\n",
       "                                                                             totals  \\\n",
       "0  {\"visits\": \"1\", \"hits\": \"1\", \"pageviews\": \"1\", \"bounces\": \"1\", \"newVisits\": \"1\"}   \n",
       "1  {\"visits\": \"1\", \"hits\": \"1\", \"pageviews\": \"1\", \"bounces\": \"1\", \"newVisits\": \"1\"}   \n",
       "2  {\"visits\": \"1\", \"hits\": \"1\", \"pageviews\": \"1\", \"bounces\": \"1\", \"newVisits\": \"1\"}   \n",
       "3  {\"visits\": \"1\", \"hits\": \"1\", \"pageviews\": \"1\", \"bounces\": \"1\", \"newVisits\": \"1\"}   \n",
       "4  {\"visits\": \"1\", \"hits\": \"1\", \"pageviews\": \"1\", \"bounces\": \"1\"}                     \n",
       "\n",
       "                                                                                                                                                                                        trafficSource  \\\n",
       "0  {\"campaign\": \"(not set)\", \"source\": \"google\", \"medium\": \"organic\", \"keyword\": \"(not provided)\", \"adwordsClickInfo\": {\"criteriaParameters\": \"not available in demo dataset\"}}                         \n",
       "1  {\"campaign\": \"(not set)\", \"source\": \"google\", \"medium\": \"organic\", \"keyword\": \"(not provided)\", \"adwordsClickInfo\": {\"criteriaParameters\": \"not available in demo dataset\"}}                         \n",
       "2  {\"campaign\": \"(not set)\", \"source\": \"google\", \"medium\": \"organic\", \"keyword\": \"(not provided)\", \"adwordsClickInfo\": {\"criteriaParameters\": \"not available in demo dataset\"}}                         \n",
       "3  {\"campaign\": \"(not set)\", \"source\": \"google\", \"medium\": \"organic\", \"keyword\": \"google + online\", \"adwordsClickInfo\": {\"criteriaParameters\": \"not available in demo dataset\"}}                        \n",
       "4  {\"campaign\": \"(not set)\", \"source\": \"google\", \"medium\": \"organic\", \"keyword\": \"(not provided)\", \"adwordsClickInfo\": {\"criteriaParameters\": \"not available in demo dataset\"}, \"isTrueDirect\": true}   \n",
       "\n",
       "      visitId  visitNumber  visitStartTime transactionRevenue  \n",
       "0  1472830385  1            1472830385      NaN                \n",
       "1  1472880147  1            1472880147      NaN                \n",
       "2  1472865386  1            1472865386      NaN                \n",
       "3  1472881213  1            1472881213      NaN                \n",
       "4  1472822600  2            1472822600      NaN                "
      ]
     },
     "execution_count": 31,
     "metadata": {},
     "output_type": "execute_result"
    }
   ],
   "source": [
    "data[\"transactionRevenue\"] = pd.DataFrame(data.totals.apply(json.loads).tolist())[[\"transactionRevenue\"]]\n",
    "data.head(5)"
   ]
  },
  {
   "cell_type": "code",
   "execution_count": 32,
   "metadata": {
    "ExecuteTime": {
     "end_time": "2018-10-08T17:32:04.829587Z",
     "start_time": "2018-10-08T17:32:04.824859Z"
    }
   },
   "outputs": [
    {
     "data": {
      "text/plain": [
       "(903653, 13)"
      ]
     },
     "execution_count": 32,
     "metadata": {},
     "output_type": "execute_result"
    }
   ],
   "source": [
    "data.shape"
   ]
  },
  {
   "cell_type": "code",
   "execution_count": 33,
   "metadata": {
    "ExecuteTime": {
     "end_time": "2018-10-08T17:32:05.373115Z",
     "start_time": "2018-10-08T17:32:04.831744Z"
    }
   },
   "outputs": [],
   "source": [
    "data = data.dropna(subset=[\"transactionRevenue\"])"
   ]
  },
  {
   "cell_type": "code",
   "execution_count": 34,
   "metadata": {
    "ExecuteTime": {
     "end_time": "2018-10-08T17:32:05.379699Z",
     "start_time": "2018-10-08T17:32:05.375235Z"
    }
   },
   "outputs": [
    {
     "data": {
      "text/plain": [
       "(11515, 13)"
      ]
     },
     "execution_count": 34,
     "metadata": {},
     "output_type": "execute_result"
    }
   ],
   "source": [
    "data.shape"
   ]
  },
  {
   "cell_type": "code",
   "execution_count": 35,
   "metadata": {
    "ExecuteTime": {
     "end_time": "2018-10-08T17:32:05.401913Z",
     "start_time": "2018-10-08T17:32:05.382025Z"
    }
   },
   "outputs": [
    {
     "data": {
      "text/html": [
       "<div>\n",
       "<style scoped>\n",
       "    .dataframe tbody tr th:only-of-type {\n",
       "        vertical-align: middle;\n",
       "    }\n",
       "\n",
       "    .dataframe tbody tr th {\n",
       "        vertical-align: top;\n",
       "    }\n",
       "\n",
       "    .dataframe thead th {\n",
       "        text-align: right;\n",
       "    }\n",
       "</style>\n",
       "<table border=\"1\" class=\"dataframe\">\n",
       "  <thead>\n",
       "    <tr style=\"text-align: right;\">\n",
       "      <th></th>\n",
       "      <th>channelGrouping</th>\n",
       "      <th>date</th>\n",
       "      <th>device</th>\n",
       "      <th>fullVisitorId</th>\n",
       "      <th>geoNetwork</th>\n",
       "      <th>sessionId</th>\n",
       "      <th>socialEngagementType</th>\n",
       "      <th>totals</th>\n",
       "      <th>trafficSource</th>\n",
       "      <th>visitId</th>\n",
       "      <th>visitNumber</th>\n",
       "      <th>visitStartTime</th>\n",
       "      <th>transactionRevenue</th>\n",
       "    </tr>\n",
       "  </thead>\n",
       "  <tbody>\n",
       "    <tr>\n",
       "      <th>752</th>\n",
       "      <td>5</td>\n",
       "      <td>20160902</td>\n",
       "      <td>{\"browser\": \"Chrome\", \"browserVersion\": \"not available in demo dataset\", \"browserSize\": \"not available in demo dataset\", \"operatingSystem\": \"Linux\", \"operatingSystemVersion\": \"not available in demo dataset\", \"isMobile\": false, \"mobileDeviceBranding\": \"not available in demo dataset\", \"mobileDeviceModel\": \"not available in demo dataset\", \"mobileInputSelector\": \"not available in demo dataset\", \"mobileDeviceInfo\": \"not available in demo dataset\", \"mobileDeviceMarketingName\": \"not available in demo dataset\", \"flashVersion\": \"not available in demo dataset\", \"language\": \"not available in demo dataset\", \"screenColors\": \"not available in demo dataset\", \"screenResolution\": \"not available in demo dataset\", \"deviceCategory\": \"desktop\"}</td>\n",
       "      <td>6194193421514403509</td>\n",
       "      <td>{\"continent\": \"Americas\", \"subContinent\": \"Northern America\", \"country\": \"United States\", \"region\": \"Michigan\", \"metro\": \"Detroit MI\", \"city\": \"Ann Arbor\", \"cityId\": \"not available in demo dataset\", \"networkDomain\": \"(not set)\", \"latitude\": \"not available in demo dataset\", \"longitude\": \"not available in demo dataset\", \"networkLocation\": \"not available in demo dataset\"}</td>\n",
       "      <td>6194193421514403509_1472843572</td>\n",
       "      <td>1</td>\n",
       "      <td>{\"visits\": \"1\", \"hits\": \"11\", \"pageviews\": \"11\", \"transactionRevenue\": \"37860000\", \"newVisits\": \"1\"}</td>\n",
       "      <td>{\"campaign\": \"(not set)\", \"source\": \"(direct)\", \"medium\": \"(none)\", \"adwordsClickInfo\": {\"criteriaParameters\": \"not available in demo dataset\"}, \"isTrueDirect\": true}</td>\n",
       "      <td>1472843572</td>\n",
       "      <td>1</td>\n",
       "      <td>1472843572</td>\n",
       "      <td>37860000</td>\n",
       "    </tr>\n",
       "    <tr>\n",
       "      <th>753</th>\n",
       "      <td>1</td>\n",
       "      <td>20160902</td>\n",
       "      <td>{\"browser\": \"Chrome\", \"browserVersion\": \"not available in demo dataset\", \"browserSize\": \"not available in demo dataset\", \"operatingSystem\": \"Macintosh\", \"operatingSystemVersion\": \"not available in demo dataset\", \"isMobile\": false, \"mobileDeviceBranding\": \"not available in demo dataset\", \"mobileDeviceModel\": \"not available in demo dataset\", \"mobileInputSelector\": \"not available in demo dataset\", \"mobileDeviceInfo\": \"not available in demo dataset\", \"mobileDeviceMarketingName\": \"not available in demo dataset\", \"flashVersion\": \"not available in demo dataset\", \"language\": \"not available in demo dataset\", \"screenColors\": \"not available in demo dataset\", \"screenResolution\": \"not available in demo dataset\", \"deviceCategory\": \"desktop\"}</td>\n",
       "      <td>5327166854580374902</td>\n",
       "      <td>{\"continent\": \"Americas\", \"subContinent\": \"Northern America\", \"country\": \"United States\", \"region\": \"New York\", \"metro\": \"New York NY\", \"city\": \"New York\", \"cityId\": \"not available in demo dataset\", \"networkDomain\": \"(not set)\", \"latitude\": \"not available in demo dataset\", \"longitude\": \"not available in demo dataset\", \"networkLocation\": \"not available in demo dataset\"}</td>\n",
       "      <td>5327166854580374902_1472844906</td>\n",
       "      <td>1</td>\n",
       "      <td>{\"visits\": \"1\", \"hits\": \"11\", \"pageviews\": \"10\", \"transactionRevenue\": \"306670000\"}</td>\n",
       "      <td>{\"campaign\": \"(not set)\", \"source\": \"google\", \"medium\": \"organic\", \"keyword\": \"(not provided)\", \"adwordsClickInfo\": {\"criteriaParameters\": \"not available in demo dataset\"}, \"isTrueDirect\": true}</td>\n",
       "      <td>1472844906</td>\n",
       "      <td>3</td>\n",
       "      <td>1472844906</td>\n",
       "      <td>306670000</td>\n",
       "    </tr>\n",
       "    <tr>\n",
       "      <th>799</th>\n",
       "      <td>2</td>\n",
       "      <td>20160902</td>\n",
       "      <td>{\"browser\": \"Chrome\", \"browserVersion\": \"not available in demo dataset\", \"browserSize\": \"not available in demo dataset\", \"operatingSystem\": \"Linux\", \"operatingSystemVersion\": \"not available in demo dataset\", \"isMobile\": false, \"mobileDeviceBranding\": \"not available in demo dataset\", \"mobileDeviceModel\": \"not available in demo dataset\", \"mobileInputSelector\": \"not available in demo dataset\", \"mobileDeviceInfo\": \"not available in demo dataset\", \"mobileDeviceMarketingName\": \"not available in demo dataset\", \"flashVersion\": \"not available in demo dataset\", \"language\": \"not available in demo dataset\", \"screenColors\": \"not available in demo dataset\", \"screenResolution\": \"not available in demo dataset\", \"deviceCategory\": \"desktop\"}</td>\n",
       "      <td>8885051388942907862</td>\n",
       "      <td>{\"continent\": \"Americas\", \"subContinent\": \"Northern America\", \"country\": \"United States\", \"region\": \"New York\", \"metro\": \"New York NY\", \"city\": \"New York\", \"cityId\": \"not available in demo dataset\", \"networkDomain\": \"(not set)\", \"latitude\": \"not available in demo dataset\", \"longitude\": \"not available in demo dataset\", \"networkLocation\": \"not available in demo dataset\"}</td>\n",
       "      <td>8885051388942907862_1472827393</td>\n",
       "      <td>1</td>\n",
       "      <td>{\"visits\": \"1\", \"hits\": \"13\", \"pageviews\": \"11\", \"transactionRevenue\": \"68030000\"}</td>\n",
       "      <td>{\"referralPath\": \"/\", \"campaign\": \"(not set)\", \"source\": \"mall.googleplex.com\", \"medium\": \"referral\", \"adwordsClickInfo\": {\"criteriaParameters\": \"not available in demo dataset\"}, \"isTrueDirect\": true}</td>\n",
       "      <td>1472827393</td>\n",
       "      <td>7</td>\n",
       "      <td>1472827393</td>\n",
       "      <td>68030000</td>\n",
       "    </tr>\n",
       "    <tr>\n",
       "      <th>802</th>\n",
       "      <td>2</td>\n",
       "      <td>20160902</td>\n",
       "      <td>{\"browser\": \"Chrome\", \"browserVersion\": \"not available in demo dataset\", \"browserSize\": \"not available in demo dataset\", \"operatingSystem\": \"Windows\", \"operatingSystemVersion\": \"not available in demo dataset\", \"isMobile\": false, \"mobileDeviceBranding\": \"not available in demo dataset\", \"mobileDeviceModel\": \"not available in demo dataset\", \"mobileInputSelector\": \"not available in demo dataset\", \"mobileDeviceInfo\": \"not available in demo dataset\", \"mobileDeviceMarketingName\": \"not available in demo dataset\", \"flashVersion\": \"not available in demo dataset\", \"language\": \"not available in demo dataset\", \"screenColors\": \"not available in demo dataset\", \"screenResolution\": \"not available in demo dataset\", \"deviceCategory\": \"desktop\"}</td>\n",
       "      <td>0185467632009737931</td>\n",
       "      <td>{\"continent\": \"Americas\", \"subContinent\": \"Northern America\", \"country\": \"United States\", \"region\": \"California\", \"metro\": \"San Francisco-Oakland-San Jose CA\", \"city\": \"Mountain View\", \"cityId\": \"not available in demo dataset\", \"networkDomain\": \"(not set)\", \"latitude\": \"not available in demo dataset\", \"longitude\": \"not available in demo dataset\", \"networkLocation\": \"not available in demo dataset\"}</td>\n",
       "      <td>0185467632009737931_1472846398</td>\n",
       "      <td>1</td>\n",
       "      <td>{\"visits\": \"1\", \"hits\": \"13\", \"pageviews\": \"12\", \"transactionRevenue\": \"26250000\"}</td>\n",
       "      <td>{\"referralPath\": \"/\", \"campaign\": \"(not set)\", \"source\": \"mall.googleplex.com\", \"medium\": \"referral\", \"adwordsClickInfo\": {\"criteriaParameters\": \"not available in demo dataset\"}, \"isTrueDirect\": true}</td>\n",
       "      <td>1472846398</td>\n",
       "      <td>6</td>\n",
       "      <td>1472846398</td>\n",
       "      <td>26250000</td>\n",
       "    </tr>\n",
       "    <tr>\n",
       "      <th>859</th>\n",
       "      <td>2</td>\n",
       "      <td>20160902</td>\n",
       "      <td>{\"browser\": \"Chrome\", \"browserVersion\": \"not available in demo dataset\", \"browserSize\": \"not available in demo dataset\", \"operatingSystem\": \"Macintosh\", \"operatingSystemVersion\": \"not available in demo dataset\", \"isMobile\": false, \"mobileDeviceBranding\": \"not available in demo dataset\", \"mobileDeviceModel\": \"not available in demo dataset\", \"mobileInputSelector\": \"not available in demo dataset\", \"mobileDeviceInfo\": \"not available in demo dataset\", \"mobileDeviceMarketingName\": \"not available in demo dataset\", \"flashVersion\": \"not available in demo dataset\", \"language\": \"not available in demo dataset\", \"screenColors\": \"not available in demo dataset\", \"screenResolution\": \"not available in demo dataset\", \"deviceCategory\": \"desktop\"}</td>\n",
       "      <td>3244885836845029978</td>\n",
       "      <td>{\"continent\": \"Americas\", \"subContinent\": \"Northern America\", \"country\": \"United States\", \"region\": \"not available in demo dataset\", \"metro\": \"not available in demo dataset\", \"city\": \"not available in demo dataset\", \"cityId\": \"not available in demo dataset\", \"networkDomain\": \"(not set)\", \"latitude\": \"not available in demo dataset\", \"longitude\": \"not available in demo dataset\", \"networkLocation\": \"not available in demo dataset\"}</td>\n",
       "      <td>3244885836845029978_1472824817</td>\n",
       "      <td>1</td>\n",
       "      <td>{\"visits\": \"1\", \"hits\": \"17\", \"pageviews\": \"14\", \"transactionRevenue\": \"574150000\"}</td>\n",
       "      <td>{\"referralPath\": \"/\", \"campaign\": \"(not set)\", \"source\": \"mall.googleplex.com\", \"medium\": \"referral\", \"adwordsClickInfo\": {\"criteriaParameters\": \"not available in demo dataset\"}, \"isTrueDirect\": true}</td>\n",
       "      <td>1472824817</td>\n",
       "      <td>4</td>\n",
       "      <td>1472824817</td>\n",
       "      <td>574150000</td>\n",
       "    </tr>\n",
       "  </tbody>\n",
       "</table>\n",
       "</div>"
      ],
      "text/plain": [
       "     channelGrouping      date  \\\n",
       "752  5                20160902   \n",
       "753  1                20160902   \n",
       "799  2                20160902   \n",
       "802  2                20160902   \n",
       "859  2                20160902   \n",
       "\n",
       "                                                                                                                                                                                                                                                                                                                                                                                                                                                                                                                                                                                                                                                                                                                                                                device  \\\n",
       "752  {\"browser\": \"Chrome\", \"browserVersion\": \"not available in demo dataset\", \"browserSize\": \"not available in demo dataset\", \"operatingSystem\": \"Linux\", \"operatingSystemVersion\": \"not available in demo dataset\", \"isMobile\": false, \"mobileDeviceBranding\": \"not available in demo dataset\", \"mobileDeviceModel\": \"not available in demo dataset\", \"mobileInputSelector\": \"not available in demo dataset\", \"mobileDeviceInfo\": \"not available in demo dataset\", \"mobileDeviceMarketingName\": \"not available in demo dataset\", \"flashVersion\": \"not available in demo dataset\", \"language\": \"not available in demo dataset\", \"screenColors\": \"not available in demo dataset\", \"screenResolution\": \"not available in demo dataset\", \"deviceCategory\": \"desktop\"}       \n",
       "753  {\"browser\": \"Chrome\", \"browserVersion\": \"not available in demo dataset\", \"browserSize\": \"not available in demo dataset\", \"operatingSystem\": \"Macintosh\", \"operatingSystemVersion\": \"not available in demo dataset\", \"isMobile\": false, \"mobileDeviceBranding\": \"not available in demo dataset\", \"mobileDeviceModel\": \"not available in demo dataset\", \"mobileInputSelector\": \"not available in demo dataset\", \"mobileDeviceInfo\": \"not available in demo dataset\", \"mobileDeviceMarketingName\": \"not available in demo dataset\", \"flashVersion\": \"not available in demo dataset\", \"language\": \"not available in demo dataset\", \"screenColors\": \"not available in demo dataset\", \"screenResolution\": \"not available in demo dataset\", \"deviceCategory\": \"desktop\"}   \n",
       "799  {\"browser\": \"Chrome\", \"browserVersion\": \"not available in demo dataset\", \"browserSize\": \"not available in demo dataset\", \"operatingSystem\": \"Linux\", \"operatingSystemVersion\": \"not available in demo dataset\", \"isMobile\": false, \"mobileDeviceBranding\": \"not available in demo dataset\", \"mobileDeviceModel\": \"not available in demo dataset\", \"mobileInputSelector\": \"not available in demo dataset\", \"mobileDeviceInfo\": \"not available in demo dataset\", \"mobileDeviceMarketingName\": \"not available in demo dataset\", \"flashVersion\": \"not available in demo dataset\", \"language\": \"not available in demo dataset\", \"screenColors\": \"not available in demo dataset\", \"screenResolution\": \"not available in demo dataset\", \"deviceCategory\": \"desktop\"}       \n",
       "802  {\"browser\": \"Chrome\", \"browserVersion\": \"not available in demo dataset\", \"browserSize\": \"not available in demo dataset\", \"operatingSystem\": \"Windows\", \"operatingSystemVersion\": \"not available in demo dataset\", \"isMobile\": false, \"mobileDeviceBranding\": \"not available in demo dataset\", \"mobileDeviceModel\": \"not available in demo dataset\", \"mobileInputSelector\": \"not available in demo dataset\", \"mobileDeviceInfo\": \"not available in demo dataset\", \"mobileDeviceMarketingName\": \"not available in demo dataset\", \"flashVersion\": \"not available in demo dataset\", \"language\": \"not available in demo dataset\", \"screenColors\": \"not available in demo dataset\", \"screenResolution\": \"not available in demo dataset\", \"deviceCategory\": \"desktop\"}     \n",
       "859  {\"browser\": \"Chrome\", \"browserVersion\": \"not available in demo dataset\", \"browserSize\": \"not available in demo dataset\", \"operatingSystem\": \"Macintosh\", \"operatingSystemVersion\": \"not available in demo dataset\", \"isMobile\": false, \"mobileDeviceBranding\": \"not available in demo dataset\", \"mobileDeviceModel\": \"not available in demo dataset\", \"mobileInputSelector\": \"not available in demo dataset\", \"mobileDeviceInfo\": \"not available in demo dataset\", \"mobileDeviceMarketingName\": \"not available in demo dataset\", \"flashVersion\": \"not available in demo dataset\", \"language\": \"not available in demo dataset\", \"screenColors\": \"not available in demo dataset\", \"screenResolution\": \"not available in demo dataset\", \"deviceCategory\": \"desktop\"}   \n",
       "\n",
       "           fullVisitorId  \\\n",
       "752  6194193421514403509   \n",
       "753  5327166854580374902   \n",
       "799  8885051388942907862   \n",
       "802  0185467632009737931   \n",
       "859  3244885836845029978   \n",
       "\n",
       "                                                                                                                                                                                                                                                                                                                                                                                                                                          geoNetwork  \\\n",
       "752  {\"continent\": \"Americas\", \"subContinent\": \"Northern America\", \"country\": \"United States\", \"region\": \"Michigan\", \"metro\": \"Detroit MI\", \"city\": \"Ann Arbor\", \"cityId\": \"not available in demo dataset\", \"networkDomain\": \"(not set)\", \"latitude\": \"not available in demo dataset\", \"longitude\": \"not available in demo dataset\", \"networkLocation\": \"not available in demo dataset\"}                                                               \n",
       "753  {\"continent\": \"Americas\", \"subContinent\": \"Northern America\", \"country\": \"United States\", \"region\": \"New York\", \"metro\": \"New York NY\", \"city\": \"New York\", \"cityId\": \"not available in demo dataset\", \"networkDomain\": \"(not set)\", \"latitude\": \"not available in demo dataset\", \"longitude\": \"not available in demo dataset\", \"networkLocation\": \"not available in demo dataset\"}                                                               \n",
       "799  {\"continent\": \"Americas\", \"subContinent\": \"Northern America\", \"country\": \"United States\", \"region\": \"New York\", \"metro\": \"New York NY\", \"city\": \"New York\", \"cityId\": \"not available in demo dataset\", \"networkDomain\": \"(not set)\", \"latitude\": \"not available in demo dataset\", \"longitude\": \"not available in demo dataset\", \"networkLocation\": \"not available in demo dataset\"}                                                               \n",
       "802  {\"continent\": \"Americas\", \"subContinent\": \"Northern America\", \"country\": \"United States\", \"region\": \"California\", \"metro\": \"San Francisco-Oakland-San Jose CA\", \"city\": \"Mountain View\", \"cityId\": \"not available in demo dataset\", \"networkDomain\": \"(not set)\", \"latitude\": \"not available in demo dataset\", \"longitude\": \"not available in demo dataset\", \"networkLocation\": \"not available in demo dataset\"}                                  \n",
       "859  {\"continent\": \"Americas\", \"subContinent\": \"Northern America\", \"country\": \"United States\", \"region\": \"not available in demo dataset\", \"metro\": \"not available in demo dataset\", \"city\": \"not available in demo dataset\", \"cityId\": \"not available in demo dataset\", \"networkDomain\": \"(not set)\", \"latitude\": \"not available in demo dataset\", \"longitude\": \"not available in demo dataset\", \"networkLocation\": \"not available in demo dataset\"}   \n",
       "\n",
       "                          sessionId socialEngagementType  \\\n",
       "752  6194193421514403509_1472843572  1                     \n",
       "753  5327166854580374902_1472844906  1                     \n",
       "799  8885051388942907862_1472827393  1                     \n",
       "802  0185467632009737931_1472846398  1                     \n",
       "859  3244885836845029978_1472824817  1                     \n",
       "\n",
       "                                                                                                   totals  \\\n",
       "752  {\"visits\": \"1\", \"hits\": \"11\", \"pageviews\": \"11\", \"transactionRevenue\": \"37860000\", \"newVisits\": \"1\"}   \n",
       "753  {\"visits\": \"1\", \"hits\": \"11\", \"pageviews\": \"10\", \"transactionRevenue\": \"306670000\"}                    \n",
       "799  {\"visits\": \"1\", \"hits\": \"13\", \"pageviews\": \"11\", \"transactionRevenue\": \"68030000\"}                     \n",
       "802  {\"visits\": \"1\", \"hits\": \"13\", \"pageviews\": \"12\", \"transactionRevenue\": \"26250000\"}                     \n",
       "859  {\"visits\": \"1\", \"hits\": \"17\", \"pageviews\": \"14\", \"transactionRevenue\": \"574150000\"}                    \n",
       "\n",
       "                                                                                                                                                                                                trafficSource  \\\n",
       "752  {\"campaign\": \"(not set)\", \"source\": \"(direct)\", \"medium\": \"(none)\", \"adwordsClickInfo\": {\"criteriaParameters\": \"not available in demo dataset\"}, \"isTrueDirect\": true}                                     \n",
       "753  {\"campaign\": \"(not set)\", \"source\": \"google\", \"medium\": \"organic\", \"keyword\": \"(not provided)\", \"adwordsClickInfo\": {\"criteriaParameters\": \"not available in demo dataset\"}, \"isTrueDirect\": true}         \n",
       "799  {\"referralPath\": \"/\", \"campaign\": \"(not set)\", \"source\": \"mall.googleplex.com\", \"medium\": \"referral\", \"adwordsClickInfo\": {\"criteriaParameters\": \"not available in demo dataset\"}, \"isTrueDirect\": true}   \n",
       "802  {\"referralPath\": \"/\", \"campaign\": \"(not set)\", \"source\": \"mall.googleplex.com\", \"medium\": \"referral\", \"adwordsClickInfo\": {\"criteriaParameters\": \"not available in demo dataset\"}, \"isTrueDirect\": true}   \n",
       "859  {\"referralPath\": \"/\", \"campaign\": \"(not set)\", \"source\": \"mall.googleplex.com\", \"medium\": \"referral\", \"adwordsClickInfo\": {\"criteriaParameters\": \"not available in demo dataset\"}, \"isTrueDirect\": true}   \n",
       "\n",
       "        visitId  visitNumber  visitStartTime transactionRevenue  \n",
       "752  1472843572  1            1472843572      37860000           \n",
       "753  1472844906  3            1472844906      306670000          \n",
       "799  1472827393  7            1472827393      68030000           \n",
       "802  1472846398  6            1472846398      26250000           \n",
       "859  1472824817  4            1472824817      574150000          "
      ]
     },
     "execution_count": 35,
     "metadata": {},
     "output_type": "execute_result"
    }
   ],
   "source": [
    "data.head(5)"
   ]
  },
  {
   "cell_type": "code",
   "execution_count": 36,
   "metadata": {
    "ExecuteTime": {
     "end_time": "2018-10-08T17:32:05.548956Z",
     "start_time": "2018-10-08T17:32:05.404481Z"
    }
   },
   "outputs": [],
   "source": [
    "device_json_dump = data.device.apply(json.loads)"
   ]
  },
  {
   "cell_type": "code",
   "execution_count": 37,
   "metadata": {
    "ExecuteTime": {
     "end_time": "2018-10-08T17:32:05.555401Z",
     "start_time": "2018-10-08T17:32:05.551178Z"
    }
   },
   "outputs": [
    {
     "data": {
      "text/plain": [
       "pandas.core.series.Series"
      ]
     },
     "execution_count": 37,
     "metadata": {},
     "output_type": "execute_result"
    }
   ],
   "source": [
    "type(device_json_dump)"
   ]
  },
  {
   "cell_type": "code",
   "execution_count": 38,
   "metadata": {
    "ExecuteTime": {
     "end_time": "2018-10-08T17:32:05.563282Z",
     "start_time": "2018-10-08T17:32:05.557726Z"
    }
   },
   "outputs": [
    {
     "data": {
      "text/plain": [
       "{'browser': 'Chrome',\n",
       " 'browserVersion': 'not available in demo dataset',\n",
       " 'browserSize': 'not available in demo dataset',\n",
       " 'operatingSystem': 'Linux',\n",
       " 'operatingSystemVersion': 'not available in demo dataset',\n",
       " 'isMobile': False,\n",
       " 'mobileDeviceBranding': 'not available in demo dataset',\n",
       " 'mobileDeviceModel': 'not available in demo dataset',\n",
       " 'mobileInputSelector': 'not available in demo dataset',\n",
       " 'mobileDeviceInfo': 'not available in demo dataset',\n",
       " 'mobileDeviceMarketingName': 'not available in demo dataset',\n",
       " 'flashVersion': 'not available in demo dataset',\n",
       " 'language': 'not available in demo dataset',\n",
       " 'screenColors': 'not available in demo dataset',\n",
       " 'screenResolution': 'not available in demo dataset',\n",
       " 'deviceCategory': 'desktop'}"
      ]
     },
     "execution_count": 38,
     "metadata": {},
     "output_type": "execute_result"
    }
   ],
   "source": [
    "device_json_dump.iloc[0]"
   ]
  },
  {
   "cell_type": "markdown",
   "metadata": {},
   "source": [
    "Based on domain knowledge, this factor will not affect the revenue of the customer."
   ]
  },
  {
   "cell_type": "code",
   "execution_count": 39,
   "metadata": {
    "ExecuteTime": {
     "end_time": "2018-10-08T17:32:59.996216Z",
     "start_time": "2018-10-08T17:32:59.991867Z"
    }
   },
   "outputs": [
    {
     "data": {
      "text/plain": [
       "Index(['channelGrouping', 'date', 'device', 'fullVisitorId', 'geoNetwork',\n",
       "       'sessionId', 'socialEngagementType', 'totals', 'trafficSource',\n",
       "       'visitId', 'visitNumber', 'visitStartTime', 'transactionRevenue'],\n",
       "      dtype='object')"
      ]
     },
     "execution_count": 39,
     "metadata": {},
     "output_type": "execute_result"
    }
   ],
   "source": [
    "data.columns"
   ]
  },
  {
   "cell_type": "markdown",
   "metadata": {},
   "source": [
    "### geoNetwork"
   ]
  },
  {
   "cell_type": "code",
   "execution_count": 40,
   "metadata": {
    "ExecuteTime": {
     "end_time": "2018-10-08T17:33:32.362336Z",
     "start_time": "2018-10-08T17:33:32.259600Z"
    }
   },
   "outputs": [
    {
     "data": {
      "text/plain": [
       "752    {'continent': 'Americas', 'subContinent': 'Northern America', 'country': 'United States', 'region': 'Michigan', 'metro': 'Detroit MI', 'city': 'Ann Arbor', 'cityId': 'not available in demo dataset', 'networkDomain': '(not set)', 'latitude': 'not available in demo dataset', 'longitude': 'not available in demo dataset', 'networkLocation': 'not available in demo dataset'}\n",
       "753    {'continent': 'Americas', 'subContinent': 'Northern America', 'country': 'United States', 'region': 'New York', 'metro': 'New York NY', 'city': 'New York', 'cityId': 'not available in demo dataset', 'networkDomain': '(not set)', 'latitude': 'not available in demo dataset', 'longitude': 'not available in demo dataset', 'networkLocation': 'not available in demo dataset'}\n",
       "799    {'continent': 'Americas', 'subContinent': 'Northern America', 'country': 'United States', 'region': 'New York', 'metro': 'New York NY', 'city': 'New York', 'cityId': 'not available in demo dataset', 'networkDomain': '(not set)', 'latitude': 'not available in demo dataset', 'longitude': 'not available in demo dataset', 'networkLocation': 'not available in demo dataset'}\n",
       "Name: geoNetwork, dtype: object"
      ]
     },
     "execution_count": 40,
     "metadata": {},
     "output_type": "execute_result"
    }
   ],
   "source": [
    "data.geoNetwork.apply(json.loads).iloc[:3]"
   ]
  },
  {
   "cell_type": "code",
   "execution_count": 42,
   "metadata": {
    "ExecuteTime": {
     "end_time": "2018-10-08T17:35:38.163713Z",
     "start_time": "2018-10-08T17:35:37.800865Z"
    }
   },
   "outputs": [
    {
     "data": {
      "text/html": [
       "<div>\n",
       "<style scoped>\n",
       "    .dataframe tbody tr th:only-of-type {\n",
       "        vertical-align: middle;\n",
       "    }\n",
       "\n",
       "    .dataframe tbody tr th {\n",
       "        vertical-align: top;\n",
       "    }\n",
       "\n",
       "    .dataframe thead th {\n",
       "        text-align: right;\n",
       "    }\n",
       "</style>\n",
       "<table border=\"1\" class=\"dataframe\">\n",
       "  <thead>\n",
       "    <tr style=\"text-align: right;\">\n",
       "      <th></th>\n",
       "      <th>channelGrouping</th>\n",
       "      <th>date</th>\n",
       "      <th>device</th>\n",
       "      <th>fullVisitorId</th>\n",
       "      <th>geoNetwork</th>\n",
       "      <th>sessionId</th>\n",
       "      <th>socialEngagementType</th>\n",
       "      <th>totals</th>\n",
       "      <th>trafficSource</th>\n",
       "      <th>visitId</th>\n",
       "      <th>visitNumber</th>\n",
       "      <th>visitStartTime</th>\n",
       "      <th>transactionRevenue</th>\n",
       "      <th>country</th>\n",
       "      <th>continent</th>\n",
       "      <th>region</th>\n",
       "    </tr>\n",
       "  </thead>\n",
       "  <tbody>\n",
       "    <tr>\n",
       "      <th>752</th>\n",
       "      <td>5</td>\n",
       "      <td>20160902</td>\n",
       "      <td>{\"browser\": \"Chrome\", \"browserVersion\": \"not available in demo dataset\", \"browserSize\": \"not available in demo dataset\", \"operatingSystem\": \"Linux\", \"operatingSystemVersion\": \"not available in demo dataset\", \"isMobile\": false, \"mobileDeviceBranding\": \"not available in demo dataset\", \"mobileDeviceModel\": \"not available in demo dataset\", \"mobileInputSelector\": \"not available in demo dataset\", \"mobileDeviceInfo\": \"not available in demo dataset\", \"mobileDeviceMarketingName\": \"not available in demo dataset\", \"flashVersion\": \"not available in demo dataset\", \"language\": \"not available in demo dataset\", \"screenColors\": \"not available in demo dataset\", \"screenResolution\": \"not available in demo dataset\", \"deviceCategory\": \"desktop\"}</td>\n",
       "      <td>6194193421514403509</td>\n",
       "      <td>{\"continent\": \"Americas\", \"subContinent\": \"Northern America\", \"country\": \"United States\", \"region\": \"Michigan\", \"metro\": \"Detroit MI\", \"city\": \"Ann Arbor\", \"cityId\": \"not available in demo dataset\", \"networkDomain\": \"(not set)\", \"latitude\": \"not available in demo dataset\", \"longitude\": \"not available in demo dataset\", \"networkLocation\": \"not available in demo dataset\"}</td>\n",
       "      <td>6194193421514403509_1472843572</td>\n",
       "      <td>1</td>\n",
       "      <td>{\"visits\": \"1\", \"hits\": \"11\", \"pageviews\": \"11\", \"transactionRevenue\": \"37860000\", \"newVisits\": \"1\"}</td>\n",
       "      <td>{\"campaign\": \"(not set)\", \"source\": \"(direct)\", \"medium\": \"(none)\", \"adwordsClickInfo\": {\"criteriaParameters\": \"not available in demo dataset\"}, \"isTrueDirect\": true}</td>\n",
       "      <td>1472843572</td>\n",
       "      <td>1</td>\n",
       "      <td>1472843572</td>\n",
       "      <td>37860000</td>\n",
       "      <td>United States</td>\n",
       "      <td>Americas</td>\n",
       "      <td>Michigan</td>\n",
       "    </tr>\n",
       "    <tr>\n",
       "      <th>753</th>\n",
       "      <td>1</td>\n",
       "      <td>20160902</td>\n",
       "      <td>{\"browser\": \"Chrome\", \"browserVersion\": \"not available in demo dataset\", \"browserSize\": \"not available in demo dataset\", \"operatingSystem\": \"Macintosh\", \"operatingSystemVersion\": \"not available in demo dataset\", \"isMobile\": false, \"mobileDeviceBranding\": \"not available in demo dataset\", \"mobileDeviceModel\": \"not available in demo dataset\", \"mobileInputSelector\": \"not available in demo dataset\", \"mobileDeviceInfo\": \"not available in demo dataset\", \"mobileDeviceMarketingName\": \"not available in demo dataset\", \"flashVersion\": \"not available in demo dataset\", \"language\": \"not available in demo dataset\", \"screenColors\": \"not available in demo dataset\", \"screenResolution\": \"not available in demo dataset\", \"deviceCategory\": \"desktop\"}</td>\n",
       "      <td>5327166854580374902</td>\n",
       "      <td>{\"continent\": \"Americas\", \"subContinent\": \"Northern America\", \"country\": \"United States\", \"region\": \"New York\", \"metro\": \"New York NY\", \"city\": \"New York\", \"cityId\": \"not available in demo dataset\", \"networkDomain\": \"(not set)\", \"latitude\": \"not available in demo dataset\", \"longitude\": \"not available in demo dataset\", \"networkLocation\": \"not available in demo dataset\"}</td>\n",
       "      <td>5327166854580374902_1472844906</td>\n",
       "      <td>1</td>\n",
       "      <td>{\"visits\": \"1\", \"hits\": \"11\", \"pageviews\": \"10\", \"transactionRevenue\": \"306670000\"}</td>\n",
       "      <td>{\"campaign\": \"(not set)\", \"source\": \"google\", \"medium\": \"organic\", \"keyword\": \"(not provided)\", \"adwordsClickInfo\": {\"criteriaParameters\": \"not available in demo dataset\"}, \"isTrueDirect\": true}</td>\n",
       "      <td>1472844906</td>\n",
       "      <td>3</td>\n",
       "      <td>1472844906</td>\n",
       "      <td>306670000</td>\n",
       "      <td>United States</td>\n",
       "      <td>Americas</td>\n",
       "      <td>New York</td>\n",
       "    </tr>\n",
       "    <tr>\n",
       "      <th>799</th>\n",
       "      <td>2</td>\n",
       "      <td>20160902</td>\n",
       "      <td>{\"browser\": \"Chrome\", \"browserVersion\": \"not available in demo dataset\", \"browserSize\": \"not available in demo dataset\", \"operatingSystem\": \"Linux\", \"operatingSystemVersion\": \"not available in demo dataset\", \"isMobile\": false, \"mobileDeviceBranding\": \"not available in demo dataset\", \"mobileDeviceModel\": \"not available in demo dataset\", \"mobileInputSelector\": \"not available in demo dataset\", \"mobileDeviceInfo\": \"not available in demo dataset\", \"mobileDeviceMarketingName\": \"not available in demo dataset\", \"flashVersion\": \"not available in demo dataset\", \"language\": \"not available in demo dataset\", \"screenColors\": \"not available in demo dataset\", \"screenResolution\": \"not available in demo dataset\", \"deviceCategory\": \"desktop\"}</td>\n",
       "      <td>8885051388942907862</td>\n",
       "      <td>{\"continent\": \"Americas\", \"subContinent\": \"Northern America\", \"country\": \"United States\", \"region\": \"New York\", \"metro\": \"New York NY\", \"city\": \"New York\", \"cityId\": \"not available in demo dataset\", \"networkDomain\": \"(not set)\", \"latitude\": \"not available in demo dataset\", \"longitude\": \"not available in demo dataset\", \"networkLocation\": \"not available in demo dataset\"}</td>\n",
       "      <td>8885051388942907862_1472827393</td>\n",
       "      <td>1</td>\n",
       "      <td>{\"visits\": \"1\", \"hits\": \"13\", \"pageviews\": \"11\", \"transactionRevenue\": \"68030000\"}</td>\n",
       "      <td>{\"referralPath\": \"/\", \"campaign\": \"(not set)\", \"source\": \"mall.googleplex.com\", \"medium\": \"referral\", \"adwordsClickInfo\": {\"criteriaParameters\": \"not available in demo dataset\"}, \"isTrueDirect\": true}</td>\n",
       "      <td>1472827393</td>\n",
       "      <td>7</td>\n",
       "      <td>1472827393</td>\n",
       "      <td>68030000</td>\n",
       "      <td>United States</td>\n",
       "      <td>Americas</td>\n",
       "      <td>New York</td>\n",
       "    </tr>\n",
       "    <tr>\n",
       "      <th>802</th>\n",
       "      <td>2</td>\n",
       "      <td>20160902</td>\n",
       "      <td>{\"browser\": \"Chrome\", \"browserVersion\": \"not available in demo dataset\", \"browserSize\": \"not available in demo dataset\", \"operatingSystem\": \"Windows\", \"operatingSystemVersion\": \"not available in demo dataset\", \"isMobile\": false, \"mobileDeviceBranding\": \"not available in demo dataset\", \"mobileDeviceModel\": \"not available in demo dataset\", \"mobileInputSelector\": \"not available in demo dataset\", \"mobileDeviceInfo\": \"not available in demo dataset\", \"mobileDeviceMarketingName\": \"not available in demo dataset\", \"flashVersion\": \"not available in demo dataset\", \"language\": \"not available in demo dataset\", \"screenColors\": \"not available in demo dataset\", \"screenResolution\": \"not available in demo dataset\", \"deviceCategory\": \"desktop\"}</td>\n",
       "      <td>0185467632009737931</td>\n",
       "      <td>{\"continent\": \"Americas\", \"subContinent\": \"Northern America\", \"country\": \"United States\", \"region\": \"California\", \"metro\": \"San Francisco-Oakland-San Jose CA\", \"city\": \"Mountain View\", \"cityId\": \"not available in demo dataset\", \"networkDomain\": \"(not set)\", \"latitude\": \"not available in demo dataset\", \"longitude\": \"not available in demo dataset\", \"networkLocation\": \"not available in demo dataset\"}</td>\n",
       "      <td>0185467632009737931_1472846398</td>\n",
       "      <td>1</td>\n",
       "      <td>{\"visits\": \"1\", \"hits\": \"13\", \"pageviews\": \"12\", \"transactionRevenue\": \"26250000\"}</td>\n",
       "      <td>{\"referralPath\": \"/\", \"campaign\": \"(not set)\", \"source\": \"mall.googleplex.com\", \"medium\": \"referral\", \"adwordsClickInfo\": {\"criteriaParameters\": \"not available in demo dataset\"}, \"isTrueDirect\": true}</td>\n",
       "      <td>1472846398</td>\n",
       "      <td>6</td>\n",
       "      <td>1472846398</td>\n",
       "      <td>26250000</td>\n",
       "      <td>United States</td>\n",
       "      <td>Americas</td>\n",
       "      <td>California</td>\n",
       "    </tr>\n",
       "    <tr>\n",
       "      <th>859</th>\n",
       "      <td>2</td>\n",
       "      <td>20160902</td>\n",
       "      <td>{\"browser\": \"Chrome\", \"browserVersion\": \"not available in demo dataset\", \"browserSize\": \"not available in demo dataset\", \"operatingSystem\": \"Macintosh\", \"operatingSystemVersion\": \"not available in demo dataset\", \"isMobile\": false, \"mobileDeviceBranding\": \"not available in demo dataset\", \"mobileDeviceModel\": \"not available in demo dataset\", \"mobileInputSelector\": \"not available in demo dataset\", \"mobileDeviceInfo\": \"not available in demo dataset\", \"mobileDeviceMarketingName\": \"not available in demo dataset\", \"flashVersion\": \"not available in demo dataset\", \"language\": \"not available in demo dataset\", \"screenColors\": \"not available in demo dataset\", \"screenResolution\": \"not available in demo dataset\", \"deviceCategory\": \"desktop\"}</td>\n",
       "      <td>3244885836845029978</td>\n",
       "      <td>{\"continent\": \"Americas\", \"subContinent\": \"Northern America\", \"country\": \"United States\", \"region\": \"not available in demo dataset\", \"metro\": \"not available in demo dataset\", \"city\": \"not available in demo dataset\", \"cityId\": \"not available in demo dataset\", \"networkDomain\": \"(not set)\", \"latitude\": \"not available in demo dataset\", \"longitude\": \"not available in demo dataset\", \"networkLocation\": \"not available in demo dataset\"}</td>\n",
       "      <td>3244885836845029978_1472824817</td>\n",
       "      <td>1</td>\n",
       "      <td>{\"visits\": \"1\", \"hits\": \"17\", \"pageviews\": \"14\", \"transactionRevenue\": \"574150000\"}</td>\n",
       "      <td>{\"referralPath\": \"/\", \"campaign\": \"(not set)\", \"source\": \"mall.googleplex.com\", \"medium\": \"referral\", \"adwordsClickInfo\": {\"criteriaParameters\": \"not available in demo dataset\"}, \"isTrueDirect\": true}</td>\n",
       "      <td>1472824817</td>\n",
       "      <td>4</td>\n",
       "      <td>1472824817</td>\n",
       "      <td>574150000</td>\n",
       "      <td>United States</td>\n",
       "      <td>Americas</td>\n",
       "      <td>not available in demo dataset</td>\n",
       "    </tr>\n",
       "  </tbody>\n",
       "</table>\n",
       "</div>"
      ],
      "text/plain": [
       "     channelGrouping      date  \\\n",
       "752  5                20160902   \n",
       "753  1                20160902   \n",
       "799  2                20160902   \n",
       "802  2                20160902   \n",
       "859  2                20160902   \n",
       "\n",
       "                                                                                                                                                                                                                                                                                                                                                                                                                                                                                                                                                                                                                                                                                                                                                                device  \\\n",
       "752  {\"browser\": \"Chrome\", \"browserVersion\": \"not available in demo dataset\", \"browserSize\": \"not available in demo dataset\", \"operatingSystem\": \"Linux\", \"operatingSystemVersion\": \"not available in demo dataset\", \"isMobile\": false, \"mobileDeviceBranding\": \"not available in demo dataset\", \"mobileDeviceModel\": \"not available in demo dataset\", \"mobileInputSelector\": \"not available in demo dataset\", \"mobileDeviceInfo\": \"not available in demo dataset\", \"mobileDeviceMarketingName\": \"not available in demo dataset\", \"flashVersion\": \"not available in demo dataset\", \"language\": \"not available in demo dataset\", \"screenColors\": \"not available in demo dataset\", \"screenResolution\": \"not available in demo dataset\", \"deviceCategory\": \"desktop\"}       \n",
       "753  {\"browser\": \"Chrome\", \"browserVersion\": \"not available in demo dataset\", \"browserSize\": \"not available in demo dataset\", \"operatingSystem\": \"Macintosh\", \"operatingSystemVersion\": \"not available in demo dataset\", \"isMobile\": false, \"mobileDeviceBranding\": \"not available in demo dataset\", \"mobileDeviceModel\": \"not available in demo dataset\", \"mobileInputSelector\": \"not available in demo dataset\", \"mobileDeviceInfo\": \"not available in demo dataset\", \"mobileDeviceMarketingName\": \"not available in demo dataset\", \"flashVersion\": \"not available in demo dataset\", \"language\": \"not available in demo dataset\", \"screenColors\": \"not available in demo dataset\", \"screenResolution\": \"not available in demo dataset\", \"deviceCategory\": \"desktop\"}   \n",
       "799  {\"browser\": \"Chrome\", \"browserVersion\": \"not available in demo dataset\", \"browserSize\": \"not available in demo dataset\", \"operatingSystem\": \"Linux\", \"operatingSystemVersion\": \"not available in demo dataset\", \"isMobile\": false, \"mobileDeviceBranding\": \"not available in demo dataset\", \"mobileDeviceModel\": \"not available in demo dataset\", \"mobileInputSelector\": \"not available in demo dataset\", \"mobileDeviceInfo\": \"not available in demo dataset\", \"mobileDeviceMarketingName\": \"not available in demo dataset\", \"flashVersion\": \"not available in demo dataset\", \"language\": \"not available in demo dataset\", \"screenColors\": \"not available in demo dataset\", \"screenResolution\": \"not available in demo dataset\", \"deviceCategory\": \"desktop\"}       \n",
       "802  {\"browser\": \"Chrome\", \"browserVersion\": \"not available in demo dataset\", \"browserSize\": \"not available in demo dataset\", \"operatingSystem\": \"Windows\", \"operatingSystemVersion\": \"not available in demo dataset\", \"isMobile\": false, \"mobileDeviceBranding\": \"not available in demo dataset\", \"mobileDeviceModel\": \"not available in demo dataset\", \"mobileInputSelector\": \"not available in demo dataset\", \"mobileDeviceInfo\": \"not available in demo dataset\", \"mobileDeviceMarketingName\": \"not available in demo dataset\", \"flashVersion\": \"not available in demo dataset\", \"language\": \"not available in demo dataset\", \"screenColors\": \"not available in demo dataset\", \"screenResolution\": \"not available in demo dataset\", \"deviceCategory\": \"desktop\"}     \n",
       "859  {\"browser\": \"Chrome\", \"browserVersion\": \"not available in demo dataset\", \"browserSize\": \"not available in demo dataset\", \"operatingSystem\": \"Macintosh\", \"operatingSystemVersion\": \"not available in demo dataset\", \"isMobile\": false, \"mobileDeviceBranding\": \"not available in demo dataset\", \"mobileDeviceModel\": \"not available in demo dataset\", \"mobileInputSelector\": \"not available in demo dataset\", \"mobileDeviceInfo\": \"not available in demo dataset\", \"mobileDeviceMarketingName\": \"not available in demo dataset\", \"flashVersion\": \"not available in demo dataset\", \"language\": \"not available in demo dataset\", \"screenColors\": \"not available in demo dataset\", \"screenResolution\": \"not available in demo dataset\", \"deviceCategory\": \"desktop\"}   \n",
       "\n",
       "           fullVisitorId  \\\n",
       "752  6194193421514403509   \n",
       "753  5327166854580374902   \n",
       "799  8885051388942907862   \n",
       "802  0185467632009737931   \n",
       "859  3244885836845029978   \n",
       "\n",
       "                                                                                                                                                                                                                                                                                                                                                                                                                                          geoNetwork  \\\n",
       "752  {\"continent\": \"Americas\", \"subContinent\": \"Northern America\", \"country\": \"United States\", \"region\": \"Michigan\", \"metro\": \"Detroit MI\", \"city\": \"Ann Arbor\", \"cityId\": \"not available in demo dataset\", \"networkDomain\": \"(not set)\", \"latitude\": \"not available in demo dataset\", \"longitude\": \"not available in demo dataset\", \"networkLocation\": \"not available in demo dataset\"}                                                               \n",
       "753  {\"continent\": \"Americas\", \"subContinent\": \"Northern America\", \"country\": \"United States\", \"region\": \"New York\", \"metro\": \"New York NY\", \"city\": \"New York\", \"cityId\": \"not available in demo dataset\", \"networkDomain\": \"(not set)\", \"latitude\": \"not available in demo dataset\", \"longitude\": \"not available in demo dataset\", \"networkLocation\": \"not available in demo dataset\"}                                                               \n",
       "799  {\"continent\": \"Americas\", \"subContinent\": \"Northern America\", \"country\": \"United States\", \"region\": \"New York\", \"metro\": \"New York NY\", \"city\": \"New York\", \"cityId\": \"not available in demo dataset\", \"networkDomain\": \"(not set)\", \"latitude\": \"not available in demo dataset\", \"longitude\": \"not available in demo dataset\", \"networkLocation\": \"not available in demo dataset\"}                                                               \n",
       "802  {\"continent\": \"Americas\", \"subContinent\": \"Northern America\", \"country\": \"United States\", \"region\": \"California\", \"metro\": \"San Francisco-Oakland-San Jose CA\", \"city\": \"Mountain View\", \"cityId\": \"not available in demo dataset\", \"networkDomain\": \"(not set)\", \"latitude\": \"not available in demo dataset\", \"longitude\": \"not available in demo dataset\", \"networkLocation\": \"not available in demo dataset\"}                                  \n",
       "859  {\"continent\": \"Americas\", \"subContinent\": \"Northern America\", \"country\": \"United States\", \"region\": \"not available in demo dataset\", \"metro\": \"not available in demo dataset\", \"city\": \"not available in demo dataset\", \"cityId\": \"not available in demo dataset\", \"networkDomain\": \"(not set)\", \"latitude\": \"not available in demo dataset\", \"longitude\": \"not available in demo dataset\", \"networkLocation\": \"not available in demo dataset\"}   \n",
       "\n",
       "                          sessionId socialEngagementType  \\\n",
       "752  6194193421514403509_1472843572  1                     \n",
       "753  5327166854580374902_1472844906  1                     \n",
       "799  8885051388942907862_1472827393  1                     \n",
       "802  0185467632009737931_1472846398  1                     \n",
       "859  3244885836845029978_1472824817  1                     \n",
       "\n",
       "                                                                                                   totals  \\\n",
       "752  {\"visits\": \"1\", \"hits\": \"11\", \"pageviews\": \"11\", \"transactionRevenue\": \"37860000\", \"newVisits\": \"1\"}   \n",
       "753  {\"visits\": \"1\", \"hits\": \"11\", \"pageviews\": \"10\", \"transactionRevenue\": \"306670000\"}                    \n",
       "799  {\"visits\": \"1\", \"hits\": \"13\", \"pageviews\": \"11\", \"transactionRevenue\": \"68030000\"}                     \n",
       "802  {\"visits\": \"1\", \"hits\": \"13\", \"pageviews\": \"12\", \"transactionRevenue\": \"26250000\"}                     \n",
       "859  {\"visits\": \"1\", \"hits\": \"17\", \"pageviews\": \"14\", \"transactionRevenue\": \"574150000\"}                    \n",
       "\n",
       "                                                                                                                                                                                                trafficSource  \\\n",
       "752  {\"campaign\": \"(not set)\", \"source\": \"(direct)\", \"medium\": \"(none)\", \"adwordsClickInfo\": {\"criteriaParameters\": \"not available in demo dataset\"}, \"isTrueDirect\": true}                                     \n",
       "753  {\"campaign\": \"(not set)\", \"source\": \"google\", \"medium\": \"organic\", \"keyword\": \"(not provided)\", \"adwordsClickInfo\": {\"criteriaParameters\": \"not available in demo dataset\"}, \"isTrueDirect\": true}         \n",
       "799  {\"referralPath\": \"/\", \"campaign\": \"(not set)\", \"source\": \"mall.googleplex.com\", \"medium\": \"referral\", \"adwordsClickInfo\": {\"criteriaParameters\": \"not available in demo dataset\"}, \"isTrueDirect\": true}   \n",
       "802  {\"referralPath\": \"/\", \"campaign\": \"(not set)\", \"source\": \"mall.googleplex.com\", \"medium\": \"referral\", \"adwordsClickInfo\": {\"criteriaParameters\": \"not available in demo dataset\"}, \"isTrueDirect\": true}   \n",
       "859  {\"referralPath\": \"/\", \"campaign\": \"(not set)\", \"source\": \"mall.googleplex.com\", \"medium\": \"referral\", \"adwordsClickInfo\": {\"criteriaParameters\": \"not available in demo dataset\"}, \"isTrueDirect\": true}   \n",
       "\n",
       "        visitId  visitNumber  visitStartTime transactionRevenue  \\\n",
       "752  1472843572  1            1472843572      37860000            \n",
       "753  1472844906  3            1472844906      306670000           \n",
       "799  1472827393  7            1472827393      68030000            \n",
       "802  1472846398  6            1472846398      26250000            \n",
       "859  1472824817  4            1472824817      574150000           \n",
       "\n",
       "           country continent                         region  \n",
       "752  United States  Americas  Michigan                       \n",
       "753  United States  Americas  New York                       \n",
       "799  United States  Americas  New York                       \n",
       "802  United States  Americas  California                     \n",
       "859  United States  Americas  not available in demo dataset  "
      ]
     },
     "execution_count": 42,
     "metadata": {},
     "output_type": "execute_result"
    }
   ],
   "source": [
    "data[\"country\"] = data.geoNetwork.apply(json.loads).apply(lambda x: x[\"country\"])\n",
    "data[\"continent\"] = data.geoNetwork.apply(json.loads).apply(lambda x: x[\"continent\"])\n",
    "data[\"region\"] = data.geoNetwork.apply(json.loads).apply(lambda x: x[\"region\"])\n",
    "data.head(5)"
   ]
  },
  {
   "cell_type": "code",
   "execution_count": 43,
   "metadata": {
    "ExecuteTime": {
     "end_time": "2018-10-08T17:35:55.667328Z",
     "start_time": "2018-10-08T17:35:55.660798Z"
    }
   },
   "outputs": [
    {
     "data": {
      "text/plain": [
       "array(['United States', 'Puerto Rico', 'Taiwan', 'Switzerland', 'Canada',\n",
       "       'Mexico', 'Australia', 'Sweden', 'Ireland', 'Israel', 'Germany',\n",
       "       'United Kingdom', 'New Zealand', 'Argentina', 'Chile', 'Finland',\n",
       "       'India', 'Venezuela', 'Indonesia', 'St. Lucia', 'Japan', 'China',\n",
       "       'Colombia', 'Hong Kong', 'Brazil', 'Philippines', '(not set)',\n",
       "       'Pakistan', 'South Korea', 'Ecuador', 'Singapore', 'Hungary',\n",
       "       'Greece', 'Russia', 'Kuwait', 'Malaysia', 'Spain', 'Ukraine',\n",
       "       'Cyprus', 'Romania', 'Nigeria', 'Uruguay', 'Belgium', 'Kenya',\n",
       "       'Kazakhstan', 'Turkey', 'Saudi Arabia', 'Anguilla', 'Armenia',\n",
       "       'France', 'United Arab Emirates', 'Thailand', 'Netherlands',\n",
       "       'South Africa', 'Poland', 'Egypt', 'Italy', 'Guatemala', 'Georgia',\n",
       "       'El Salvador', 'Lebanon', 'Nicaragua', 'Czechia', 'Denmark',\n",
       "       'Curaçao', 'Peru', 'Panama', 'Portugal', 'Guadeloupe'],\n",
       "      dtype=object)"
      ]
     },
     "execution_count": 43,
     "metadata": {},
     "output_type": "execute_result"
    }
   ],
   "source": [
    "data.country.unique()"
   ]
  },
  {
   "cell_type": "code",
   "execution_count": 46,
   "metadata": {
    "ExecuteTime": {
     "end_time": "2018-10-08T17:37:27.592118Z",
     "start_time": "2018-10-08T17:37:27.585992Z"
    }
   },
   "outputs": [
    {
     "data": {
      "text/plain": [
       "array(['Americas', 'Asia', 'Europe', 'Oceania', '(not set)', 'Africa'],\n",
       "      dtype=object)"
      ]
     },
     "execution_count": 46,
     "metadata": {},
     "output_type": "execute_result"
    }
   ],
   "source": [
    "data.continent.unique()"
   ]
  },
  {
   "cell_type": "code",
   "execution_count": 47,
   "metadata": {
    "ExecuteTime": {
     "end_time": "2018-10-08T17:37:33.769517Z",
     "start_time": "2018-10-08T17:37:33.763180Z"
    }
   },
   "outputs": [
    {
     "data": {
      "text/plain": [
       "array(['Michigan', 'New York', 'California',\n",
       "       'not available in demo dataset', 'Washington', 'Illinois',\n",
       "       'Oregon', 'District of Columbia', 'Massachusetts', '(not set)',\n",
       "       'Virginia', 'Zurich', 'Georgia', 'Texas', 'Ontario',\n",
       "       'Pennsylvania', 'Nevada', 'North Carolina',\n",
       "       'State of Rio de Janeiro', 'Victoria', 'County Dublin',\n",
       "       'Tel Aviv District', 'Taipei City', 'Colorado', 'New Jersey',\n",
       "       'Mexico City', 'Florida', 'New Taipei City', 'England',\n",
       "       'Santiago Metropolitan Region', 'Nebraska', 'South Carolina',\n",
       "       'Utah', 'Tennessee', 'Zulia', 'Alberta', 'Jakarta',\n",
       "       'Stockholm County', 'Dublin City', 'Arizona', 'Ohio', 'Seoul',\n",
       "       'Quebec', 'Attica', 'Iowa', 'British Columbia', 'Gujarat',\n",
       "       'Catalonia', 'New South Wales',\n",
       "       'Federal Territory of Kuala Lumpur', 'Missouri', 'Vienna',\n",
       "       'Bucharest', 'Tokyo', 'State of Sao Paulo', 'Kanagawa Prefecture',\n",
       "       'Maryland', 'Minnesota', 'Delhi', 'Istanbul', 'Indiana',\n",
       "       'Ile-de-France', 'Bangkok', 'Bogota', 'Tbilisi', 'Hamburg',\n",
       "       'Prague', 'North Holland', 'Berlin', 'Maharashtra',\n",
       "       'Masovian Voivodeship', 'Connecticut', 'Pichincha', 'Buenos Aires',\n",
       "       'Wisconsin', 'Dubai', 'Metro Manila', 'Karnataka', 'Lima Region'],\n",
       "      dtype=object)"
      ]
     },
     "execution_count": 47,
     "metadata": {},
     "output_type": "execute_result"
    }
   ],
   "source": [
    "data.region.unique()"
   ]
  },
  {
   "cell_type": "code",
   "execution_count": 45,
   "metadata": {
    "ExecuteTime": {
     "end_time": "2018-10-08T17:37:09.033422Z",
     "start_time": "2018-10-08T17:37:08.995698Z"
    }
   },
   "outputs": [
    {
     "name": "stdout",
     "output_type": "stream",
     "text": [
      "isnull: country    0\n",
      "dtype: int64\n",
      "isna: country    0\n",
      "dtype: int64\n",
      "isnull: region    0\n",
      "dtype: int64\n",
      "isna: region    0\n",
      "dtype: int64\n",
      "isnull: continent    0\n",
      "dtype: int64\n",
      "isna: continent    0\n",
      "dtype: int64\n"
     ]
    }
   ],
   "source": [
    "for x in [\"country\", \"region\", \"continent\"]:\n",
    "    print(\"isnull:\", data[[x]].isnull().sum())\n",
    "    print(\"isna:\", data[[x]].isna().sum())"
   ]
  },
  {
   "cell_type": "code",
   "execution_count": null,
   "metadata": {},
   "outputs": [],
   "source": []
  },
  {
   "cell_type": "code",
   "execution_count": null,
   "metadata": {},
   "outputs": [],
   "source": []
  }
 ],
 "metadata": {
  "kernelspec": {
   "display_name": "Python [conda env:anaconda3]",
   "language": "python",
   "name": "conda-env-anaconda3-py"
  },
  "language_info": {
   "codemirror_mode": {
    "name": "ipython",
    "version": 3
   },
   "file_extension": ".py",
   "mimetype": "text/x-python",
   "name": "python",
   "nbconvert_exporter": "python",
   "pygments_lexer": "ipython3",
   "version": "3.6.6"
  }
 },
 "nbformat": 4,
 "nbformat_minor": 2
}
