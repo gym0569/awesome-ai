{
 "cells": [
  {
   "cell_type": "code",
   "execution_count": 1,
   "metadata": {
    "ExecuteTime": {
     "end_time": "2018-10-15T06:28:18.127312Z",
     "start_time": "2018-10-15T06:28:15.010100Z"
    }
   },
   "outputs": [],
   "source": [
    "# load basic packages\n",
    "import os\n",
    "import sys\n",
    "import warnings\n",
    "\n",
    "import re\n",
    "import numpy as np\n",
    "import pandas as pd\n",
    "import scipy as sp\n",
    "import json\n",
    "\n",
    "import matplotlib.pyplot as plt\n",
    "plt.style.use(\"seaborn\")\n",
    "import seaborn as sns\n",
    "import spacy\n",
    "nlp = spacy.load(\"en\")\n",
    "\n",
    "# save model\n",
    "import pickle\n",
    "\n",
    "# set environment\n",
    "pd.set_option(\"display.max_columns\", 100)\n",
    "warnings.filterwarnings(\"ignore\")"
   ]
  },
  {
   "cell_type": "code",
   "execution_count": 2,
   "metadata": {
    "ExecuteTime": {
     "end_time": "2018-10-15T06:28:32.213401Z",
     "start_time": "2018-10-15T06:28:18.131362Z"
    }
   },
   "outputs": [],
   "source": [
    "data = pd.read_csv(\"data/train.csv\")"
   ]
  },
  {
   "cell_type": "code",
   "execution_count": 3,
   "metadata": {
    "ExecuteTime": {
     "end_time": "2018-10-15T06:28:32.225580Z",
     "start_time": "2018-10-15T06:28:32.217589Z"
    }
   },
   "outputs": [
    {
     "data": {
      "text/plain": [
       "Index(['channelGrouping', 'date', 'device', 'fullVisitorId', 'geoNetwork',\n",
       "       'sessionId', 'socialEngagementType', 'totals', 'trafficSource',\n",
       "       'visitId', 'visitNumber', 'visitStartTime'],\n",
       "      dtype='object')"
      ]
     },
     "execution_count": 3,
     "metadata": {},
     "output_type": "execute_result"
    }
   ],
   "source": [
    "data.columns"
   ]
  },
  {
   "cell_type": "code",
   "execution_count": 4,
   "metadata": {
    "ExecuteTime": {
     "end_time": "2018-10-15T06:28:32.249683Z",
     "start_time": "2018-10-15T06:28:32.229986Z"
    },
    "scrolled": true
   },
   "outputs": [
    {
     "data": {
      "text/html": [
       "<div>\n",
       "<style scoped>\n",
       "    .dataframe tbody tr th:only-of-type {\n",
       "        vertical-align: middle;\n",
       "    }\n",
       "\n",
       "    .dataframe tbody tr th {\n",
       "        vertical-align: top;\n",
       "    }\n",
       "\n",
       "    .dataframe thead th {\n",
       "        text-align: right;\n",
       "    }\n",
       "</style>\n",
       "<table border=\"1\" class=\"dataframe\">\n",
       "  <thead>\n",
       "    <tr style=\"text-align: right;\">\n",
       "      <th></th>\n",
       "      <th>channelGrouping</th>\n",
       "      <th>date</th>\n",
       "      <th>device</th>\n",
       "      <th>fullVisitorId</th>\n",
       "      <th>geoNetwork</th>\n",
       "      <th>sessionId</th>\n",
       "      <th>socialEngagementType</th>\n",
       "      <th>totals</th>\n",
       "      <th>trafficSource</th>\n",
       "      <th>visitId</th>\n",
       "      <th>visitNumber</th>\n",
       "      <th>visitStartTime</th>\n",
       "    </tr>\n",
       "  </thead>\n",
       "  <tbody>\n",
       "    <tr>\n",
       "      <th>0</th>\n",
       "      <td>Organic Search</td>\n",
       "      <td>20160902</td>\n",
       "      <td>{\"browser\": \"Chrome\", \"browserVersion\": \"not a...</td>\n",
       "      <td>1131660440785968503</td>\n",
       "      <td>{\"continent\": \"Asia\", \"subContinent\": \"Western...</td>\n",
       "      <td>1131660440785968503_1472830385</td>\n",
       "      <td>Not Socially Engaged</td>\n",
       "      <td>{\"visits\": \"1\", \"hits\": \"1\", \"pageviews\": \"1\",...</td>\n",
       "      <td>{\"campaign\": \"(not set)\", \"source\": \"google\", ...</td>\n",
       "      <td>1472830385</td>\n",
       "      <td>1</td>\n",
       "      <td>1472830385</td>\n",
       "    </tr>\n",
       "    <tr>\n",
       "      <th>1</th>\n",
       "      <td>Organic Search</td>\n",
       "      <td>20160902</td>\n",
       "      <td>{\"browser\": \"Firefox\", \"browserVersion\": \"not ...</td>\n",
       "      <td>377306020877927890</td>\n",
       "      <td>{\"continent\": \"Oceania\", \"subContinent\": \"Aust...</td>\n",
       "      <td>377306020877927890_1472880147</td>\n",
       "      <td>Not Socially Engaged</td>\n",
       "      <td>{\"visits\": \"1\", \"hits\": \"1\", \"pageviews\": \"1\",...</td>\n",
       "      <td>{\"campaign\": \"(not set)\", \"source\": \"google\", ...</td>\n",
       "      <td>1472880147</td>\n",
       "      <td>1</td>\n",
       "      <td>1472880147</td>\n",
       "    </tr>\n",
       "    <tr>\n",
       "      <th>2</th>\n",
       "      <td>Organic Search</td>\n",
       "      <td>20160902</td>\n",
       "      <td>{\"browser\": \"Chrome\", \"browserVersion\": \"not a...</td>\n",
       "      <td>3895546263509774583</td>\n",
       "      <td>{\"continent\": \"Europe\", \"subContinent\": \"South...</td>\n",
       "      <td>3895546263509774583_1472865386</td>\n",
       "      <td>Not Socially Engaged</td>\n",
       "      <td>{\"visits\": \"1\", \"hits\": \"1\", \"pageviews\": \"1\",...</td>\n",
       "      <td>{\"campaign\": \"(not set)\", \"source\": \"google\", ...</td>\n",
       "      <td>1472865386</td>\n",
       "      <td>1</td>\n",
       "      <td>1472865386</td>\n",
       "    </tr>\n",
       "  </tbody>\n",
       "</table>\n",
       "</div>"
      ],
      "text/plain": [
       "  channelGrouping      date  \\\n",
       "0  Organic Search  20160902   \n",
       "1  Organic Search  20160902   \n",
       "2  Organic Search  20160902   \n",
       "\n",
       "                                              device        fullVisitorId  \\\n",
       "0  {\"browser\": \"Chrome\", \"browserVersion\": \"not a...  1131660440785968503   \n",
       "1  {\"browser\": \"Firefox\", \"browserVersion\": \"not ...   377306020877927890   \n",
       "2  {\"browser\": \"Chrome\", \"browserVersion\": \"not a...  3895546263509774583   \n",
       "\n",
       "                                          geoNetwork  \\\n",
       "0  {\"continent\": \"Asia\", \"subContinent\": \"Western...   \n",
       "1  {\"continent\": \"Oceania\", \"subContinent\": \"Aust...   \n",
       "2  {\"continent\": \"Europe\", \"subContinent\": \"South...   \n",
       "\n",
       "                        sessionId  socialEngagementType  \\\n",
       "0  1131660440785968503_1472830385  Not Socially Engaged   \n",
       "1   377306020877927890_1472880147  Not Socially Engaged   \n",
       "2  3895546263509774583_1472865386  Not Socially Engaged   \n",
       "\n",
       "                                              totals  \\\n",
       "0  {\"visits\": \"1\", \"hits\": \"1\", \"pageviews\": \"1\",...   \n",
       "1  {\"visits\": \"1\", \"hits\": \"1\", \"pageviews\": \"1\",...   \n",
       "2  {\"visits\": \"1\", \"hits\": \"1\", \"pageviews\": \"1\",...   \n",
       "\n",
       "                                       trafficSource     visitId  visitNumber  \\\n",
       "0  {\"campaign\": \"(not set)\", \"source\": \"google\", ...  1472830385            1   \n",
       "1  {\"campaign\": \"(not set)\", \"source\": \"google\", ...  1472880147            1   \n",
       "2  {\"campaign\": \"(not set)\", \"source\": \"google\", ...  1472865386            1   \n",
       "\n",
       "   visitStartTime  \n",
       "0      1472830385  \n",
       "1      1472880147  \n",
       "2      1472865386  "
      ]
     },
     "execution_count": 4,
     "metadata": {},
     "output_type": "execute_result"
    }
   ],
   "source": [
    "data.head(3)"
   ]
  },
  {
   "cell_type": "markdown",
   "metadata": {},
   "source": [
    "### channelGrouping"
   ]
  },
  {
   "cell_type": "code",
   "execution_count": 5,
   "metadata": {
    "ExecuteTime": {
     "end_time": "2018-10-15T06:28:32.305706Z",
     "start_time": "2018-10-15T06:28:32.251991Z"
    }
   },
   "outputs": [
    {
     "data": {
      "text/plain": [
       "array(['Organic Search', 'Referral', 'Paid Search', 'Affiliates',\n",
       "       'Direct', 'Display', 'Social', '(Other)'], dtype=object)"
      ]
     },
     "execution_count": 5,
     "metadata": {},
     "output_type": "execute_result"
    }
   ],
   "source": [
    "data.channelGrouping.unique()"
   ]
  },
  {
   "cell_type": "code",
   "execution_count": 6,
   "metadata": {
    "ExecuteTime": {
     "end_time": "2018-10-15T06:28:32.414810Z",
     "start_time": "2018-10-15T06:28:32.308676Z"
    }
   },
   "outputs": [
    {
     "name": "stdout",
     "output_type": "stream",
     "text": [
      "0 0\n"
     ]
    }
   ],
   "source": [
    "print(data.channelGrouping.isnull().sum(), data.channelGrouping.isna().sum())"
   ]
  },
  {
   "cell_type": "code",
   "execution_count": 7,
   "metadata": {
    "ExecuteTime": {
     "end_time": "2018-10-15T06:28:32.421110Z",
     "start_time": "2018-10-15T06:28:32.417496Z"
    }
   },
   "outputs": [],
   "source": [
    "channelGroupingMap = {\n",
    "    \"Organic Search\": 1,\n",
    "    \"Referral\": 2,\n",
    "    \"Paid Search\": 3,\n",
    "    \"Affiliates\": 4,\n",
    "    \"Direct\": 5,\n",
    "    \"Display\": 6,\n",
    "    \"Social\": 7,\n",
    "    \"(Other)\": 8\n",
    "}"
   ]
  },
  {
   "cell_type": "code",
   "execution_count": 8,
   "metadata": {
    "ExecuteTime": {
     "end_time": "2018-10-15T06:28:32.430073Z",
     "start_time": "2018-10-15T06:28:32.424413Z"
    }
   },
   "outputs": [
    {
     "data": {
      "text/plain": [
       "dtype('O')"
      ]
     },
     "execution_count": 8,
     "metadata": {},
     "output_type": "execute_result"
    }
   ],
   "source": [
    "data.channelGrouping.dtypes"
   ]
  },
  {
   "cell_type": "code",
   "execution_count": 9,
   "metadata": {
    "ExecuteTime": {
     "end_time": "2018-10-15T06:28:33.580273Z",
     "start_time": "2018-10-15T06:28:32.432990Z"
    }
   },
   "outputs": [],
   "source": [
    "data.channelGrouping = data.channelGrouping.replace(channelGroupingMap)\n",
    "data.channelGrouping = data.channelGrouping.astype(\"category\")"
   ]
  },
  {
   "cell_type": "code",
   "execution_count": 10,
   "metadata": {
    "ExecuteTime": {
     "end_time": "2018-10-15T06:28:33.601936Z",
     "start_time": "2018-10-15T06:28:33.582647Z"
    }
   },
   "outputs": [
    {
     "data": {
      "text/html": [
       "<div>\n",
       "<style scoped>\n",
       "    .dataframe tbody tr th:only-of-type {\n",
       "        vertical-align: middle;\n",
       "    }\n",
       "\n",
       "    .dataframe tbody tr th {\n",
       "        vertical-align: top;\n",
       "    }\n",
       "\n",
       "    .dataframe thead th {\n",
       "        text-align: right;\n",
       "    }\n",
       "</style>\n",
       "<table border=\"1\" class=\"dataframe\">\n",
       "  <thead>\n",
       "    <tr style=\"text-align: right;\">\n",
       "      <th></th>\n",
       "      <th>channelGrouping</th>\n",
       "      <th>date</th>\n",
       "      <th>device</th>\n",
       "      <th>fullVisitorId</th>\n",
       "      <th>geoNetwork</th>\n",
       "      <th>sessionId</th>\n",
       "      <th>socialEngagementType</th>\n",
       "      <th>totals</th>\n",
       "      <th>trafficSource</th>\n",
       "      <th>visitId</th>\n",
       "      <th>visitNumber</th>\n",
       "      <th>visitStartTime</th>\n",
       "    </tr>\n",
       "  </thead>\n",
       "  <tbody>\n",
       "    <tr>\n",
       "      <th>0</th>\n",
       "      <td>1</td>\n",
       "      <td>20160902</td>\n",
       "      <td>{\"browser\": \"Chrome\", \"browserVersion\": \"not a...</td>\n",
       "      <td>1131660440785968503</td>\n",
       "      <td>{\"continent\": \"Asia\", \"subContinent\": \"Western...</td>\n",
       "      <td>1131660440785968503_1472830385</td>\n",
       "      <td>Not Socially Engaged</td>\n",
       "      <td>{\"visits\": \"1\", \"hits\": \"1\", \"pageviews\": \"1\",...</td>\n",
       "      <td>{\"campaign\": \"(not set)\", \"source\": \"google\", ...</td>\n",
       "      <td>1472830385</td>\n",
       "      <td>1</td>\n",
       "      <td>1472830385</td>\n",
       "    </tr>\n",
       "    <tr>\n",
       "      <th>1</th>\n",
       "      <td>1</td>\n",
       "      <td>20160902</td>\n",
       "      <td>{\"browser\": \"Firefox\", \"browserVersion\": \"not ...</td>\n",
       "      <td>377306020877927890</td>\n",
       "      <td>{\"continent\": \"Oceania\", \"subContinent\": \"Aust...</td>\n",
       "      <td>377306020877927890_1472880147</td>\n",
       "      <td>Not Socially Engaged</td>\n",
       "      <td>{\"visits\": \"1\", \"hits\": \"1\", \"pageviews\": \"1\",...</td>\n",
       "      <td>{\"campaign\": \"(not set)\", \"source\": \"google\", ...</td>\n",
       "      <td>1472880147</td>\n",
       "      <td>1</td>\n",
       "      <td>1472880147</td>\n",
       "    </tr>\n",
       "    <tr>\n",
       "      <th>2</th>\n",
       "      <td>1</td>\n",
       "      <td>20160902</td>\n",
       "      <td>{\"browser\": \"Chrome\", \"browserVersion\": \"not a...</td>\n",
       "      <td>3895546263509774583</td>\n",
       "      <td>{\"continent\": \"Europe\", \"subContinent\": \"South...</td>\n",
       "      <td>3895546263509774583_1472865386</td>\n",
       "      <td>Not Socially Engaged</td>\n",
       "      <td>{\"visits\": \"1\", \"hits\": \"1\", \"pageviews\": \"1\",...</td>\n",
       "      <td>{\"campaign\": \"(not set)\", \"source\": \"google\", ...</td>\n",
       "      <td>1472865386</td>\n",
       "      <td>1</td>\n",
       "      <td>1472865386</td>\n",
       "    </tr>\n",
       "    <tr>\n",
       "      <th>3</th>\n",
       "      <td>1</td>\n",
       "      <td>20160902</td>\n",
       "      <td>{\"browser\": \"UC Browser\", \"browserVersion\": \"n...</td>\n",
       "      <td>4763447161404445595</td>\n",
       "      <td>{\"continent\": \"Asia\", \"subContinent\": \"Southea...</td>\n",
       "      <td>4763447161404445595_1472881213</td>\n",
       "      <td>Not Socially Engaged</td>\n",
       "      <td>{\"visits\": \"1\", \"hits\": \"1\", \"pageviews\": \"1\",...</td>\n",
       "      <td>{\"campaign\": \"(not set)\", \"source\": \"google\", ...</td>\n",
       "      <td>1472881213</td>\n",
       "      <td>1</td>\n",
       "      <td>1472881213</td>\n",
       "    </tr>\n",
       "    <tr>\n",
       "      <th>4</th>\n",
       "      <td>1</td>\n",
       "      <td>20160902</td>\n",
       "      <td>{\"browser\": \"Chrome\", \"browserVersion\": \"not a...</td>\n",
       "      <td>27294437909732085</td>\n",
       "      <td>{\"continent\": \"Europe\", \"subContinent\": \"North...</td>\n",
       "      <td>27294437909732085_1472822600</td>\n",
       "      <td>Not Socially Engaged</td>\n",
       "      <td>{\"visits\": \"1\", \"hits\": \"1\", \"pageviews\": \"1\",...</td>\n",
       "      <td>{\"campaign\": \"(not set)\", \"source\": \"google\", ...</td>\n",
       "      <td>1472822600</td>\n",
       "      <td>2</td>\n",
       "      <td>1472822600</td>\n",
       "    </tr>\n",
       "  </tbody>\n",
       "</table>\n",
       "</div>"
      ],
      "text/plain": [
       "  channelGrouping      date  \\\n",
       "0               1  20160902   \n",
       "1               1  20160902   \n",
       "2               1  20160902   \n",
       "3               1  20160902   \n",
       "4               1  20160902   \n",
       "\n",
       "                                              device        fullVisitorId  \\\n",
       "0  {\"browser\": \"Chrome\", \"browserVersion\": \"not a...  1131660440785968503   \n",
       "1  {\"browser\": \"Firefox\", \"browserVersion\": \"not ...   377306020877927890   \n",
       "2  {\"browser\": \"Chrome\", \"browserVersion\": \"not a...  3895546263509774583   \n",
       "3  {\"browser\": \"UC Browser\", \"browserVersion\": \"n...  4763447161404445595   \n",
       "4  {\"browser\": \"Chrome\", \"browserVersion\": \"not a...    27294437909732085   \n",
       "\n",
       "                                          geoNetwork  \\\n",
       "0  {\"continent\": \"Asia\", \"subContinent\": \"Western...   \n",
       "1  {\"continent\": \"Oceania\", \"subContinent\": \"Aust...   \n",
       "2  {\"continent\": \"Europe\", \"subContinent\": \"South...   \n",
       "3  {\"continent\": \"Asia\", \"subContinent\": \"Southea...   \n",
       "4  {\"continent\": \"Europe\", \"subContinent\": \"North...   \n",
       "\n",
       "                        sessionId  socialEngagementType  \\\n",
       "0  1131660440785968503_1472830385  Not Socially Engaged   \n",
       "1   377306020877927890_1472880147  Not Socially Engaged   \n",
       "2  3895546263509774583_1472865386  Not Socially Engaged   \n",
       "3  4763447161404445595_1472881213  Not Socially Engaged   \n",
       "4    27294437909732085_1472822600  Not Socially Engaged   \n",
       "\n",
       "                                              totals  \\\n",
       "0  {\"visits\": \"1\", \"hits\": \"1\", \"pageviews\": \"1\",...   \n",
       "1  {\"visits\": \"1\", \"hits\": \"1\", \"pageviews\": \"1\",...   \n",
       "2  {\"visits\": \"1\", \"hits\": \"1\", \"pageviews\": \"1\",...   \n",
       "3  {\"visits\": \"1\", \"hits\": \"1\", \"pageviews\": \"1\",...   \n",
       "4  {\"visits\": \"1\", \"hits\": \"1\", \"pageviews\": \"1\",...   \n",
       "\n",
       "                                       trafficSource     visitId  visitNumber  \\\n",
       "0  {\"campaign\": \"(not set)\", \"source\": \"google\", ...  1472830385            1   \n",
       "1  {\"campaign\": \"(not set)\", \"source\": \"google\", ...  1472880147            1   \n",
       "2  {\"campaign\": \"(not set)\", \"source\": \"google\", ...  1472865386            1   \n",
       "3  {\"campaign\": \"(not set)\", \"source\": \"google\", ...  1472881213            1   \n",
       "4  {\"campaign\": \"(not set)\", \"source\": \"google\", ...  1472822600            2   \n",
       "\n",
       "   visitStartTime  \n",
       "0      1472830385  \n",
       "1      1472880147  \n",
       "2      1472865386  \n",
       "3      1472881213  \n",
       "4      1472822600  "
      ]
     },
     "execution_count": 10,
     "metadata": {},
     "output_type": "execute_result"
    }
   ],
   "source": [
    "data.head(5)"
   ]
  },
  {
   "cell_type": "markdown",
   "metadata": {},
   "source": [
    "### socialEngagementType"
   ]
  },
  {
   "cell_type": "code",
   "execution_count": 11,
   "metadata": {
    "ExecuteTime": {
     "end_time": "2018-10-15T06:28:33.697817Z",
     "start_time": "2018-10-15T06:28:33.609830Z"
    }
   },
   "outputs": [
    {
     "data": {
      "text/plain": [
       "array(['Not Socially Engaged'], dtype=object)"
      ]
     },
     "execution_count": 11,
     "metadata": {},
     "output_type": "execute_result"
    }
   ],
   "source": [
    "data.socialEngagementType.unique()"
   ]
  },
  {
   "cell_type": "code",
   "execution_count": 12,
   "metadata": {
    "ExecuteTime": {
     "end_time": "2018-10-15T06:28:33.801006Z",
     "start_time": "2018-10-15T06:28:33.704690Z"
    }
   },
   "outputs": [
    {
     "name": "stdout",
     "output_type": "stream",
     "text": [
      "0 0\n"
     ]
    }
   ],
   "source": [
    "print(data.socialEngagementType.isnull().sum(), data.socialEngagementType.isna().sum())"
   ]
  },
  {
   "cell_type": "code",
   "execution_count": 13,
   "metadata": {
    "ExecuteTime": {
     "end_time": "2018-10-15T06:28:33.909116Z",
     "start_time": "2018-10-15T06:28:33.803990Z"
    }
   },
   "outputs": [
    {
     "data": {
      "text/plain": [
       "Index(['channelGrouping', 'date', 'device', 'fullVisitorId', 'geoNetwork',\n",
       "       'sessionId', 'totals', 'trafficSource', 'visitId', 'visitNumber',\n",
       "       'visitStartTime'],\n",
       "      dtype='object')"
      ]
     },
     "execution_count": 13,
     "metadata": {},
     "output_type": "execute_result"
    }
   ],
   "source": [
    "data = data[[col for col in data.columns if col != \"socialEngagementType\"]]\n",
    "data.columns"
   ]
  },
  {
   "cell_type": "markdown",
   "metadata": {},
   "source": [
    "### visitId"
   ]
  },
  {
   "cell_type": "code",
   "execution_count": 14,
   "metadata": {
    "ExecuteTime": {
     "end_time": "2018-10-15T06:28:34.043814Z",
     "start_time": "2018-10-15T06:28:33.912057Z"
    }
   },
   "outputs": [
    {
     "data": {
      "text/plain": [
       "array([1472830385, 1472880147, 1472865386, ..., 1483526434, 1483592857,\n",
       "       1483574474])"
      ]
     },
     "execution_count": 14,
     "metadata": {},
     "output_type": "execute_result"
    }
   ],
   "source": [
    "data.visitId.unique()"
   ]
  },
  {
   "cell_type": "code",
   "execution_count": 15,
   "metadata": {
    "ExecuteTime": {
     "end_time": "2018-10-15T06:28:34.067809Z",
     "start_time": "2018-10-15T06:28:34.046864Z"
    }
   },
   "outputs": [
    {
     "data": {
      "text/plain": [
       "0"
      ]
     },
     "execution_count": 15,
     "metadata": {},
     "output_type": "execute_result"
    }
   ],
   "source": [
    "data.visitId.isnull().sum()"
   ]
  },
  {
   "cell_type": "code",
   "execution_count": 16,
   "metadata": {
    "ExecuteTime": {
     "end_time": "2018-10-15T06:28:34.090287Z",
     "start_time": "2018-10-15T06:28:34.070731Z"
    }
   },
   "outputs": [
    {
     "data": {
      "text/plain": [
       "0"
      ]
     },
     "execution_count": 16,
     "metadata": {},
     "output_type": "execute_result"
    }
   ],
   "source": [
    "data.visitId.isna().sum()"
   ]
  },
  {
   "cell_type": "markdown",
   "metadata": {},
   "source": [
    "### visitStartTime"
   ]
  },
  {
   "cell_type": "code",
   "execution_count": 17,
   "metadata": {
    "ExecuteTime": {
     "end_time": "2018-10-15T06:28:34.216884Z",
     "start_time": "2018-10-15T06:28:34.092924Z"
    }
   },
   "outputs": [
    {
     "data": {
      "text/plain": [
       "array([1472830385, 1472880147, 1472865386, ..., 1483526434, 1483592864,\n",
       "       1483574474])"
      ]
     },
     "execution_count": 17,
     "metadata": {},
     "output_type": "execute_result"
    }
   ],
   "source": [
    "data.visitStartTime.unique()"
   ]
  },
  {
   "cell_type": "code",
   "execution_count": 18,
   "metadata": {
    "ExecuteTime": {
     "end_time": "2018-10-15T06:28:34.240601Z",
     "start_time": "2018-10-15T06:28:34.219561Z"
    }
   },
   "outputs": [
    {
     "data": {
      "text/plain": [
       "0"
      ]
     },
     "execution_count": 18,
     "metadata": {},
     "output_type": "execute_result"
    }
   ],
   "source": [
    "data.visitStartTime.isnull().sum()"
   ]
  },
  {
   "cell_type": "code",
   "execution_count": 19,
   "metadata": {
    "ExecuteTime": {
     "end_time": "2018-10-15T06:28:34.264462Z",
     "start_time": "2018-10-15T06:28:34.243635Z"
    }
   },
   "outputs": [
    {
     "data": {
      "text/plain": [
       "0"
      ]
     },
     "execution_count": 19,
     "metadata": {},
     "output_type": "execute_result"
    }
   ],
   "source": [
    "data.visitStartTime.isna().sum()"
   ]
  },
  {
   "cell_type": "markdown",
   "metadata": {},
   "source": [
    "### visitNumber"
   ]
  },
  {
   "cell_type": "code",
   "execution_count": 20,
   "metadata": {
    "ExecuteTime": {
     "end_time": "2018-10-15T06:28:34.284919Z",
     "start_time": "2018-10-15T06:28:34.267438Z"
    }
   },
   "outputs": [
    {
     "data": {
      "text/plain": [
       "array([  1,   2,   3,   5,  11,   4,  57,   6,  56,   7,  20,   8,  15,\n",
       "         9,  25,  24,  14,  89, 136,  13,  85,  10, 105,  22,  21,  48,\n",
       "        18,  26,  17,  83,  38,  84,  27,  42, 100,  31,  16,  30,  59,\n",
       "        50,  19,  51,  29, 160,  52,  12,  63,  23,  47,  49,  28,  34,\n",
       "       178,  88,  33, 317,  93, 140,  35,  41,  91,  92,  74, 309,  43,\n",
       "        61,  46,  45,  32, 108,  86, 195,  36, 236,  72, 162, 235,  90,\n",
       "        76,  77,  94,  96,  73,  78,  97,  87, 304, 106, 107, 389,  68,\n",
       "        98, 132,  58, 266, 267, 221,  39, 121, 143, 142, 174, 175, 189,\n",
       "       191,  55, 190, 104, 245, 204,  37,  82, 137, 206, 101,  62, 110,\n",
       "       156, 158, 157, 159, 138, 109, 194, 193, 147, 254,  71,  53, 144,\n",
       "       145, 146,  80, 253,  99, 134, 135, 102,  44, 130,  95,  75, 103,\n",
       "       315,  70,  69, 117, 163, 154, 153, 283,  65, 262, 263, 295, 297,\n",
       "       298, 219,  64, 296, 155, 141, 169, 170,  60, 207,  54, 187, 133,\n",
       "       118, 264,  67,  66, 126,  40, 122, 325, 326, 197, 167, 196, 188,\n",
       "       279, 185, 230, 161, 186, 278, 139, 234, 233, 168, 115, 114, 119,\n",
       "       150, 149, 148,  79, 306, 123, 131, 171, 124, 129, 258, 112, 218,\n",
       "       183, 199, 261, 259, 260, 200, 220, 152, 151, 111, 202, 203, 205,\n",
       "       173, 125, 198, 280, 281, 177, 182, 127, 120, 116,  81, 373, 113,\n",
       "       212, 213, 226, 225, 348, 224, 128, 176, 269, 250, 355, 370, 285,\n",
       "       369, 286, 287, 247, 248, 288, 308, 165, 166, 164, 362, 214, 346,\n",
       "       345, 215, 216, 179, 244, 184, 329, 243, 255, 257, 217, 256, 181,\n",
       "       192, 252, 251, 180, 359, 356, 358, 357, 277, 229, 223, 271, 273,\n",
       "       272, 172, 208, 292, 291, 265, 232, 228, 227, 341, 340, 339, 338,\n",
       "       209, 210, 211, 301, 299, 300, 303, 302, 307, 324, 238, 239, 222,\n",
       "       268, 270, 395, 231, 284, 363, 364, 328, 319, 320, 201, 322, 323,\n",
       "       375, 276, 241, 242, 289, 240, 388, 282, 274, 390, 391, 249, 275,\n",
       "       294, 293, 316, 246, 321, 354, 349, 350, 353, 352, 351, 347, 343,\n",
       "       342, 344, 383, 290, 385, 384, 374, 327, 318, 393, 335, 334, 333,\n",
       "       237, 371, 372, 312, 313, 314, 336, 337, 386, 310, 311, 394, 360,\n",
       "       361, 305, 376, 379, 378, 377, 387])"
      ]
     },
     "execution_count": 20,
     "metadata": {},
     "output_type": "execute_result"
    }
   ],
   "source": [
    "data.visitNumber.unique()"
   ]
  },
  {
   "cell_type": "code",
   "execution_count": 21,
   "metadata": {
    "ExecuteTime": {
     "end_time": "2018-10-15T06:28:34.309048Z",
     "start_time": "2018-10-15T06:28:34.287803Z"
    }
   },
   "outputs": [
    {
     "data": {
      "text/plain": [
       "0"
      ]
     },
     "execution_count": 21,
     "metadata": {},
     "output_type": "execute_result"
    }
   ],
   "source": [
    "data.visitNumber.isnull().sum()"
   ]
  },
  {
   "cell_type": "code",
   "execution_count": 22,
   "metadata": {
    "ExecuteTime": {
     "end_time": "2018-10-15T06:28:34.332391Z",
     "start_time": "2018-10-15T06:28:34.311731Z"
    }
   },
   "outputs": [
    {
     "data": {
      "text/plain": [
       "0"
      ]
     },
     "execution_count": 22,
     "metadata": {},
     "output_type": "execute_result"
    }
   ],
   "source": [
    "data.visitNumber.isna().sum()"
   ]
  },
  {
   "cell_type": "markdown",
   "metadata": {},
   "source": [
    "### totals"
   ]
  },
  {
   "cell_type": "code",
   "execution_count": 23,
   "metadata": {
    "ExecuteTime": {
     "end_time": "2018-10-15T06:28:40.750846Z",
     "start_time": "2018-10-15T06:28:34.335050Z"
    }
   },
   "outputs": [
    {
     "data": {
      "text/html": [
       "<div>\n",
       "<style scoped>\n",
       "    .dataframe tbody tr th:only-of-type {\n",
       "        vertical-align: middle;\n",
       "    }\n",
       "\n",
       "    .dataframe tbody tr th {\n",
       "        vertical-align: top;\n",
       "    }\n",
       "\n",
       "    .dataframe thead th {\n",
       "        text-align: right;\n",
       "    }\n",
       "</style>\n",
       "<table border=\"1\" class=\"dataframe\">\n",
       "  <thead>\n",
       "    <tr style=\"text-align: right;\">\n",
       "      <th></th>\n",
       "      <th>channelGrouping</th>\n",
       "      <th>date</th>\n",
       "      <th>device</th>\n",
       "      <th>fullVisitorId</th>\n",
       "      <th>geoNetwork</th>\n",
       "      <th>sessionId</th>\n",
       "      <th>totals</th>\n",
       "      <th>trafficSource</th>\n",
       "      <th>visitId</th>\n",
       "      <th>visitNumber</th>\n",
       "      <th>visitStartTime</th>\n",
       "      <th>transactionRevenue</th>\n",
       "    </tr>\n",
       "  </thead>\n",
       "  <tbody>\n",
       "    <tr>\n",
       "      <th>0</th>\n",
       "      <td>1</td>\n",
       "      <td>20160902</td>\n",
       "      <td>{\"browser\": \"Chrome\", \"browserVersion\": \"not a...</td>\n",
       "      <td>1131660440785968503</td>\n",
       "      <td>{\"continent\": \"Asia\", \"subContinent\": \"Western...</td>\n",
       "      <td>1131660440785968503_1472830385</td>\n",
       "      <td>{\"visits\": \"1\", \"hits\": \"1\", \"pageviews\": \"1\",...</td>\n",
       "      <td>{\"campaign\": \"(not set)\", \"source\": \"google\", ...</td>\n",
       "      <td>1472830385</td>\n",
       "      <td>1</td>\n",
       "      <td>1472830385</td>\n",
       "      <td>NaN</td>\n",
       "    </tr>\n",
       "    <tr>\n",
       "      <th>1</th>\n",
       "      <td>1</td>\n",
       "      <td>20160902</td>\n",
       "      <td>{\"browser\": \"Firefox\", \"browserVersion\": \"not ...</td>\n",
       "      <td>377306020877927890</td>\n",
       "      <td>{\"continent\": \"Oceania\", \"subContinent\": \"Aust...</td>\n",
       "      <td>377306020877927890_1472880147</td>\n",
       "      <td>{\"visits\": \"1\", \"hits\": \"1\", \"pageviews\": \"1\",...</td>\n",
       "      <td>{\"campaign\": \"(not set)\", \"source\": \"google\", ...</td>\n",
       "      <td>1472880147</td>\n",
       "      <td>1</td>\n",
       "      <td>1472880147</td>\n",
       "      <td>NaN</td>\n",
       "    </tr>\n",
       "  </tbody>\n",
       "</table>\n",
       "</div>"
      ],
      "text/plain": [
       "  channelGrouping      date  \\\n",
       "0               1  20160902   \n",
       "1               1  20160902   \n",
       "\n",
       "                                              device        fullVisitorId  \\\n",
       "0  {\"browser\": \"Chrome\", \"browserVersion\": \"not a...  1131660440785968503   \n",
       "1  {\"browser\": \"Firefox\", \"browserVersion\": \"not ...   377306020877927890   \n",
       "\n",
       "                                          geoNetwork  \\\n",
       "0  {\"continent\": \"Asia\", \"subContinent\": \"Western...   \n",
       "1  {\"continent\": \"Oceania\", \"subContinent\": \"Aust...   \n",
       "\n",
       "                        sessionId  \\\n",
       "0  1131660440785968503_1472830385   \n",
       "1   377306020877927890_1472880147   \n",
       "\n",
       "                                              totals  \\\n",
       "0  {\"visits\": \"1\", \"hits\": \"1\", \"pageviews\": \"1\",...   \n",
       "1  {\"visits\": \"1\", \"hits\": \"1\", \"pageviews\": \"1\",...   \n",
       "\n",
       "                                       trafficSource     visitId  visitNumber  \\\n",
       "0  {\"campaign\": \"(not set)\", \"source\": \"google\", ...  1472830385            1   \n",
       "1  {\"campaign\": \"(not set)\", \"source\": \"google\", ...  1472880147            1   \n",
       "\n",
       "   visitStartTime transactionRevenue  \n",
       "0      1472830385                NaN  \n",
       "1      1472880147                NaN  "
      ]
     },
     "execution_count": 23,
     "metadata": {},
     "output_type": "execute_result"
    }
   ],
   "source": [
    "data[\"transactionRevenue\"] = pd.DataFrame(data.totals.apply(json.loads).tolist())[[\"transactionRevenue\"]]\n",
    "data.head(2)"
   ]
  },
  {
   "cell_type": "code",
   "execution_count": 24,
   "metadata": {
    "ExecuteTime": {
     "end_time": "2018-10-15T06:28:40.759055Z",
     "start_time": "2018-10-15T06:28:40.753372Z"
    }
   },
   "outputs": [
    {
     "data": {
      "text/plain": [
       "(903653, 12)"
      ]
     },
     "execution_count": 24,
     "metadata": {},
     "output_type": "execute_result"
    }
   ],
   "source": [
    "data.shape"
   ]
  },
  {
   "cell_type": "code",
   "execution_count": 25,
   "metadata": {
    "ExecuteTime": {
     "end_time": "2018-10-15T06:28:41.354955Z",
     "start_time": "2018-10-15T06:28:40.761364Z"
    }
   },
   "outputs": [],
   "source": [
    "data = data.dropna(subset=[\"transactionRevenue\"])"
   ]
  },
  {
   "cell_type": "code",
   "execution_count": 26,
   "metadata": {
    "ExecuteTime": {
     "end_time": "2018-10-15T06:28:41.363473Z",
     "start_time": "2018-10-15T06:28:41.357551Z"
    }
   },
   "outputs": [
    {
     "data": {
      "text/plain": [
       "(11515, 12)"
      ]
     },
     "execution_count": 26,
     "metadata": {},
     "output_type": "execute_result"
    }
   ],
   "source": [
    "data.shape"
   ]
  },
  {
   "cell_type": "code",
   "execution_count": 27,
   "metadata": {
    "ExecuteTime": {
     "end_time": "2018-10-15T06:28:41.387937Z",
     "start_time": "2018-10-15T06:28:41.366294Z"
    }
   },
   "outputs": [
    {
     "data": {
      "text/html": [
       "<div>\n",
       "<style scoped>\n",
       "    .dataframe tbody tr th:only-of-type {\n",
       "        vertical-align: middle;\n",
       "    }\n",
       "\n",
       "    .dataframe tbody tr th {\n",
       "        vertical-align: top;\n",
       "    }\n",
       "\n",
       "    .dataframe thead th {\n",
       "        text-align: right;\n",
       "    }\n",
       "</style>\n",
       "<table border=\"1\" class=\"dataframe\">\n",
       "  <thead>\n",
       "    <tr style=\"text-align: right;\">\n",
       "      <th></th>\n",
       "      <th>channelGrouping</th>\n",
       "      <th>date</th>\n",
       "      <th>device</th>\n",
       "      <th>fullVisitorId</th>\n",
       "      <th>geoNetwork</th>\n",
       "      <th>sessionId</th>\n",
       "      <th>totals</th>\n",
       "      <th>trafficSource</th>\n",
       "      <th>visitId</th>\n",
       "      <th>visitNumber</th>\n",
       "      <th>visitStartTime</th>\n",
       "      <th>transactionRevenue</th>\n",
       "    </tr>\n",
       "  </thead>\n",
       "  <tbody>\n",
       "    <tr>\n",
       "      <th>752</th>\n",
       "      <td>5</td>\n",
       "      <td>20160902</td>\n",
       "      <td>{\"browser\": \"Chrome\", \"browserVersion\": \"not a...</td>\n",
       "      <td>6194193421514403509</td>\n",
       "      <td>{\"continent\": \"Americas\", \"subContinent\": \"Nor...</td>\n",
       "      <td>6194193421514403509_1472843572</td>\n",
       "      <td>{\"visits\": \"1\", \"hits\": \"11\", \"pageviews\": \"11...</td>\n",
       "      <td>{\"campaign\": \"(not set)\", \"source\": \"(direct)\"...</td>\n",
       "      <td>1472843572</td>\n",
       "      <td>1</td>\n",
       "      <td>1472843572</td>\n",
       "      <td>37860000</td>\n",
       "    </tr>\n",
       "    <tr>\n",
       "      <th>753</th>\n",
       "      <td>1</td>\n",
       "      <td>20160902</td>\n",
       "      <td>{\"browser\": \"Chrome\", \"browserVersion\": \"not a...</td>\n",
       "      <td>5327166854580374902</td>\n",
       "      <td>{\"continent\": \"Americas\", \"subContinent\": \"Nor...</td>\n",
       "      <td>5327166854580374902_1472844906</td>\n",
       "      <td>{\"visits\": \"1\", \"hits\": \"11\", \"pageviews\": \"10...</td>\n",
       "      <td>{\"campaign\": \"(not set)\", \"source\": \"google\", ...</td>\n",
       "      <td>1472844906</td>\n",
       "      <td>3</td>\n",
       "      <td>1472844906</td>\n",
       "      <td>306670000</td>\n",
       "    </tr>\n",
       "  </tbody>\n",
       "</table>\n",
       "</div>"
      ],
      "text/plain": [
       "    channelGrouping      date  \\\n",
       "752               5  20160902   \n",
       "753               1  20160902   \n",
       "\n",
       "                                                device        fullVisitorId  \\\n",
       "752  {\"browser\": \"Chrome\", \"browserVersion\": \"not a...  6194193421514403509   \n",
       "753  {\"browser\": \"Chrome\", \"browserVersion\": \"not a...  5327166854580374902   \n",
       "\n",
       "                                            geoNetwork  \\\n",
       "752  {\"continent\": \"Americas\", \"subContinent\": \"Nor...   \n",
       "753  {\"continent\": \"Americas\", \"subContinent\": \"Nor...   \n",
       "\n",
       "                          sessionId  \\\n",
       "752  6194193421514403509_1472843572   \n",
       "753  5327166854580374902_1472844906   \n",
       "\n",
       "                                                totals  \\\n",
       "752  {\"visits\": \"1\", \"hits\": \"11\", \"pageviews\": \"11...   \n",
       "753  {\"visits\": \"1\", \"hits\": \"11\", \"pageviews\": \"10...   \n",
       "\n",
       "                                         trafficSource     visitId  \\\n",
       "752  {\"campaign\": \"(not set)\", \"source\": \"(direct)\"...  1472843572   \n",
       "753  {\"campaign\": \"(not set)\", \"source\": \"google\", ...  1472844906   \n",
       "\n",
       "     visitNumber  visitStartTime transactionRevenue  \n",
       "752            1      1472843572           37860000  \n",
       "753            3      1472844906          306670000  "
      ]
     },
     "execution_count": 27,
     "metadata": {},
     "output_type": "execute_result"
    }
   ],
   "source": [
    "data.head(2)"
   ]
  },
  {
   "cell_type": "code",
   "execution_count": 28,
   "metadata": {
    "ExecuteTime": {
     "end_time": "2018-10-15T06:28:41.572225Z",
     "start_time": "2018-10-15T06:28:41.390991Z"
    }
   },
   "outputs": [],
   "source": [
    "device_json_dump = data.device.apply(json.loads)"
   ]
  },
  {
   "cell_type": "code",
   "execution_count": 29,
   "metadata": {
    "ExecuteTime": {
     "end_time": "2018-10-15T06:28:41.579137Z",
     "start_time": "2018-10-15T06:28:41.573879Z"
    }
   },
   "outputs": [
    {
     "data": {
      "text/plain": [
       "pandas.core.series.Series"
      ]
     },
     "execution_count": 29,
     "metadata": {},
     "output_type": "execute_result"
    }
   ],
   "source": [
    "type(device_json_dump)"
   ]
  },
  {
   "cell_type": "code",
   "execution_count": 30,
   "metadata": {
    "ExecuteTime": {
     "end_time": "2018-10-15T06:28:41.588973Z",
     "start_time": "2018-10-15T06:28:41.581710Z"
    }
   },
   "outputs": [
    {
     "data": {
      "text/plain": [
       "{'browser': 'Chrome',\n",
       " 'browserVersion': 'not available in demo dataset',\n",
       " 'browserSize': 'not available in demo dataset',\n",
       " 'operatingSystem': 'Linux',\n",
       " 'operatingSystemVersion': 'not available in demo dataset',\n",
       " 'isMobile': False,\n",
       " 'mobileDeviceBranding': 'not available in demo dataset',\n",
       " 'mobileDeviceModel': 'not available in demo dataset',\n",
       " 'mobileInputSelector': 'not available in demo dataset',\n",
       " 'mobileDeviceInfo': 'not available in demo dataset',\n",
       " 'mobileDeviceMarketingName': 'not available in demo dataset',\n",
       " 'flashVersion': 'not available in demo dataset',\n",
       " 'language': 'not available in demo dataset',\n",
       " 'screenColors': 'not available in demo dataset',\n",
       " 'screenResolution': 'not available in demo dataset',\n",
       " 'deviceCategory': 'desktop'}"
      ]
     },
     "execution_count": 30,
     "metadata": {},
     "output_type": "execute_result"
    }
   ],
   "source": [
    "device_json_dump.iloc[0]"
   ]
  },
  {
   "cell_type": "markdown",
   "metadata": {},
   "source": [
    "Based on domain knowledge, this factor will not affect the revenue of the customer."
   ]
  },
  {
   "cell_type": "code",
   "execution_count": 31,
   "metadata": {
    "ExecuteTime": {
     "end_time": "2018-10-15T06:28:41.597800Z",
     "start_time": "2018-10-15T06:28:41.591753Z"
    }
   },
   "outputs": [
    {
     "data": {
      "text/plain": [
       "Index(['channelGrouping', 'date', 'device', 'fullVisitorId', 'geoNetwork',\n",
       "       'sessionId', 'totals', 'trafficSource', 'visitId', 'visitNumber',\n",
       "       'visitStartTime', 'transactionRevenue'],\n",
       "      dtype='object')"
      ]
     },
     "execution_count": 31,
     "metadata": {},
     "output_type": "execute_result"
    }
   ],
   "source": [
    "data.columns"
   ]
  },
  {
   "cell_type": "markdown",
   "metadata": {},
   "source": [
    "### geoNetwork"
   ]
  },
  {
   "cell_type": "code",
   "execution_count": 32,
   "metadata": {
    "ExecuteTime": {
     "end_time": "2018-10-15T06:28:41.719446Z",
     "start_time": "2018-10-15T06:28:41.600817Z"
    }
   },
   "outputs": [
    {
     "data": {
      "text/plain": [
       "752    {'continent': 'Americas', 'subContinent': 'Nor...\n",
       "753    {'continent': 'Americas', 'subContinent': 'Nor...\n",
       "799    {'continent': 'Americas', 'subContinent': 'Nor...\n",
       "Name: geoNetwork, dtype: object"
      ]
     },
     "execution_count": 32,
     "metadata": {},
     "output_type": "execute_result"
    }
   ],
   "source": [
    "data.geoNetwork.apply(json.loads).iloc[:3]"
   ]
  },
  {
   "cell_type": "code",
   "execution_count": 33,
   "metadata": {
    "ExecuteTime": {
     "end_time": "2018-10-15T06:28:42.166544Z",
     "start_time": "2018-10-15T06:28:41.721456Z"
    }
   },
   "outputs": [],
   "source": [
    "data[\"country\"] = data.geoNetwork.apply(json.loads).apply(lambda x: x[\"country\"])\n",
    "data[\"continent\"] = data.geoNetwork.apply(json.loads).apply(lambda x: x[\"continent\"])\n",
    "data[\"region\"] = data.geoNetwork.apply(json.loads).apply(lambda x: x[\"region\"])"
   ]
  },
  {
   "cell_type": "code",
   "execution_count": 34,
   "metadata": {
    "ExecuteTime": {
     "end_time": "2018-10-15T06:28:42.209456Z",
     "start_time": "2018-10-15T06:28:42.169032Z"
    }
   },
   "outputs": [
    {
     "name": "stdout",
     "output_type": "stream",
     "text": [
      "isnull: country    0\n",
      "dtype: int64\n",
      "isna: country    0\n",
      "dtype: int64\n",
      "isnull: region    0\n",
      "dtype: int64\n",
      "isna: region    0\n",
      "dtype: int64\n",
      "isnull: continent    0\n",
      "dtype: int64\n",
      "isna: continent    0\n",
      "dtype: int64\n"
     ]
    }
   ],
   "source": [
    "for x in [\"country\", \"region\", \"continent\"]:\n",
    "    print(\"isnull:\", data[[x]].isnull().sum())\n",
    "    print(\"isna:\", data[[x]].isna().sum())"
   ]
  },
  {
   "cell_type": "code",
   "execution_count": 35,
   "metadata": {
    "ExecuteTime": {
     "end_time": "2018-10-15T06:28:42.218103Z",
     "start_time": "2018-10-15T06:28:42.211617Z"
    }
   },
   "outputs": [],
   "source": [
    "region_labels = list(data.region.unique())\n",
    "region_map = dict()\n",
    "i = 1\n",
    "for reg in region_labels:\n",
    "    region_map[reg] = i\n",
    "    i += 1"
   ]
  },
  {
   "cell_type": "code",
   "execution_count": 36,
   "metadata": {
    "ExecuteTime": {
     "end_time": "2018-10-15T06:28:42.227018Z",
     "start_time": "2018-10-15T06:28:42.220340Z"
    }
   },
   "outputs": [],
   "source": [
    "country_labels = list(data.country.unique())\n",
    "country_map = dict()\n",
    "i = 1\n",
    "for cn in country_labels:\n",
    "    country_map[cn] = i\n",
    "    i += 1"
   ]
  },
  {
   "cell_type": "code",
   "execution_count": 37,
   "metadata": {
    "ExecuteTime": {
     "end_time": "2018-10-15T06:28:42.235531Z",
     "start_time": "2018-10-15T06:28:42.229538Z"
    }
   },
   "outputs": [],
   "source": [
    "continent_labels = list(data.continent.unique())\n",
    "continent_map = dict()\n",
    "i = 1\n",
    "for cn in continent_labels:\n",
    "    continent_map[cn] = i\n",
    "    i += 1"
   ]
  },
  {
   "cell_type": "code",
   "execution_count": 38,
   "metadata": {
    "ExecuteTime": {
     "end_time": "2018-10-15T06:28:42.464142Z",
     "start_time": "2018-10-15T06:28:42.238120Z"
    }
   },
   "outputs": [],
   "source": [
    "data.continent = data.continent.replace(continent_map)\n",
    "data.country = data.country.replace(country_map)\n",
    "data.region = data.region.replace(region_map)"
   ]
  },
  {
   "cell_type": "code",
   "execution_count": 39,
   "metadata": {
    "ExecuteTime": {
     "end_time": "2018-10-15T06:28:42.475212Z",
     "start_time": "2018-10-15T06:28:42.466695Z"
    }
   },
   "outputs": [],
   "source": [
    "data.continent = data.continent.astype(\"category\")\n",
    "data.country = data.country.astype(\"category\")\n",
    "data.region = data.region.astype(\"category\")"
   ]
  },
  {
   "cell_type": "code",
   "execution_count": 40,
   "metadata": {
    "ExecuteTime": {
     "end_time": "2018-10-15T06:28:42.495323Z",
     "start_time": "2018-10-15T06:28:42.477394Z"
    }
   },
   "outputs": [
    {
     "data": {
      "text/html": [
       "<div>\n",
       "<style scoped>\n",
       "    .dataframe tbody tr th:only-of-type {\n",
       "        vertical-align: middle;\n",
       "    }\n",
       "\n",
       "    .dataframe tbody tr th {\n",
       "        vertical-align: top;\n",
       "    }\n",
       "\n",
       "    .dataframe thead th {\n",
       "        text-align: right;\n",
       "    }\n",
       "</style>\n",
       "<table border=\"1\" class=\"dataframe\">\n",
       "  <thead>\n",
       "    <tr style=\"text-align: right;\">\n",
       "      <th></th>\n",
       "      <th>channelGrouping</th>\n",
       "      <th>date</th>\n",
       "      <th>device</th>\n",
       "      <th>fullVisitorId</th>\n",
       "      <th>geoNetwork</th>\n",
       "      <th>sessionId</th>\n",
       "      <th>totals</th>\n",
       "      <th>trafficSource</th>\n",
       "      <th>visitId</th>\n",
       "      <th>visitNumber</th>\n",
       "      <th>visitStartTime</th>\n",
       "      <th>transactionRevenue</th>\n",
       "      <th>country</th>\n",
       "      <th>continent</th>\n",
       "      <th>region</th>\n",
       "    </tr>\n",
       "  </thead>\n",
       "  <tbody>\n",
       "    <tr>\n",
       "      <th>752</th>\n",
       "      <td>5</td>\n",
       "      <td>20160902</td>\n",
       "      <td>{\"browser\": \"Chrome\", \"browserVersion\": \"not a...</td>\n",
       "      <td>6194193421514403509</td>\n",
       "      <td>{\"continent\": \"Americas\", \"subContinent\": \"Nor...</td>\n",
       "      <td>6194193421514403509_1472843572</td>\n",
       "      <td>{\"visits\": \"1\", \"hits\": \"11\", \"pageviews\": \"11...</td>\n",
       "      <td>{\"campaign\": \"(not set)\", \"source\": \"(direct)\"...</td>\n",
       "      <td>1472843572</td>\n",
       "      <td>1</td>\n",
       "      <td>1472843572</td>\n",
       "      <td>37860000</td>\n",
       "      <td>1</td>\n",
       "      <td>1</td>\n",
       "      <td>1</td>\n",
       "    </tr>\n",
       "    <tr>\n",
       "      <th>753</th>\n",
       "      <td>1</td>\n",
       "      <td>20160902</td>\n",
       "      <td>{\"browser\": \"Chrome\", \"browserVersion\": \"not a...</td>\n",
       "      <td>5327166854580374902</td>\n",
       "      <td>{\"continent\": \"Americas\", \"subContinent\": \"Nor...</td>\n",
       "      <td>5327166854580374902_1472844906</td>\n",
       "      <td>{\"visits\": \"1\", \"hits\": \"11\", \"pageviews\": \"10...</td>\n",
       "      <td>{\"campaign\": \"(not set)\", \"source\": \"google\", ...</td>\n",
       "      <td>1472844906</td>\n",
       "      <td>3</td>\n",
       "      <td>1472844906</td>\n",
       "      <td>306670000</td>\n",
       "      <td>1</td>\n",
       "      <td>1</td>\n",
       "      <td>2</td>\n",
       "    </tr>\n",
       "    <tr>\n",
       "      <th>799</th>\n",
       "      <td>2</td>\n",
       "      <td>20160902</td>\n",
       "      <td>{\"browser\": \"Chrome\", \"browserVersion\": \"not a...</td>\n",
       "      <td>8885051388942907862</td>\n",
       "      <td>{\"continent\": \"Americas\", \"subContinent\": \"Nor...</td>\n",
       "      <td>8885051388942907862_1472827393</td>\n",
       "      <td>{\"visits\": \"1\", \"hits\": \"13\", \"pageviews\": \"11...</td>\n",
       "      <td>{\"referralPath\": \"/\", \"campaign\": \"(not set)\",...</td>\n",
       "      <td>1472827393</td>\n",
       "      <td>7</td>\n",
       "      <td>1472827393</td>\n",
       "      <td>68030000</td>\n",
       "      <td>1</td>\n",
       "      <td>1</td>\n",
       "      <td>2</td>\n",
       "    </tr>\n",
       "  </tbody>\n",
       "</table>\n",
       "</div>"
      ],
      "text/plain": [
       "    channelGrouping      date  \\\n",
       "752               5  20160902   \n",
       "753               1  20160902   \n",
       "799               2  20160902   \n",
       "\n",
       "                                                device        fullVisitorId  \\\n",
       "752  {\"browser\": \"Chrome\", \"browserVersion\": \"not a...  6194193421514403509   \n",
       "753  {\"browser\": \"Chrome\", \"browserVersion\": \"not a...  5327166854580374902   \n",
       "799  {\"browser\": \"Chrome\", \"browserVersion\": \"not a...  8885051388942907862   \n",
       "\n",
       "                                            geoNetwork  \\\n",
       "752  {\"continent\": \"Americas\", \"subContinent\": \"Nor...   \n",
       "753  {\"continent\": \"Americas\", \"subContinent\": \"Nor...   \n",
       "799  {\"continent\": \"Americas\", \"subContinent\": \"Nor...   \n",
       "\n",
       "                          sessionId  \\\n",
       "752  6194193421514403509_1472843572   \n",
       "753  5327166854580374902_1472844906   \n",
       "799  8885051388942907862_1472827393   \n",
       "\n",
       "                                                totals  \\\n",
       "752  {\"visits\": \"1\", \"hits\": \"11\", \"pageviews\": \"11...   \n",
       "753  {\"visits\": \"1\", \"hits\": \"11\", \"pageviews\": \"10...   \n",
       "799  {\"visits\": \"1\", \"hits\": \"13\", \"pageviews\": \"11...   \n",
       "\n",
       "                                         trafficSource     visitId  \\\n",
       "752  {\"campaign\": \"(not set)\", \"source\": \"(direct)\"...  1472843572   \n",
       "753  {\"campaign\": \"(not set)\", \"source\": \"google\", ...  1472844906   \n",
       "799  {\"referralPath\": \"/\", \"campaign\": \"(not set)\",...  1472827393   \n",
       "\n",
       "     visitNumber  visitStartTime transactionRevenue country continent region  \n",
       "752            1      1472843572           37860000       1         1      1  \n",
       "753            3      1472844906          306670000       1         1      2  \n",
       "799            7      1472827393           68030000       1         1      2  "
      ]
     },
     "execution_count": 40,
     "metadata": {},
     "output_type": "execute_result"
    }
   ],
   "source": [
    "data.head(3)"
   ]
  },
  {
   "cell_type": "markdown",
   "metadata": {},
   "source": [
    "### tarrifSource"
   ]
  },
  {
   "cell_type": "code",
   "execution_count": 41,
   "metadata": {
    "ExecuteTime": {
     "end_time": "2018-10-15T06:28:42.588885Z",
     "start_time": "2018-10-15T06:28:42.498468Z"
    }
   },
   "outputs": [
    {
     "data": {
      "text/plain": [
       "752    {'campaign': '(not set)', 'source': '(direct)'...\n",
       "753    {'campaign': '(not set)', 'source': 'google', ...\n",
       "799    {'referralPath': '/', 'campaign': '(not set)',...\n",
       "802    {'referralPath': '/', 'campaign': '(not set)',...\n",
       "859    {'referralPath': '/', 'campaign': '(not set)',...\n",
       "866    {'referralPath': '/', 'campaign': '(not set)',...\n",
       "893    {'campaign': '(not set)', 'source': '(direct)'...\n",
       "910    {'referralPath': '/', 'campaign': '(not set)',...\n",
       "922    {'campaign': '(not set)', 'source': 'google', ...\n",
       "925    {'referralPath': '/a/google.com/google-merchan...\n",
       "Name: trafficSource, dtype: object"
      ]
     },
     "execution_count": 41,
     "metadata": {},
     "output_type": "execute_result"
    }
   ],
   "source": [
    "data.trafficSource.apply(json.loads).iloc[:10]"
   ]
  },
  {
   "cell_type": "code",
   "execution_count": 42,
   "metadata": {
    "ExecuteTime": {
     "end_time": "2018-10-15T06:28:42.721092Z",
     "start_time": "2018-10-15T06:28:42.592102Z"
    }
   },
   "outputs": [
    {
     "data": {
      "text/html": [
       "<div>\n",
       "<style scoped>\n",
       "    .dataframe tbody tr th:only-of-type {\n",
       "        vertical-align: middle;\n",
       "    }\n",
       "\n",
       "    .dataframe tbody tr th {\n",
       "        vertical-align: top;\n",
       "    }\n",
       "\n",
       "    .dataframe thead th {\n",
       "        text-align: right;\n",
       "    }\n",
       "</style>\n",
       "<table border=\"1\" class=\"dataframe\">\n",
       "  <thead>\n",
       "    <tr style=\"text-align: right;\">\n",
       "      <th></th>\n",
       "      <th>channelGrouping</th>\n",
       "      <th>date</th>\n",
       "      <th>device</th>\n",
       "      <th>fullVisitorId</th>\n",
       "      <th>geoNetwork</th>\n",
       "      <th>sessionId</th>\n",
       "      <th>totals</th>\n",
       "      <th>trafficSource</th>\n",
       "      <th>visitId</th>\n",
       "      <th>visitNumber</th>\n",
       "      <th>visitStartTime</th>\n",
       "      <th>transactionRevenue</th>\n",
       "      <th>country</th>\n",
       "      <th>continent</th>\n",
       "      <th>region</th>\n",
       "      <th>source</th>\n",
       "    </tr>\n",
       "  </thead>\n",
       "  <tbody>\n",
       "    <tr>\n",
       "      <th>752</th>\n",
       "      <td>5</td>\n",
       "      <td>20160902</td>\n",
       "      <td>{\"browser\": \"Chrome\", \"browserVersion\": \"not a...</td>\n",
       "      <td>6194193421514403509</td>\n",
       "      <td>{\"continent\": \"Americas\", \"subContinent\": \"Nor...</td>\n",
       "      <td>6194193421514403509_1472843572</td>\n",
       "      <td>{\"visits\": \"1\", \"hits\": \"11\", \"pageviews\": \"11...</td>\n",
       "      <td>{\"campaign\": \"(not set)\", \"source\": \"(direct)\"...</td>\n",
       "      <td>1472843572</td>\n",
       "      <td>1</td>\n",
       "      <td>1472843572</td>\n",
       "      <td>37860000</td>\n",
       "      <td>1</td>\n",
       "      <td>1</td>\n",
       "      <td>1</td>\n",
       "      <td>direct</td>\n",
       "    </tr>\n",
       "    <tr>\n",
       "      <th>753</th>\n",
       "      <td>1</td>\n",
       "      <td>20160902</td>\n",
       "      <td>{\"browser\": \"Chrome\", \"browserVersion\": \"not a...</td>\n",
       "      <td>5327166854580374902</td>\n",
       "      <td>{\"continent\": \"Americas\", \"subContinent\": \"Nor...</td>\n",
       "      <td>5327166854580374902_1472844906</td>\n",
       "      <td>{\"visits\": \"1\", \"hits\": \"11\", \"pageviews\": \"10...</td>\n",
       "      <td>{\"campaign\": \"(not set)\", \"source\": \"google\", ...</td>\n",
       "      <td>1472844906</td>\n",
       "      <td>3</td>\n",
       "      <td>1472844906</td>\n",
       "      <td>306670000</td>\n",
       "      <td>1</td>\n",
       "      <td>1</td>\n",
       "      <td>2</td>\n",
       "      <td>google</td>\n",
       "    </tr>\n",
       "    <tr>\n",
       "      <th>799</th>\n",
       "      <td>2</td>\n",
       "      <td>20160902</td>\n",
       "      <td>{\"browser\": \"Chrome\", \"browserVersion\": \"not a...</td>\n",
       "      <td>8885051388942907862</td>\n",
       "      <td>{\"continent\": \"Americas\", \"subContinent\": \"Nor...</td>\n",
       "      <td>8885051388942907862_1472827393</td>\n",
       "      <td>{\"visits\": \"1\", \"hits\": \"13\", \"pageviews\": \"11...</td>\n",
       "      <td>{\"referralPath\": \"/\", \"campaign\": \"(not set)\",...</td>\n",
       "      <td>1472827393</td>\n",
       "      <td>7</td>\n",
       "      <td>1472827393</td>\n",
       "      <td>68030000</td>\n",
       "      <td>1</td>\n",
       "      <td>1</td>\n",
       "      <td>2</td>\n",
       "      <td>mall.googleplex.com</td>\n",
       "    </tr>\n",
       "  </tbody>\n",
       "</table>\n",
       "</div>"
      ],
      "text/plain": [
       "    channelGrouping      date  \\\n",
       "752               5  20160902   \n",
       "753               1  20160902   \n",
       "799               2  20160902   \n",
       "\n",
       "                                                device        fullVisitorId  \\\n",
       "752  {\"browser\": \"Chrome\", \"browserVersion\": \"not a...  6194193421514403509   \n",
       "753  {\"browser\": \"Chrome\", \"browserVersion\": \"not a...  5327166854580374902   \n",
       "799  {\"browser\": \"Chrome\", \"browserVersion\": \"not a...  8885051388942907862   \n",
       "\n",
       "                                            geoNetwork  \\\n",
       "752  {\"continent\": \"Americas\", \"subContinent\": \"Nor...   \n",
       "753  {\"continent\": \"Americas\", \"subContinent\": \"Nor...   \n",
       "799  {\"continent\": \"Americas\", \"subContinent\": \"Nor...   \n",
       "\n",
       "                          sessionId  \\\n",
       "752  6194193421514403509_1472843572   \n",
       "753  5327166854580374902_1472844906   \n",
       "799  8885051388942907862_1472827393   \n",
       "\n",
       "                                                totals  \\\n",
       "752  {\"visits\": \"1\", \"hits\": \"11\", \"pageviews\": \"11...   \n",
       "753  {\"visits\": \"1\", \"hits\": \"11\", \"pageviews\": \"10...   \n",
       "799  {\"visits\": \"1\", \"hits\": \"13\", \"pageviews\": \"11...   \n",
       "\n",
       "                                         trafficSource     visitId  \\\n",
       "752  {\"campaign\": \"(not set)\", \"source\": \"(direct)\"...  1472843572   \n",
       "753  {\"campaign\": \"(not set)\", \"source\": \"google\", ...  1472844906   \n",
       "799  {\"referralPath\": \"/\", \"campaign\": \"(not set)\",...  1472827393   \n",
       "\n",
       "     visitNumber  visitStartTime transactionRevenue country continent region  \\\n",
       "752            1      1472843572           37860000       1         1      1   \n",
       "753            3      1472844906          306670000       1         1      2   \n",
       "799            7      1472827393           68030000       1         1      2   \n",
       "\n",
       "                  source  \n",
       "752               direct  \n",
       "753               google  \n",
       "799  mall.googleplex.com  "
      ]
     },
     "execution_count": 42,
     "metadata": {},
     "output_type": "execute_result"
    }
   ],
   "source": [
    "data[\"source\"] = data.trafficSource.apply(json.loads).apply(lambda x: x[\"source\"].strip(\"[.,()!?']\"))\n",
    "data.head(3)"
   ]
  },
  {
   "cell_type": "code",
   "execution_count": 43,
   "metadata": {
    "ExecuteTime": {
     "end_time": "2018-10-15T06:28:42.727252Z",
     "start_time": "2018-10-15T06:28:42.723743Z"
    }
   },
   "outputs": [],
   "source": [
    "# remove duplicate columns\n",
    "filter_columns = [\"device\", \"geoNetwork\", \"totals\", \"trafficSource\"]"
   ]
  },
  {
   "cell_type": "code",
   "execution_count": 44,
   "metadata": {
    "ExecuteTime": {
     "end_time": "2018-10-15T06:28:42.749634Z",
     "start_time": "2018-10-15T06:28:42.729891Z"
    }
   },
   "outputs": [
    {
     "data": {
      "text/plain": [
       "Index(['channelGrouping', 'date', 'fullVisitorId', 'sessionId', 'visitId',\n",
       "       'visitNumber', 'visitStartTime', 'transactionRevenue', 'country',\n",
       "       'continent', 'region', 'source'],\n",
       "      dtype='object')"
      ]
     },
     "execution_count": 44,
     "metadata": {},
     "output_type": "execute_result"
    }
   ],
   "source": [
    "data = data[[col for col in data.columns if col not in filter_columns]]\n",
    "data.columns"
   ]
  },
  {
   "cell_type": "code",
   "execution_count": 45,
   "metadata": {
    "ExecuteTime": {
     "end_time": "2018-10-15T06:28:42.784935Z",
     "start_time": "2018-10-15T06:28:42.759729Z"
    }
   },
   "outputs": [
    {
     "data": {
      "text/html": [
       "<div>\n",
       "<style scoped>\n",
       "    .dataframe tbody tr th:only-of-type {\n",
       "        vertical-align: middle;\n",
       "    }\n",
       "\n",
       "    .dataframe tbody tr th {\n",
       "        vertical-align: top;\n",
       "    }\n",
       "\n",
       "    .dataframe thead th {\n",
       "        text-align: right;\n",
       "    }\n",
       "</style>\n",
       "<table border=\"1\" class=\"dataframe\">\n",
       "  <thead>\n",
       "    <tr style=\"text-align: right;\">\n",
       "      <th></th>\n",
       "      <th>channelGrouping</th>\n",
       "      <th>date</th>\n",
       "      <th>fullVisitorId</th>\n",
       "      <th>sessionId</th>\n",
       "      <th>visitId</th>\n",
       "      <th>visitNumber</th>\n",
       "      <th>visitStartTime</th>\n",
       "      <th>transactionRevenue</th>\n",
       "      <th>country</th>\n",
       "      <th>continent</th>\n",
       "      <th>region</th>\n",
       "      <th>source</th>\n",
       "    </tr>\n",
       "  </thead>\n",
       "  <tbody>\n",
       "    <tr>\n",
       "      <th>752</th>\n",
       "      <td>5</td>\n",
       "      <td>20160902</td>\n",
       "      <td>6194193421514403509</td>\n",
       "      <td>6194193421514403509_1472843572</td>\n",
       "      <td>1472843572</td>\n",
       "      <td>1</td>\n",
       "      <td>1472843572</td>\n",
       "      <td>37860000</td>\n",
       "      <td>1</td>\n",
       "      <td>1</td>\n",
       "      <td>1</td>\n",
       "      <td>direct</td>\n",
       "    </tr>\n",
       "    <tr>\n",
       "      <th>753</th>\n",
       "      <td>1</td>\n",
       "      <td>20160902</td>\n",
       "      <td>5327166854580374902</td>\n",
       "      <td>5327166854580374902_1472844906</td>\n",
       "      <td>1472844906</td>\n",
       "      <td>3</td>\n",
       "      <td>1472844906</td>\n",
       "      <td>306670000</td>\n",
       "      <td>1</td>\n",
       "      <td>1</td>\n",
       "      <td>2</td>\n",
       "      <td>google</td>\n",
       "    </tr>\n",
       "    <tr>\n",
       "      <th>799</th>\n",
       "      <td>2</td>\n",
       "      <td>20160902</td>\n",
       "      <td>8885051388942907862</td>\n",
       "      <td>8885051388942907862_1472827393</td>\n",
       "      <td>1472827393</td>\n",
       "      <td>7</td>\n",
       "      <td>1472827393</td>\n",
       "      <td>68030000</td>\n",
       "      <td>1</td>\n",
       "      <td>1</td>\n",
       "      <td>2</td>\n",
       "      <td>mall.googleplex.com</td>\n",
       "    </tr>\n",
       "    <tr>\n",
       "      <th>802</th>\n",
       "      <td>2</td>\n",
       "      <td>20160902</td>\n",
       "      <td>0185467632009737931</td>\n",
       "      <td>0185467632009737931_1472846398</td>\n",
       "      <td>1472846398</td>\n",
       "      <td>6</td>\n",
       "      <td>1472846398</td>\n",
       "      <td>26250000</td>\n",
       "      <td>1</td>\n",
       "      <td>1</td>\n",
       "      <td>3</td>\n",
       "      <td>mall.googleplex.com</td>\n",
       "    </tr>\n",
       "    <tr>\n",
       "      <th>859</th>\n",
       "      <td>2</td>\n",
       "      <td>20160902</td>\n",
       "      <td>3244885836845029978</td>\n",
       "      <td>3244885836845029978_1472824817</td>\n",
       "      <td>1472824817</td>\n",
       "      <td>4</td>\n",
       "      <td>1472824817</td>\n",
       "      <td>574150000</td>\n",
       "      <td>1</td>\n",
       "      <td>1</td>\n",
       "      <td>4</td>\n",
       "      <td>mall.googleplex.com</td>\n",
       "    </tr>\n",
       "  </tbody>\n",
       "</table>\n",
       "</div>"
      ],
      "text/plain": [
       "    channelGrouping      date        fullVisitorId  \\\n",
       "752               5  20160902  6194193421514403509   \n",
       "753               1  20160902  5327166854580374902   \n",
       "799               2  20160902  8885051388942907862   \n",
       "802               2  20160902  0185467632009737931   \n",
       "859               2  20160902  3244885836845029978   \n",
       "\n",
       "                          sessionId     visitId  visitNumber  visitStartTime  \\\n",
       "752  6194193421514403509_1472843572  1472843572            1      1472843572   \n",
       "753  5327166854580374902_1472844906  1472844906            3      1472844906   \n",
       "799  8885051388942907862_1472827393  1472827393            7      1472827393   \n",
       "802  0185467632009737931_1472846398  1472846398            6      1472846398   \n",
       "859  3244885836845029978_1472824817  1472824817            4      1472824817   \n",
       "\n",
       "    transactionRevenue country continent region               source  \n",
       "752           37860000       1         1      1               direct  \n",
       "753          306670000       1         1      2               google  \n",
       "799           68030000       1         1      2  mall.googleplex.com  \n",
       "802           26250000       1         1      3  mall.googleplex.com  \n",
       "859          574150000       1         1      4  mall.googleplex.com  "
      ]
     },
     "execution_count": 45,
     "metadata": {},
     "output_type": "execute_result"
    }
   ],
   "source": [
    "data.head(5)"
   ]
  },
  {
   "cell_type": "code",
   "execution_count": 46,
   "metadata": {
    "ExecuteTime": {
     "end_time": "2018-10-15T06:28:42.797613Z",
     "start_time": "2018-10-15T06:28:42.788544Z"
    }
   },
   "outputs": [
    {
     "data": {
      "text/plain": [
       "array(['direct', 'google', 'mall.googleplex.com', 'sites.google.com',\n",
       "       'dfa', 'mail.google.com', 'gdeals.googleplex.com',\n",
       "       'l.facebook.com', 'youtube.com', 'facebook.com', 'dealspotr.com',\n",
       "       'mail.aol.com', 'bing', 'groups.google.com', 'yahoo',\n",
       "       'connect.googleforwork.com', 'phandroid.com', 'duckduckgo.com',\n",
       "       'reddit.com', 'googleux.perksplus.com', 'pinterest.com',\n",
       "       'trainup.withgoogle.com', 'search.xfinity.com', 't.co',\n",
       "       'google.com', 'plus.google.com', 'keep.google.com',\n",
       "       'l.messenger.com', 'ask', 'quora.com', 'mg.mail.yahoo.com',\n",
       "       'm.facebook.com', 'siliconvalley.about.com', 'Partners',\n",
       "       'search.myway.com', 'chat.google.com', 'docs.google.com',\n",
       "       'seroundtable.com', 'outlook.live.com', 'basecamp.com',\n",
       "       'gatewaycdi.com', 'calendar.google.com', 'moma.corp.google.com',\n",
       "       'us-mg5.mail.yahoo.com'], dtype=object)"
      ]
     },
     "execution_count": 46,
     "metadata": {},
     "output_type": "execute_result"
    }
   ],
   "source": [
    "data.source.unique()"
   ]
  },
  {
   "cell_type": "code",
   "execution_count": 47,
   "metadata": {
    "ExecuteTime": {
     "end_time": "2018-10-15T06:28:42.806139Z",
     "start_time": "2018-10-15T06:28:42.800837Z"
    }
   },
   "outputs": [],
   "source": [
    "labels = list(data.source.unique())"
   ]
  },
  {
   "cell_type": "code",
   "execution_count": 48,
   "metadata": {
    "ExecuteTime": {
     "end_time": "2018-10-15T06:28:42.813876Z",
     "start_time": "2018-10-15T06:28:42.808934Z"
    }
   },
   "outputs": [],
   "source": [
    "source_map = dict()\n",
    "i = 1\n",
    "for lab in labels:\n",
    "    if lab not in source_map:\n",
    "        source_map[lab] = i\n",
    "        i += 1\n",
    "    else:\n",
    "        continue\n",
    "# source_map"
   ]
  },
  {
   "cell_type": "code",
   "execution_count": 49,
   "metadata": {
    "ExecuteTime": {
     "end_time": "2018-10-15T06:28:42.955876Z",
     "start_time": "2018-10-15T06:28:42.816750Z"
    }
   },
   "outputs": [
    {
     "data": {
      "text/html": [
       "<div>\n",
       "<style scoped>\n",
       "    .dataframe tbody tr th:only-of-type {\n",
       "        vertical-align: middle;\n",
       "    }\n",
       "\n",
       "    .dataframe tbody tr th {\n",
       "        vertical-align: top;\n",
       "    }\n",
       "\n",
       "    .dataframe thead th {\n",
       "        text-align: right;\n",
       "    }\n",
       "</style>\n",
       "<table border=\"1\" class=\"dataframe\">\n",
       "  <thead>\n",
       "    <tr style=\"text-align: right;\">\n",
       "      <th></th>\n",
       "      <th>channelGrouping</th>\n",
       "      <th>date</th>\n",
       "      <th>fullVisitorId</th>\n",
       "      <th>sessionId</th>\n",
       "      <th>visitId</th>\n",
       "      <th>visitNumber</th>\n",
       "      <th>visitStartTime</th>\n",
       "      <th>transactionRevenue</th>\n",
       "      <th>country</th>\n",
       "      <th>continent</th>\n",
       "      <th>region</th>\n",
       "      <th>source</th>\n",
       "    </tr>\n",
       "  </thead>\n",
       "  <tbody>\n",
       "    <tr>\n",
       "      <th>752</th>\n",
       "      <td>5</td>\n",
       "      <td>20160902</td>\n",
       "      <td>6194193421514403509</td>\n",
       "      <td>6194193421514403509_1472843572</td>\n",
       "      <td>1472843572</td>\n",
       "      <td>1</td>\n",
       "      <td>1472843572</td>\n",
       "      <td>37860000</td>\n",
       "      <td>1</td>\n",
       "      <td>1</td>\n",
       "      <td>1</td>\n",
       "      <td>1</td>\n",
       "    </tr>\n",
       "    <tr>\n",
       "      <th>753</th>\n",
       "      <td>1</td>\n",
       "      <td>20160902</td>\n",
       "      <td>5327166854580374902</td>\n",
       "      <td>5327166854580374902_1472844906</td>\n",
       "      <td>1472844906</td>\n",
       "      <td>3</td>\n",
       "      <td>1472844906</td>\n",
       "      <td>306670000</td>\n",
       "      <td>1</td>\n",
       "      <td>1</td>\n",
       "      <td>2</td>\n",
       "      <td>2</td>\n",
       "    </tr>\n",
       "    <tr>\n",
       "      <th>799</th>\n",
       "      <td>2</td>\n",
       "      <td>20160902</td>\n",
       "      <td>8885051388942907862</td>\n",
       "      <td>8885051388942907862_1472827393</td>\n",
       "      <td>1472827393</td>\n",
       "      <td>7</td>\n",
       "      <td>1472827393</td>\n",
       "      <td>68030000</td>\n",
       "      <td>1</td>\n",
       "      <td>1</td>\n",
       "      <td>2</td>\n",
       "      <td>3</td>\n",
       "    </tr>\n",
       "    <tr>\n",
       "      <th>802</th>\n",
       "      <td>2</td>\n",
       "      <td>20160902</td>\n",
       "      <td>0185467632009737931</td>\n",
       "      <td>0185467632009737931_1472846398</td>\n",
       "      <td>1472846398</td>\n",
       "      <td>6</td>\n",
       "      <td>1472846398</td>\n",
       "      <td>26250000</td>\n",
       "      <td>1</td>\n",
       "      <td>1</td>\n",
       "      <td>3</td>\n",
       "      <td>3</td>\n",
       "    </tr>\n",
       "    <tr>\n",
       "      <th>859</th>\n",
       "      <td>2</td>\n",
       "      <td>20160902</td>\n",
       "      <td>3244885836845029978</td>\n",
       "      <td>3244885836845029978_1472824817</td>\n",
       "      <td>1472824817</td>\n",
       "      <td>4</td>\n",
       "      <td>1472824817</td>\n",
       "      <td>574150000</td>\n",
       "      <td>1</td>\n",
       "      <td>1</td>\n",
       "      <td>4</td>\n",
       "      <td>3</td>\n",
       "    </tr>\n",
       "  </tbody>\n",
       "</table>\n",
       "</div>"
      ],
      "text/plain": [
       "    channelGrouping      date        fullVisitorId  \\\n",
       "752               5  20160902  6194193421514403509   \n",
       "753               1  20160902  5327166854580374902   \n",
       "799               2  20160902  8885051388942907862   \n",
       "802               2  20160902  0185467632009737931   \n",
       "859               2  20160902  3244885836845029978   \n",
       "\n",
       "                          sessionId     visitId  visitNumber  visitStartTime  \\\n",
       "752  6194193421514403509_1472843572  1472843572            1      1472843572   \n",
       "753  5327166854580374902_1472844906  1472844906            3      1472844906   \n",
       "799  8885051388942907862_1472827393  1472827393            7      1472827393   \n",
       "802  0185467632009737931_1472846398  1472846398            6      1472846398   \n",
       "859  3244885836845029978_1472824817  1472824817            4      1472824817   \n",
       "\n",
       "    transactionRevenue country continent region source  \n",
       "752           37860000       1         1      1      1  \n",
       "753          306670000       1         1      2      2  \n",
       "799           68030000       1         1      2      3  \n",
       "802           26250000       1         1      3      3  \n",
       "859          574150000       1         1      4      3  "
      ]
     },
     "execution_count": 49,
     "metadata": {},
     "output_type": "execute_result"
    }
   ],
   "source": [
    "data.source = data.source.replace(source_map)\n",
    "data.source = data.source.astype(\"category\")\n",
    "data.head(5)"
   ]
  },
  {
   "cell_type": "code",
   "execution_count": 50,
   "metadata": {
    "ExecuteTime": {
     "end_time": "2018-10-15T06:28:42.965346Z",
     "start_time": "2018-10-15T06:28:42.958057Z"
    }
   },
   "outputs": [
    {
     "data": {
      "text/plain": [
       "channelGrouping       category\n",
       "date                     int64\n",
       "fullVisitorId           object\n",
       "sessionId               object\n",
       "visitId                  int64\n",
       "visitNumber              int64\n",
       "visitStartTime           int64\n",
       "transactionRevenue      object\n",
       "country               category\n",
       "continent             category\n",
       "region                category\n",
       "source                category\n",
       "dtype: object"
      ]
     },
     "execution_count": 50,
     "metadata": {},
     "output_type": "execute_result"
    }
   ],
   "source": [
    "data.dtypes"
   ]
  },
  {
   "cell_type": "code",
   "execution_count": 51,
   "metadata": {
    "ExecuteTime": {
     "end_time": "2018-10-15T06:33:37.124797Z",
     "start_time": "2018-10-15T06:33:36.971071Z"
    }
   },
   "outputs": [],
   "source": [
    "data.to_csv(\"data/cleaned_train.csv\", index=False)"
   ]
  },
  {
   "cell_type": "code",
   "execution_count": 52,
   "metadata": {
    "ExecuteTime": {
     "end_time": "2018-10-15T06:33:59.298713Z",
     "start_time": "2018-10-15T06:33:59.244248Z"
    }
   },
   "outputs": [
    {
     "data": {
      "text/html": [
       "<div>\n",
       "<style scoped>\n",
       "    .dataframe tbody tr th:only-of-type {\n",
       "        vertical-align: middle;\n",
       "    }\n",
       "\n",
       "    .dataframe tbody tr th {\n",
       "        vertical-align: top;\n",
       "    }\n",
       "\n",
       "    .dataframe thead th {\n",
       "        text-align: right;\n",
       "    }\n",
       "</style>\n",
       "<table border=\"1\" class=\"dataframe\">\n",
       "  <thead>\n",
       "    <tr style=\"text-align: right;\">\n",
       "      <th></th>\n",
       "      <th>channelGrouping</th>\n",
       "      <th>date</th>\n",
       "      <th>fullVisitorId</th>\n",
       "      <th>sessionId</th>\n",
       "      <th>visitId</th>\n",
       "      <th>visitNumber</th>\n",
       "      <th>visitStartTime</th>\n",
       "      <th>transactionRevenue</th>\n",
       "      <th>country</th>\n",
       "      <th>continent</th>\n",
       "      <th>region</th>\n",
       "      <th>source</th>\n",
       "    </tr>\n",
       "  </thead>\n",
       "  <tbody>\n",
       "    <tr>\n",
       "      <th>0</th>\n",
       "      <td>5</td>\n",
       "      <td>20160902</td>\n",
       "      <td>6194193421514403509</td>\n",
       "      <td>6194193421514403509_1472843572</td>\n",
       "      <td>1472843572</td>\n",
       "      <td>1</td>\n",
       "      <td>1472843572</td>\n",
       "      <td>37860000</td>\n",
       "      <td>1</td>\n",
       "      <td>1</td>\n",
       "      <td>1</td>\n",
       "      <td>1</td>\n",
       "    </tr>\n",
       "    <tr>\n",
       "      <th>1</th>\n",
       "      <td>1</td>\n",
       "      <td>20160902</td>\n",
       "      <td>5327166854580374902</td>\n",
       "      <td>5327166854580374902_1472844906</td>\n",
       "      <td>1472844906</td>\n",
       "      <td>3</td>\n",
       "      <td>1472844906</td>\n",
       "      <td>306670000</td>\n",
       "      <td>1</td>\n",
       "      <td>1</td>\n",
       "      <td>2</td>\n",
       "      <td>2</td>\n",
       "    </tr>\n",
       "    <tr>\n",
       "      <th>2</th>\n",
       "      <td>2</td>\n",
       "      <td>20160902</td>\n",
       "      <td>8885051388942907862</td>\n",
       "      <td>8885051388942907862_1472827393</td>\n",
       "      <td>1472827393</td>\n",
       "      <td>7</td>\n",
       "      <td>1472827393</td>\n",
       "      <td>68030000</td>\n",
       "      <td>1</td>\n",
       "      <td>1</td>\n",
       "      <td>2</td>\n",
       "      <td>3</td>\n",
       "    </tr>\n",
       "    <tr>\n",
       "      <th>3</th>\n",
       "      <td>2</td>\n",
       "      <td>20160902</td>\n",
       "      <td>185467632009737931</td>\n",
       "      <td>0185467632009737931_1472846398</td>\n",
       "      <td>1472846398</td>\n",
       "      <td>6</td>\n",
       "      <td>1472846398</td>\n",
       "      <td>26250000</td>\n",
       "      <td>1</td>\n",
       "      <td>1</td>\n",
       "      <td>3</td>\n",
       "      <td>3</td>\n",
       "    </tr>\n",
       "    <tr>\n",
       "      <th>4</th>\n",
       "      <td>2</td>\n",
       "      <td>20160902</td>\n",
       "      <td>3244885836845029978</td>\n",
       "      <td>3244885836845029978_1472824817</td>\n",
       "      <td>1472824817</td>\n",
       "      <td>4</td>\n",
       "      <td>1472824817</td>\n",
       "      <td>574150000</td>\n",
       "      <td>1</td>\n",
       "      <td>1</td>\n",
       "      <td>4</td>\n",
       "      <td>3</td>\n",
       "    </tr>\n",
       "  </tbody>\n",
       "</table>\n",
       "</div>"
      ],
      "text/plain": [
       "   channelGrouping      date        fullVisitorId  \\\n",
       "0                5  20160902  6194193421514403509   \n",
       "1                1  20160902  5327166854580374902   \n",
       "2                2  20160902  8885051388942907862   \n",
       "3                2  20160902   185467632009737931   \n",
       "4                2  20160902  3244885836845029978   \n",
       "\n",
       "                        sessionId     visitId  visitNumber  visitStartTime  \\\n",
       "0  6194193421514403509_1472843572  1472843572            1      1472843572   \n",
       "1  5327166854580374902_1472844906  1472844906            3      1472844906   \n",
       "2  8885051388942907862_1472827393  1472827393            7      1472827393   \n",
       "3  0185467632009737931_1472846398  1472846398            6      1472846398   \n",
       "4  3244885836845029978_1472824817  1472824817            4      1472824817   \n",
       "\n",
       "   transactionRevenue  country  continent  region  source  \n",
       "0            37860000        1          1       1       1  \n",
       "1           306670000        1          1       2       2  \n",
       "2            68030000        1          1       2       3  \n",
       "3            26250000        1          1       3       3  \n",
       "4           574150000        1          1       4       3  "
      ]
     },
     "execution_count": 52,
     "metadata": {},
     "output_type": "execute_result"
    }
   ],
   "source": [
    "df = pd.read_csv(\"data/cleaned_train.csv\")\n",
    "df.head(5)"
   ]
  },
  {
   "cell_type": "code",
   "execution_count": null,
   "metadata": {},
   "outputs": [],
   "source": []
  }
 ],
 "metadata": {
  "kernelspec": {
   "display_name": "Python [conda env:anaconda3]",
   "language": "python",
   "name": "conda-env-anaconda3-py"
  },
  "language_info": {
   "codemirror_mode": {
    "name": "ipython",
    "version": 3
   },
   "file_extension": ".py",
   "mimetype": "text/x-python",
   "name": "python",
   "nbconvert_exporter": "python",
   "pygments_lexer": "ipython3",
   "version": "3.6.6"
  }
 },
 "nbformat": 4,
 "nbformat_minor": 2
}
