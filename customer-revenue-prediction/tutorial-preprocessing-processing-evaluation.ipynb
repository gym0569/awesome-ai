{
 "cells": [
  {
   "cell_type": "code",
   "execution_count": null,
   "metadata": {
    "_cell_guid": "b1076dfc-b9ad-4769-8c92-a6c4dae69d19",
    "_uuid": "8f2839f25d086af736a60e9eeb907d3b93b6e0e5"
   },
   "outputs": [],
   "source": [
    "import os\n",
    "print(os.listdir(\"../input\"))\n",
    "\n",
    "# Any results you write to the current directory are saved as output."
   ]
  },
  {
   "cell_type": "markdown",
   "metadata": {
    "_uuid": "aea8d808ddedd900aff77abfd66bdd7f466c3d61"
   },
   "source": [
    "**Crisp Methodology**\n",
    "\n",
    "![](https://www.kdnuggets.com/wp-content/uploads/crisp-dm-4-problems-fig1.png)\n",
    "    Crisp methodology is on the acceptable manners for data mining tasks. As it is belowed in the following figure, it contains three main parts should be passed to deliver a product to business\n",
    "*     Data cleaning\n",
    "        1. Understanding the business and data.\n",
    "        2. Try to comprehent the business and extract the data which is needed\n",
    "        3. Understand the dependencies between attributes. Analyzing the target variables. Handling missing values. Transforming data formats to standard data format.\n",
    "*     Data Modeling\n",
    "        1. Understanding the business and data.\n",
    "        2. Selecting more accurate classfier or regression engine based on the charactristic any of them have.\n",
    "        3. Train a model \n",
    "*     Evaluation and Deployment.\n",
    "        1. Evalute created model using evaluation methods (test-data, cross-validation, etc)\n",
    "        2. Catrefully Evaluate model with real data (i.e AB testing) (As it is shown in crisp diagram, there is a link between business undestanding and evaluation part). \n",
    "        3. Migrate to new model and replace the old one with new version.\n"
   ]
  },
  {
   "cell_type": "markdown",
   "metadata": {
    "_uuid": "679d84d693888c93c63762754e36a58749be5b4d"
   },
   "source": [
    "**imports**\n",
    "*     Importing packages and libraries."
   ]
  },
  {
   "cell_type": "code",
   "execution_count": 1,
   "metadata": {
    "ExecuteTime": {
     "end_time": "2018-10-08T17:11:57.553400Z",
     "start_time": "2018-10-08T17:11:56.684826Z"
    },
    "_uuid": "a6430eaf18e19cc83ff3bd1a322668fde9f43f2a"
   },
   "outputs": [],
   "source": [
    "import pandas as pd\n",
    "import numpy as np\n",
    "import json\n",
    "import matplotlib.pyplot as plt\n",
    "%matplotlib inline"
   ]
  },
  {
   "cell_type": "markdown",
   "metadata": {
    "_uuid": "86ef2c2d21767682cf351db547c3119a2339bd5e"
   },
   "source": [
    "**Reading Data**\n",
    "\n",
    "Reading data and caughting a glimpse of what data it is."
   ]
  },
  {
   "cell_type": "code",
   "execution_count": 2,
   "metadata": {
    "ExecuteTime": {
     "end_time": "2018-10-08T17:12:11.759715Z",
     "start_time": "2018-10-08T17:12:00.195083Z"
    },
    "_cell_guid": "79c7e3d0-c299-4dcb-8224-4455121ee9b0",
    "_uuid": "d629ff2d2480ee46fbb7e2d37f6b5fab8052498a"
   },
   "outputs": [
    {
     "name": "stderr",
     "output_type": "stream",
     "text": [
      "/Users/nityansuman/anaconda3/lib/python3.6/site-packages/IPython/core/interactiveshell.py:3018: DtypeWarning: Columns (3) have mixed types. Specify dtype option on import or set low_memory=False.\n",
      "  interactivity=interactivity, compiler=compiler, result=result)\n"
     ]
    },
    {
     "data": {
      "text/html": [
       "<div>\n",
       "<style scoped>\n",
       "    .dataframe tbody tr th:only-of-type {\n",
       "        vertical-align: middle;\n",
       "    }\n",
       "\n",
       "    .dataframe tbody tr th {\n",
       "        vertical-align: top;\n",
       "    }\n",
       "\n",
       "    .dataframe thead th {\n",
       "        text-align: right;\n",
       "    }\n",
       "</style>\n",
       "<table border=\"1\" class=\"dataframe\">\n",
       "  <thead>\n",
       "    <tr style=\"text-align: right;\">\n",
       "      <th></th>\n",
       "      <th>channelGrouping</th>\n",
       "      <th>date</th>\n",
       "      <th>device</th>\n",
       "      <th>fullVisitorId</th>\n",
       "      <th>geoNetwork</th>\n",
       "      <th>sessionId</th>\n",
       "      <th>socialEngagementType</th>\n",
       "      <th>totals</th>\n",
       "      <th>trafficSource</th>\n",
       "      <th>visitId</th>\n",
       "      <th>visitNumber</th>\n",
       "      <th>visitStartTime</th>\n",
       "    </tr>\n",
       "  </thead>\n",
       "  <tbody>\n",
       "    <tr>\n",
       "      <th>0</th>\n",
       "      <td>Organic Search</td>\n",
       "      <td>20160902</td>\n",
       "      <td>{\"browser\": \"Chrome\", \"browserVersion\": \"not a...</td>\n",
       "      <td>1131660440785968503</td>\n",
       "      <td>{\"continent\": \"Asia\", \"subContinent\": \"Western...</td>\n",
       "      <td>1131660440785968503_1472830385</td>\n",
       "      <td>Not Socially Engaged</td>\n",
       "      <td>{\"visits\": \"1\", \"hits\": \"1\", \"pageviews\": \"1\",...</td>\n",
       "      <td>{\"campaign\": \"(not set)\", \"source\": \"google\", ...</td>\n",
       "      <td>1472830385</td>\n",
       "      <td>1</td>\n",
       "      <td>1472830385</td>\n",
       "    </tr>\n",
       "    <tr>\n",
       "      <th>1</th>\n",
       "      <td>Organic Search</td>\n",
       "      <td>20160902</td>\n",
       "      <td>{\"browser\": \"Firefox\", \"browserVersion\": \"not ...</td>\n",
       "      <td>377306020877927890</td>\n",
       "      <td>{\"continent\": \"Oceania\", \"subContinent\": \"Aust...</td>\n",
       "      <td>377306020877927890_1472880147</td>\n",
       "      <td>Not Socially Engaged</td>\n",
       "      <td>{\"visits\": \"1\", \"hits\": \"1\", \"pageviews\": \"1\",...</td>\n",
       "      <td>{\"campaign\": \"(not set)\", \"source\": \"google\", ...</td>\n",
       "      <td>1472880147</td>\n",
       "      <td>1</td>\n",
       "      <td>1472880147</td>\n",
       "    </tr>\n",
       "    <tr>\n",
       "      <th>2</th>\n",
       "      <td>Organic Search</td>\n",
       "      <td>20160902</td>\n",
       "      <td>{\"browser\": \"Chrome\", \"browserVersion\": \"not a...</td>\n",
       "      <td>3895546263509774583</td>\n",
       "      <td>{\"continent\": \"Europe\", \"subContinent\": \"South...</td>\n",
       "      <td>3895546263509774583_1472865386</td>\n",
       "      <td>Not Socially Engaged</td>\n",
       "      <td>{\"visits\": \"1\", \"hits\": \"1\", \"pageviews\": \"1\",...</td>\n",
       "      <td>{\"campaign\": \"(not set)\", \"source\": \"google\", ...</td>\n",
       "      <td>1472865386</td>\n",
       "      <td>1</td>\n",
       "      <td>1472865386</td>\n",
       "    </tr>\n",
       "    <tr>\n",
       "      <th>3</th>\n",
       "      <td>Organic Search</td>\n",
       "      <td>20160902</td>\n",
       "      <td>{\"browser\": \"UC Browser\", \"browserVersion\": \"n...</td>\n",
       "      <td>4763447161404445595</td>\n",
       "      <td>{\"continent\": \"Asia\", \"subContinent\": \"Southea...</td>\n",
       "      <td>4763447161404445595_1472881213</td>\n",
       "      <td>Not Socially Engaged</td>\n",
       "      <td>{\"visits\": \"1\", \"hits\": \"1\", \"pageviews\": \"1\",...</td>\n",
       "      <td>{\"campaign\": \"(not set)\", \"source\": \"google\", ...</td>\n",
       "      <td>1472881213</td>\n",
       "      <td>1</td>\n",
       "      <td>1472881213</td>\n",
       "    </tr>\n",
       "    <tr>\n",
       "      <th>4</th>\n",
       "      <td>Organic Search</td>\n",
       "      <td>20160902</td>\n",
       "      <td>{\"browser\": \"Chrome\", \"browserVersion\": \"not a...</td>\n",
       "      <td>27294437909732085</td>\n",
       "      <td>{\"continent\": \"Europe\", \"subContinent\": \"North...</td>\n",
       "      <td>27294437909732085_1472822600</td>\n",
       "      <td>Not Socially Engaged</td>\n",
       "      <td>{\"visits\": \"1\", \"hits\": \"1\", \"pageviews\": \"1\",...</td>\n",
       "      <td>{\"campaign\": \"(not set)\", \"source\": \"google\", ...</td>\n",
       "      <td>1472822600</td>\n",
       "      <td>2</td>\n",
       "      <td>1472822600</td>\n",
       "    </tr>\n",
       "  </tbody>\n",
       "</table>\n",
       "</div>"
      ],
      "text/plain": [
       "  channelGrouping      date  \\\n",
       "0  Organic Search  20160902   \n",
       "1  Organic Search  20160902   \n",
       "2  Organic Search  20160902   \n",
       "3  Organic Search  20160902   \n",
       "4  Organic Search  20160902   \n",
       "\n",
       "                                              device        fullVisitorId  \\\n",
       "0  {\"browser\": \"Chrome\", \"browserVersion\": \"not a...  1131660440785968503   \n",
       "1  {\"browser\": \"Firefox\", \"browserVersion\": \"not ...   377306020877927890   \n",
       "2  {\"browser\": \"Chrome\", \"browserVersion\": \"not a...  3895546263509774583   \n",
       "3  {\"browser\": \"UC Browser\", \"browserVersion\": \"n...  4763447161404445595   \n",
       "4  {\"browser\": \"Chrome\", \"browserVersion\": \"not a...    27294437909732085   \n",
       "\n",
       "                                          geoNetwork  \\\n",
       "0  {\"continent\": \"Asia\", \"subContinent\": \"Western...   \n",
       "1  {\"continent\": \"Oceania\", \"subContinent\": \"Aust...   \n",
       "2  {\"continent\": \"Europe\", \"subContinent\": \"South...   \n",
       "3  {\"continent\": \"Asia\", \"subContinent\": \"Southea...   \n",
       "4  {\"continent\": \"Europe\", \"subContinent\": \"North...   \n",
       "\n",
       "                        sessionId  socialEngagementType  \\\n",
       "0  1131660440785968503_1472830385  Not Socially Engaged   \n",
       "1   377306020877927890_1472880147  Not Socially Engaged   \n",
       "2  3895546263509774583_1472865386  Not Socially Engaged   \n",
       "3  4763447161404445595_1472881213  Not Socially Engaged   \n",
       "4    27294437909732085_1472822600  Not Socially Engaged   \n",
       "\n",
       "                                              totals  \\\n",
       "0  {\"visits\": \"1\", \"hits\": \"1\", \"pageviews\": \"1\",...   \n",
       "1  {\"visits\": \"1\", \"hits\": \"1\", \"pageviews\": \"1\",...   \n",
       "2  {\"visits\": \"1\", \"hits\": \"1\", \"pageviews\": \"1\",...   \n",
       "3  {\"visits\": \"1\", \"hits\": \"1\", \"pageviews\": \"1\",...   \n",
       "4  {\"visits\": \"1\", \"hits\": \"1\", \"pageviews\": \"1\",...   \n",
       "\n",
       "                                       trafficSource     visitId  visitNumber  \\\n",
       "0  {\"campaign\": \"(not set)\", \"source\": \"google\", ...  1472830385            1   \n",
       "1  {\"campaign\": \"(not set)\", \"source\": \"google\", ...  1472880147            1   \n",
       "2  {\"campaign\": \"(not set)\", \"source\": \"google\", ...  1472865386            1   \n",
       "3  {\"campaign\": \"(not set)\", \"source\": \"google\", ...  1472881213            1   \n",
       "4  {\"campaign\": \"(not set)\", \"source\": \"google\", ...  1472822600            2   \n",
       "\n",
       "   visitStartTime  \n",
       "0      1472830385  \n",
       "1      1472880147  \n",
       "2      1472865386  \n",
       "3      1472881213  \n",
       "4      1472822600  "
      ]
     },
     "execution_count": 2,
     "metadata": {},
     "output_type": "execute_result"
    }
   ],
   "source": [
    "train_data = pd.read_csv(\"data/train.csv\")\n",
    "train_data.head()"
   ]
  },
  {
   "cell_type": "code",
   "execution_count": 3,
   "metadata": {
    "ExecuteTime": {
     "end_time": "2018-10-08T17:12:18.556537Z",
     "start_time": "2018-10-08T17:12:18.396598Z"
    },
    "_uuid": "7d6396d4c5365e58dc6a10ec748cd70fce4c7c2c"
   },
   "outputs": [
    {
     "data": {
      "text/html": [
       "<div>\n",
       "<style scoped>\n",
       "    .dataframe tbody tr th:only-of-type {\n",
       "        vertical-align: middle;\n",
       "    }\n",
       "\n",
       "    .dataframe tbody tr th {\n",
       "        vertical-align: top;\n",
       "    }\n",
       "\n",
       "    .dataframe thead th {\n",
       "        text-align: right;\n",
       "    }\n",
       "</style>\n",
       "<table border=\"1\" class=\"dataframe\">\n",
       "  <thead>\n",
       "    <tr style=\"text-align: right;\">\n",
       "      <th></th>\n",
       "      <th>date</th>\n",
       "      <th>visitId</th>\n",
       "      <th>visitNumber</th>\n",
       "      <th>visitStartTime</th>\n",
       "    </tr>\n",
       "  </thead>\n",
       "  <tbody>\n",
       "    <tr>\n",
       "      <th>count</th>\n",
       "      <td>9.036530e+05</td>\n",
       "      <td>9.036530e+05</td>\n",
       "      <td>903653.000000</td>\n",
       "      <td>9.036530e+05</td>\n",
       "    </tr>\n",
       "    <tr>\n",
       "      <th>mean</th>\n",
       "      <td>2.016589e+07</td>\n",
       "      <td>1.485007e+09</td>\n",
       "      <td>2.264897</td>\n",
       "      <td>1.485007e+09</td>\n",
       "    </tr>\n",
       "    <tr>\n",
       "      <th>std</th>\n",
       "      <td>4.697698e+03</td>\n",
       "      <td>9.022124e+06</td>\n",
       "      <td>9.283735</td>\n",
       "      <td>9.022124e+06</td>\n",
       "    </tr>\n",
       "    <tr>\n",
       "      <th>min</th>\n",
       "      <td>2.016080e+07</td>\n",
       "      <td>1.470035e+09</td>\n",
       "      <td>1.000000</td>\n",
       "      <td>1.470035e+09</td>\n",
       "    </tr>\n",
       "    <tr>\n",
       "      <th>25%</th>\n",
       "      <td>2.016103e+07</td>\n",
       "      <td>1.477561e+09</td>\n",
       "      <td>1.000000</td>\n",
       "      <td>1.477561e+09</td>\n",
       "    </tr>\n",
       "    <tr>\n",
       "      <th>50%</th>\n",
       "      <td>2.017011e+07</td>\n",
       "      <td>1.483949e+09</td>\n",
       "      <td>1.000000</td>\n",
       "      <td>1.483949e+09</td>\n",
       "    </tr>\n",
       "    <tr>\n",
       "      <th>75%</th>\n",
       "      <td>2.017042e+07</td>\n",
       "      <td>1.492759e+09</td>\n",
       "      <td>1.000000</td>\n",
       "      <td>1.492759e+09</td>\n",
       "    </tr>\n",
       "    <tr>\n",
       "      <th>max</th>\n",
       "      <td>2.017080e+07</td>\n",
       "      <td>1.501657e+09</td>\n",
       "      <td>395.000000</td>\n",
       "      <td>1.501657e+09</td>\n",
       "    </tr>\n",
       "  </tbody>\n",
       "</table>\n",
       "</div>"
      ],
      "text/plain": [
       "               date       visitId    visitNumber  visitStartTime\n",
       "count  9.036530e+05  9.036530e+05  903653.000000    9.036530e+05\n",
       "mean   2.016589e+07  1.485007e+09       2.264897    1.485007e+09\n",
       "std    4.697698e+03  9.022124e+06       9.283735    9.022124e+06\n",
       "min    2.016080e+07  1.470035e+09       1.000000    1.470035e+09\n",
       "25%    2.016103e+07  1.477561e+09       1.000000    1.477561e+09\n",
       "50%    2.017011e+07  1.483949e+09       1.000000    1.483949e+09\n",
       "75%    2.017042e+07  1.492759e+09       1.000000    1.492759e+09\n",
       "max    2.017080e+07  1.501657e+09     395.000000    1.501657e+09"
      ]
     },
     "execution_count": 3,
     "metadata": {},
     "output_type": "execute_result"
    }
   ],
   "source": [
    "train_data.describe()"
   ]
  },
  {
   "cell_type": "code",
   "execution_count": 4,
   "metadata": {
    "ExecuteTime": {
     "end_time": "2018-10-08T17:12:18.680888Z",
     "start_time": "2018-10-08T17:12:18.674925Z"
    },
    "_uuid": "15bd454caf0148863c83b5762658f4ee2c6e7220"
   },
   "outputs": [
    {
     "data": {
      "text/plain": [
       "['channelGrouping',\n",
       " 'date',\n",
       " 'device',\n",
       " 'fullVisitorId',\n",
       " 'geoNetwork',\n",
       " 'sessionId',\n",
       " 'socialEngagementType',\n",
       " 'totals',\n",
       " 'trafficSource',\n",
       " 'visitId',\n",
       " 'visitNumber',\n",
       " 'visitStartTime']"
      ]
     },
     "execution_count": 4,
     "metadata": {},
     "output_type": "execute_result"
    }
   ],
   "source": [
    "list(train_data.columns.values)"
   ]
  },
  {
   "cell_type": "markdown",
   "metadata": {
    "_uuid": "2e880ed5017f078fda5067e0b17c53c980d4fea1"
   },
   "source": [
    "**Features descriptions**:\n",
    "\n",
    "Returning back to Data description for understanding features.\n",
    "\n",
    "*     channelGrouping - The channel via which the user came to the Store.\n",
    "*     date - The date on which the user visited the Store.\n",
    "*     device - The specifications for the device used to access the Store.\n",
    "*     fullVisitorId- A unique identifier for each user of the Google Merchandise Store.\n",
    "*     geoNetwork - This section contains information about the geography of the user.\n",
    "*     sessionId - A unique identifier for this visit to the store.\n",
    "*     socialEngagementType - Engagement type, either \"Socially Engaged\" or \"Not Socially Engaged\".\n",
    "*     totals - This section contains aggregate values across the session.\n",
    "*     trafficSource - This section contains information about the Traffic Source from which the session originated.\n",
    "*     visitId - An identifier for this session. This is part of the value usually stored as the _utmb cookie. This is only unique to the user. For a completely unique ID, you should use a combination of fullVisitorId and visitId.\n",
    "*     visitNumber - The session number for this user. If this is the first session, then this is set to 1.\n",
    "*     visitStartTime - The timestamp (expressed as POSIX time).\n"
   ]
  },
  {
   "cell_type": "markdown",
   "metadata": {
    "_uuid": "dcb51011a920d5741ce007c15fe6f9cc122ab234"
   },
   "source": [
    "**channelGrouping feature**"
   ]
  },
  {
   "cell_type": "code",
   "execution_count": 5,
   "metadata": {
    "ExecuteTime": {
     "end_time": "2018-10-08T17:12:20.381610Z",
     "start_time": "2018-10-08T17:12:19.980256Z"
    },
    "_uuid": "24d6d732b0e816e2a890c817dd5543ab3e5e561c"
   },
   "outputs": [
    {
     "data": {
      "text/plain": [
       "<matplotlib.axes._subplots.AxesSubplot at 0x11ed90978>"
      ]
     },
     "execution_count": 5,
     "metadata": {},
     "output_type": "execute_result"
    },
    {
     "data": {
      "image/png": "[encoded data removed]",
      "text/plain": [
       "<Figure size 576x576 with 1 Axes>"
      ]
     },
     "metadata": {
      "needs_background": "light"
     },
     "output_type": "display_data"
    }
   ],
   "source": [
    "train_data.channelGrouping.value_counts().plot(kind=\"bar\",title=\"channelGrouping distro\",figsize=(8,8),rot=25,colormap='Paired')"
   ]
  },
  {
   "cell_type": "markdown",
   "metadata": {
    "_uuid": "98d005134d4677798e3c1431a6d95e8ac55ebe3a"
   },
   "source": [
    "**date and visitStartTime**\n",
    "\n",
    "There are two varialbe related to time and can be used in time dependent analyzes specially TimeSeries."
   ]
  },
  {
   "cell_type": "code",
   "execution_count": 6,
   "metadata": {
    "ExecuteTime": {
     "end_time": "2018-10-08T17:12:23.099103Z",
     "start_time": "2018-10-08T17:12:23.091661Z"
    },
    "_uuid": "4a21ac9e2c038995911eb25f643e157878ae9c12"
   },
   "outputs": [
    {
     "data": {
      "text/plain": [
       "'date :20160902, visitStartTime:1472830385'"
      ]
     },
     "execution_count": 6,
     "metadata": {},
     "output_type": "execute_result"
    }
   ],
   "source": [
    "\"date :{}, visitStartTime:{}\".format(train_data.head(1).date[0],train_data.head(1).visitStartTime[0])"
   ]
  },
  {
   "cell_type": "markdown",
   "metadata": {
    "_uuid": "9426c06830d5872f44195d2f1c4acbafea4f6649"
   },
   "source": [
    "date is stored in String and should be converted to pandas datetime format.\n",
    "visitStartTime is stored in epoch unix format and should be converted to pandas datetime format.\n",
    "doing the correspondence transforms and storing on the same attribute."
   ]
  },
  {
   "cell_type": "code",
   "execution_count": 7,
   "metadata": {
    "ExecuteTime": {
     "end_time": "2018-10-08T17:12:25.505191Z",
     "start_time": "2018-10-08T17:12:24.796305Z"
    },
    "_uuid": "3488ada0cedb4a6df1b205ecbc0ebe38ee2e3d40"
   },
   "outputs": [],
   "source": [
    "train_data[\"date\"] = pd.to_datetime(train_data[\"date\"],format=\"%Y%m%d\")\n",
    "train_data[\"visitStartTime\"] = pd.to_datetime(train_data[\"visitStartTime\"],unit='s')"
   ]
  },
  {
   "cell_type": "markdown",
   "metadata": {
    "_uuid": "02792ece205e46a3e291572c72635b6d65c75136"
   },
   "source": [
    "Checking the transformed features."
   ]
  },
  {
   "cell_type": "code",
   "execution_count": 8,
   "metadata": {
    "ExecuteTime": {
     "end_time": "2018-10-08T17:12:25.519337Z",
     "start_time": "2018-10-08T17:12:25.508469Z"
    },
    "_uuid": "fa57bd9f58d7b27873d7bee7913cc18ebc0e94d3"
   },
   "outputs": [
    {
     "data": {
      "text/html": [
       "<div>\n",
       "<style scoped>\n",
       "    .dataframe tbody tr th:only-of-type {\n",
       "        vertical-align: middle;\n",
       "    }\n",
       "\n",
       "    .dataframe tbody tr th {\n",
       "        vertical-align: top;\n",
       "    }\n",
       "\n",
       "    .dataframe thead th {\n",
       "        text-align: right;\n",
       "    }\n",
       "</style>\n",
       "<table border=\"1\" class=\"dataframe\">\n",
       "  <thead>\n",
       "    <tr style=\"text-align: right;\">\n",
       "      <th></th>\n",
       "      <th>date</th>\n",
       "      <th>visitStartTime</th>\n",
       "    </tr>\n",
       "  </thead>\n",
       "  <tbody>\n",
       "    <tr>\n",
       "      <th>0</th>\n",
       "      <td>2016-09-02</td>\n",
       "      <td>2016-09-02 15:33:05</td>\n",
       "    </tr>\n",
       "  </tbody>\n",
       "</table>\n",
       "</div>"
      ],
      "text/plain": [
       "        date      visitStartTime\n",
       "0 2016-09-02 2016-09-02 15:33:05"
      ]
     },
     "execution_count": 8,
     "metadata": {},
     "output_type": "execute_result"
    }
   ],
   "source": [
    "train_data.head(1)[[\"date\",\"visitStartTime\"]]"
   ]
  },
  {
   "cell_type": "markdown",
   "metadata": {
    "_uuid": "d2f7bc22259657a159827c45ca65972c27c55ca2"
   },
   "source": [
    "**device**\n",
    "\n",
    "device is stored in json format. There is a need to extract its fields and analyze them. Using json library to deserializing json values."
   ]
  },
  {
   "cell_type": "code",
   "execution_count": 9,
   "metadata": {
    "ExecuteTime": {
     "end_time": "2018-10-08T17:12:41.057603Z",
     "start_time": "2018-10-08T17:12:26.578478Z"
    },
    "_uuid": "f0b75ca11dca15238bc3e6e6ec36e79d3d8ae90a"
   },
   "outputs": [],
   "source": [
    "list_of_devices = train_data.device.apply(json.loads).tolist()\n",
    "keys = []\n",
    "for devices_iter in list_of_devices:\n",
    "    for list_element in list(devices_iter.keys()):\n",
    "        if list_element not in keys:\n",
    "            keys.append(list_element)"
   ]
  },
  {
   "cell_type": "markdown",
   "metadata": {
    "_uuid": "39d240415ddc55a1ba7744fb48662f1411828c46"
   },
   "source": [
    "keys existed in device attribute are listed below.\n",
    "Now we should ignore the features which are not usefull in rest of the process. If feature is misrelated, or it contains lot of \"NaN\" values it should be discarded.\n",
    "We select the [\"browser\",\"operatingSystem\",\"deviceCategory\",\"isMobile\"] for doing the analyzing. The rest of the device features are ignored and will be removed."
   ]
  },
  {
   "cell_type": "code",
   "execution_count": 10,
   "metadata": {
    "ExecuteTime": {
     "end_time": "2018-10-08T17:12:41.065130Z",
     "start_time": "2018-10-08T17:12:41.060570Z"
    },
    "_uuid": "5cd55978b512a3e1bc986a998d80a3b033c315ed"
   },
   "outputs": [
    {
     "data": {
      "text/plain": [
       "\"keys existed in device attribute are:['browser', 'browserVersion', 'browserSize', 'operatingSystem', 'operatingSystemVersion', 'isMobile', 'mobileDeviceBranding', 'mobileDeviceModel', 'mobileInputSelector', 'mobileDeviceInfo', 'mobileDeviceMarketingName', 'flashVersion', 'language', 'screenColors', 'screenResolution', 'deviceCategory']\""
      ]
     },
     "execution_count": 10,
     "metadata": {},
     "output_type": "execute_result"
    }
   ],
   "source": [
    "\"keys existed in device attribute are:{}\".format(keys)"
   ]
  },
  {
   "cell_type": "code",
   "execution_count": 11,
   "metadata": {
    "ExecuteTime": {
     "end_time": "2018-10-08T17:12:58.678200Z",
     "start_time": "2018-10-08T17:12:41.068646Z"
    },
    "_uuid": "cadd6e2ecea749307f6c52056406ef9b6acbc1e2"
   },
   "outputs": [],
   "source": [
    "tmp_device_df = pd.DataFrame(train_data.device.apply(json.loads).tolist())[[\"browser\",\"operatingSystem\",\"deviceCategory\",\"isMobile\"]]"
   ]
  },
  {
   "cell_type": "code",
   "execution_count": 12,
   "metadata": {
    "ExecuteTime": {
     "end_time": "2018-10-08T17:12:58.694798Z",
     "start_time": "2018-10-08T17:12:58.681898Z"
    },
    "_uuid": "499f0847262e10fc07829916236b456364c1c472"
   },
   "outputs": [
    {
     "data": {
      "text/html": [
       "<div>\n",
       "<style scoped>\n",
       "    .dataframe tbody tr th:only-of-type {\n",
       "        vertical-align: middle;\n",
       "    }\n",
       "\n",
       "    .dataframe tbody tr th {\n",
       "        vertical-align: top;\n",
       "    }\n",
       "\n",
       "    .dataframe thead th {\n",
       "        text-align: right;\n",
       "    }\n",
       "</style>\n",
       "<table border=\"1\" class=\"dataframe\">\n",
       "  <thead>\n",
       "    <tr style=\"text-align: right;\">\n",
       "      <th></th>\n",
       "      <th>browser</th>\n",
       "      <th>operatingSystem</th>\n",
       "      <th>deviceCategory</th>\n",
       "      <th>isMobile</th>\n",
       "    </tr>\n",
       "  </thead>\n",
       "  <tbody>\n",
       "    <tr>\n",
       "      <th>0</th>\n",
       "      <td>Chrome</td>\n",
       "      <td>Windows</td>\n",
       "      <td>desktop</td>\n",
       "      <td>False</td>\n",
       "    </tr>\n",
       "    <tr>\n",
       "      <th>1</th>\n",
       "      <td>Firefox</td>\n",
       "      <td>Macintosh</td>\n",
       "      <td>desktop</td>\n",
       "      <td>False</td>\n",
       "    </tr>\n",
       "    <tr>\n",
       "      <th>2</th>\n",
       "      <td>Chrome</td>\n",
       "      <td>Windows</td>\n",
       "      <td>desktop</td>\n",
       "      <td>False</td>\n",
       "    </tr>\n",
       "    <tr>\n",
       "      <th>3</th>\n",
       "      <td>UC Browser</td>\n",
       "      <td>Linux</td>\n",
       "      <td>desktop</td>\n",
       "      <td>False</td>\n",
       "    </tr>\n",
       "    <tr>\n",
       "      <th>4</th>\n",
       "      <td>Chrome</td>\n",
       "      <td>Android</td>\n",
       "      <td>mobile</td>\n",
       "      <td>True</td>\n",
       "    </tr>\n",
       "  </tbody>\n",
       "</table>\n",
       "</div>"
      ],
      "text/plain": [
       "      browser operatingSystem deviceCategory  isMobile\n",
       "0      Chrome         Windows        desktop     False\n",
       "1     Firefox       Macintosh        desktop     False\n",
       "2      Chrome         Windows        desktop     False\n",
       "3  UC Browser           Linux        desktop     False\n",
       "4      Chrome         Android         mobile      True"
      ]
     },
     "execution_count": 12,
     "metadata": {},
     "output_type": "execute_result"
    }
   ],
   "source": [
    "tmp_device_df.head()"
   ]
  },
  {
   "cell_type": "code",
   "execution_count": 13,
   "metadata": {
    "ExecuteTime": {
     "end_time": "2018-10-08T17:12:59.711741Z",
     "start_time": "2018-10-08T17:12:58.697273Z"
    },
    "_uuid": "b12bb719c32f9a7e23ab0440514149832a33a805"
   },
   "outputs": [
    {
     "data": {
      "text/html": [
       "<div>\n",
       "<style scoped>\n",
       "    .dataframe tbody tr th:only-of-type {\n",
       "        vertical-align: middle;\n",
       "    }\n",
       "\n",
       "    .dataframe tbody tr th {\n",
       "        vertical-align: top;\n",
       "    }\n",
       "\n",
       "    .dataframe thead th {\n",
       "        text-align: right;\n",
       "    }\n",
       "</style>\n",
       "<table border=\"1\" class=\"dataframe\">\n",
       "  <thead>\n",
       "    <tr style=\"text-align: right;\">\n",
       "      <th></th>\n",
       "      <th>browser</th>\n",
       "      <th>operatingSystem</th>\n",
       "      <th>deviceCategory</th>\n",
       "      <th>isMobile</th>\n",
       "    </tr>\n",
       "  </thead>\n",
       "  <tbody>\n",
       "    <tr>\n",
       "      <th>count</th>\n",
       "      <td>903653</td>\n",
       "      <td>903653</td>\n",
       "      <td>903653</td>\n",
       "      <td>903653</td>\n",
       "    </tr>\n",
       "    <tr>\n",
       "      <th>unique</th>\n",
       "      <td>54</td>\n",
       "      <td>20</td>\n",
       "      <td>3</td>\n",
       "      <td>2</td>\n",
       "    </tr>\n",
       "    <tr>\n",
       "      <th>top</th>\n",
       "      <td>Chrome</td>\n",
       "      <td>Windows</td>\n",
       "      <td>desktop</td>\n",
       "      <td>False</td>\n",
       "    </tr>\n",
       "    <tr>\n",
       "      <th>freq</th>\n",
       "      <td>620364</td>\n",
       "      <td>350072</td>\n",
       "      <td>664479</td>\n",
       "      <td>664530</td>\n",
       "    </tr>\n",
       "  </tbody>\n",
       "</table>\n",
       "</div>"
      ],
      "text/plain": [
       "       browser operatingSystem deviceCategory isMobile\n",
       "count   903653          903653         903653   903653\n",
       "unique      54              20              3        2\n",
       "top     Chrome         Windows        desktop    False\n",
       "freq    620364          350072         664479   664530"
      ]
     },
     "execution_count": 13,
     "metadata": {},
     "output_type": "execute_result"
    }
   ],
   "source": [
    "tmp_device_df.describe()"
   ]
  },
  {
   "cell_type": "code",
   "execution_count": 14,
   "metadata": {
    "ExecuteTime": {
     "end_time": "2018-10-08T17:13:01.129092Z",
     "start_time": "2018-10-08T17:12:59.713957Z"
    },
    "_uuid": "1a9f91b20b7d28fd8f7efbdd0ea3ae3e2d29aea7"
   },
   "outputs": [
    {
     "data": {
      "text/plain": [
       "<matplotlib.axes._subplots.AxesSubplot at 0x1b4cc2e80>"
      ]
     },
     "execution_count": 14,
     "metadata": {},
     "output_type": "execute_result"
    },
    {
     "data": {
      "image/png": "[encoded data removed]",
      "text/plain": [
       "<Figure size 1080x1080 with 4 Axes>"
      ]
     },
     "metadata": {
      "needs_background": "light"
     },
     "output_type": "display_data"
    }
   ],
   "source": [
    "fig, axes = plt.subplots(2,2,figsize=(15,15))\n",
    "tmp_device_df[\"isMobile\"].value_counts().plot(kind=\"bar\",ax=axes[0][0],rot=25,legend=\"isMobile\",color='tan')\n",
    "tmp_device_df[\"browser\"].value_counts().head(10).plot(kind=\"bar\",ax=axes[0][1],rot=40,legend=\"browser\",color='teal')\n",
    "tmp_device_df[\"deviceCategory\"].value_counts().head(10).plot(kind=\"bar\",ax=axes[1][0],rot=25,legend=\"deviceCategory\",color='lime')\n",
    "tmp_device_df[\"operatingSystem\"].value_counts().head(10).plot(kind=\"bar\",ax=axes[1][1],rot=80,legend=\"operatingSystem\",color='c')"
   ]
  },
  {
   "cell_type": "markdown",
   "metadata": {
    "_uuid": "8fcdcdddde4e9b6c4818ea9cb46331a8f1890a70"
   },
   "source": [
    "**geoNetwork**\n",
    "\n",
    "It is json and the similar manner to previous feature (device) should be done.\n"
   ]
  },
  {
   "cell_type": "code",
   "execution_count": 15,
   "metadata": {
    "ExecuteTime": {
     "end_time": "2018-10-08T17:13:13.180759Z",
     "start_time": "2018-10-08T17:13:01.131538Z"
    },
    "_uuid": "9d2c8de2826719ba58ca3785471aab39af56b371"
   },
   "outputs": [],
   "source": [
    "tmp_geo_df = pd.DataFrame(train_data.geoNetwork.apply(json.loads).tolist())[[\"continent\",\"subContinent\",\"country\",\"city\"]]"
   ]
  },
  {
   "cell_type": "code",
   "execution_count": 16,
   "metadata": {
    "ExecuteTime": {
     "end_time": "2018-10-08T17:13:13.191724Z",
     "start_time": "2018-10-08T17:13:13.182686Z"
    },
    "_uuid": "3e3e0826f8a489bb9642968a12f0ac7875a8c7b7"
   },
   "outputs": [
    {
     "data": {
      "text/html": [
       "<div>\n",
       "<style scoped>\n",
       "    .dataframe tbody tr th:only-of-type {\n",
       "        vertical-align: middle;\n",
       "    }\n",
       "\n",
       "    .dataframe tbody tr th {\n",
       "        vertical-align: top;\n",
       "    }\n",
       "\n",
       "    .dataframe thead th {\n",
       "        text-align: right;\n",
       "    }\n",
       "</style>\n",
       "<table border=\"1\" class=\"dataframe\">\n",
       "  <thead>\n",
       "    <tr style=\"text-align: right;\">\n",
       "      <th></th>\n",
       "      <th>continent</th>\n",
       "      <th>subContinent</th>\n",
       "      <th>country</th>\n",
       "      <th>city</th>\n",
       "    </tr>\n",
       "  </thead>\n",
       "  <tbody>\n",
       "    <tr>\n",
       "      <th>0</th>\n",
       "      <td>Asia</td>\n",
       "      <td>Western Asia</td>\n",
       "      <td>Turkey</td>\n",
       "      <td>Izmir</td>\n",
       "    </tr>\n",
       "    <tr>\n",
       "      <th>1</th>\n",
       "      <td>Oceania</td>\n",
       "      <td>Australasia</td>\n",
       "      <td>Australia</td>\n",
       "      <td>not available in demo dataset</td>\n",
       "    </tr>\n",
       "    <tr>\n",
       "      <th>2</th>\n",
       "      <td>Europe</td>\n",
       "      <td>Southern Europe</td>\n",
       "      <td>Spain</td>\n",
       "      <td>Madrid</td>\n",
       "    </tr>\n",
       "    <tr>\n",
       "      <th>3</th>\n",
       "      <td>Asia</td>\n",
       "      <td>Southeast Asia</td>\n",
       "      <td>Indonesia</td>\n",
       "      <td>not available in demo dataset</td>\n",
       "    </tr>\n",
       "    <tr>\n",
       "      <th>4</th>\n",
       "      <td>Europe</td>\n",
       "      <td>Northern Europe</td>\n",
       "      <td>United Kingdom</td>\n",
       "      <td>not available in demo dataset</td>\n",
       "    </tr>\n",
       "  </tbody>\n",
       "</table>\n",
       "</div>"
      ],
      "text/plain": [
       "  continent     subContinent         country                           city\n",
       "0      Asia     Western Asia          Turkey                          Izmir\n",
       "1   Oceania      Australasia       Australia  not available in demo dataset\n",
       "2    Europe  Southern Europe           Spain                         Madrid\n",
       "3      Asia   Southeast Asia       Indonesia  not available in demo dataset\n",
       "4    Europe  Northern Europe  United Kingdom  not available in demo dataset"
      ]
     },
     "execution_count": 16,
     "metadata": {},
     "output_type": "execute_result"
    }
   ],
   "source": [
    "tmp_geo_df.head()"
   ]
  },
  {
   "cell_type": "code",
   "execution_count": 17,
   "metadata": {
    "ExecuteTime": {
     "end_time": "2018-10-08T17:13:14.948796Z",
     "start_time": "2018-10-08T17:13:13.194361Z"
    },
    "_uuid": "1a750933b4507d43e92a7ce5491e5216caabfe85"
   },
   "outputs": [
    {
     "data": {
      "text/html": [
       "<div>\n",
       "<style scoped>\n",
       "    .dataframe tbody tr th:only-of-type {\n",
       "        vertical-align: middle;\n",
       "    }\n",
       "\n",
       "    .dataframe tbody tr th {\n",
       "        vertical-align: top;\n",
       "    }\n",
       "\n",
       "    .dataframe thead th {\n",
       "        text-align: right;\n",
       "    }\n",
       "</style>\n",
       "<table border=\"1\" class=\"dataframe\">\n",
       "  <thead>\n",
       "    <tr style=\"text-align: right;\">\n",
       "      <th></th>\n",
       "      <th>continent</th>\n",
       "      <th>subContinent</th>\n",
       "      <th>country</th>\n",
       "      <th>city</th>\n",
       "    </tr>\n",
       "  </thead>\n",
       "  <tbody>\n",
       "    <tr>\n",
       "      <th>count</th>\n",
       "      <td>903653</td>\n",
       "      <td>903653</td>\n",
       "      <td>903653</td>\n",
       "      <td>903653</td>\n",
       "    </tr>\n",
       "    <tr>\n",
       "      <th>unique</th>\n",
       "      <td>6</td>\n",
       "      <td>23</td>\n",
       "      <td>222</td>\n",
       "      <td>649</td>\n",
       "    </tr>\n",
       "    <tr>\n",
       "      <th>top</th>\n",
       "      <td>Americas</td>\n",
       "      <td>Northern America</td>\n",
       "      <td>United States</td>\n",
       "      <td>not available in demo dataset</td>\n",
       "    </tr>\n",
       "    <tr>\n",
       "      <th>freq</th>\n",
       "      <td>450377</td>\n",
       "      <td>390657</td>\n",
       "      <td>364744</td>\n",
       "      <td>508229</td>\n",
       "    </tr>\n",
       "  </tbody>\n",
       "</table>\n",
       "</div>"
      ],
      "text/plain": [
       "       continent      subContinent        country  \\\n",
       "count     903653            903653         903653   \n",
       "unique         6                23            222   \n",
       "top     Americas  Northern America  United States   \n",
       "freq      450377            390657         364744   \n",
       "\n",
       "                                 city  \n",
       "count                          903653  \n",
       "unique                            649  \n",
       "top     not available in demo dataset  \n",
       "freq                           508229  "
      ]
     },
     "execution_count": 17,
     "metadata": {},
     "output_type": "execute_result"
    }
   ],
   "source": [
    "tmp_geo_df.describe()"
   ]
  },
  {
   "cell_type": "markdown",
   "metadata": {
    "_uuid": "dba43137c32caff107e861abb03427dd5417b5d3"
   },
   "source": [
    "analysing the distribution of users in 5 continents."
   ]
  },
  {
   "cell_type": "code",
   "execution_count": 18,
   "metadata": {
    "ExecuteTime": {
     "end_time": "2018-10-08T17:13:17.732661Z",
     "start_time": "2018-10-08T17:13:14.951141Z"
    },
    "_uuid": "c8b86fc6149849a1f78b7102edfcbb9e16cb341b"
   },
   "outputs": [
    {
     "data": {
      "text/plain": [
       "<matplotlib.axes._subplots.AxesSubplot at 0x1b576dd68>"
      ]
     },
     "execution_count": 18,
     "metadata": {},
     "output_type": "execute_result"
    },
    {
     "data": {
      "image/png": "[encoded data removed]",
      "text/plain": [
       "<Figure size 1080x1080 with 6 Axes>"
      ]
     },
     "metadata": {
      "needs_background": "light"
     },
     "output_type": "display_data"
    }
   ],
   "source": [
    "fig, axes = plt.subplots(3,2, figsize=(15,15))\n",
    "tmp_geo_df[\"continent\"].value_counts().plot(kind=\"bar\",ax=axes[0][0],title=\"Global Distributions\",rot=0,color=\"c\")\n",
    "tmp_geo_df[tmp_geo_df[\"continent\"] == \"Americas\"][\"subContinent\"].value_counts().plot(kind=\"bar\",ax=axes[1][0], title=\"America Distro\",rot=0,color=\"tan\")\n",
    "tmp_geo_df[tmp_geo_df[\"continent\"] == \"Asia\"][\"subContinent\"].value_counts().plot(kind=\"bar\",ax=axes[0][1], title=\"Asia Distro\",rot=0,color=\"r\")\n",
    "tmp_geo_df[tmp_geo_df[\"continent\"] == \"Europe\"][\"subContinent\"].value_counts().plot(kind=\"bar\",ax=axes[1][1],  title=\"Europe Distro\",rot=0,color=\"lime\")\n",
    "tmp_geo_df[tmp_geo_df[\"continent\"] == \"Oceania\"][\"subContinent\"].value_counts().plot(kind=\"bar\",ax = axes[2][0], title=\"Oceania Distro\",rot=0,color=\"teal\")\n",
    "tmp_geo_df[tmp_geo_df[\"continent\"] == \"Africa\"][\"subContinent\"].value_counts().plot(kind=\"bar\" , ax=axes[2][1], title=\"Africa Distro\",rot=0,color=\"silver\")"
   ]
  },
  {
   "cell_type": "markdown",
   "metadata": {
    "_uuid": "337926fa6261abcbd7fa6fd0804f300c81316a46"
   },
   "source": [
    "**socialEngagementType**\n",
    "\n",
    "Describing this feature confirms its uniqueness. It should be dropped. Because its entropy is 0. "
   ]
  },
  {
   "cell_type": "code",
   "execution_count": 19,
   "metadata": {
    "ExecuteTime": {
     "end_time": "2018-10-08T17:13:17.903302Z",
     "start_time": "2018-10-08T17:13:17.737286Z"
    },
    "_uuid": "7b3911b4fee714c5f1d2c5dc2b033f7c7c7d1e01"
   },
   "outputs": [
    {
     "data": {
      "text/plain": [
       "count                   903653\n",
       "unique                       1\n",
       "top       Not Socially Engaged\n",
       "freq                    903653\n",
       "Name: socialEngagementType, dtype: object"
      ]
     },
     "execution_count": 19,
     "metadata": {},
     "output_type": "execute_result"
    }
   ],
   "source": [
    "train_data[\"socialEngagementType\"].describe()"
   ]
  },
  {
   "cell_type": "markdown",
   "metadata": {
    "_uuid": "24c3161564ec95f36881869b0e2f4fbf6d834b86"
   },
   "source": [
    "**totals**\n"
   ]
  },
  {
   "cell_type": "code",
   "execution_count": 20,
   "metadata": {
    "ExecuteTime": {
     "end_time": "2018-10-08T17:13:23.577932Z",
     "start_time": "2018-10-08T17:13:17.906356Z"
    },
    "_uuid": "ed05f7a083c3863e88b9d820bc10940765de245d"
   },
   "outputs": [],
   "source": [
    "train_data.head()\n",
    "train_data[\"revenue\"] = pd.DataFrame(train_data.totals.apply(json.loads).tolist())[[\"transactionRevenue\"]]\n"
   ]
  },
  {
   "cell_type": "code",
   "execution_count": 21,
   "metadata": {
    "ExecuteTime": {
     "end_time": "2018-10-08T17:13:32.472923Z",
     "start_time": "2018-10-08T17:13:32.453766Z"
    }
   },
   "outputs": [
    {
     "data": {
      "text/html": [
       "<div>\n",
       "<style scoped>\n",
       "    .dataframe tbody tr th:only-of-type {\n",
       "        vertical-align: middle;\n",
       "    }\n",
       "\n",
       "    .dataframe tbody tr th {\n",
       "        vertical-align: top;\n",
       "    }\n",
       "\n",
       "    .dataframe thead th {\n",
       "        text-align: right;\n",
       "    }\n",
       "</style>\n",
       "<table border=\"1\" class=\"dataframe\">\n",
       "  <thead>\n",
       "    <tr style=\"text-align: right;\">\n",
       "      <th></th>\n",
       "      <th>channelGrouping</th>\n",
       "      <th>date</th>\n",
       "      <th>device</th>\n",
       "      <th>fullVisitorId</th>\n",
       "      <th>geoNetwork</th>\n",
       "      <th>sessionId</th>\n",
       "      <th>socialEngagementType</th>\n",
       "      <th>totals</th>\n",
       "      <th>trafficSource</th>\n",
       "      <th>visitId</th>\n",
       "      <th>visitNumber</th>\n",
       "      <th>visitStartTime</th>\n",
       "      <th>revenue</th>\n",
       "    </tr>\n",
       "  </thead>\n",
       "  <tbody>\n",
       "    <tr>\n",
       "      <th>0</th>\n",
       "      <td>Organic Search</td>\n",
       "      <td>2016-09-02</td>\n",
       "      <td>{\"browser\": \"Chrome\", \"browserVersion\": \"not a...</td>\n",
       "      <td>1131660440785968503</td>\n",
       "      <td>{\"continent\": \"Asia\", \"subContinent\": \"Western...</td>\n",
       "      <td>1131660440785968503_1472830385</td>\n",
       "      <td>Not Socially Engaged</td>\n",
       "      <td>{\"visits\": \"1\", \"hits\": \"1\", \"pageviews\": \"1\",...</td>\n",
       "      <td>{\"campaign\": \"(not set)\", \"source\": \"google\", ...</td>\n",
       "      <td>1472830385</td>\n",
       "      <td>1</td>\n",
       "      <td>2016-09-02 15:33:05</td>\n",
       "      <td>NaN</td>\n",
       "    </tr>\n",
       "    <tr>\n",
       "      <th>1</th>\n",
       "      <td>Organic Search</td>\n",
       "      <td>2016-09-02</td>\n",
       "      <td>{\"browser\": \"Firefox\", \"browserVersion\": \"not ...</td>\n",
       "      <td>377306020877927890</td>\n",
       "      <td>{\"continent\": \"Oceania\", \"subContinent\": \"Aust...</td>\n",
       "      <td>377306020877927890_1472880147</td>\n",
       "      <td>Not Socially Engaged</td>\n",
       "      <td>{\"visits\": \"1\", \"hits\": \"1\", \"pageviews\": \"1\",...</td>\n",
       "      <td>{\"campaign\": \"(not set)\", \"source\": \"google\", ...</td>\n",
       "      <td>1472880147</td>\n",
       "      <td>1</td>\n",
       "      <td>2016-09-03 05:22:27</td>\n",
       "      <td>NaN</td>\n",
       "    </tr>\n",
       "    <tr>\n",
       "      <th>2</th>\n",
       "      <td>Organic Search</td>\n",
       "      <td>2016-09-02</td>\n",
       "      <td>{\"browser\": \"Chrome\", \"browserVersion\": \"not a...</td>\n",
       "      <td>3895546263509774583</td>\n",
       "      <td>{\"continent\": \"Europe\", \"subContinent\": \"South...</td>\n",
       "      <td>3895546263509774583_1472865386</td>\n",
       "      <td>Not Socially Engaged</td>\n",
       "      <td>{\"visits\": \"1\", \"hits\": \"1\", \"pageviews\": \"1\",...</td>\n",
       "      <td>{\"campaign\": \"(not set)\", \"source\": \"google\", ...</td>\n",
       "      <td>1472865386</td>\n",
       "      <td>1</td>\n",
       "      <td>2016-09-03 01:16:26</td>\n",
       "      <td>NaN</td>\n",
       "    </tr>\n",
       "    <tr>\n",
       "      <th>3</th>\n",
       "      <td>Organic Search</td>\n",
       "      <td>2016-09-02</td>\n",
       "      <td>{\"browser\": \"UC Browser\", \"browserVersion\": \"n...</td>\n",
       "      <td>4763447161404445595</td>\n",
       "      <td>{\"continent\": \"Asia\", \"subContinent\": \"Southea...</td>\n",
       "      <td>4763447161404445595_1472881213</td>\n",
       "      <td>Not Socially Engaged</td>\n",
       "      <td>{\"visits\": \"1\", \"hits\": \"1\", \"pageviews\": \"1\",...</td>\n",
       "      <td>{\"campaign\": \"(not set)\", \"source\": \"google\", ...</td>\n",
       "      <td>1472881213</td>\n",
       "      <td>1</td>\n",
       "      <td>2016-09-03 05:40:13</td>\n",
       "      <td>NaN</td>\n",
       "    </tr>\n",
       "    <tr>\n",
       "      <th>4</th>\n",
       "      <td>Organic Search</td>\n",
       "      <td>2016-09-02</td>\n",
       "      <td>{\"browser\": \"Chrome\", \"browserVersion\": \"not a...</td>\n",
       "      <td>27294437909732085</td>\n",
       "      <td>{\"continent\": \"Europe\", \"subContinent\": \"North...</td>\n",
       "      <td>27294437909732085_1472822600</td>\n",
       "      <td>Not Socially Engaged</td>\n",
       "      <td>{\"visits\": \"1\", \"hits\": \"1\", \"pageviews\": \"1\",...</td>\n",
       "      <td>{\"campaign\": \"(not set)\", \"source\": \"google\", ...</td>\n",
       "      <td>1472822600</td>\n",
       "      <td>2</td>\n",
       "      <td>2016-09-02 13:23:20</td>\n",
       "      <td>NaN</td>\n",
       "    </tr>\n",
       "  </tbody>\n",
       "</table>\n",
       "</div>"
      ],
      "text/plain": [
       "  channelGrouping       date  \\\n",
       "0  Organic Search 2016-09-02   \n",
       "1  Organic Search 2016-09-02   \n",
       "2  Organic Search 2016-09-02   \n",
       "3  Organic Search 2016-09-02   \n",
       "4  Organic Search 2016-09-02   \n",
       "\n",
       "                                              device        fullVisitorId  \\\n",
       "0  {\"browser\": \"Chrome\", \"browserVersion\": \"not a...  1131660440785968503   \n",
       "1  {\"browser\": \"Firefox\", \"browserVersion\": \"not ...   377306020877927890   \n",
       "2  {\"browser\": \"Chrome\", \"browserVersion\": \"not a...  3895546263509774583   \n",
       "3  {\"browser\": \"UC Browser\", \"browserVersion\": \"n...  4763447161404445595   \n",
       "4  {\"browser\": \"Chrome\", \"browserVersion\": \"not a...    27294437909732085   \n",
       "\n",
       "                                          geoNetwork  \\\n",
       "0  {\"continent\": \"Asia\", \"subContinent\": \"Western...   \n",
       "1  {\"continent\": \"Oceania\", \"subContinent\": \"Aust...   \n",
       "2  {\"continent\": \"Europe\", \"subContinent\": \"South...   \n",
       "3  {\"continent\": \"Asia\", \"subContinent\": \"Southea...   \n",
       "4  {\"continent\": \"Europe\", \"subContinent\": \"North...   \n",
       "\n",
       "                        sessionId  socialEngagementType  \\\n",
       "0  1131660440785968503_1472830385  Not Socially Engaged   \n",
       "1   377306020877927890_1472880147  Not Socially Engaged   \n",
       "2  3895546263509774583_1472865386  Not Socially Engaged   \n",
       "3  4763447161404445595_1472881213  Not Socially Engaged   \n",
       "4    27294437909732085_1472822600  Not Socially Engaged   \n",
       "\n",
       "                                              totals  \\\n",
       "0  {\"visits\": \"1\", \"hits\": \"1\", \"pageviews\": \"1\",...   \n",
       "1  {\"visits\": \"1\", \"hits\": \"1\", \"pageviews\": \"1\",...   \n",
       "2  {\"visits\": \"1\", \"hits\": \"1\", \"pageviews\": \"1\",...   \n",
       "3  {\"visits\": \"1\", \"hits\": \"1\", \"pageviews\": \"1\",...   \n",
       "4  {\"visits\": \"1\", \"hits\": \"1\", \"pageviews\": \"1\",...   \n",
       "\n",
       "                                       trafficSource     visitId  visitNumber  \\\n",
       "0  {\"campaign\": \"(not set)\", \"source\": \"google\", ...  1472830385            1   \n",
       "1  {\"campaign\": \"(not set)\", \"source\": \"google\", ...  1472880147            1   \n",
       "2  {\"campaign\": \"(not set)\", \"source\": \"google\", ...  1472865386            1   \n",
       "3  {\"campaign\": \"(not set)\", \"source\": \"google\", ...  1472881213            1   \n",
       "4  {\"campaign\": \"(not set)\", \"source\": \"google\", ...  1472822600            2   \n",
       "\n",
       "       visitStartTime revenue  \n",
       "0 2016-09-02 15:33:05     NaN  \n",
       "1 2016-09-03 05:22:27     NaN  \n",
       "2 2016-09-03 01:16:26     NaN  \n",
       "3 2016-09-03 05:40:13     NaN  \n",
       "4 2016-09-02 13:23:20     NaN  "
      ]
     },
     "execution_count": 21,
     "metadata": {},
     "output_type": "execute_result"
    }
   ],
   "source": [
    "train_data.head(5)"
   ]
  },
  {
   "cell_type": "markdown",
   "metadata": {
    "_uuid": "0d6a1b3a04a6af113c0bd6ae5f75ed8ce0f6b0b3"
   },
   "source": [
    "Extracting all the revenues can bring us an overview about the total revenue."
   ]
  },
  {
   "cell_type": "code",
   "execution_count": 22,
   "metadata": {
    "ExecuteTime": {
     "end_time": "2018-10-08T17:13:45.519385Z",
     "start_time": "2018-10-08T17:13:44.798851Z"
    },
    "_uuid": "11f9072ff0e17577979bbfee4dea7a6139bef5c8"
   },
   "outputs": [
    {
     "data": {
      "text/html": [
       "<div>\n",
       "<style scoped>\n",
       "    .dataframe tbody tr th:only-of-type {\n",
       "        vertical-align: middle;\n",
       "    }\n",
       "\n",
       "    .dataframe tbody tr th {\n",
       "        vertical-align: top;\n",
       "    }\n",
       "\n",
       "    .dataframe thead th {\n",
       "        text-align: right;\n",
       "    }\n",
       "</style>\n",
       "<table border=\"1\" class=\"dataframe\">\n",
       "  <thead>\n",
       "    <tr style=\"text-align: right;\">\n",
       "      <th></th>\n",
       "      <th>revenue</th>\n",
       "      <th>date</th>\n",
       "    </tr>\n",
       "  </thead>\n",
       "  <tbody>\n",
       "    <tr>\n",
       "      <th>752</th>\n",
       "      <td>37860000</td>\n",
       "      <td>2016-09-02</td>\n",
       "    </tr>\n",
       "    <tr>\n",
       "      <th>753</th>\n",
       "      <td>306670000</td>\n",
       "      <td>2016-09-02</td>\n",
       "    </tr>\n",
       "    <tr>\n",
       "      <th>799</th>\n",
       "      <td>68030000</td>\n",
       "      <td>2016-09-02</td>\n",
       "    </tr>\n",
       "    <tr>\n",
       "      <th>802</th>\n",
       "      <td>26250000</td>\n",
       "      <td>2016-09-02</td>\n",
       "    </tr>\n",
       "    <tr>\n",
       "      <th>859</th>\n",
       "      <td>574150000</td>\n",
       "      <td>2016-09-02</td>\n",
       "    </tr>\n",
       "  </tbody>\n",
       "</table>\n",
       "</div>"
      ],
      "text/plain": [
       "       revenue       date\n",
       "752   37860000 2016-09-02\n",
       "753  306670000 2016-09-02\n",
       "799   68030000 2016-09-02\n",
       "802   26250000 2016-09-02\n",
       "859  574150000 2016-09-02"
      ]
     },
     "execution_count": 22,
     "metadata": {},
     "output_type": "execute_result"
    }
   ],
   "source": [
    "revenue_datetime_df = train_data[[\"revenue\" , \"date\"]].dropna()\n",
    "revenue_datetime_df[\"revenue\"] = revenue_datetime_df.revenue.astype(np.int64)\n",
    "revenue_datetime_df.head()"
   ]
  },
  {
   "cell_type": "markdown",
   "metadata": {
    "_uuid": "95155bf9d934bf271a424c8a98255fc9a9194363"
   },
   "source": [
    "Aggregation on days and plotting daily revenue."
   ]
  },
  {
   "cell_type": "code",
   "execution_count": null,
   "metadata": {
    "_uuid": "3ddbf6c05926782adbc4b6d2424e88df2c0a728a"
   },
   "outputs": [],
   "source": [
    "daily_revenue_df = revenue_datetime_df.groupby(by=[\"date\"],axis = 0 ).sum()\n",
    "import matplotlib.pyplot as plt\n",
    "fig, axes = plt.subplots(figsize=(20,10))\n",
    "axes.set_title(\"Daily Revenue\")\n",
    "axes.set_ylabel(\"Revenue\")\n",
    "axes.set_xlabel(\"date\")\n",
    "axes.plot(daily_revenue_df[\"revenue\"])\n"
   ]
  },
  {
   "cell_type": "code",
   "execution_count": null,
   "metadata": {
    "_uuid": "a8e89d239eb5b6d510ecc8e9f17215c5bc527b16"
   },
   "outputs": [],
   "source": [
    "fig, axes = plt.subplots(nrows=1, ncols=1, figsize=(9, 9))\n",
    "axes.set_title(\"Daily revenue Violin\")\n",
    "axes.set_ylabel(\"revenue\")\n",
    "axes.violinplot(list(daily_revenue_df[\"revenue\"].values),showmeans=False,showmedians=True)"
   ]
  },
  {
   "cell_type": "markdown",
   "metadata": {
    "_uuid": "7a1a7ed010b0ae312a18612e20fc3a4a0e78f3a8"
   },
   "source": [
    "**visitNumber**\n",
    "\n",
    "Number of visits have profound potential to be an important factor in regression progress. "
   ]
  },
  {
   "cell_type": "code",
   "execution_count": null,
   "metadata": {
    "_uuid": "280d50807c7221484f954f4baef407d583d55795"
   },
   "outputs": [],
   "source": [
    "visit_datetime_df = train_data[[\"date\",\"visitNumber\"]]\n",
    "visit_datetime_df[\"visitNumber\"] = visit_datetime_df.visitNumber.astype(np.int64)"
   ]
  },
  {
   "cell_type": "code",
   "execution_count": null,
   "metadata": {
    "_uuid": "94394db7363f82dc3e8d4b63ce04b451cfd858fa"
   },
   "outputs": [],
   "source": [
    "daily_visit_df = visit_datetime_df.groupby(by=[\"date\"], axis = 0).sum()\n",
    "\n",
    "fig, axes = plt.subplots(1,1,figsize=(20,10))\n",
    "axes.set_ylabel(\"# of visits\")\n",
    "axes.set_xlabel(\"date\")\n",
    "axes.set_title(\"Daily Visits\")\n",
    "axes.plot(daily_visit_df[\"visitNumber\"])"
   ]
  },
  {
   "cell_type": "code",
   "execution_count": null,
   "metadata": {
    "_uuid": "a19b0c54518e1b4cf2a9d40d721567c1764c6f90"
   },
   "outputs": [],
   "source": [
    "fig, axes = plt.subplots(nrows=1, ncols=1, figsize=(9, 9))\n",
    "axes.set_title(\"Daily visits Violin\")\n",
    "axes.set_ylabel(\"# of visitors\")\n",
    "axes.violinplot(list(daily_visit_df[\"visitNumber\"].values),showmeans=False,showmedians=True)"
   ]
  },
  {
   "cell_type": "markdown",
   "metadata": {
    "_uuid": "a7aa14f5d0c7bcf8c602144bbe29821a228e6268"
   },
   "source": [
    "**trafficSource**\n",
    "\n",
    "What is the most conventional manner for visitor who visit to the website and do their shopping ? trafficSource attribute can resolve this qurestion.\n",
    "Like a previous Json elements existed in the dataset, this attribute is also Json file. so, we use the similar way to deserialize it. We have select keyword, source and the medium as a features which can bring more useful infromation.\n"
   ]
  },
  {
   "cell_type": "code",
   "execution_count": null,
   "metadata": {
    "_uuid": "027a738e3c4f5a3d4066762bc66d287302470039"
   },
   "outputs": [],
   "source": [
    "traffic_source_df = pd.DataFrame(train_data.trafficSource.apply(json.loads).tolist())[[\"keyword\",\"medium\" , \"source\"]]"
   ]
  },
  {
   "cell_type": "code",
   "execution_count": null,
   "metadata": {
    "_uuid": "48e7f72f09c8ae71c3682fd8e7b47e53d3775b7a"
   },
   "outputs": [],
   "source": [
    "fig,axes = plt.subplots(1,2,figsize=(15,10))\n",
    "traffic_source_df[\"medium\"].value_counts().plot(kind=\"bar\",ax = axes[0],title=\"Medium\",rot=0,color=\"tan\")\n",
    "traffic_source_df[\"source\"].value_counts().head(10).plot(kind=\"bar\",ax=axes[1],title=\"source\",rot=75,color=\"teal\")"
   ]
  },
  {
   "cell_type": "markdown",
   "metadata": {
    "_uuid": "df8a4d663158bcc3a00568a41c4ec3fc5fefb7c7"
   },
   "source": [
    "As it is completely obvious in source diagram, google is the most repetitive source. It would be interesting if we replace all google subdomains with exact 'google' and do the same analyze again. let's do it."
   ]
  },
  {
   "cell_type": "code",
   "execution_count": null,
   "metadata": {
    "_uuid": "c1e14eb231912f233cadb2bb0ba48e0ce64b4366"
   },
   "outputs": [],
   "source": [
    "traffic_source_df.loc[traffic_source_df[\"source\"].str.contains(\"google\") ,\"source\"] = \"google\"\n",
    "fig,axes = plt.subplots(1,1,figsize=(8,8))\n",
    "traffic_source_df[\"source\"].value_counts().head(15).plot(kind=\"bar\",ax=axes,title=\"source\",rot=75,color=\"teal\")"
   ]
  },
  {
   "cell_type": "markdown",
   "metadata": {
    "_uuid": "32f46b9faea7670aafecf55b922bb2df0ef8d0c0"
   },
   "source": [
    "Google dependent redirects are more than twice the youtube sources. Combination of this feature with revenue and visits may have important result. We will do it in next step (when we are analyzing feature correlations).\n",
    "Now let's move on keywords feature.\n",
    "A glance to keyword featre represnets lot of missing values '(not provided)'. Drawing a bar chart for both of them...\n"
   ]
  },
  {
   "cell_type": "code",
   "execution_count": null,
   "metadata": {
    "_uuid": "4f0703fa5288ee3e0570f30aefb2739761ce66bd"
   },
   "outputs": [],
   "source": [
    "fig,axes = plt.subplots(1,2,figsize=(15,10))\n",
    "traffic_source_df[\"keyword\"].value_counts().head(10).plot(kind=\"bar\",ax=axes[0], title=\"keywords (total)\",color=\"orange\")\n",
    "traffic_source_df[traffic_source_df[\"keyword\"] != \"(not provided)\"][\"keyword\"].value_counts().head(15).plot(kind=\"bar\",ax=axes[1],title=\"keywords (dropping NA)\",color=\"c\")"
   ]
  },
  {
   "cell_type": "markdown",
   "metadata": {
    "_uuid": "89a7f318e36ea214cb77777bb09e3ceaf3d6a591"
   },
   "source": []
  }
 ],
 "metadata": {
  "kernelspec": {
   "display_name": "Python [default]",
   "language": "python",
   "name": "python3"
  },
  "language_info": {
   "codemirror_mode": {
    "name": "ipython",
    "version": 3
   },
   "file_extension": ".py",
   "mimetype": "text/x-python",
   "name": "python",
   "nbconvert_exporter": "python",
   "pygments_lexer": "ipython3",
   "version": "3.6.6"
  }
 },
 "nbformat": 4,
 "nbformat_minor": 1
}
