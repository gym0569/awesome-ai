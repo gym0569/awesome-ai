{
 "cells": [
  {
   "cell_type": "code",
   "execution_count": 1,
   "metadata": {
    "collapsed": true
   },
   "outputs": [],
   "source": [
    "text1 = \"Ethics are built right into the ideals and objectives of the nation.\""
   ]
  },
  {
   "cell_type": "code",
   "execution_count": 2,
   "metadata": {},
   "outputs": [
    {
     "data": {
      "text/plain": [
       "68"
      ]
     },
     "execution_count": 2,
     "metadata": {},
     "output_type": "execute_result"
    }
   ],
   "source": [
    "len_of_text = len(text1)\n",
    "len_of_text"
   ]
  },
  {
   "cell_type": "code",
   "execution_count": 3,
   "metadata": {},
   "outputs": [
    {
     "data": {
      "text/plain": [
       "['Ethics',\n",
       " 'are',\n",
       " 'built',\n",
       " 'right',\n",
       " 'into',\n",
       " 'the',\n",
       " 'ideals',\n",
       " 'and',\n",
       " 'objectives',\n",
       " 'of',\n",
       " 'the',\n",
       " 'nation.']"
      ]
     },
     "execution_count": 3,
     "metadata": {},
     "output_type": "execute_result"
    }
   ],
   "source": [
    "words = text1.split(\" \") # divide the sentence into words using space as delimeter\n",
    "words"
   ]
  },
  {
   "cell_type": "code",
   "execution_count": 4,
   "metadata": {},
   "outputs": [
    {
     "data": {
      "text/plain": [
       "['Ethics', 'built', 'right', 'into', 'ideals', 'objectives', 'nation.']"
      ]
     },
     "execution_count": 4,
     "metadata": {},
     "output_type": "execute_result"
    }
   ],
   "source": [
    "long_words = [w for w in words if len(w) > 3] # select words with char len of more than 3\n",
    "long_words"
   ]
  },
  {
   "cell_type": "code",
   "execution_count": 5,
   "metadata": {},
   "outputs": [
    {
     "data": {
      "text/plain": [
       "['Ethics']"
      ]
     },
     "execution_count": 5,
     "metadata": {},
     "output_type": "execute_result"
    }
   ],
   "source": [
    "capital_words = [w for w in words if w.istitle()] # get words with their first char as capital\n",
    "capital_words"
   ]
  },
  {
   "cell_type": "code",
   "execution_count": 6,
   "metadata": {},
   "outputs": [
    {
     "data": {
      "text/plain": [
       "['Ethics', 'ideals', 'objectives']"
      ]
     },
     "execution_count": 6,
     "metadata": {},
     "output_type": "execute_result"
    }
   ],
   "source": [
    "# let's find words ending with 's'\n",
    "[w for w in words if w.endswith('s')]"
   ]
  },
  {
   "cell_type": "code",
   "execution_count": 7,
   "metadata": {},
   "outputs": [
    {
     "data": {
      "text/plain": [
       "['the', 'the']"
      ]
     },
     "execution_count": 7,
     "metadata": {},
     "output_type": "execute_result"
    }
   ],
   "source": [
    "# let us find the words starting with 't'\n",
    "[w for w in words if w.startswith('t')]"
   ]
  },
  {
   "cell_type": "code",
   "execution_count": 8,
   "metadata": {},
   "outputs": [
    {
     "name": "stdout",
     "output_type": "stream",
     "text": [
      "['Ethics', 'are', 'built', 'right', 'into', 'the', 'ideals', 'and', 'objectives', 'of', 'the', 'nation.'] 12\n",
      "['Ethics', 'right', 'the', 'built', 'objectives', 'and', 'of', 'nation.', 'into', 'are', 'ideals'] 11\n"
     ]
    }
   ],
   "source": [
    "print(words, len(words))\n",
    "\n",
    "# find unique words\n",
    "unique_words = list(set(words))\n",
    "print(unique_words, len(unique_words))"
   ]
  },
  {
   "cell_type": "code",
   "execution_count": 9,
   "metadata": {},
   "outputs": [
    {
     "data": {
      "text/plain": [
       "['into', 'objectives', 'of', 'nation.']"
      ]
     },
     "execution_count": 9,
     "metadata": {},
     "output_type": "execute_result"
    }
   ],
   "source": [
    "# let us get the words that has 'o' in it\n",
    "[w for w in words if 'o' in w]"
   ]
  },
  {
   "cell_type": "code",
   "execution_count": 10,
   "metadata": {},
   "outputs": [
    {
     "name": "stdout",
     "output_type": "stream",
     "text": [
      "['', 'agad', 'g', '']\n",
      "ouagadougou\n"
     ]
    }
   ],
   "source": [
    "sample_string = \"ouagadougou\"\n",
    "\n",
    "split_text = sample_string.split(\"ou\") # split text with 'ou' as delimeter\n",
    "print(split_text)\n",
    "\n",
    "print(\"ou\".join(split_text)) # get back the text by joining using 'ou'"
   ]
  },
  {
   "cell_type": "code",
   "execution_count": 11,
   "metadata": {},
   "outputs": [
    {
     "name": "stdout",
     "output_type": "stream",
     "text": [
      "['o', 'u', 'a', 'g', 'a', 'd', 'o', 'u', 'g', 'o', 'u']\n"
     ]
    }
   ],
   "source": [
    "# get char from a string\n",
    "sample_characters = list(sample_string)\n",
    "print(sample_characters)"
   ]
  },
  {
   "cell_type": "code",
   "execution_count": 12,
   "metadata": {},
   "outputs": [
    {
     "data": {
      "text/plain": [
       "['o', 'u', 'a', 'g', 'a', 'd', 'o', 'u', 'g', 'o', 'u']"
      ]
     },
     "execution_count": 12,
     "metadata": {},
     "output_type": "execute_result"
    }
   ],
   "source": [
    "# or other way\n",
    "[c for c in sample_string]"
   ]
  },
  {
   "cell_type": "code",
   "execution_count": 13,
   "metadata": {},
   "outputs": [
    {
     "data": {
      "text/plain": [
       "'datasets/machine-learning.txt'"
      ]
     },
     "execution_count": 13,
     "metadata": {},
     "output_type": "execute_result"
    }
   ],
   "source": [
    "# let us handle text from a file\n",
    "f = open(\"datasets/machine-learning.txt\", mode=\"r\")\n",
    "f.name # get the name of file opened by this reference"
   ]
  },
  {
   "cell_type": "code",
   "execution_count": 14,
   "metadata": {},
   "outputs": [
    {
     "data": {
      "text/plain": [
       "'Machine learning is a field of computer science that gives computer systems the ability to \"learn\" (i.e. progressively improve performance on a specific task) with data, without being explicitly programmed.[1]\\n'"
      ]
     },
     "execution_count": 14,
     "metadata": {},
     "output_type": "execute_result"
    }
   ],
   "source": [
    "f.readline() # get the first line"
   ]
  },
  {
   "cell_type": "code",
   "execution_count": 15,
   "metadata": {},
   "outputs": [
    {
     "data": {
      "text/plain": [
       "'\\n'"
      ]
     },
     "execution_count": 15,
     "metadata": {},
     "output_type": "execute_result"
    }
   ],
   "source": [
    "f.readline() # now get the second line"
   ]
  },
  {
   "cell_type": "code",
   "execution_count": 16,
   "metadata": {},
   "outputs": [
    {
     "data": {
      "text/plain": [
       "'The name Machine learning was coined in 1959 by Arthur Samuel.[2] Evolved from the study of pattern recognition and computational learning theory in artificial intelligence,[3] machine learning explores the study and construction of algorithms that can learn from and make predictions on data[4] – such algorithms overcome following strictly static program instructions by making data-driven predictions or decisions,[5]:2 through building a model from sample inputs. Machine learning is employed in a range of computing tasks where designing and programming explicit algorithms with good performance is difficult or infeasible; example applications include email filtering, detection of network intruders or malicious insiders working towards a data breach,[6] optical character recognition (OCR),[7] learning to rank, and computer vision.\\n'"
      ]
     },
     "execution_count": 16,
     "metadata": {},
     "output_type": "execute_result"
    }
   ],
   "source": [
    "f.readline() # get the third line"
   ]
  },
  {
   "cell_type": "code",
   "execution_count": 17,
   "metadata": {},
   "outputs": [
    {
     "name": "stdout",
     "output_type": "stream",
     "text": [
      "['', 'Machine learning is closely related to (and often overlaps with) computational statistics, which also focuses on prediction-making through the use of computers. It has strong ties to mathematical optimization, which delivers methods, theory and application domains to the field. Machine learning is sometimes conflated with data mining,[8] where the latter subfield focuses more on exploratory data analysis and is known as unsupervised learning.[5]:vii[9] Machine learning can also be unsupervised[10] and be used to learn and establish baseline behavioral profiles for various entities[11] and then used to find meaningful anomalies.', '', 'Within the field of data analytics, machine learning is a method used to devise complex models and algorithms that lend themselves to prediction; in commercial use, this is known as predictive analytics. These analytical models allow researchers, data scientists, engineers, and analysts to \"produce reliable, repeatable decisions and results\" and uncover \"hidden insights\" through learning from historical relationships and trends in the data.[12]', '', 'Effective machine learning is difficult because finding patterns is hard and often not enough training data are available; as a result, machine-learning programs often fail to deliver.'] 6\n"
     ]
    }
   ],
   "source": [
    "# get all the line\n",
    "text_blob = f.read() # read the whole file\n",
    "lines = text_blob.splitlines() # split text as lines\n",
    "\n",
    "print(lines, len(lines))"
   ]
  },
  {
   "cell_type": "code",
   "execution_count": 18,
   "metadata": {},
   "outputs": [
    {
     "data": {
      "text/plain": [
       "['Machine learning is closely related to (and often overlaps with) computational statistics, which also focuses on prediction-making through the use of computers. It has strong ties to mathematical optimization, which delivers methods, theory and application domains to the field. Machine learning is sometimes conflated with data mining,[8] where the latter subfield focuses more on exploratory data analysis and is known as unsupervised learning.[5]:vii[9] Machine learning can also be unsupervised[10] and be used to learn and establish baseline behavioral profiles for various entities[11] and then used to find meaningful anomalies.',\n",
       " 'Within the field of data analytics, machine learning is a method used to devise complex models and algorithms that lend themselves to prediction; in commercial use, this is known as predictive analytics. These analytical models allow researchers, data scientists, engineers, and analysts to \"produce reliable, repeatable decisions and results\" and uncover \"hidden insights\" through learning from historical relationships and trends in the data.[12]',\n",
       " 'Effective machine learning is difficult because finding patterns is hard and often not enough training data are available; as a result, machine-learning programs often fail to deliver.']"
      ]
     },
     "execution_count": 18,
     "metadata": {},
     "output_type": "execute_result"
    }
   ],
   "source": [
    "[line for line in lines if len(line) > 1] # get lines with more than 1 char"
   ]
  },
  {
   "cell_type": "code",
   "execution_count": 19,
   "metadata": {},
   "outputs": [
    {
     "data": {
      "text/plain": [
       "[['Machine',\n",
       "  'learning',\n",
       "  'is',\n",
       "  'closely',\n",
       "  'related',\n",
       "  'to',\n",
       "  '(and',\n",
       "  'often',\n",
       "  'overlaps',\n",
       "  'with)',\n",
       "  'computational',\n",
       "  'statistics,',\n",
       "  'which',\n",
       "  'also',\n",
       "  'focuses',\n",
       "  'on',\n",
       "  'prediction-making',\n",
       "  'through',\n",
       "  'the',\n",
       "  'use',\n",
       "  'of',\n",
       "  'computers.',\n",
       "  'It',\n",
       "  'has',\n",
       "  'strong',\n",
       "  'ties',\n",
       "  'to',\n",
       "  'mathematical',\n",
       "  'optimization,',\n",
       "  'which',\n",
       "  'delivers',\n",
       "  'methods,',\n",
       "  'theory',\n",
       "  'and',\n",
       "  'application',\n",
       "  'domains',\n",
       "  'to',\n",
       "  'the',\n",
       "  'field.',\n",
       "  'Machine',\n",
       "  'learning',\n",
       "  'is',\n",
       "  'sometimes',\n",
       "  'conflated',\n",
       "  'with',\n",
       "  'data',\n",
       "  'mining,[8]',\n",
       "  'where',\n",
       "  'the',\n",
       "  'latter',\n",
       "  'subfield',\n",
       "  'focuses',\n",
       "  'more',\n",
       "  'on',\n",
       "  'exploratory',\n",
       "  'data',\n",
       "  'analysis',\n",
       "  'and',\n",
       "  'is',\n",
       "  'known',\n",
       "  'as',\n",
       "  'unsupervised',\n",
       "  'learning.[5]:vii[9]',\n",
       "  'Machine',\n",
       "  'learning',\n",
       "  'can',\n",
       "  'also',\n",
       "  'be',\n",
       "  'unsupervised[10]',\n",
       "  'and',\n",
       "  'be',\n",
       "  'used',\n",
       "  'to',\n",
       "  'learn',\n",
       "  'and',\n",
       "  'establish',\n",
       "  'baseline',\n",
       "  'behavioral',\n",
       "  'profiles',\n",
       "  'for',\n",
       "  'various',\n",
       "  'entities[11]',\n",
       "  'and',\n",
       "  'then',\n",
       "  'used',\n",
       "  'to',\n",
       "  'find',\n",
       "  'meaningful',\n",
       "  'anomalies.'],\n",
       " ['Within',\n",
       "  'the',\n",
       "  'field',\n",
       "  'of',\n",
       "  'data',\n",
       "  'analytics,',\n",
       "  'machine',\n",
       "  'learning',\n",
       "  'is',\n",
       "  'a',\n",
       "  'method',\n",
       "  'used',\n",
       "  'to',\n",
       "  'devise',\n",
       "  'complex',\n",
       "  'models',\n",
       "  'and',\n",
       "  'algorithms',\n",
       "  'that',\n",
       "  'lend',\n",
       "  'themselves',\n",
       "  'to',\n",
       "  'prediction;',\n",
       "  'in',\n",
       "  'commercial',\n",
       "  'use,',\n",
       "  'this',\n",
       "  'is',\n",
       "  'known',\n",
       "  'as',\n",
       "  'predictive',\n",
       "  'analytics.',\n",
       "  'These',\n",
       "  'analytical',\n",
       "  'models',\n",
       "  'allow',\n",
       "  'researchers,',\n",
       "  'data',\n",
       "  'scientists,',\n",
       "  'engineers,',\n",
       "  'and',\n",
       "  'analysts',\n",
       "  'to',\n",
       "  '\"produce',\n",
       "  'reliable,',\n",
       "  'repeatable',\n",
       "  'decisions',\n",
       "  'and',\n",
       "  'results\"',\n",
       "  'and',\n",
       "  'uncover',\n",
       "  '\"hidden',\n",
       "  'insights\"',\n",
       "  'through',\n",
       "  'learning',\n",
       "  'from',\n",
       "  'historical',\n",
       "  'relationships',\n",
       "  'and',\n",
       "  'trends',\n",
       "  'in',\n",
       "  'the',\n",
       "  'data.[12]'],\n",
       " ['Effective',\n",
       "  'machine',\n",
       "  'learning',\n",
       "  'is',\n",
       "  'difficult',\n",
       "  'because',\n",
       "  'finding',\n",
       "  'patterns',\n",
       "  'is',\n",
       "  'hard',\n",
       "  'and',\n",
       "  'often',\n",
       "  'not',\n",
       "  'enough',\n",
       "  'training',\n",
       "  'data',\n",
       "  'are',\n",
       "  'available;',\n",
       "  'as',\n",
       "  'a',\n",
       "  'result,',\n",
       "  'machine-learning',\n",
       "  'programs',\n",
       "  'often',\n",
       "  'fail',\n",
       "  'to',\n",
       "  'deliver.']]"
      ]
     },
     "execution_count": 19,
     "metadata": {},
     "output_type": "execute_result"
    }
   ],
   "source": [
    "[line.split(\" \") for line in lines if len(line) > 1] # get the words for each line"
   ]
  },
  {
   "cell_type": "code",
   "execution_count": 20,
   "metadata": {
    "collapsed": true
   },
   "outputs": [],
   "source": [
    "# don't forget the close the file\n",
    "f.close()"
   ]
  },
  {
   "cell_type": "code",
   "execution_count": 21,
   "metadata": {
    "collapsed": true
   },
   "outputs": [],
   "source": [
    "import re # regular expression module"
   ]
  },
  {
   "cell_type": "code",
   "execution_count": 22,
   "metadata": {},
   "outputs": [
    {
     "data": {
      "text/plain": [
       "['#Birthday']"
      ]
     },
     "execution_count": 22,
     "metadata": {},
     "output_type": "execute_result"
    }
   ],
   "source": [
    "text1 = \"Happy Birthday! @ 9, Bangalore #Birthday @nityan\"\n",
    "\n",
    "# get hashtag\n",
    "[w for w in text1.split(\" \") if w.startswith(\"#\")]"
   ]
  },
  {
   "cell_type": "code",
   "execution_count": 23,
   "metadata": {},
   "outputs": [
    {
     "data": {
      "text/plain": [
       "['@', '@nityan']"
      ]
     },
     "execution_count": 23,
     "metadata": {},
     "output_type": "execute_result"
    }
   ],
   "source": [
    "# get callouts\n",
    "[w for w in text1.split(\" \") if w.startswith(\"@\")]"
   ]
  },
  {
   "cell_type": "code",
   "execution_count": 24,
   "metadata": {},
   "outputs": [
    {
     "data": {
      "text/plain": [
       "['@nityan']"
      ]
     },
     "execution_count": 24,
     "metadata": {},
     "output_type": "execute_result"
    }
   ],
   "source": [
    "# as you can see '@' is not a callout\n",
    "# a callout always needs to have '@' followed by some word\n",
    "\n",
    "[w for w in text1.split(\" \") if re.search(\"@[a-zA-z0-9]+\", w)]"
   ]
  },
  {
   "cell_type": "code",
   "execution_count": 25,
   "metadata": {
    "collapsed": true
   },
   "outputs": [],
   "source": [
    "text1 = \"\"\"This is one of the tweets from the UN spokesperson's account and this is ethics are built right into the ideals and objectives of the United Nations.\n",
    " We have seen this earlier today and then you have #UNSG.\n",
    " There is another little piece of text like @ New York society for ethical culture.\n",
    " There's a URL there and then two callouts to @UN and @UN_Women. So from this tweet, if you were find out all callouts and hashtags, how would you do it?\n",
    " First, of course, you have to split it on space to get these individual tokens.\n",
    " So, you have that.\n",
    " So now, you know that you have all of these individual tokens.\n",
    " And now, this is in a better position to find out where callouts are or hashtags are.\n",
    " Why don't you give it a try?\n",
    " \"\"\""
   ]
  },
  {
   "cell_type": "code",
   "execution_count": 26,
   "metadata": {},
   "outputs": [
    {
     "data": {
      "text/plain": [
       "['@UN', '@UN_Women.']"
      ]
     },
     "execution_count": 26,
     "metadata": {},
     "output_type": "execute_result"
    }
   ],
   "source": [
    "# get call outs\n",
    "[w for w in text1.strip().split(\" \") if re.search(\"@[a-zA-z0-9_]+\", w)]"
   ]
  },
  {
   "cell_type": "code",
   "execution_count": 27,
   "metadata": {},
   "outputs": [
    {
     "data": {
      "text/plain": [
       "['#UNSG.\\n']"
      ]
     },
     "execution_count": 27,
     "metadata": {},
     "output_type": "execute_result"
    }
   ],
   "source": [
    "# get the hastag\n",
    "[w for w in text1.strip().split(\" \") if re.search(\"#[a-zA-z0-9_]+\", w)]"
   ]
  },
  {
   "cell_type": "code",
   "execution_count": 28,
   "metadata": {},
   "outputs": [
    {
     "data": {
      "text/plain": [
       "[\" There's a URL there and then two callouts to @UN and @UN_Women. So from this tweet, if you were find out all callouts and hashtags, how would you do it?\",\n",
       " \" Why don't you give it a try?\"]"
      ]
     },
     "execution_count": 28,
     "metadata": {},
     "output_type": "execute_result"
    }
   ],
   "source": [
    "# let us get all the lines ending with a ? mark\n",
    "[w for w in text1.split(\"\\n\") if w.endswith(\"?\")]"
   ]
  },
  {
   "cell_type": "code",
   "execution_count": 29,
   "metadata": {},
   "outputs": [
    {
     "data": {
      "text/plain": [
       "[\" There's a URL there and then two callouts to @UN and @UN_Women. So from this tweet, if you were find out all callouts and hashtags, how would you do it?\",\n",
       " \" Why don't you give it a try?\"]"
      ]
     },
     "execution_count": 29,
     "metadata": {},
     "output_type": "execute_result"
    }
   ],
   "source": [
    "[w for w in text1.strip().split(\"\\n\") if re.search(\".*\\\\?\", w)]"
   ]
  },
  {
   "cell_type": "code",
   "execution_count": 30,
   "metadata": {
    "collapsed": true
   },
   "outputs": [],
   "source": [
    "# Done for now!"
   ]
  },
  {
   "cell_type": "code",
   "execution_count": null,
   "metadata": {
    "collapsed": true
   },
   "outputs": [],
   "source": []
  }
 ],
 "metadata": {
  "kernelspec": {
   "display_name": "Python 3",
   "language": "python",
   "name": "python3"
  },
  "language_info": {
   "codemirror_mode": {
    "name": "ipython",
    "version": 3
   },
   "file_extension": ".py",
   "mimetype": "text/x-python",
   "name": "python",
   "nbconvert_exporter": "python",
   "pygments_lexer": "ipython3",
   "version": "3.6.2"
  }
 },
 "nbformat": 4,
 "nbformat_minor": 2
}
