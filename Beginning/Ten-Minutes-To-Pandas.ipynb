{
 "cells": [
  {
   "cell_type": "code",
   "execution_count": 1,
   "metadata": {
    "collapsed": true
   },
   "outputs": [],
   "source": [
    "import pandas as pd # lets fire up the pandas module"
   ]
  },
  {
   "cell_type": "code",
   "execution_count": 2,
   "metadata": {
    "collapsed": true
   },
   "outputs": [],
   "source": [
    "import numpy as np # fire up the numpy module"
   ]
  },
  {
   "cell_type": "code",
   "execution_count": 3,
   "metadata": {
    "collapsed": true
   },
   "outputs": [],
   "source": [
    "import matplotlib.pyplot as plt\n",
    "%matplotlib inline"
   ]
  },
  {
   "cell_type": "code",
   "execution_count": 4,
   "metadata": {},
   "outputs": [
    {
     "data": {
      "text/plain": [
       "0    1.0\n",
       "1    3.0\n",
       "2    5.0\n",
       "3    NaN\n",
       "4    6.0\n",
       "5    8.0\n",
       "dtype: float64"
      ]
     },
     "execution_count": 4,
     "metadata": {},
     "output_type": "execute_result"
    }
   ],
   "source": [
    "s = pd.Series([1, 3, 5, np.nan, 6, 8]) # create a numpy series using specified values\n",
    "s"
   ]
  },
  {
   "cell_type": "code",
   "execution_count": 5,
   "metadata": {},
   "outputs": [
    {
     "data": {
      "text/plain": [
       "DatetimeIndex(['2017-08-01', '2017-08-02', '2017-08-03', '2017-08-04',\n",
       "               '2017-08-05', '2017-08-06'],\n",
       "              dtype='datetime64[ns]', freq='D')"
      ]
     },
     "execution_count": 5,
     "metadata": {},
     "output_type": "execute_result"
    }
   ],
   "source": [
    "dates = pd.date_range('20170801', periods=6) # create a time series: yyyy-mm-dd\n",
    "dates"
   ]
  },
  {
   "cell_type": "code",
   "execution_count": 6,
   "metadata": {
    "collapsed": true
   },
   "outputs": [],
   "source": [
    "# create a pandas data frame nad set the time series as index\n",
    "# use a list for column names\n",
    "df = pd.DataFrame(np.random.randn(6, 4),\n",
    "                  index=dates,\n",
    "                 columns=list('ABCD'))"
   ]
  },
  {
   "cell_type": "code",
   "execution_count": 7,
   "metadata": {},
   "outputs": [
    {
     "data": {
      "text/html": [
       "<div>\n",
       "<table border=\"1\" class=\"dataframe\">\n",
       "  <thead>\n",
       "    <tr style=\"text-align: right;\">\n",
       "      <th></th>\n",
       "      <th>A</th>\n",
       "      <th>B</th>\n",
       "      <th>C</th>\n",
       "      <th>D</th>\n",
       "    </tr>\n",
       "  </thead>\n",
       "  <tbody>\n",
       "    <tr>\n",
       "      <th>2017-08-01</th>\n",
       "      <td>0.398810</td>\n",
       "      <td>-1.177943</td>\n",
       "      <td>0.797119</td>\n",
       "      <td>-0.062416</td>\n",
       "    </tr>\n",
       "    <tr>\n",
       "      <th>2017-08-02</th>\n",
       "      <td>0.670095</td>\n",
       "      <td>0.456049</td>\n",
       "      <td>-2.795306</td>\n",
       "      <td>0.373462</td>\n",
       "    </tr>\n",
       "    <tr>\n",
       "      <th>2017-08-03</th>\n",
       "      <td>0.232877</td>\n",
       "      <td>2.083839</td>\n",
       "      <td>-0.618865</td>\n",
       "      <td>0.237715</td>\n",
       "    </tr>\n",
       "    <tr>\n",
       "      <th>2017-08-04</th>\n",
       "      <td>-0.739582</td>\n",
       "      <td>0.599071</td>\n",
       "      <td>1.002833</td>\n",
       "      <td>-0.291694</td>\n",
       "    </tr>\n",
       "    <tr>\n",
       "      <th>2017-08-05</th>\n",
       "      <td>0.596927</td>\n",
       "      <td>0.639324</td>\n",
       "      <td>0.711745</td>\n",
       "      <td>-0.610014</td>\n",
       "    </tr>\n",
       "    <tr>\n",
       "      <th>2017-08-06</th>\n",
       "      <td>1.746518</td>\n",
       "      <td>-0.028674</td>\n",
       "      <td>0.666246</td>\n",
       "      <td>-0.995335</td>\n",
       "    </tr>\n",
       "  </tbody>\n",
       "</table>\n",
       "</div>"
      ],
      "text/plain": [
       "                   A         B         C         D\n",
       "2017-08-01  0.398810 -1.177943  0.797119 -0.062416\n",
       "2017-08-02  0.670095  0.456049 -2.795306  0.373462\n",
       "2017-08-03  0.232877  2.083839 -0.618865  0.237715\n",
       "2017-08-04 -0.739582  0.599071  1.002833 -0.291694\n",
       "2017-08-05  0.596927  0.639324  0.711745 -0.610014\n",
       "2017-08-06  1.746518 -0.028674  0.666246 -0.995335"
      ]
     },
     "execution_count": 7,
     "metadata": {},
     "output_type": "execute_result"
    }
   ],
   "source": [
    "df"
   ]
  },
  {
   "cell_type": "code",
   "execution_count": 8,
   "metadata": {},
   "outputs": [
    {
     "data": {
      "text/plain": [
       "A    float64\n",
       "B    float64\n",
       "C    float64\n",
       "D    float64\n",
       "dtype: object"
      ]
     },
     "execution_count": 8,
     "metadata": {},
     "output_type": "execute_result"
    }
   ],
   "source": [
    "df.dtypes # check for data types"
   ]
  },
  {
   "cell_type": "code",
   "execution_count": 9,
   "metadata": {},
   "outputs": [
    {
     "data": {
      "text/html": [
       "<div>\n",
       "<table border=\"1\" class=\"dataframe\">\n",
       "  <thead>\n",
       "    <tr style=\"text-align: right;\">\n",
       "      <th></th>\n",
       "      <th>A</th>\n",
       "      <th>B</th>\n",
       "      <th>C</th>\n",
       "      <th>D</th>\n",
       "    </tr>\n",
       "  </thead>\n",
       "  <tbody>\n",
       "    <tr>\n",
       "      <th>2017-08-01</th>\n",
       "      <td>0.398810</td>\n",
       "      <td>-1.177943</td>\n",
       "      <td>0.797119</td>\n",
       "      <td>-0.062416</td>\n",
       "    </tr>\n",
       "    <tr>\n",
       "      <th>2017-08-02</th>\n",
       "      <td>0.670095</td>\n",
       "      <td>0.456049</td>\n",
       "      <td>-2.795306</td>\n",
       "      <td>0.373462</td>\n",
       "    </tr>\n",
       "    <tr>\n",
       "      <th>2017-08-03</th>\n",
       "      <td>0.232877</td>\n",
       "      <td>2.083839</td>\n",
       "      <td>-0.618865</td>\n",
       "      <td>0.237715</td>\n",
       "    </tr>\n",
       "  </tbody>\n",
       "</table>\n",
       "</div>"
      ],
      "text/plain": [
       "                   A         B         C         D\n",
       "2017-08-01  0.398810 -1.177943  0.797119 -0.062416\n",
       "2017-08-02  0.670095  0.456049 -2.795306  0.373462\n",
       "2017-08-03  0.232877  2.083839 -0.618865  0.237715"
      ]
     },
     "execution_count": 9,
     "metadata": {},
     "output_type": "execute_result"
    }
   ],
   "source": [
    "df.head(3)"
   ]
  },
  {
   "cell_type": "code",
   "execution_count": 10,
   "metadata": {},
   "outputs": [
    {
     "data": {
      "text/html": [
       "<div>\n",
       "<table border=\"1\" class=\"dataframe\">\n",
       "  <thead>\n",
       "    <tr style=\"text-align: right;\">\n",
       "      <th></th>\n",
       "      <th>A</th>\n",
       "      <th>B</th>\n",
       "      <th>C</th>\n",
       "      <th>D</th>\n",
       "    </tr>\n",
       "  </thead>\n",
       "  <tbody>\n",
       "    <tr>\n",
       "      <th>2017-08-02</th>\n",
       "      <td>0.670095</td>\n",
       "      <td>0.456049</td>\n",
       "      <td>-2.795306</td>\n",
       "      <td>0.373462</td>\n",
       "    </tr>\n",
       "    <tr>\n",
       "      <th>2017-08-03</th>\n",
       "      <td>0.232877</td>\n",
       "      <td>2.083839</td>\n",
       "      <td>-0.618865</td>\n",
       "      <td>0.237715</td>\n",
       "    </tr>\n",
       "    <tr>\n",
       "      <th>2017-08-04</th>\n",
       "      <td>-0.739582</td>\n",
       "      <td>0.599071</td>\n",
       "      <td>1.002833</td>\n",
       "      <td>-0.291694</td>\n",
       "    </tr>\n",
       "    <tr>\n",
       "      <th>2017-08-05</th>\n",
       "      <td>0.596927</td>\n",
       "      <td>0.639324</td>\n",
       "      <td>0.711745</td>\n",
       "      <td>-0.610014</td>\n",
       "    </tr>\n",
       "    <tr>\n",
       "      <th>2017-08-06</th>\n",
       "      <td>1.746518</td>\n",
       "      <td>-0.028674</td>\n",
       "      <td>0.666246</td>\n",
       "      <td>-0.995335</td>\n",
       "    </tr>\n",
       "  </tbody>\n",
       "</table>\n",
       "</div>"
      ],
      "text/plain": [
       "                   A         B         C         D\n",
       "2017-08-02  0.670095  0.456049 -2.795306  0.373462\n",
       "2017-08-03  0.232877  2.083839 -0.618865  0.237715\n",
       "2017-08-04 -0.739582  0.599071  1.002833 -0.291694\n",
       "2017-08-05  0.596927  0.639324  0.711745 -0.610014\n",
       "2017-08-06  1.746518 -0.028674  0.666246 -0.995335"
      ]
     },
     "execution_count": 10,
     "metadata": {},
     "output_type": "execute_result"
    }
   ],
   "source": [
    "df.tail()"
   ]
  },
  {
   "cell_type": "code",
   "execution_count": 11,
   "metadata": {},
   "outputs": [
    {
     "data": {
      "text/html": [
       "<div>\n",
       "<table border=\"1\" class=\"dataframe\">\n",
       "  <thead>\n",
       "    <tr style=\"text-align: right;\">\n",
       "      <th></th>\n",
       "      <th>A</th>\n",
       "      <th>B</th>\n",
       "      <th>C</th>\n",
       "      <th>D</th>\n",
       "    </tr>\n",
       "  </thead>\n",
       "  <tbody>\n",
       "    <tr>\n",
       "      <th>2017-08-05</th>\n",
       "      <td>0.596927</td>\n",
       "      <td>0.639324</td>\n",
       "      <td>0.711745</td>\n",
       "      <td>-0.610014</td>\n",
       "    </tr>\n",
       "    <tr>\n",
       "      <th>2017-08-06</th>\n",
       "      <td>1.746518</td>\n",
       "      <td>-0.028674</td>\n",
       "      <td>0.666246</td>\n",
       "      <td>-0.995335</td>\n",
       "    </tr>\n",
       "  </tbody>\n",
       "</table>\n",
       "</div>"
      ],
      "text/plain": [
       "                   A         B         C         D\n",
       "2017-08-05  0.596927  0.639324  0.711745 -0.610014\n",
       "2017-08-06  1.746518 -0.028674  0.666246 -0.995335"
      ]
     },
     "execution_count": 11,
     "metadata": {},
     "output_type": "execute_result"
    }
   ],
   "source": [
    "df.tail(2)"
   ]
  },
  {
   "cell_type": "code",
   "execution_count": 12,
   "metadata": {},
   "outputs": [
    {
     "data": {
      "text/plain": [
       "DatetimeIndex(['2017-08-01', '2017-08-02', '2017-08-03', '2017-08-04',\n",
       "               '2017-08-05', '2017-08-06'],\n",
       "              dtype='datetime64[ns]', freq='D')"
      ]
     },
     "execution_count": 12,
     "metadata": {},
     "output_type": "execute_result"
    }
   ],
   "source": [
    "df.index # view index"
   ]
  },
  {
   "cell_type": "code",
   "execution_count": 13,
   "metadata": {},
   "outputs": [
    {
     "data": {
      "text/plain": [
       "Index(['A', 'B', 'C', 'D'], dtype='object')"
      ]
     },
     "execution_count": 13,
     "metadata": {},
     "output_type": "execute_result"
    }
   ],
   "source": [
    "df.columns"
   ]
  },
  {
   "cell_type": "code",
   "execution_count": 14,
   "metadata": {},
   "outputs": [
    {
     "data": {
      "text/plain": [
       "array([[ 0.39880995, -1.17794298,  0.79711866, -0.06241554],\n",
       "       [ 0.6700947 ,  0.45604867, -2.79530599,  0.37346223],\n",
       "       [ 0.232877  ,  2.08383906, -0.61886512,  0.23771527],\n",
       "       [-0.7395824 ,  0.59907133,  1.00283257, -0.29169395],\n",
       "       [ 0.59692666,  0.63932449,  0.71174537, -0.61001419],\n",
       "       [ 1.74651787, -0.02867444,  0.66624607, -0.99533535]])"
      ]
     },
     "execution_count": 14,
     "metadata": {},
     "output_type": "execute_result"
    }
   ],
   "source": [
    "df.values # get the values in each column"
   ]
  },
  {
   "cell_type": "code",
   "execution_count": 15,
   "metadata": {},
   "outputs": [
    {
     "data": {
      "text/html": [
       "<div>\n",
       "<table border=\"1\" class=\"dataframe\">\n",
       "  <thead>\n",
       "    <tr style=\"text-align: right;\">\n",
       "      <th></th>\n",
       "      <th>A</th>\n",
       "      <th>B</th>\n",
       "      <th>C</th>\n",
       "      <th>D</th>\n",
       "    </tr>\n",
       "  </thead>\n",
       "  <tbody>\n",
       "    <tr>\n",
       "      <th>count</th>\n",
       "      <td>6.000000</td>\n",
       "      <td>6.000000</td>\n",
       "      <td>6.000000</td>\n",
       "      <td>6.000000</td>\n",
       "    </tr>\n",
       "    <tr>\n",
       "      <th>mean</th>\n",
       "      <td>0.484274</td>\n",
       "      <td>0.428611</td>\n",
       "      <td>-0.039371</td>\n",
       "      <td>-0.224714</td>\n",
       "    </tr>\n",
       "    <tr>\n",
       "      <th>std</th>\n",
       "      <td>0.801100</td>\n",
       "      <td>1.058689</td>\n",
       "      <td>1.468262</td>\n",
       "      <td>0.518613</td>\n",
       "    </tr>\n",
       "    <tr>\n",
       "      <th>min</th>\n",
       "      <td>-0.739582</td>\n",
       "      <td>-1.177943</td>\n",
       "      <td>-2.795306</td>\n",
       "      <td>-0.995335</td>\n",
       "    </tr>\n",
       "    <tr>\n",
       "      <th>25%</th>\n",
       "      <td>0.274360</td>\n",
       "      <td>0.092506</td>\n",
       "      <td>-0.297587</td>\n",
       "      <td>-0.530434</td>\n",
       "    </tr>\n",
       "    <tr>\n",
       "      <th>50%</th>\n",
       "      <td>0.497868</td>\n",
       "      <td>0.527560</td>\n",
       "      <td>0.688996</td>\n",
       "      <td>-0.177055</td>\n",
       "    </tr>\n",
       "    <tr>\n",
       "      <th>75%</th>\n",
       "      <td>0.651803</td>\n",
       "      <td>0.629261</td>\n",
       "      <td>0.775775</td>\n",
       "      <td>0.162683</td>\n",
       "    </tr>\n",
       "    <tr>\n",
       "      <th>max</th>\n",
       "      <td>1.746518</td>\n",
       "      <td>2.083839</td>\n",
       "      <td>1.002833</td>\n",
       "      <td>0.373462</td>\n",
       "    </tr>\n",
       "  </tbody>\n",
       "</table>\n",
       "</div>"
      ],
      "text/plain": [
       "              A         B         C         D\n",
       "count  6.000000  6.000000  6.000000  6.000000\n",
       "mean   0.484274  0.428611 -0.039371 -0.224714\n",
       "std    0.801100  1.058689  1.468262  0.518613\n",
       "min   -0.739582 -1.177943 -2.795306 -0.995335\n",
       "25%    0.274360  0.092506 -0.297587 -0.530434\n",
       "50%    0.497868  0.527560  0.688996 -0.177055\n",
       "75%    0.651803  0.629261  0.775775  0.162683\n",
       "max    1.746518  2.083839  1.002833  0.373462"
      ]
     },
     "execution_count": 15,
     "metadata": {},
     "output_type": "execute_result"
    }
   ],
   "source": [
    "df.describe() # compute some basic functions"
   ]
  },
  {
   "cell_type": "code",
   "execution_count": 16,
   "metadata": {},
   "outputs": [
    {
     "data": {
      "text/html": [
       "<div>\n",
       "<table border=\"1\" class=\"dataframe\">\n",
       "  <thead>\n",
       "    <tr style=\"text-align: right;\">\n",
       "      <th></th>\n",
       "      <th>2017-08-01 00:00:00</th>\n",
       "      <th>2017-08-02 00:00:00</th>\n",
       "      <th>2017-08-03 00:00:00</th>\n",
       "      <th>2017-08-04 00:00:00</th>\n",
       "      <th>2017-08-05 00:00:00</th>\n",
       "      <th>2017-08-06 00:00:00</th>\n",
       "    </tr>\n",
       "  </thead>\n",
       "  <tbody>\n",
       "    <tr>\n",
       "      <th>A</th>\n",
       "      <td>0.398810</td>\n",
       "      <td>0.670095</td>\n",
       "      <td>0.232877</td>\n",
       "      <td>-0.739582</td>\n",
       "      <td>0.596927</td>\n",
       "      <td>1.746518</td>\n",
       "    </tr>\n",
       "    <tr>\n",
       "      <th>B</th>\n",
       "      <td>-1.177943</td>\n",
       "      <td>0.456049</td>\n",
       "      <td>2.083839</td>\n",
       "      <td>0.599071</td>\n",
       "      <td>0.639324</td>\n",
       "      <td>-0.028674</td>\n",
       "    </tr>\n",
       "    <tr>\n",
       "      <th>C</th>\n",
       "      <td>0.797119</td>\n",
       "      <td>-2.795306</td>\n",
       "      <td>-0.618865</td>\n",
       "      <td>1.002833</td>\n",
       "      <td>0.711745</td>\n",
       "      <td>0.666246</td>\n",
       "    </tr>\n",
       "    <tr>\n",
       "      <th>D</th>\n",
       "      <td>-0.062416</td>\n",
       "      <td>0.373462</td>\n",
       "      <td>0.237715</td>\n",
       "      <td>-0.291694</td>\n",
       "      <td>-0.610014</td>\n",
       "      <td>-0.995335</td>\n",
       "    </tr>\n",
       "  </tbody>\n",
       "</table>\n",
       "</div>"
      ],
      "text/plain": [
       "   2017-08-01  2017-08-02  2017-08-03  2017-08-04  2017-08-05  2017-08-06\n",
       "A    0.398810    0.670095    0.232877   -0.739582    0.596927    1.746518\n",
       "B   -1.177943    0.456049    2.083839    0.599071    0.639324   -0.028674\n",
       "C    0.797119   -2.795306   -0.618865    1.002833    0.711745    0.666246\n",
       "D   -0.062416    0.373462    0.237715   -0.291694   -0.610014   -0.995335"
      ]
     },
     "execution_count": 16,
     "metadata": {},
     "output_type": "execute_result"
    }
   ],
   "source": [
    "df.T # transpose"
   ]
  },
  {
   "cell_type": "code",
   "execution_count": 17,
   "metadata": {},
   "outputs": [
    {
     "data": {
      "text/html": [
       "<div>\n",
       "<table border=\"1\" class=\"dataframe\">\n",
       "  <thead>\n",
       "    <tr style=\"text-align: right;\">\n",
       "      <th></th>\n",
       "      <th>D</th>\n",
       "      <th>C</th>\n",
       "      <th>B</th>\n",
       "      <th>A</th>\n",
       "    </tr>\n",
       "  </thead>\n",
       "  <tbody>\n",
       "    <tr>\n",
       "      <th>2017-08-01</th>\n",
       "      <td>-0.062416</td>\n",
       "      <td>0.797119</td>\n",
       "      <td>-1.177943</td>\n",
       "      <td>0.398810</td>\n",
       "    </tr>\n",
       "    <tr>\n",
       "      <th>2017-08-02</th>\n",
       "      <td>0.373462</td>\n",
       "      <td>-2.795306</td>\n",
       "      <td>0.456049</td>\n",
       "      <td>0.670095</td>\n",
       "    </tr>\n",
       "    <tr>\n",
       "      <th>2017-08-03</th>\n",
       "      <td>0.237715</td>\n",
       "      <td>-0.618865</td>\n",
       "      <td>2.083839</td>\n",
       "      <td>0.232877</td>\n",
       "    </tr>\n",
       "    <tr>\n",
       "      <th>2017-08-04</th>\n",
       "      <td>-0.291694</td>\n",
       "      <td>1.002833</td>\n",
       "      <td>0.599071</td>\n",
       "      <td>-0.739582</td>\n",
       "    </tr>\n",
       "    <tr>\n",
       "      <th>2017-08-05</th>\n",
       "      <td>-0.610014</td>\n",
       "      <td>0.711745</td>\n",
       "      <td>0.639324</td>\n",
       "      <td>0.596927</td>\n",
       "    </tr>\n",
       "    <tr>\n",
       "      <th>2017-08-06</th>\n",
       "      <td>-0.995335</td>\n",
       "      <td>0.666246</td>\n",
       "      <td>-0.028674</td>\n",
       "      <td>1.746518</td>\n",
       "    </tr>\n",
       "  </tbody>\n",
       "</table>\n",
       "</div>"
      ],
      "text/plain": [
       "                   D         C         B         A\n",
       "2017-08-01 -0.062416  0.797119 -1.177943  0.398810\n",
       "2017-08-02  0.373462 -2.795306  0.456049  0.670095\n",
       "2017-08-03  0.237715 -0.618865  2.083839  0.232877\n",
       "2017-08-04 -0.291694  1.002833  0.599071 -0.739582\n",
       "2017-08-05 -0.610014  0.711745  0.639324  0.596927\n",
       "2017-08-06 -0.995335  0.666246 -0.028674  1.746518"
      ]
     },
     "execution_count": 17,
     "metadata": {},
     "output_type": "execute_result"
    }
   ],
   "source": [
    "df.sort_index(axis=1, ascending=False) # sort the data by an axis"
   ]
  },
  {
   "cell_type": "code",
   "execution_count": 18,
   "metadata": {},
   "outputs": [
    {
     "data": {
      "text/html": [
       "<div>\n",
       "<table border=\"1\" class=\"dataframe\">\n",
       "  <thead>\n",
       "    <tr style=\"text-align: right;\">\n",
       "      <th></th>\n",
       "      <th>A</th>\n",
       "      <th>B</th>\n",
       "      <th>C</th>\n",
       "      <th>D</th>\n",
       "    </tr>\n",
       "  </thead>\n",
       "  <tbody>\n",
       "    <tr>\n",
       "      <th>2017-08-01</th>\n",
       "      <td>0.398810</td>\n",
       "      <td>-1.177943</td>\n",
       "      <td>0.797119</td>\n",
       "      <td>-0.062416</td>\n",
       "    </tr>\n",
       "    <tr>\n",
       "      <th>2017-08-02</th>\n",
       "      <td>0.670095</td>\n",
       "      <td>0.456049</td>\n",
       "      <td>-2.795306</td>\n",
       "      <td>0.373462</td>\n",
       "    </tr>\n",
       "    <tr>\n",
       "      <th>2017-08-03</th>\n",
       "      <td>0.232877</td>\n",
       "      <td>2.083839</td>\n",
       "      <td>-0.618865</td>\n",
       "      <td>0.237715</td>\n",
       "    </tr>\n",
       "    <tr>\n",
       "      <th>2017-08-04</th>\n",
       "      <td>-0.739582</td>\n",
       "      <td>0.599071</td>\n",
       "      <td>1.002833</td>\n",
       "      <td>-0.291694</td>\n",
       "    </tr>\n",
       "    <tr>\n",
       "      <th>2017-08-05</th>\n",
       "      <td>0.596927</td>\n",
       "      <td>0.639324</td>\n",
       "      <td>0.711745</td>\n",
       "      <td>-0.610014</td>\n",
       "    </tr>\n",
       "    <tr>\n",
       "      <th>2017-08-06</th>\n",
       "      <td>1.746518</td>\n",
       "      <td>-0.028674</td>\n",
       "      <td>0.666246</td>\n",
       "      <td>-0.995335</td>\n",
       "    </tr>\n",
       "  </tbody>\n",
       "</table>\n",
       "</div>"
      ],
      "text/plain": [
       "                   A         B         C         D\n",
       "2017-08-01  0.398810 -1.177943  0.797119 -0.062416\n",
       "2017-08-02  0.670095  0.456049 -2.795306  0.373462\n",
       "2017-08-03  0.232877  2.083839 -0.618865  0.237715\n",
       "2017-08-04 -0.739582  0.599071  1.002833 -0.291694\n",
       "2017-08-05  0.596927  0.639324  0.711745 -0.610014\n",
       "2017-08-06  1.746518 -0.028674  0.666246 -0.995335"
      ]
     },
     "execution_count": 18,
     "metadata": {},
     "output_type": "execute_result"
    }
   ],
   "source": [
    "df.sort_index(axis=1, ascending=True)"
   ]
  },
  {
   "cell_type": "code",
   "execution_count": 19,
   "metadata": {},
   "outputs": [
    {
     "data": {
      "text/html": [
       "<div>\n",
       "<table border=\"1\" class=\"dataframe\">\n",
       "  <thead>\n",
       "    <tr style=\"text-align: right;\">\n",
       "      <th></th>\n",
       "      <th>A</th>\n",
       "      <th>B</th>\n",
       "      <th>C</th>\n",
       "      <th>D</th>\n",
       "    </tr>\n",
       "  </thead>\n",
       "  <tbody>\n",
       "    <tr>\n",
       "      <th>2017-08-01</th>\n",
       "      <td>0.398810</td>\n",
       "      <td>-1.177943</td>\n",
       "      <td>0.797119</td>\n",
       "      <td>-0.062416</td>\n",
       "    </tr>\n",
       "    <tr>\n",
       "      <th>2017-08-02</th>\n",
       "      <td>0.670095</td>\n",
       "      <td>0.456049</td>\n",
       "      <td>-2.795306</td>\n",
       "      <td>0.373462</td>\n",
       "    </tr>\n",
       "    <tr>\n",
       "      <th>2017-08-03</th>\n",
       "      <td>0.232877</td>\n",
       "      <td>2.083839</td>\n",
       "      <td>-0.618865</td>\n",
       "      <td>0.237715</td>\n",
       "    </tr>\n",
       "    <tr>\n",
       "      <th>2017-08-04</th>\n",
       "      <td>-0.739582</td>\n",
       "      <td>0.599071</td>\n",
       "      <td>1.002833</td>\n",
       "      <td>-0.291694</td>\n",
       "    </tr>\n",
       "    <tr>\n",
       "      <th>2017-08-05</th>\n",
       "      <td>0.596927</td>\n",
       "      <td>0.639324</td>\n",
       "      <td>0.711745</td>\n",
       "      <td>-0.610014</td>\n",
       "    </tr>\n",
       "    <tr>\n",
       "      <th>2017-08-06</th>\n",
       "      <td>1.746518</td>\n",
       "      <td>-0.028674</td>\n",
       "      <td>0.666246</td>\n",
       "      <td>-0.995335</td>\n",
       "    </tr>\n",
       "  </tbody>\n",
       "</table>\n",
       "</div>"
      ],
      "text/plain": [
       "                   A         B         C         D\n",
       "2017-08-01  0.398810 -1.177943  0.797119 -0.062416\n",
       "2017-08-02  0.670095  0.456049 -2.795306  0.373462\n",
       "2017-08-03  0.232877  2.083839 -0.618865  0.237715\n",
       "2017-08-04 -0.739582  0.599071  1.002833 -0.291694\n",
       "2017-08-05  0.596927  0.639324  0.711745 -0.610014\n",
       "2017-08-06  1.746518 -0.028674  0.666246 -0.995335"
      ]
     },
     "execution_count": 19,
     "metadata": {},
     "output_type": "execute_result"
    }
   ],
   "source": [
    "df.sort_index(axis=0, ascending=True)"
   ]
  },
  {
   "cell_type": "code",
   "execution_count": 20,
   "metadata": {},
   "outputs": [
    {
     "data": {
      "text/html": [
       "<div>\n",
       "<table border=\"1\" class=\"dataframe\">\n",
       "  <thead>\n",
       "    <tr style=\"text-align: right;\">\n",
       "      <th></th>\n",
       "      <th>A</th>\n",
       "      <th>B</th>\n",
       "      <th>C</th>\n",
       "      <th>D</th>\n",
       "    </tr>\n",
       "  </thead>\n",
       "  <tbody>\n",
       "    <tr>\n",
       "      <th>2017-08-06</th>\n",
       "      <td>1.746518</td>\n",
       "      <td>-0.028674</td>\n",
       "      <td>0.666246</td>\n",
       "      <td>-0.995335</td>\n",
       "    </tr>\n",
       "    <tr>\n",
       "      <th>2017-08-05</th>\n",
       "      <td>0.596927</td>\n",
       "      <td>0.639324</td>\n",
       "      <td>0.711745</td>\n",
       "      <td>-0.610014</td>\n",
       "    </tr>\n",
       "    <tr>\n",
       "      <th>2017-08-04</th>\n",
       "      <td>-0.739582</td>\n",
       "      <td>0.599071</td>\n",
       "      <td>1.002833</td>\n",
       "      <td>-0.291694</td>\n",
       "    </tr>\n",
       "    <tr>\n",
       "      <th>2017-08-03</th>\n",
       "      <td>0.232877</td>\n",
       "      <td>2.083839</td>\n",
       "      <td>-0.618865</td>\n",
       "      <td>0.237715</td>\n",
       "    </tr>\n",
       "    <tr>\n",
       "      <th>2017-08-02</th>\n",
       "      <td>0.670095</td>\n",
       "      <td>0.456049</td>\n",
       "      <td>-2.795306</td>\n",
       "      <td>0.373462</td>\n",
       "    </tr>\n",
       "    <tr>\n",
       "      <th>2017-08-01</th>\n",
       "      <td>0.398810</td>\n",
       "      <td>-1.177943</td>\n",
       "      <td>0.797119</td>\n",
       "      <td>-0.062416</td>\n",
       "    </tr>\n",
       "  </tbody>\n",
       "</table>\n",
       "</div>"
      ],
      "text/plain": [
       "                   A         B         C         D\n",
       "2017-08-06  1.746518 -0.028674  0.666246 -0.995335\n",
       "2017-08-05  0.596927  0.639324  0.711745 -0.610014\n",
       "2017-08-04 -0.739582  0.599071  1.002833 -0.291694\n",
       "2017-08-03  0.232877  2.083839 -0.618865  0.237715\n",
       "2017-08-02  0.670095  0.456049 -2.795306  0.373462\n",
       "2017-08-01  0.398810 -1.177943  0.797119 -0.062416"
      ]
     },
     "execution_count": 20,
     "metadata": {},
     "output_type": "execute_result"
    }
   ],
   "source": [
    "df.sort_index(axis=0, ascending=False)"
   ]
  },
  {
   "cell_type": "code",
   "execution_count": 21,
   "metadata": {},
   "outputs": [
    {
     "data": {
      "text/html": [
       "<div>\n",
       "<table border=\"1\" class=\"dataframe\">\n",
       "  <thead>\n",
       "    <tr style=\"text-align: right;\">\n",
       "      <th></th>\n",
       "      <th>A</th>\n",
       "      <th>B</th>\n",
       "      <th>C</th>\n",
       "      <th>D</th>\n",
       "    </tr>\n",
       "  </thead>\n",
       "  <tbody>\n",
       "    <tr>\n",
       "      <th>2017-08-04</th>\n",
       "      <td>-0.739582</td>\n",
       "      <td>0.599071</td>\n",
       "      <td>1.002833</td>\n",
       "      <td>-0.291694</td>\n",
       "    </tr>\n",
       "    <tr>\n",
       "      <th>2017-08-03</th>\n",
       "      <td>0.232877</td>\n",
       "      <td>2.083839</td>\n",
       "      <td>-0.618865</td>\n",
       "      <td>0.237715</td>\n",
       "    </tr>\n",
       "    <tr>\n",
       "      <th>2017-08-01</th>\n",
       "      <td>0.398810</td>\n",
       "      <td>-1.177943</td>\n",
       "      <td>0.797119</td>\n",
       "      <td>-0.062416</td>\n",
       "    </tr>\n",
       "    <tr>\n",
       "      <th>2017-08-05</th>\n",
       "      <td>0.596927</td>\n",
       "      <td>0.639324</td>\n",
       "      <td>0.711745</td>\n",
       "      <td>-0.610014</td>\n",
       "    </tr>\n",
       "    <tr>\n",
       "      <th>2017-08-02</th>\n",
       "      <td>0.670095</td>\n",
       "      <td>0.456049</td>\n",
       "      <td>-2.795306</td>\n",
       "      <td>0.373462</td>\n",
       "    </tr>\n",
       "    <tr>\n",
       "      <th>2017-08-06</th>\n",
       "      <td>1.746518</td>\n",
       "      <td>-0.028674</td>\n",
       "      <td>0.666246</td>\n",
       "      <td>-0.995335</td>\n",
       "    </tr>\n",
       "  </tbody>\n",
       "</table>\n",
       "</div>"
      ],
      "text/plain": [
       "                   A         B         C         D\n",
       "2017-08-04 -0.739582  0.599071  1.002833 -0.291694\n",
       "2017-08-03  0.232877  2.083839 -0.618865  0.237715\n",
       "2017-08-01  0.398810 -1.177943  0.797119 -0.062416\n",
       "2017-08-05  0.596927  0.639324  0.711745 -0.610014\n",
       "2017-08-02  0.670095  0.456049 -2.795306  0.373462\n",
       "2017-08-06  1.746518 -0.028674  0.666246 -0.995335"
      ]
     },
     "execution_count": 21,
     "metadata": {},
     "output_type": "execute_result"
    }
   ],
   "source": [
    "df.sort_values(by='A') # sort data by column names"
   ]
  },
  {
   "cell_type": "code",
   "execution_count": 22,
   "metadata": {},
   "outputs": [
    {
     "data": {
      "text/html": [
       "<div>\n",
       "<table border=\"1\" class=\"dataframe\">\n",
       "  <thead>\n",
       "    <tr style=\"text-align: right;\">\n",
       "      <th></th>\n",
       "      <th>A</th>\n",
       "      <th>B</th>\n",
       "      <th>C</th>\n",
       "      <th>D</th>\n",
       "    </tr>\n",
       "  </thead>\n",
       "  <tbody>\n",
       "    <tr>\n",
       "      <th>2017-08-01</th>\n",
       "      <td>0.398810</td>\n",
       "      <td>-1.177943</td>\n",
       "      <td>0.797119</td>\n",
       "      <td>-0.062416</td>\n",
       "    </tr>\n",
       "    <tr>\n",
       "      <th>2017-08-06</th>\n",
       "      <td>1.746518</td>\n",
       "      <td>-0.028674</td>\n",
       "      <td>0.666246</td>\n",
       "      <td>-0.995335</td>\n",
       "    </tr>\n",
       "    <tr>\n",
       "      <th>2017-08-02</th>\n",
       "      <td>0.670095</td>\n",
       "      <td>0.456049</td>\n",
       "      <td>-2.795306</td>\n",
       "      <td>0.373462</td>\n",
       "    </tr>\n",
       "    <tr>\n",
       "      <th>2017-08-04</th>\n",
       "      <td>-0.739582</td>\n",
       "      <td>0.599071</td>\n",
       "      <td>1.002833</td>\n",
       "      <td>-0.291694</td>\n",
       "    </tr>\n",
       "    <tr>\n",
       "      <th>2017-08-05</th>\n",
       "      <td>0.596927</td>\n",
       "      <td>0.639324</td>\n",
       "      <td>0.711745</td>\n",
       "      <td>-0.610014</td>\n",
       "    </tr>\n",
       "    <tr>\n",
       "      <th>2017-08-03</th>\n",
       "      <td>0.232877</td>\n",
       "      <td>2.083839</td>\n",
       "      <td>-0.618865</td>\n",
       "      <td>0.237715</td>\n",
       "    </tr>\n",
       "  </tbody>\n",
       "</table>\n",
       "</div>"
      ],
      "text/plain": [
       "                   A         B         C         D\n",
       "2017-08-01  0.398810 -1.177943  0.797119 -0.062416\n",
       "2017-08-06  1.746518 -0.028674  0.666246 -0.995335\n",
       "2017-08-02  0.670095  0.456049 -2.795306  0.373462\n",
       "2017-08-04 -0.739582  0.599071  1.002833 -0.291694\n",
       "2017-08-05  0.596927  0.639324  0.711745 -0.610014\n",
       "2017-08-03  0.232877  2.083839 -0.618865  0.237715"
      ]
     },
     "execution_count": 22,
     "metadata": {},
     "output_type": "execute_result"
    }
   ],
   "source": [
    "df.sort_values(by='B')"
   ]
  },
  {
   "cell_type": "code",
   "execution_count": 23,
   "metadata": {},
   "outputs": [
    {
     "data": {
      "text/html": [
       "<div>\n",
       "<table border=\"1\" class=\"dataframe\">\n",
       "  <thead>\n",
       "    <tr style=\"text-align: right;\">\n",
       "      <th></th>\n",
       "      <th>A</th>\n",
       "      <th>B</th>\n",
       "      <th>C</th>\n",
       "      <th>D</th>\n",
       "    </tr>\n",
       "  </thead>\n",
       "  <tbody>\n",
       "    <tr>\n",
       "      <th>2017-08-01</th>\n",
       "      <td>0.398810</td>\n",
       "      <td>-1.177943</td>\n",
       "      <td>0.797119</td>\n",
       "      <td>-0.062416</td>\n",
       "    </tr>\n",
       "    <tr>\n",
       "      <th>2017-08-02</th>\n",
       "      <td>0.670095</td>\n",
       "      <td>0.456049</td>\n",
       "      <td>-2.795306</td>\n",
       "      <td>0.373462</td>\n",
       "    </tr>\n",
       "    <tr>\n",
       "      <th>2017-08-03</th>\n",
       "      <td>0.232877</td>\n",
       "      <td>2.083839</td>\n",
       "      <td>-0.618865</td>\n",
       "      <td>0.237715</td>\n",
       "    </tr>\n",
       "  </tbody>\n",
       "</table>\n",
       "</div>"
      ],
      "text/plain": [
       "                   A         B         C         D\n",
       "2017-08-01  0.398810 -1.177943  0.797119 -0.062416\n",
       "2017-08-02  0.670095  0.456049 -2.795306  0.373462\n",
       "2017-08-03  0.232877  2.083839 -0.618865  0.237715"
      ]
     },
     "execution_count": 23,
     "metadata": {},
     "output_type": "execute_result"
    }
   ],
   "source": [
    "df[0:3] # slicing the data points: a selection method"
   ]
  },
  {
   "cell_type": "code",
   "execution_count": 24,
   "metadata": {},
   "outputs": [
    {
     "data": {
      "text/html": [
       "<div>\n",
       "<table border=\"1\" class=\"dataframe\">\n",
       "  <thead>\n",
       "    <tr style=\"text-align: right;\">\n",
       "      <th></th>\n",
       "      <th>A</th>\n",
       "      <th>B</th>\n",
       "      <th>C</th>\n",
       "      <th>D</th>\n",
       "    </tr>\n",
       "  </thead>\n",
       "  <tbody>\n",
       "    <tr>\n",
       "      <th>2017-08-01</th>\n",
       "      <td>0.398810</td>\n",
       "      <td>-1.177943</td>\n",
       "      <td>0.797119</td>\n",
       "      <td>-0.062416</td>\n",
       "    </tr>\n",
       "    <tr>\n",
       "      <th>2017-08-02</th>\n",
       "      <td>0.670095</td>\n",
       "      <td>0.456049</td>\n",
       "      <td>-2.795306</td>\n",
       "      <td>0.373462</td>\n",
       "    </tr>\n",
       "    <tr>\n",
       "      <th>2017-08-03</th>\n",
       "      <td>0.232877</td>\n",
       "      <td>2.083839</td>\n",
       "      <td>-0.618865</td>\n",
       "      <td>0.237715</td>\n",
       "    </tr>\n",
       "  </tbody>\n",
       "</table>\n",
       "</div>"
      ],
      "text/plain": [
       "                   A         B         C         D\n",
       "2017-08-01  0.398810 -1.177943  0.797119 -0.062416\n",
       "2017-08-02  0.670095  0.456049 -2.795306  0.373462\n",
       "2017-08-03  0.232877  2.083839 -0.618865  0.237715"
      ]
     },
     "execution_count": 24,
     "metadata": {},
     "output_type": "execute_result"
    }
   ],
   "source": [
    "df['20170801':'20170803']"
   ]
  },
  {
   "cell_type": "code",
   "execution_count": 25,
   "metadata": {},
   "outputs": [
    {
     "data": {
      "text/plain": [
       "A    0.398810\n",
       "B   -1.177943\n",
       "C    0.797119\n",
       "D   -0.062416\n",
       "Name: 2017-08-01 00:00:00, dtype: float64"
      ]
     },
     "execution_count": 25,
     "metadata": {},
     "output_type": "execute_result"
    }
   ],
   "source": [
    "df.loc[dates[0]] # select data points using label"
   ]
  },
  {
   "cell_type": "code",
   "execution_count": 26,
   "metadata": {},
   "outputs": [
    {
     "data": {
      "text/html": [
       "<div>\n",
       "<table border=\"1\" class=\"dataframe\">\n",
       "  <thead>\n",
       "    <tr style=\"text-align: right;\">\n",
       "      <th></th>\n",
       "      <th>A</th>\n",
       "      <th>B</th>\n",
       "    </tr>\n",
       "  </thead>\n",
       "  <tbody>\n",
       "    <tr>\n",
       "      <th>2017-08-01</th>\n",
       "      <td>0.398810</td>\n",
       "      <td>-1.177943</td>\n",
       "    </tr>\n",
       "    <tr>\n",
       "      <th>2017-08-02</th>\n",
       "      <td>0.670095</td>\n",
       "      <td>0.456049</td>\n",
       "    </tr>\n",
       "    <tr>\n",
       "      <th>2017-08-03</th>\n",
       "      <td>0.232877</td>\n",
       "      <td>2.083839</td>\n",
       "    </tr>\n",
       "    <tr>\n",
       "      <th>2017-08-04</th>\n",
       "      <td>-0.739582</td>\n",
       "      <td>0.599071</td>\n",
       "    </tr>\n",
       "    <tr>\n",
       "      <th>2017-08-05</th>\n",
       "      <td>0.596927</td>\n",
       "      <td>0.639324</td>\n",
       "    </tr>\n",
       "    <tr>\n",
       "      <th>2017-08-06</th>\n",
       "      <td>1.746518</td>\n",
       "      <td>-0.028674</td>\n",
       "    </tr>\n",
       "  </tbody>\n",
       "</table>\n",
       "</div>"
      ],
      "text/plain": [
       "                   A         B\n",
       "2017-08-01  0.398810 -1.177943\n",
       "2017-08-02  0.670095  0.456049\n",
       "2017-08-03  0.232877  2.083839\n",
       "2017-08-04 -0.739582  0.599071\n",
       "2017-08-05  0.596927  0.639324\n",
       "2017-08-06  1.746518 -0.028674"
      ]
     },
     "execution_count": 26,
     "metadata": {},
     "output_type": "execute_result"
    }
   ],
   "source": [
    "df.loc[:, ['A', 'B']] # select all rows for specific columns"
   ]
  },
  {
   "cell_type": "code",
   "execution_count": 27,
   "metadata": {},
   "outputs": [
    {
     "data": {
      "text/html": [
       "<div>\n",
       "<table border=\"1\" class=\"dataframe\">\n",
       "  <thead>\n",
       "    <tr style=\"text-align: right;\">\n",
       "      <th></th>\n",
       "      <th>D</th>\n",
       "    </tr>\n",
       "  </thead>\n",
       "  <tbody>\n",
       "    <tr>\n",
       "      <th>2017-08-01</th>\n",
       "      <td>-0.062416</td>\n",
       "    </tr>\n",
       "    <tr>\n",
       "      <th>2017-08-02</th>\n",
       "      <td>0.373462</td>\n",
       "    </tr>\n",
       "    <tr>\n",
       "      <th>2017-08-03</th>\n",
       "      <td>0.237715</td>\n",
       "    </tr>\n",
       "    <tr>\n",
       "      <th>2017-08-04</th>\n",
       "      <td>-0.291694</td>\n",
       "    </tr>\n",
       "    <tr>\n",
       "      <th>2017-08-05</th>\n",
       "      <td>-0.610014</td>\n",
       "    </tr>\n",
       "    <tr>\n",
       "      <th>2017-08-06</th>\n",
       "      <td>-0.995335</td>\n",
       "    </tr>\n",
       "  </tbody>\n",
       "</table>\n",
       "</div>"
      ],
      "text/plain": [
       "                   D\n",
       "2017-08-01 -0.062416\n",
       "2017-08-02  0.373462\n",
       "2017-08-03  0.237715\n",
       "2017-08-04 -0.291694\n",
       "2017-08-05 -0.610014\n",
       "2017-08-06 -0.995335"
      ]
     },
     "execution_count": 27,
     "metadata": {},
     "output_type": "execute_result"
    }
   ],
   "source": [
    "df.loc[:, ['D']]"
   ]
  },
  {
   "cell_type": "code",
   "execution_count": 28,
   "metadata": {},
   "outputs": [
    {
     "data": {
      "text/html": [
       "<div>\n",
       "<table border=\"1\" class=\"dataframe\">\n",
       "  <thead>\n",
       "    <tr style=\"text-align: right;\">\n",
       "      <th></th>\n",
       "      <th>C</th>\n",
       "      <th>D</th>\n",
       "    </tr>\n",
       "  </thead>\n",
       "  <tbody>\n",
       "    <tr>\n",
       "      <th>2017-08-01</th>\n",
       "      <td>0.797119</td>\n",
       "      <td>-0.062416</td>\n",
       "    </tr>\n",
       "    <tr>\n",
       "      <th>2017-08-02</th>\n",
       "      <td>-2.795306</td>\n",
       "      <td>0.373462</td>\n",
       "    </tr>\n",
       "    <tr>\n",
       "      <th>2017-08-03</th>\n",
       "      <td>-0.618865</td>\n",
       "      <td>0.237715</td>\n",
       "    </tr>\n",
       "  </tbody>\n",
       "</table>\n",
       "</div>"
      ],
      "text/plain": [
       "                   C         D\n",
       "2017-08-01  0.797119 -0.062416\n",
       "2017-08-02 -2.795306  0.373462\n",
       "2017-08-03 -0.618865  0.237715"
      ]
     },
     "execution_count": 28,
     "metadata": {},
     "output_type": "execute_result"
    }
   ],
   "source": [
    "df.loc['20170801' : '20170803', ['C', 'D']] # select specific rows for specific columns"
   ]
  },
  {
   "cell_type": "markdown",
   "metadata": {
    "collapsed": true
   },
   "source": [
    "### Boolean indexing"
   ]
  },
  {
   "cell_type": "code",
   "execution_count": 29,
   "metadata": {},
   "outputs": [
    {
     "data": {
      "text/html": [
       "<div>\n",
       "<table border=\"1\" class=\"dataframe\">\n",
       "  <thead>\n",
       "    <tr style=\"text-align: right;\">\n",
       "      <th></th>\n",
       "      <th>A</th>\n",
       "      <th>B</th>\n",
       "      <th>C</th>\n",
       "      <th>D</th>\n",
       "    </tr>\n",
       "  </thead>\n",
       "  <tbody>\n",
       "    <tr>\n",
       "      <th>2017-08-01</th>\n",
       "      <td>0.398810</td>\n",
       "      <td>-1.177943</td>\n",
       "      <td>0.797119</td>\n",
       "      <td>-0.062416</td>\n",
       "    </tr>\n",
       "    <tr>\n",
       "      <th>2017-08-02</th>\n",
       "      <td>0.670095</td>\n",
       "      <td>0.456049</td>\n",
       "      <td>-2.795306</td>\n",
       "      <td>0.373462</td>\n",
       "    </tr>\n",
       "    <tr>\n",
       "      <th>2017-08-03</th>\n",
       "      <td>0.232877</td>\n",
       "      <td>2.083839</td>\n",
       "      <td>-0.618865</td>\n",
       "      <td>0.237715</td>\n",
       "    </tr>\n",
       "    <tr>\n",
       "      <th>2017-08-05</th>\n",
       "      <td>0.596927</td>\n",
       "      <td>0.639324</td>\n",
       "      <td>0.711745</td>\n",
       "      <td>-0.610014</td>\n",
       "    </tr>\n",
       "    <tr>\n",
       "      <th>2017-08-06</th>\n",
       "      <td>1.746518</td>\n",
       "      <td>-0.028674</td>\n",
       "      <td>0.666246</td>\n",
       "      <td>-0.995335</td>\n",
       "    </tr>\n",
       "  </tbody>\n",
       "</table>\n",
       "</div>"
      ],
      "text/plain": [
       "                   A         B         C         D\n",
       "2017-08-01  0.398810 -1.177943  0.797119 -0.062416\n",
       "2017-08-02  0.670095  0.456049 -2.795306  0.373462\n",
       "2017-08-03  0.232877  2.083839 -0.618865  0.237715\n",
       "2017-08-05  0.596927  0.639324  0.711745 -0.610014\n",
       "2017-08-06  1.746518 -0.028674  0.666246 -0.995335"
      ]
     },
     "execution_count": 29,
     "metadata": {},
     "output_type": "execute_result"
    }
   ],
   "source": [
    "df[df.A > 0] # perform logical operations and select data points satisfying it"
   ]
  },
  {
   "cell_type": "code",
   "execution_count": 30,
   "metadata": {},
   "outputs": [
    {
     "data": {
      "text/html": [
       "<div>\n",
       "<table border=\"1\" class=\"dataframe\">\n",
       "  <thead>\n",
       "    <tr style=\"text-align: right;\">\n",
       "      <th></th>\n",
       "      <th>A</th>\n",
       "      <th>B</th>\n",
       "      <th>C</th>\n",
       "      <th>D</th>\n",
       "    </tr>\n",
       "  </thead>\n",
       "  <tbody>\n",
       "    <tr>\n",
       "      <th>2017-08-02</th>\n",
       "      <td>0.670095</td>\n",
       "      <td>0.456049</td>\n",
       "      <td>-2.795306</td>\n",
       "      <td>0.373462</td>\n",
       "    </tr>\n",
       "    <tr>\n",
       "      <th>2017-08-03</th>\n",
       "      <td>0.232877</td>\n",
       "      <td>2.083839</td>\n",
       "      <td>-0.618865</td>\n",
       "      <td>0.237715</td>\n",
       "    </tr>\n",
       "    <tr>\n",
       "      <th>2017-08-04</th>\n",
       "      <td>-0.739582</td>\n",
       "      <td>0.599071</td>\n",
       "      <td>1.002833</td>\n",
       "      <td>-0.291694</td>\n",
       "    </tr>\n",
       "    <tr>\n",
       "      <th>2017-08-05</th>\n",
       "      <td>0.596927</td>\n",
       "      <td>0.639324</td>\n",
       "      <td>0.711745</td>\n",
       "      <td>-0.610014</td>\n",
       "    </tr>\n",
       "  </tbody>\n",
       "</table>\n",
       "</div>"
      ],
      "text/plain": [
       "                   A         B         C         D\n",
       "2017-08-02  0.670095  0.456049 -2.795306  0.373462\n",
       "2017-08-03  0.232877  2.083839 -0.618865  0.237715\n",
       "2017-08-04 -0.739582  0.599071  1.002833 -0.291694\n",
       "2017-08-05  0.596927  0.639324  0.711745 -0.610014"
      ]
     },
     "execution_count": 30,
     "metadata": {},
     "output_type": "execute_result"
    }
   ],
   "source": [
    "df[df.B > 0]"
   ]
  },
  {
   "cell_type": "code",
   "execution_count": 31,
   "metadata": {},
   "outputs": [
    {
     "data": {
      "text/html": [
       "<div>\n",
       "<table border=\"1\" class=\"dataframe\">\n",
       "  <thead>\n",
       "    <tr style=\"text-align: right;\">\n",
       "      <th></th>\n",
       "      <th>A</th>\n",
       "      <th>B</th>\n",
       "      <th>C</th>\n",
       "      <th>D</th>\n",
       "    </tr>\n",
       "  </thead>\n",
       "  <tbody>\n",
       "    <tr>\n",
       "      <th>2017-08-01</th>\n",
       "      <td>0.398810</td>\n",
       "      <td>-1.177943</td>\n",
       "      <td>0.797119</td>\n",
       "      <td>-0.062416</td>\n",
       "    </tr>\n",
       "    <tr>\n",
       "      <th>2017-08-02</th>\n",
       "      <td>0.670095</td>\n",
       "      <td>0.456049</td>\n",
       "      <td>-2.795306</td>\n",
       "      <td>0.373462</td>\n",
       "    </tr>\n",
       "    <tr>\n",
       "      <th>2017-08-03</th>\n",
       "      <td>0.232877</td>\n",
       "      <td>2.083839</td>\n",
       "      <td>-0.618865</td>\n",
       "      <td>0.237715</td>\n",
       "    </tr>\n",
       "    <tr>\n",
       "      <th>2017-08-04</th>\n",
       "      <td>-0.739582</td>\n",
       "      <td>0.599071</td>\n",
       "      <td>1.002833</td>\n",
       "      <td>-0.291694</td>\n",
       "    </tr>\n",
       "    <tr>\n",
       "      <th>2017-08-05</th>\n",
       "      <td>0.596927</td>\n",
       "      <td>0.639324</td>\n",
       "      <td>0.711745</td>\n",
       "      <td>-0.610014</td>\n",
       "    </tr>\n",
       "    <tr>\n",
       "      <th>2017-08-06</th>\n",
       "      <td>1.746518</td>\n",
       "      <td>-0.028674</td>\n",
       "      <td>0.666246</td>\n",
       "      <td>-0.995335</td>\n",
       "    </tr>\n",
       "  </tbody>\n",
       "</table>\n",
       "</div>"
      ],
      "text/plain": [
       "                   A         B         C         D\n",
       "2017-08-01  0.398810 -1.177943  0.797119 -0.062416\n",
       "2017-08-02  0.670095  0.456049 -2.795306  0.373462\n",
       "2017-08-03  0.232877  2.083839 -0.618865  0.237715\n",
       "2017-08-04 -0.739582  0.599071  1.002833 -0.291694\n",
       "2017-08-05  0.596927  0.639324  0.711745 -0.610014\n",
       "2017-08-06  1.746518 -0.028674  0.666246 -0.995335"
      ]
     },
     "execution_count": 31,
     "metadata": {},
     "output_type": "execute_result"
    }
   ],
   "source": [
    "df2 = df.copy() # geenrate a true copy of a dataframe\n",
    "df2"
   ]
  },
  {
   "cell_type": "code",
   "execution_count": 32,
   "metadata": {},
   "outputs": [
    {
     "data": {
      "text/html": [
       "<div>\n",
       "<table border=\"1\" class=\"dataframe\">\n",
       "  <thead>\n",
       "    <tr style=\"text-align: right;\">\n",
       "      <th></th>\n",
       "      <th>A</th>\n",
       "      <th>B</th>\n",
       "      <th>C</th>\n",
       "      <th>D</th>\n",
       "      <th>E</th>\n",
       "    </tr>\n",
       "  </thead>\n",
       "  <tbody>\n",
       "    <tr>\n",
       "      <th>2017-08-01</th>\n",
       "      <td>0.398810</td>\n",
       "      <td>-1.177943</td>\n",
       "      <td>0.797119</td>\n",
       "      <td>-0.062416</td>\n",
       "      <td>one</td>\n",
       "    </tr>\n",
       "    <tr>\n",
       "      <th>2017-08-02</th>\n",
       "      <td>0.670095</td>\n",
       "      <td>0.456049</td>\n",
       "      <td>-2.795306</td>\n",
       "      <td>0.373462</td>\n",
       "      <td>two</td>\n",
       "    </tr>\n",
       "    <tr>\n",
       "      <th>2017-08-03</th>\n",
       "      <td>0.232877</td>\n",
       "      <td>2.083839</td>\n",
       "      <td>-0.618865</td>\n",
       "      <td>0.237715</td>\n",
       "      <td>three</td>\n",
       "    </tr>\n",
       "    <tr>\n",
       "      <th>2017-08-04</th>\n",
       "      <td>-0.739582</td>\n",
       "      <td>0.599071</td>\n",
       "      <td>1.002833</td>\n",
       "      <td>-0.291694</td>\n",
       "      <td>four</td>\n",
       "    </tr>\n",
       "    <tr>\n",
       "      <th>2017-08-05</th>\n",
       "      <td>0.596927</td>\n",
       "      <td>0.639324</td>\n",
       "      <td>0.711745</td>\n",
       "      <td>-0.610014</td>\n",
       "      <td>five</td>\n",
       "    </tr>\n",
       "    <tr>\n",
       "      <th>2017-08-06</th>\n",
       "      <td>1.746518</td>\n",
       "      <td>-0.028674</td>\n",
       "      <td>0.666246</td>\n",
       "      <td>-0.995335</td>\n",
       "      <td>six</td>\n",
       "    </tr>\n",
       "  </tbody>\n",
       "</table>\n",
       "</div>"
      ],
      "text/plain": [
       "                   A         B         C         D      E\n",
       "2017-08-01  0.398810 -1.177943  0.797119 -0.062416    one\n",
       "2017-08-02  0.670095  0.456049 -2.795306  0.373462    two\n",
       "2017-08-03  0.232877  2.083839 -0.618865  0.237715  three\n",
       "2017-08-04 -0.739582  0.599071  1.002833 -0.291694   four\n",
       "2017-08-05  0.596927  0.639324  0.711745 -0.610014   five\n",
       "2017-08-06  1.746518 -0.028674  0.666246 -0.995335    six"
      ]
     },
     "execution_count": 32,
     "metadata": {},
     "output_type": "execute_result"
    }
   ],
   "source": [
    "df2['E'] = ['one', 'two', 'three', 'four', 'five', 'six'] # adding a new column\n",
    "df2"
   ]
  },
  {
   "cell_type": "code",
   "execution_count": 33,
   "metadata": {},
   "outputs": [
    {
     "data": {
      "text/plain": [
       "A    float64\n",
       "B    float64\n",
       "C    float64\n",
       "D    float64\n",
       "E     object\n",
       "dtype: object"
      ]
     },
     "execution_count": 33,
     "metadata": {},
     "output_type": "execute_result"
    }
   ],
   "source": [
    "df2.dtypes"
   ]
  },
  {
   "cell_type": "code",
   "execution_count": 34,
   "metadata": {},
   "outputs": [
    {
     "data": {
      "text/html": [
       "<div>\n",
       "<table border=\"1\" class=\"dataframe\">\n",
       "  <thead>\n",
       "    <tr style=\"text-align: right;\">\n",
       "      <th></th>\n",
       "      <th>A</th>\n",
       "      <th>B</th>\n",
       "      <th>C</th>\n",
       "      <th>D</th>\n",
       "      <th>E</th>\n",
       "    </tr>\n",
       "  </thead>\n",
       "  <tbody>\n",
       "    <tr>\n",
       "      <th>2017-08-02</th>\n",
       "      <td>0.670095</td>\n",
       "      <td>0.456049</td>\n",
       "      <td>-2.795306</td>\n",
       "      <td>0.373462</td>\n",
       "      <td>two</td>\n",
       "    </tr>\n",
       "    <tr>\n",
       "      <th>2017-08-03</th>\n",
       "      <td>0.232877</td>\n",
       "      <td>2.083839</td>\n",
       "      <td>-0.618865</td>\n",
       "      <td>0.237715</td>\n",
       "      <td>three</td>\n",
       "    </tr>\n",
       "  </tbody>\n",
       "</table>\n",
       "</div>"
      ],
      "text/plain": [
       "                   A         B         C         D      E\n",
       "2017-08-02  0.670095  0.456049 -2.795306  0.373462    two\n",
       "2017-08-03  0.232877  2.083839 -0.618865  0.237715  three"
      ]
     },
     "execution_count": 34,
     "metadata": {},
     "output_type": "execute_result"
    }
   ],
   "source": [
    "df2[df2['E'].isin(['two', 'three'])] # select the row with the specified values in the given column E"
   ]
  },
  {
   "cell_type": "code",
   "execution_count": 35,
   "metadata": {},
   "outputs": [
    {
     "data": {
      "text/html": [
       "<div>\n",
       "<table border=\"1\" class=\"dataframe\">\n",
       "  <thead>\n",
       "    <tr style=\"text-align: right;\">\n",
       "      <th></th>\n",
       "      <th>A</th>\n",
       "      <th>B</th>\n",
       "      <th>C</th>\n",
       "      <th>D</th>\n",
       "      <th>E</th>\n",
       "    </tr>\n",
       "  </thead>\n",
       "  <tbody>\n",
       "    <tr>\n",
       "      <th>2017-08-01</th>\n",
       "      <td>0.398810</td>\n",
       "      <td>-1.177943</td>\n",
       "      <td>0.797119</td>\n",
       "      <td>-0.062416</td>\n",
       "      <td>one</td>\n",
       "    </tr>\n",
       "    <tr>\n",
       "      <th>2017-08-02</th>\n",
       "      <td>0.670095</td>\n",
       "      <td>0.456049</td>\n",
       "      <td>-2.795306</td>\n",
       "      <td>0.373462</td>\n",
       "      <td>two</td>\n",
       "    </tr>\n",
       "    <tr>\n",
       "      <th>2017-08-03</th>\n",
       "      <td>0.232877</td>\n",
       "      <td>2.083839</td>\n",
       "      <td>-0.618865</td>\n",
       "      <td>0.237715</td>\n",
       "      <td>three</td>\n",
       "    </tr>\n",
       "    <tr>\n",
       "      <th>2017-08-04</th>\n",
       "      <td>-0.739582</td>\n",
       "      <td>0.599071</td>\n",
       "      <td>1.002833</td>\n",
       "      <td>-0.291694</td>\n",
       "      <td>four</td>\n",
       "    </tr>\n",
       "    <tr>\n",
       "      <th>2017-08-05</th>\n",
       "      <td>0.596927</td>\n",
       "      <td>0.639324</td>\n",
       "      <td>0.711745</td>\n",
       "      <td>-0.610014</td>\n",
       "      <td>five</td>\n",
       "    </tr>\n",
       "    <tr>\n",
       "      <th>2017-08-06</th>\n",
       "      <td>1.746518</td>\n",
       "      <td>-0.028674</td>\n",
       "      <td>0.666246</td>\n",
       "      <td>-0.995335</td>\n",
       "      <td>six</td>\n",
       "    </tr>\n",
       "  </tbody>\n",
       "</table>\n",
       "</div>"
      ],
      "text/plain": [
       "                   A         B         C         D      E\n",
       "2017-08-01  0.398810 -1.177943  0.797119 -0.062416    one\n",
       "2017-08-02  0.670095  0.456049 -2.795306  0.373462    two\n",
       "2017-08-03  0.232877  2.083839 -0.618865  0.237715  three\n",
       "2017-08-04 -0.739582  0.599071  1.002833 -0.291694   four\n",
       "2017-08-05  0.596927  0.639324  0.711745 -0.610014   five\n",
       "2017-08-06  1.746518 -0.028674  0.666246 -0.995335    six"
      ]
     },
     "execution_count": 35,
     "metadata": {},
     "output_type": "execute_result"
    }
   ],
   "source": [
    "df2"
   ]
  },
  {
   "cell_type": "markdown",
   "metadata": {
    "collapsed": true
   },
   "source": [
    "### Handling missing data"
   ]
  },
  {
   "cell_type": "markdown",
   "metadata": {
    "collapsed": true
   },
   "source": [
    "Pandas primarily uses the value np.nan to represent missing data points. It is by default not inclued in computations. Re-indexing allows to change/add/delete the index on a specific axis."
   ]
  },
  {
   "cell_type": "code",
   "execution_count": 36,
   "metadata": {},
   "outputs": [
    {
     "data": {
      "text/html": [
       "<div>\n",
       "<table border=\"1\" class=\"dataframe\">\n",
       "  <thead>\n",
       "    <tr style=\"text-align: right;\">\n",
       "      <th></th>\n",
       "      <th>A</th>\n",
       "      <th>B</th>\n",
       "      <th>C</th>\n",
       "      <th>D</th>\n",
       "      <th>E</th>\n",
       "    </tr>\n",
       "  </thead>\n",
       "  <tbody>\n",
       "    <tr>\n",
       "      <th>2017-08-01</th>\n",
       "      <td>0.398810</td>\n",
       "      <td>-1.177943</td>\n",
       "      <td>0.797119</td>\n",
       "      <td>-0.062416</td>\n",
       "      <td>NaN</td>\n",
       "    </tr>\n",
       "    <tr>\n",
       "      <th>2017-08-02</th>\n",
       "      <td>0.670095</td>\n",
       "      <td>0.456049</td>\n",
       "      <td>-2.795306</td>\n",
       "      <td>0.373462</td>\n",
       "      <td>NaN</td>\n",
       "    </tr>\n",
       "    <tr>\n",
       "      <th>2017-08-03</th>\n",
       "      <td>0.232877</td>\n",
       "      <td>2.083839</td>\n",
       "      <td>-0.618865</td>\n",
       "      <td>0.237715</td>\n",
       "      <td>NaN</td>\n",
       "    </tr>\n",
       "    <tr>\n",
       "      <th>2017-08-04</th>\n",
       "      <td>-0.739582</td>\n",
       "      <td>0.599071</td>\n",
       "      <td>1.002833</td>\n",
       "      <td>-0.291694</td>\n",
       "      <td>NaN</td>\n",
       "    </tr>\n",
       "  </tbody>\n",
       "</table>\n",
       "</div>"
      ],
      "text/plain": [
       "                   A         B         C         D   E\n",
       "2017-08-01  0.398810 -1.177943  0.797119 -0.062416 NaN\n",
       "2017-08-02  0.670095  0.456049 -2.795306  0.373462 NaN\n",
       "2017-08-03  0.232877  2.083839 -0.618865  0.237715 NaN\n",
       "2017-08-04 -0.739582  0.599071  1.002833 -0.291694 NaN"
      ]
     },
     "execution_count": 36,
     "metadata": {},
     "output_type": "execute_result"
    }
   ],
   "source": [
    "df1 = df.reindex(index=dates[0:4],\n",
    "                columns=list(df.columns)+['E'])\n",
    "df1"
   ]
  },
  {
   "cell_type": "code",
   "execution_count": 37,
   "metadata": {},
   "outputs": [
    {
     "data": {
      "text/html": [
       "<div>\n",
       "<table border=\"1\" class=\"dataframe\">\n",
       "  <thead>\n",
       "    <tr style=\"text-align: right;\">\n",
       "      <th></th>\n",
       "      <th>A</th>\n",
       "      <th>B</th>\n",
       "      <th>C</th>\n",
       "      <th>D</th>\n",
       "      <th>E</th>\n",
       "    </tr>\n",
       "  </thead>\n",
       "  <tbody>\n",
       "    <tr>\n",
       "      <th>2017-08-01</th>\n",
       "      <td>0.398810</td>\n",
       "      <td>-1.177943</td>\n",
       "      <td>0.797119</td>\n",
       "      <td>-0.062416</td>\n",
       "      <td>1.0</td>\n",
       "    </tr>\n",
       "    <tr>\n",
       "      <th>2017-08-02</th>\n",
       "      <td>0.670095</td>\n",
       "      <td>0.456049</td>\n",
       "      <td>-2.795306</td>\n",
       "      <td>0.373462</td>\n",
       "      <td>1.0</td>\n",
       "    </tr>\n",
       "    <tr>\n",
       "      <th>2017-08-03</th>\n",
       "      <td>0.232877</td>\n",
       "      <td>2.083839</td>\n",
       "      <td>-0.618865</td>\n",
       "      <td>0.237715</td>\n",
       "      <td>NaN</td>\n",
       "    </tr>\n",
       "    <tr>\n",
       "      <th>2017-08-04</th>\n",
       "      <td>-0.739582</td>\n",
       "      <td>0.599071</td>\n",
       "      <td>1.002833</td>\n",
       "      <td>-0.291694</td>\n",
       "      <td>NaN</td>\n",
       "    </tr>\n",
       "  </tbody>\n",
       "</table>\n",
       "</div>"
      ],
      "text/plain": [
       "                   A         B         C         D    E\n",
       "2017-08-01  0.398810 -1.177943  0.797119 -0.062416  1.0\n",
       "2017-08-02  0.670095  0.456049 -2.795306  0.373462  1.0\n",
       "2017-08-03  0.232877  2.083839 -0.618865  0.237715  NaN\n",
       "2017-08-04 -0.739582  0.599071  1.002833 -0.291694  NaN"
      ]
     },
     "execution_count": 37,
     "metadata": {},
     "output_type": "execute_result"
    }
   ],
   "source": [
    "df1.loc[dates[0]:dates[1], 'E'] = 1 # get rows based on the logic\n",
    "df1"
   ]
  },
  {
   "cell_type": "code",
   "execution_count": 38,
   "metadata": {},
   "outputs": [
    {
     "data": {
      "text/html": [
       "<div>\n",
       "<table border=\"1\" class=\"dataframe\">\n",
       "  <thead>\n",
       "    <tr style=\"text-align: right;\">\n",
       "      <th></th>\n",
       "      <th>A</th>\n",
       "      <th>B</th>\n",
       "      <th>C</th>\n",
       "      <th>D</th>\n",
       "      <th>E</th>\n",
       "      <th>F</th>\n",
       "    </tr>\n",
       "  </thead>\n",
       "  <tbody>\n",
       "    <tr>\n",
       "      <th>2017-08-01</th>\n",
       "      <td>0.398810</td>\n",
       "      <td>-1.177943</td>\n",
       "      <td>0.797119</td>\n",
       "      <td>-0.062416</td>\n",
       "      <td>1.0</td>\n",
       "      <td>NaN</td>\n",
       "    </tr>\n",
       "    <tr>\n",
       "      <th>2017-08-02</th>\n",
       "      <td>0.670095</td>\n",
       "      <td>0.456049</td>\n",
       "      <td>-2.795306</td>\n",
       "      <td>0.373462</td>\n",
       "      <td>1.0</td>\n",
       "      <td>1.0</td>\n",
       "    </tr>\n",
       "    <tr>\n",
       "      <th>2017-08-03</th>\n",
       "      <td>0.232877</td>\n",
       "      <td>2.083839</td>\n",
       "      <td>-0.618865</td>\n",
       "      <td>0.237715</td>\n",
       "      <td>NaN</td>\n",
       "      <td>2.0</td>\n",
       "    </tr>\n",
       "    <tr>\n",
       "      <th>2017-08-04</th>\n",
       "      <td>-0.739582</td>\n",
       "      <td>0.599071</td>\n",
       "      <td>1.002833</td>\n",
       "      <td>-0.291694</td>\n",
       "      <td>NaN</td>\n",
       "      <td>3.0</td>\n",
       "    </tr>\n",
       "  </tbody>\n",
       "</table>\n",
       "</div>"
      ],
      "text/plain": [
       "                   A         B         C         D    E    F\n",
       "2017-08-01  0.398810 -1.177943  0.797119 -0.062416  1.0  NaN\n",
       "2017-08-02  0.670095  0.456049 -2.795306  0.373462  1.0  1.0\n",
       "2017-08-03  0.232877  2.083839 -0.618865  0.237715  NaN  2.0\n",
       "2017-08-04 -0.739582  0.599071  1.002833 -0.291694  NaN  3.0"
      ]
     },
     "execution_count": 38,
     "metadata": {},
     "output_type": "execute_result"
    }
   ],
   "source": [
    "df1['F'] = [np.nan,1.0, 2.0, 3.0] # adding a new column\n",
    "df1"
   ]
  },
  {
   "cell_type": "code",
   "execution_count": 39,
   "metadata": {},
   "outputs": [
    {
     "data": {
      "text/html": [
       "<div>\n",
       "<table border=\"1\" class=\"dataframe\">\n",
       "  <thead>\n",
       "    <tr style=\"text-align: right;\">\n",
       "      <th></th>\n",
       "      <th>A</th>\n",
       "      <th>B</th>\n",
       "      <th>C</th>\n",
       "      <th>D</th>\n",
       "      <th>E</th>\n",
       "      <th>F</th>\n",
       "    </tr>\n",
       "  </thead>\n",
       "  <tbody>\n",
       "    <tr>\n",
       "      <th>2017-08-02</th>\n",
       "      <td>0.670095</td>\n",
       "      <td>0.456049</td>\n",
       "      <td>-2.795306</td>\n",
       "      <td>0.373462</td>\n",
       "      <td>1.0</td>\n",
       "      <td>1.0</td>\n",
       "    </tr>\n",
       "  </tbody>\n",
       "</table>\n",
       "</div>"
      ],
      "text/plain": [
       "                   A         B         C         D    E    F\n",
       "2017-08-02  0.670095  0.456049 -2.795306  0.373462  1.0  1.0"
      ]
     },
     "execution_count": 39,
     "metadata": {},
     "output_type": "execute_result"
    }
   ],
   "source": [
    "# drop the entire row with a NaN value\n",
    "clean_data = df1.dropna(how='any')\n",
    "clean_data"
   ]
  },
  {
   "cell_type": "code",
   "execution_count": 40,
   "metadata": {},
   "outputs": [
    {
     "data": {
      "text/html": [
       "<div>\n",
       "<table border=\"1\" class=\"dataframe\">\n",
       "  <thead>\n",
       "    <tr style=\"text-align: right;\">\n",
       "      <th></th>\n",
       "      <th>A</th>\n",
       "      <th>B</th>\n",
       "      <th>C</th>\n",
       "      <th>D</th>\n",
       "      <th>E</th>\n",
       "      <th>F</th>\n",
       "    </tr>\n",
       "  </thead>\n",
       "  <tbody>\n",
       "    <tr>\n",
       "      <th>2017-08-01</th>\n",
       "      <td>0.398810</td>\n",
       "      <td>-1.177943</td>\n",
       "      <td>0.797119</td>\n",
       "      <td>-0.062416</td>\n",
       "      <td>1.0</td>\n",
       "      <td>NaN</td>\n",
       "    </tr>\n",
       "    <tr>\n",
       "      <th>2017-08-02</th>\n",
       "      <td>0.670095</td>\n",
       "      <td>0.456049</td>\n",
       "      <td>-2.795306</td>\n",
       "      <td>0.373462</td>\n",
       "      <td>1.0</td>\n",
       "      <td>1.0</td>\n",
       "    </tr>\n",
       "    <tr>\n",
       "      <th>2017-08-03</th>\n",
       "      <td>0.232877</td>\n",
       "      <td>2.083839</td>\n",
       "      <td>-0.618865</td>\n",
       "      <td>0.237715</td>\n",
       "      <td>NaN</td>\n",
       "      <td>2.0</td>\n",
       "    </tr>\n",
       "    <tr>\n",
       "      <th>2017-08-04</th>\n",
       "      <td>-0.739582</td>\n",
       "      <td>0.599071</td>\n",
       "      <td>1.002833</td>\n",
       "      <td>-0.291694</td>\n",
       "      <td>NaN</td>\n",
       "      <td>3.0</td>\n",
       "    </tr>\n",
       "  </tbody>\n",
       "</table>\n",
       "</div>"
      ],
      "text/plain": [
       "                   A         B         C         D    E    F\n",
       "2017-08-01  0.398810 -1.177943  0.797119 -0.062416  1.0  NaN\n",
       "2017-08-02  0.670095  0.456049 -2.795306  0.373462  1.0  1.0\n",
       "2017-08-03  0.232877  2.083839 -0.618865  0.237715  NaN  2.0\n",
       "2017-08-04 -0.739582  0.599071  1.002833 -0.291694  NaN  3.0"
      ]
     },
     "execution_count": 40,
     "metadata": {},
     "output_type": "execute_result"
    }
   ],
   "source": [
    "df1 # our original data frame"
   ]
  },
  {
   "cell_type": "code",
   "execution_count": 41,
   "metadata": {},
   "outputs": [
    {
     "data": {
      "text/html": [
       "<div>\n",
       "<table border=\"1\" class=\"dataframe\">\n",
       "  <thead>\n",
       "    <tr style=\"text-align: right;\">\n",
       "      <th></th>\n",
       "      <th>A</th>\n",
       "      <th>B</th>\n",
       "      <th>C</th>\n",
       "      <th>D</th>\n",
       "      <th>E</th>\n",
       "      <th>F</th>\n",
       "    </tr>\n",
       "  </thead>\n",
       "  <tbody>\n",
       "    <tr>\n",
       "      <th>2017-08-01</th>\n",
       "      <td>0.398810</td>\n",
       "      <td>-1.177943</td>\n",
       "      <td>0.797119</td>\n",
       "      <td>-0.062416</td>\n",
       "      <td>1.0</td>\n",
       "      <td>3.0</td>\n",
       "    </tr>\n",
       "    <tr>\n",
       "      <th>2017-08-02</th>\n",
       "      <td>0.670095</td>\n",
       "      <td>0.456049</td>\n",
       "      <td>-2.795306</td>\n",
       "      <td>0.373462</td>\n",
       "      <td>1.0</td>\n",
       "      <td>1.0</td>\n",
       "    </tr>\n",
       "    <tr>\n",
       "      <th>2017-08-03</th>\n",
       "      <td>0.232877</td>\n",
       "      <td>2.083839</td>\n",
       "      <td>-0.618865</td>\n",
       "      <td>0.237715</td>\n",
       "      <td>3.0</td>\n",
       "      <td>2.0</td>\n",
       "    </tr>\n",
       "    <tr>\n",
       "      <th>2017-08-04</th>\n",
       "      <td>-0.739582</td>\n",
       "      <td>0.599071</td>\n",
       "      <td>1.002833</td>\n",
       "      <td>-0.291694</td>\n",
       "      <td>3.0</td>\n",
       "      <td>3.0</td>\n",
       "    </tr>\n",
       "  </tbody>\n",
       "</table>\n",
       "</div>"
      ],
      "text/plain": [
       "                   A         B         C         D    E    F\n",
       "2017-08-01  0.398810 -1.177943  0.797119 -0.062416  1.0  3.0\n",
       "2017-08-02  0.670095  0.456049 -2.795306  0.373462  1.0  1.0\n",
       "2017-08-03  0.232877  2.083839 -0.618865  0.237715  3.0  2.0\n",
       "2017-08-04 -0.739582  0.599071  1.002833 -0.291694  3.0  3.0"
      ]
     },
     "execution_count": 41,
     "metadata": {},
     "output_type": "execute_result"
    }
   ],
   "source": [
    "df1.fillna(value=3.0) # fill the NaN values using this function; data type should match"
   ]
  },
  {
   "cell_type": "code",
   "execution_count": 42,
   "metadata": {},
   "outputs": [
    {
     "data": {
      "text/html": [
       "<div>\n",
       "<table border=\"1\" class=\"dataframe\">\n",
       "  <thead>\n",
       "    <tr style=\"text-align: right;\">\n",
       "      <th></th>\n",
       "      <th>A</th>\n",
       "      <th>B</th>\n",
       "      <th>C</th>\n",
       "      <th>D</th>\n",
       "      <th>E</th>\n",
       "      <th>F</th>\n",
       "    </tr>\n",
       "  </thead>\n",
       "  <tbody>\n",
       "    <tr>\n",
       "      <th>2017-08-01</th>\n",
       "      <td>False</td>\n",
       "      <td>False</td>\n",
       "      <td>False</td>\n",
       "      <td>False</td>\n",
       "      <td>False</td>\n",
       "      <td>True</td>\n",
       "    </tr>\n",
       "    <tr>\n",
       "      <th>2017-08-02</th>\n",
       "      <td>False</td>\n",
       "      <td>False</td>\n",
       "      <td>False</td>\n",
       "      <td>False</td>\n",
       "      <td>False</td>\n",
       "      <td>False</td>\n",
       "    </tr>\n",
       "    <tr>\n",
       "      <th>2017-08-03</th>\n",
       "      <td>False</td>\n",
       "      <td>False</td>\n",
       "      <td>False</td>\n",
       "      <td>False</td>\n",
       "      <td>True</td>\n",
       "      <td>False</td>\n",
       "    </tr>\n",
       "    <tr>\n",
       "      <th>2017-08-04</th>\n",
       "      <td>False</td>\n",
       "      <td>False</td>\n",
       "      <td>False</td>\n",
       "      <td>False</td>\n",
       "      <td>True</td>\n",
       "      <td>False</td>\n",
       "    </tr>\n",
       "  </tbody>\n",
       "</table>\n",
       "</div>"
      ],
      "text/plain": [
       "                A      B      C      D      E      F\n",
       "2017-08-01  False  False  False  False  False   True\n",
       "2017-08-02  False  False  False  False  False  False\n",
       "2017-08-03  False  False  False  False   True  False\n",
       "2017-08-04  False  False  False  False   True  False"
      ]
     },
     "execution_count": 42,
     "metadata": {},
     "output_type": "execute_result"
    }
   ],
   "source": [
    "# get the boolean mask where values are NaN\n",
    "pd.isnull(df1)"
   ]
  },
  {
   "cell_type": "markdown",
   "metadata": {
    "collapsed": true
   },
   "source": [
    "### String methods"
   ]
  },
  {
   "cell_type": "code",
   "execution_count": 43,
   "metadata": {
    "collapsed": true
   },
   "outputs": [],
   "source": [
    "# create a new series of data\n",
    "s = pd.Series(['A', 'B', 'C', 'AB', 'AC', 'BC', np.nan, 'ABC'])"
   ]
  },
  {
   "cell_type": "code",
   "execution_count": 44,
   "metadata": {},
   "outputs": [
    {
     "data": {
      "text/plain": [
       "0      a\n",
       "1      b\n",
       "2      c\n",
       "3     ab\n",
       "4     ac\n",
       "5     bc\n",
       "6    NaN\n",
       "7    abc\n",
       "dtype: object"
      ]
     },
     "execution_count": 44,
     "metadata": {},
     "output_type": "execute_result"
    }
   ],
   "source": [
    "s.str.lower() # convert all the data points into lower character"
   ]
  },
  {
   "cell_type": "markdown",
   "metadata": {},
   "source": [
    "### Merging"
   ]
  },
  {
   "cell_type": "code",
   "execution_count": 45,
   "metadata": {},
   "outputs": [
    {
     "data": {
      "text/html": [
       "<div>\n",
       "<table border=\"1\" class=\"dataframe\">\n",
       "  <thead>\n",
       "    <tr style=\"text-align: right;\">\n",
       "      <th></th>\n",
       "      <th>0</th>\n",
       "      <th>1</th>\n",
       "      <th>2</th>\n",
       "      <th>3</th>\n",
       "    </tr>\n",
       "  </thead>\n",
       "  <tbody>\n",
       "    <tr>\n",
       "      <th>0</th>\n",
       "      <td>1.402598</td>\n",
       "      <td>0.555897</td>\n",
       "      <td>-0.936947</td>\n",
       "      <td>-0.144454</td>\n",
       "    </tr>\n",
       "    <tr>\n",
       "      <th>1</th>\n",
       "      <td>-0.247965</td>\n",
       "      <td>-2.488554</td>\n",
       "      <td>0.296481</td>\n",
       "      <td>-0.481958</td>\n",
       "    </tr>\n",
       "    <tr>\n",
       "      <th>2</th>\n",
       "      <td>0.707348</td>\n",
       "      <td>0.300387</td>\n",
       "      <td>0.532482</td>\n",
       "      <td>-0.114170</td>\n",
       "    </tr>\n",
       "    <tr>\n",
       "      <th>3</th>\n",
       "      <td>-0.133655</td>\n",
       "      <td>-0.832428</td>\n",
       "      <td>2.407573</td>\n",
       "      <td>0.154397</td>\n",
       "    </tr>\n",
       "    <tr>\n",
       "      <th>4</th>\n",
       "      <td>0.400643</td>\n",
       "      <td>0.490767</td>\n",
       "      <td>-0.840115</td>\n",
       "      <td>-0.083233</td>\n",
       "    </tr>\n",
       "    <tr>\n",
       "      <th>5</th>\n",
       "      <td>0.619733</td>\n",
       "      <td>-0.484744</td>\n",
       "      <td>1.730365</td>\n",
       "      <td>0.124614</td>\n",
       "    </tr>\n",
       "    <tr>\n",
       "      <th>6</th>\n",
       "      <td>0.948018</td>\n",
       "      <td>-1.541261</td>\n",
       "      <td>0.382972</td>\n",
       "      <td>0.218097</td>\n",
       "    </tr>\n",
       "    <tr>\n",
       "      <th>7</th>\n",
       "      <td>-0.240111</td>\n",
       "      <td>0.999785</td>\n",
       "      <td>-0.561572</td>\n",
       "      <td>0.864192</td>\n",
       "    </tr>\n",
       "    <tr>\n",
       "      <th>8</th>\n",
       "      <td>-0.299287</td>\n",
       "      <td>-0.401349</td>\n",
       "      <td>0.759858</td>\n",
       "      <td>0.329858</td>\n",
       "    </tr>\n",
       "    <tr>\n",
       "      <th>9</th>\n",
       "      <td>0.604958</td>\n",
       "      <td>-1.060355</td>\n",
       "      <td>-0.179335</td>\n",
       "      <td>1.737385</td>\n",
       "    </tr>\n",
       "  </tbody>\n",
       "</table>\n",
       "</div>"
      ],
      "text/plain": [
       "          0         1         2         3\n",
       "0  1.402598  0.555897 -0.936947 -0.144454\n",
       "1 -0.247965 -2.488554  0.296481 -0.481958\n",
       "2  0.707348  0.300387  0.532482 -0.114170\n",
       "3 -0.133655 -0.832428  2.407573  0.154397\n",
       "4  0.400643  0.490767 -0.840115 -0.083233\n",
       "5  0.619733 -0.484744  1.730365  0.124614\n",
       "6  0.948018 -1.541261  0.382972  0.218097\n",
       "7 -0.240111  0.999785 -0.561572  0.864192\n",
       "8 -0.299287 -0.401349  0.759858  0.329858\n",
       "9  0.604958 -1.060355 -0.179335  1.737385"
      ]
     },
     "execution_count": 45,
     "metadata": {},
     "output_type": "execute_result"
    }
   ],
   "source": [
    "df = pd.DataFrame(np.random.randn(10, 4)) # create a new pandas dataframe\n",
    "df"
   ]
  },
  {
   "cell_type": "code",
   "execution_count": 46,
   "metadata": {},
   "outputs": [
    {
     "data": {
      "text/plain": [
       "[          0         1         2         3\n",
       " 0  1.402598  0.555897 -0.936947 -0.144454\n",
       " 1 -0.247965 -2.488554  0.296481 -0.481958\n",
       " 2  0.707348  0.300387  0.532482 -0.114170,\n",
       "           0         1         2         3\n",
       " 3 -0.133655 -0.832428  2.407573  0.154397\n",
       " 4  0.400643  0.490767 -0.840115 -0.083233\n",
       " 5  0.619733 -0.484744  1.730365  0.124614\n",
       " 6  0.948018 -1.541261  0.382972  0.218097,\n",
       "           0         1         2         3\n",
       " 7 -0.240111  0.999785 -0.561572  0.864192\n",
       " 8 -0.299287 -0.401349  0.759858  0.329858\n",
       " 9  0.604958 -1.060355 -0.179335  1.737385]"
      ]
     },
     "execution_count": 46,
     "metadata": {},
     "output_type": "execute_result"
    }
   ],
   "source": [
    "pieces = [df[:3], df[3:7], df[7:]] # slice them into 3\n",
    "pieces"
   ]
  },
  {
   "cell_type": "code",
   "execution_count": 47,
   "metadata": {},
   "outputs": [
    {
     "data": {
      "text/html": [
       "<div>\n",
       "<table border=\"1\" class=\"dataframe\">\n",
       "  <thead>\n",
       "    <tr style=\"text-align: right;\">\n",
       "      <th></th>\n",
       "      <th>0</th>\n",
       "      <th>1</th>\n",
       "      <th>2</th>\n",
       "      <th>3</th>\n",
       "    </tr>\n",
       "  </thead>\n",
       "  <tbody>\n",
       "    <tr>\n",
       "      <th>0</th>\n",
       "      <td>1.402598</td>\n",
       "      <td>0.555897</td>\n",
       "      <td>-0.936947</td>\n",
       "      <td>-0.144454</td>\n",
       "    </tr>\n",
       "    <tr>\n",
       "      <th>1</th>\n",
       "      <td>-0.247965</td>\n",
       "      <td>-2.488554</td>\n",
       "      <td>0.296481</td>\n",
       "      <td>-0.481958</td>\n",
       "    </tr>\n",
       "    <tr>\n",
       "      <th>2</th>\n",
       "      <td>0.707348</td>\n",
       "      <td>0.300387</td>\n",
       "      <td>0.532482</td>\n",
       "      <td>-0.114170</td>\n",
       "    </tr>\n",
       "    <tr>\n",
       "      <th>3</th>\n",
       "      <td>-0.133655</td>\n",
       "      <td>-0.832428</td>\n",
       "      <td>2.407573</td>\n",
       "      <td>0.154397</td>\n",
       "    </tr>\n",
       "    <tr>\n",
       "      <th>4</th>\n",
       "      <td>0.400643</td>\n",
       "      <td>0.490767</td>\n",
       "      <td>-0.840115</td>\n",
       "      <td>-0.083233</td>\n",
       "    </tr>\n",
       "    <tr>\n",
       "      <th>5</th>\n",
       "      <td>0.619733</td>\n",
       "      <td>-0.484744</td>\n",
       "      <td>1.730365</td>\n",
       "      <td>0.124614</td>\n",
       "    </tr>\n",
       "    <tr>\n",
       "      <th>6</th>\n",
       "      <td>0.948018</td>\n",
       "      <td>-1.541261</td>\n",
       "      <td>0.382972</td>\n",
       "      <td>0.218097</td>\n",
       "    </tr>\n",
       "    <tr>\n",
       "      <th>7</th>\n",
       "      <td>-0.240111</td>\n",
       "      <td>0.999785</td>\n",
       "      <td>-0.561572</td>\n",
       "      <td>0.864192</td>\n",
       "    </tr>\n",
       "    <tr>\n",
       "      <th>8</th>\n",
       "      <td>-0.299287</td>\n",
       "      <td>-0.401349</td>\n",
       "      <td>0.759858</td>\n",
       "      <td>0.329858</td>\n",
       "    </tr>\n",
       "    <tr>\n",
       "      <th>9</th>\n",
       "      <td>0.604958</td>\n",
       "      <td>-1.060355</td>\n",
       "      <td>-0.179335</td>\n",
       "      <td>1.737385</td>\n",
       "    </tr>\n",
       "  </tbody>\n",
       "</table>\n",
       "</div>"
      ],
      "text/plain": [
       "          0         1         2         3\n",
       "0  1.402598  0.555897 -0.936947 -0.144454\n",
       "1 -0.247965 -2.488554  0.296481 -0.481958\n",
       "2  0.707348  0.300387  0.532482 -0.114170\n",
       "3 -0.133655 -0.832428  2.407573  0.154397\n",
       "4  0.400643  0.490767 -0.840115 -0.083233\n",
       "5  0.619733 -0.484744  1.730365  0.124614\n",
       "6  0.948018 -1.541261  0.382972  0.218097\n",
       "7 -0.240111  0.999785 -0.561572  0.864192\n",
       "8 -0.299287 -0.401349  0.759858  0.329858\n",
       "9  0.604958 -1.060355 -0.179335  1.737385"
      ]
     },
     "execution_count": 47,
     "metadata": {},
     "output_type": "execute_result"
    }
   ],
   "source": [
    "pd.concat(pieces) # join the pieces together to get the original data frame"
   ]
  },
  {
   "cell_type": "code",
   "execution_count": 48,
   "metadata": {
    "collapsed": true
   },
   "outputs": [],
   "source": [
    "# create new data frames using a dictionary\n",
    "left = pd.DataFrame({'key': ['foo', 'foo'], 'lval': [1, 2]})\n",
    "right = pd.DataFrame({'key': ['foo', 'foo'], 'rval': [3, 4]})"
   ]
  },
  {
   "cell_type": "code",
   "execution_count": 49,
   "metadata": {},
   "outputs": [
    {
     "data": {
      "text/html": [
       "<div>\n",
       "<table border=\"1\" class=\"dataframe\">\n",
       "  <thead>\n",
       "    <tr style=\"text-align: right;\">\n",
       "      <th></th>\n",
       "      <th>key</th>\n",
       "      <th>lval</th>\n",
       "    </tr>\n",
       "  </thead>\n",
       "  <tbody>\n",
       "    <tr>\n",
       "      <th>0</th>\n",
       "      <td>foo</td>\n",
       "      <td>1</td>\n",
       "    </tr>\n",
       "    <tr>\n",
       "      <th>1</th>\n",
       "      <td>foo</td>\n",
       "      <td>2</td>\n",
       "    </tr>\n",
       "  </tbody>\n",
       "</table>\n",
       "</div>"
      ],
      "text/plain": [
       "   key  lval\n",
       "0  foo     1\n",
       "1  foo     2"
      ]
     },
     "execution_count": 49,
     "metadata": {},
     "output_type": "execute_result"
    }
   ],
   "source": [
    "left"
   ]
  },
  {
   "cell_type": "code",
   "execution_count": 50,
   "metadata": {},
   "outputs": [
    {
     "data": {
      "text/html": [
       "<div>\n",
       "<table border=\"1\" class=\"dataframe\">\n",
       "  <thead>\n",
       "    <tr style=\"text-align: right;\">\n",
       "      <th></th>\n",
       "      <th>key</th>\n",
       "      <th>rval</th>\n",
       "    </tr>\n",
       "  </thead>\n",
       "  <tbody>\n",
       "    <tr>\n",
       "      <th>0</th>\n",
       "      <td>foo</td>\n",
       "      <td>3</td>\n",
       "    </tr>\n",
       "    <tr>\n",
       "      <th>1</th>\n",
       "      <td>foo</td>\n",
       "      <td>4</td>\n",
       "    </tr>\n",
       "  </tbody>\n",
       "</table>\n",
       "</div>"
      ],
      "text/plain": [
       "   key  rval\n",
       "0  foo     3\n",
       "1  foo     4"
      ]
     },
     "execution_count": 50,
     "metadata": {},
     "output_type": "execute_result"
    }
   ],
   "source": [
    "right"
   ]
  },
  {
   "cell_type": "code",
   "execution_count": 51,
   "metadata": {},
   "outputs": [
    {
     "data": {
      "text/html": [
       "<div>\n",
       "<table border=\"1\" class=\"dataframe\">\n",
       "  <thead>\n",
       "    <tr style=\"text-align: right;\">\n",
       "      <th></th>\n",
       "      <th>key</th>\n",
       "      <th>lval</th>\n",
       "      <th>rval</th>\n",
       "    </tr>\n",
       "  </thead>\n",
       "  <tbody>\n",
       "    <tr>\n",
       "      <th>0</th>\n",
       "      <td>foo</td>\n",
       "      <td>1</td>\n",
       "      <td>3</td>\n",
       "    </tr>\n",
       "    <tr>\n",
       "      <th>1</th>\n",
       "      <td>foo</td>\n",
       "      <td>1</td>\n",
       "      <td>4</td>\n",
       "    </tr>\n",
       "    <tr>\n",
       "      <th>2</th>\n",
       "      <td>foo</td>\n",
       "      <td>2</td>\n",
       "      <td>3</td>\n",
       "    </tr>\n",
       "    <tr>\n",
       "      <th>3</th>\n",
       "      <td>foo</td>\n",
       "      <td>2</td>\n",
       "      <td>4</td>\n",
       "    </tr>\n",
       "  </tbody>\n",
       "</table>\n",
       "</div>"
      ],
      "text/plain": [
       "   key  lval  rval\n",
       "0  foo     1     3\n",
       "1  foo     1     4\n",
       "2  foo     2     3\n",
       "3  foo     2     4"
      ]
     },
     "execution_count": 51,
     "metadata": {},
     "output_type": "execute_result"
    }
   ],
   "source": [
    "pd.merge(left, right, on='key') # lets merge together based on their key; order matters"
   ]
  },
  {
   "cell_type": "code",
   "execution_count": 52,
   "metadata": {},
   "outputs": [
    {
     "data": {
      "text/html": [
       "<div>\n",
       "<table border=\"1\" class=\"dataframe\">\n",
       "  <thead>\n",
       "    <tr style=\"text-align: right;\">\n",
       "      <th></th>\n",
       "      <th>key</th>\n",
       "      <th>rval</th>\n",
       "      <th>lval</th>\n",
       "    </tr>\n",
       "  </thead>\n",
       "  <tbody>\n",
       "    <tr>\n",
       "      <th>0</th>\n",
       "      <td>foo</td>\n",
       "      <td>3</td>\n",
       "      <td>1</td>\n",
       "    </tr>\n",
       "    <tr>\n",
       "      <th>1</th>\n",
       "      <td>foo</td>\n",
       "      <td>3</td>\n",
       "      <td>2</td>\n",
       "    </tr>\n",
       "    <tr>\n",
       "      <th>2</th>\n",
       "      <td>foo</td>\n",
       "      <td>4</td>\n",
       "      <td>1</td>\n",
       "    </tr>\n",
       "    <tr>\n",
       "      <th>3</th>\n",
       "      <td>foo</td>\n",
       "      <td>4</td>\n",
       "      <td>2</td>\n",
       "    </tr>\n",
       "  </tbody>\n",
       "</table>\n",
       "</div>"
      ],
      "text/plain": [
       "   key  rval  lval\n",
       "0  foo     3     1\n",
       "1  foo     3     2\n",
       "2  foo     4     1\n",
       "3  foo     4     2"
      ]
     },
     "execution_count": 52,
     "metadata": {},
     "output_type": "execute_result"
    }
   ],
   "source": [
    "pd.merge(right, left, on='key')"
   ]
  },
  {
   "cell_type": "code",
   "execution_count": 53,
   "metadata": {},
   "outputs": [
    {
     "data": {
      "text/html": [
       "<div>\n",
       "<table border=\"1\" class=\"dataframe\">\n",
       "  <thead>\n",
       "    <tr style=\"text-align: right;\">\n",
       "      <th></th>\n",
       "      <th>0</th>\n",
       "      <th>1</th>\n",
       "      <th>2</th>\n",
       "      <th>3</th>\n",
       "    </tr>\n",
       "  </thead>\n",
       "  <tbody>\n",
       "    <tr>\n",
       "      <th>0</th>\n",
       "      <td>1.402598</td>\n",
       "      <td>0.555897</td>\n",
       "      <td>-0.936947</td>\n",
       "      <td>-0.144454</td>\n",
       "    </tr>\n",
       "    <tr>\n",
       "      <th>1</th>\n",
       "      <td>-0.247965</td>\n",
       "      <td>-2.488554</td>\n",
       "      <td>0.296481</td>\n",
       "      <td>-0.481958</td>\n",
       "    </tr>\n",
       "    <tr>\n",
       "      <th>2</th>\n",
       "      <td>0.707348</td>\n",
       "      <td>0.300387</td>\n",
       "      <td>0.532482</td>\n",
       "      <td>-0.114170</td>\n",
       "    </tr>\n",
       "    <tr>\n",
       "      <th>3</th>\n",
       "      <td>-0.133655</td>\n",
       "      <td>-0.832428</td>\n",
       "      <td>2.407573</td>\n",
       "      <td>0.154397</td>\n",
       "    </tr>\n",
       "    <tr>\n",
       "      <th>4</th>\n",
       "      <td>0.400643</td>\n",
       "      <td>0.490767</td>\n",
       "      <td>-0.840115</td>\n",
       "      <td>-0.083233</td>\n",
       "    </tr>\n",
       "    <tr>\n",
       "      <th>5</th>\n",
       "      <td>0.619733</td>\n",
       "      <td>-0.484744</td>\n",
       "      <td>1.730365</td>\n",
       "      <td>0.124614</td>\n",
       "    </tr>\n",
       "    <tr>\n",
       "      <th>6</th>\n",
       "      <td>0.948018</td>\n",
       "      <td>-1.541261</td>\n",
       "      <td>0.382972</td>\n",
       "      <td>0.218097</td>\n",
       "    </tr>\n",
       "    <tr>\n",
       "      <th>7</th>\n",
       "      <td>-0.240111</td>\n",
       "      <td>0.999785</td>\n",
       "      <td>-0.561572</td>\n",
       "      <td>0.864192</td>\n",
       "    </tr>\n",
       "    <tr>\n",
       "      <th>8</th>\n",
       "      <td>-0.299287</td>\n",
       "      <td>-0.401349</td>\n",
       "      <td>0.759858</td>\n",
       "      <td>0.329858</td>\n",
       "    </tr>\n",
       "    <tr>\n",
       "      <th>9</th>\n",
       "      <td>0.604958</td>\n",
       "      <td>-1.060355</td>\n",
       "      <td>-0.179335</td>\n",
       "      <td>1.737385</td>\n",
       "    </tr>\n",
       "    <tr>\n",
       "      <th>10</th>\n",
       "      <td>1.402598</td>\n",
       "      <td>0.555897</td>\n",
       "      <td>-0.936947</td>\n",
       "      <td>-0.144454</td>\n",
       "    </tr>\n",
       "  </tbody>\n",
       "</table>\n",
       "</div>"
      ],
      "text/plain": [
       "           0         1         2         3\n",
       "0   1.402598  0.555897 -0.936947 -0.144454\n",
       "1  -0.247965 -2.488554  0.296481 -0.481958\n",
       "2   0.707348  0.300387  0.532482 -0.114170\n",
       "3  -0.133655 -0.832428  2.407573  0.154397\n",
       "4   0.400643  0.490767 -0.840115 -0.083233\n",
       "5   0.619733 -0.484744  1.730365  0.124614\n",
       "6   0.948018 -1.541261  0.382972  0.218097\n",
       "7  -0.240111  0.999785 -0.561572  0.864192\n",
       "8  -0.299287 -0.401349  0.759858  0.329858\n",
       "9   0.604958 -1.060355 -0.179335  1.737385\n",
       "10  1.402598  0.555897 -0.936947 -0.144454"
      ]
     },
     "execution_count": 53,
     "metadata": {},
     "output_type": "execute_result"
    }
   ],
   "source": [
    "df.append(df.iloc[0], ignore_index=True) # lets appennd data points add the end of the data frame"
   ]
  },
  {
   "cell_type": "markdown",
   "metadata": {
    "collapsed": true
   },
   "source": [
    "### Categoricals"
   ]
  },
  {
   "cell_type": "code",
   "execution_count": 54,
   "metadata": {
    "collapsed": true
   },
   "outputs": [],
   "source": [
    "df = pd.DataFrame({'id':[1, 2, 3, 4, 5], 'grade':['A', 'B', 'A', 'C', 'B']}) # create a dataframe"
   ]
  },
  {
   "cell_type": "code",
   "execution_count": 55,
   "metadata": {},
   "outputs": [
    {
     "data": {
      "text/plain": [
       "0    A\n",
       "1    B\n",
       "2    A\n",
       "3    C\n",
       "4    B\n",
       "Name: grade, dtype: object"
      ]
     },
     "execution_count": 55,
     "metadata": {},
     "output_type": "execute_result"
    }
   ],
   "source": [
    "df['grade']"
   ]
  },
  {
   "cell_type": "code",
   "execution_count": 56,
   "metadata": {},
   "outputs": [
    {
     "data": {
      "text/plain": [
       "0    1\n",
       "1    2\n",
       "2    3\n",
       "3    4\n",
       "4    5\n",
       "Name: id, dtype: int64"
      ]
     },
     "execution_count": 56,
     "metadata": {},
     "output_type": "execute_result"
    }
   ],
   "source": [
    "df['id']"
   ]
  },
  {
   "cell_type": "code",
   "execution_count": 57,
   "metadata": {},
   "outputs": [
    {
     "data": {
      "text/plain": [
       "0    A\n",
       "1    B\n",
       "2    A\n",
       "3    C\n",
       "4    B\n",
       "Name: new_grade, dtype: category\n",
       "Categories (3, object): [A, B, C]"
      ]
     },
     "execution_count": 57,
     "metadata": {},
     "output_type": "execute_result"
    }
   ],
   "source": [
    "df['new_grade'] = df['grade'].astype('category') # conver the object into category\n",
    "df['new_grade']"
   ]
  },
  {
   "cell_type": "code",
   "execution_count": 58,
   "metadata": {},
   "outputs": [
    {
     "data": {
      "text/html": [
       "<div>\n",
       "<table border=\"1\" class=\"dataframe\">\n",
       "  <thead>\n",
       "    <tr style=\"text-align: right;\">\n",
       "      <th></th>\n",
       "      <th>grade</th>\n",
       "      <th>id</th>\n",
       "      <th>new_grade</th>\n",
       "    </tr>\n",
       "  </thead>\n",
       "  <tbody>\n",
       "    <tr>\n",
       "      <th>0</th>\n",
       "      <td>A</td>\n",
       "      <td>1</td>\n",
       "      <td>A</td>\n",
       "    </tr>\n",
       "    <tr>\n",
       "      <th>2</th>\n",
       "      <td>A</td>\n",
       "      <td>3</td>\n",
       "      <td>A</td>\n",
       "    </tr>\n",
       "    <tr>\n",
       "      <th>1</th>\n",
       "      <td>B</td>\n",
       "      <td>2</td>\n",
       "      <td>B</td>\n",
       "    </tr>\n",
       "    <tr>\n",
       "      <th>4</th>\n",
       "      <td>B</td>\n",
       "      <td>5</td>\n",
       "      <td>B</td>\n",
       "    </tr>\n",
       "    <tr>\n",
       "      <th>3</th>\n",
       "      <td>C</td>\n",
       "      <td>4</td>\n",
       "      <td>C</td>\n",
       "    </tr>\n",
       "  </tbody>\n",
       "</table>\n",
       "</div>"
      ],
      "text/plain": [
       "  grade  id new_grade\n",
       "0     A   1         A\n",
       "2     A   3         A\n",
       "1     B   2         B\n",
       "4     B   5         B\n",
       "3     C   4         C"
      ]
     },
     "execution_count": 58,
     "metadata": {},
     "output_type": "execute_result"
    }
   ],
   "source": [
    "df.sort_values(by='grade') # sort the values based on the grade"
   ]
  },
  {
   "cell_type": "markdown",
   "metadata": {
    "collapsed": true
   },
   "source": [
    "### Basic plotting"
   ]
  },
  {
   "cell_type": "code",
   "execution_count": 59,
   "metadata": {},
   "outputs": [
    {
     "data": {
      "text/plain": [
       "2000-01-01    0.859524\n",
       "2000-01-02    0.735484\n",
       "2000-01-03   -1.163399\n",
       "2000-01-04   -0.541006\n",
       "2000-01-05    1.988559\n",
       "2000-01-06   -0.283156\n",
       "2000-01-07   -0.552706\n",
       "2000-01-08   -0.186597\n",
       "2000-01-09    0.825311\n",
       "2000-01-10   -1.095908\n",
       "2000-01-11   -0.458233\n",
       "2000-01-12   -0.745233\n",
       "2000-01-13    0.308437\n",
       "2000-01-14   -1.736499\n",
       "2000-01-15    0.959559\n",
       "2000-01-16   -0.922359\n",
       "2000-01-17   -0.236257\n",
       "2000-01-18    0.840111\n",
       "2000-01-19   -1.163374\n",
       "2000-01-20   -1.168908\n",
       "2000-01-21    1.088579\n",
       "2000-01-22    0.281023\n",
       "2000-01-23    2.148064\n",
       "2000-01-24    0.387396\n",
       "2000-01-25   -0.092797\n",
       "2000-01-26   -0.272889\n",
       "2000-01-27    1.351443\n",
       "2000-01-28    0.608135\n",
       "2000-01-29    0.631032\n",
       "2000-01-30   -1.865239\n",
       "                ...   \n",
       "2002-08-28   -1.280997\n",
       "2002-08-29   -2.526152\n",
       "2002-08-30    1.013306\n",
       "2002-08-31   -0.256322\n",
       "2002-09-01   -1.050631\n",
       "2002-09-02   -0.549168\n",
       "2002-09-03   -1.867057\n",
       "2002-09-04   -0.060191\n",
       "2002-09-05    2.654286\n",
       "2002-09-06    0.237706\n",
       "2002-09-07   -1.321216\n",
       "2002-09-08   -0.814343\n",
       "2002-09-09    1.662519\n",
       "2002-09-10   -1.305412\n",
       "2002-09-11   -1.237708\n",
       "2002-09-12    0.748773\n",
       "2002-09-13    1.009373\n",
       "2002-09-14   -1.088678\n",
       "2002-09-15    0.142667\n",
       "2002-09-16   -1.668894\n",
       "2002-09-17    1.164150\n",
       "2002-09-18   -0.296532\n",
       "2002-09-19   -0.069687\n",
       "2002-09-20   -1.771266\n",
       "2002-09-21   -0.665244\n",
       "2002-09-22    0.001332\n",
       "2002-09-23   -0.019388\n",
       "2002-09-24   -0.134604\n",
       "2002-09-25    0.237154\n",
       "2002-09-26   -1.196639\n",
       "Freq: D, dtype: float64"
      ]
     },
     "execution_count": 59,
     "metadata": {},
     "output_type": "execute_result"
    }
   ],
   "source": [
    "# get a sample random data with a time series index\n",
    "ts = pd.Series(np.random.randn(1000),\n",
    "              index=pd.date_range('1/1/2000', periods=1000))\n",
    "ts"
   ]
  },
  {
   "cell_type": "code",
   "execution_count": 60,
   "metadata": {},
   "outputs": [
    {
     "data": {
      "text/plain": [
       "[<matplotlib.lines.Line2D at 0x7f867d99efd0>]"
      ]
     },
     "execution_count": 60,
     "metadata": {},
     "output_type": "execute_result"
    },
    {
     "data": {
      "image/png": "[encoded data removed]",
      "text/plain": [
       "<matplotlib.figure.Figure at 0x7f867f9b5d30>"
      ]
     },
     "metadata": {},
     "output_type": "display_data"
    }
   ],
   "source": [
    "plt.plot(ts) # plot a line using matplotlib"
   ]
  },
  {
   "cell_type": "markdown",
   "metadata": {
    "collapsed": true
   },
   "source": [
    "### Getting data in and out"
   ]
  },
  {
   "cell_type": "code",
   "execution_count": 61,
   "metadata": {},
   "outputs": [
    {
     "data": {
      "text/html": [
       "<div>\n",
       "<table border=\"1\" class=\"dataframe\">\n",
       "  <thead>\n",
       "    <tr style=\"text-align: right;\">\n",
       "      <th></th>\n",
       "      <th>grade</th>\n",
       "      <th>id</th>\n",
       "      <th>new_grade</th>\n",
       "    </tr>\n",
       "  </thead>\n",
       "  <tbody>\n",
       "    <tr>\n",
       "      <th>0</th>\n",
       "      <td>A</td>\n",
       "      <td>1</td>\n",
       "      <td>A</td>\n",
       "    </tr>\n",
       "    <tr>\n",
       "      <th>1</th>\n",
       "      <td>B</td>\n",
       "      <td>2</td>\n",
       "      <td>B</td>\n",
       "    </tr>\n",
       "    <tr>\n",
       "      <th>2</th>\n",
       "      <td>A</td>\n",
       "      <td>3</td>\n",
       "      <td>A</td>\n",
       "    </tr>\n",
       "    <tr>\n",
       "      <th>3</th>\n",
       "      <td>C</td>\n",
       "      <td>4</td>\n",
       "      <td>C</td>\n",
       "    </tr>\n",
       "    <tr>\n",
       "      <th>4</th>\n",
       "      <td>B</td>\n",
       "      <td>5</td>\n",
       "      <td>B</td>\n",
       "    </tr>\n",
       "  </tbody>\n",
       "</table>\n",
       "</div>"
      ],
      "text/plain": [
       "  grade  id new_grade\n",
       "0     A   1         A\n",
       "1     B   2         B\n",
       "2     A   3         A\n",
       "3     C   4         C\n",
       "4     B   5         B"
      ]
     },
     "execution_count": 61,
     "metadata": {},
     "output_type": "execute_result"
    }
   ],
   "source": [
    "df.head() # check the data"
   ]
  },
  {
   "cell_type": "code",
   "execution_count": 62,
   "metadata": {
    "collapsed": true
   },
   "outputs": [],
   "source": [
    "df.to_csv('foo.csv') # writing to a csv file"
   ]
  },
  {
   "cell_type": "code",
   "execution_count": 63,
   "metadata": {
    "collapsed": true
   },
   "outputs": [],
   "source": [
    "df = pd.read_csv('foo.csv', index_col=0) # read a csv file and set column 0 as index"
   ]
  },
  {
   "cell_type": "code",
   "execution_count": 64,
   "metadata": {},
   "outputs": [
    {
     "data": {
      "text/html": [
       "<div>\n",
       "<table border=\"1\" class=\"dataframe\">\n",
       "  <thead>\n",
       "    <tr style=\"text-align: right;\">\n",
       "      <th></th>\n",
       "      <th>grade</th>\n",
       "      <th>id</th>\n",
       "      <th>new_grade</th>\n",
       "    </tr>\n",
       "  </thead>\n",
       "  <tbody>\n",
       "    <tr>\n",
       "      <th>0</th>\n",
       "      <td>A</td>\n",
       "      <td>1</td>\n",
       "      <td>A</td>\n",
       "    </tr>\n",
       "    <tr>\n",
       "      <th>1</th>\n",
       "      <td>B</td>\n",
       "      <td>2</td>\n",
       "      <td>B</td>\n",
       "    </tr>\n",
       "    <tr>\n",
       "      <th>2</th>\n",
       "      <td>A</td>\n",
       "      <td>3</td>\n",
       "      <td>A</td>\n",
       "    </tr>\n",
       "    <tr>\n",
       "      <th>3</th>\n",
       "      <td>C</td>\n",
       "      <td>4</td>\n",
       "      <td>C</td>\n",
       "    </tr>\n",
       "    <tr>\n",
       "      <th>4</th>\n",
       "      <td>B</td>\n",
       "      <td>5</td>\n",
       "      <td>B</td>\n",
       "    </tr>\n",
       "  </tbody>\n",
       "</table>\n",
       "</div>"
      ],
      "text/plain": [
       "  grade  id new_grade\n",
       "0     A   1         A\n",
       "1     B   2         B\n",
       "2     A   3         A\n",
       "3     C   4         C\n",
       "4     B   5         B"
      ]
     },
     "execution_count": 64,
     "metadata": {},
     "output_type": "execute_result"
    }
   ],
   "source": [
    "df.head()"
   ]
  },
  {
   "cell_type": "markdown",
   "metadata": {
    "collapsed": true
   },
   "source": [
    "Now you are ready to tackle the world of data science."
   ]
  },
  {
   "cell_type": "markdown",
   "metadata": {
    "collapsed": true
   },
   "source": [
    "## Handling DataFrame Split"
   ]
  },
  {
   "cell_type": "code",
   "execution_count": 65,
   "metadata": {
    "collapsed": true
   },
   "outputs": [],
   "source": [
    "[d1, d2, d3] = np.array_split(df, 3)"
   ]
  },
  {
   "cell_type": "code",
   "execution_count": 66,
   "metadata": {},
   "outputs": [
    {
     "data": {
      "text/html": [
       "<div>\n",
       "<table border=\"1\" class=\"dataframe\">\n",
       "  <thead>\n",
       "    <tr style=\"text-align: right;\">\n",
       "      <th></th>\n",
       "      <th>grade</th>\n",
       "      <th>id</th>\n",
       "      <th>new_grade</th>\n",
       "    </tr>\n",
       "  </thead>\n",
       "  <tbody>\n",
       "    <tr>\n",
       "      <th>0</th>\n",
       "      <td>A</td>\n",
       "      <td>1</td>\n",
       "      <td>A</td>\n",
       "    </tr>\n",
       "    <tr>\n",
       "      <th>1</th>\n",
       "      <td>B</td>\n",
       "      <td>2</td>\n",
       "      <td>B</td>\n",
       "    </tr>\n",
       "  </tbody>\n",
       "</table>\n",
       "</div>"
      ],
      "text/plain": [
       "  grade  id new_grade\n",
       "0     A   1         A\n",
       "1     B   2         B"
      ]
     },
     "execution_count": 66,
     "metadata": {},
     "output_type": "execute_result"
    }
   ],
   "source": [
    "d1.head()"
   ]
  },
  {
   "cell_type": "code",
   "execution_count": 67,
   "metadata": {},
   "outputs": [
    {
     "data": {
      "text/html": [
       "<div>\n",
       "<table border=\"1\" class=\"dataframe\">\n",
       "  <thead>\n",
       "    <tr style=\"text-align: right;\">\n",
       "      <th></th>\n",
       "      <th>grade</th>\n",
       "      <th>id</th>\n",
       "      <th>new_grade</th>\n",
       "    </tr>\n",
       "  </thead>\n",
       "  <tbody>\n",
       "    <tr>\n",
       "      <th>2</th>\n",
       "      <td>A</td>\n",
       "      <td>3</td>\n",
       "      <td>A</td>\n",
       "    </tr>\n",
       "    <tr>\n",
       "      <th>3</th>\n",
       "      <td>C</td>\n",
       "      <td>4</td>\n",
       "      <td>C</td>\n",
       "    </tr>\n",
       "  </tbody>\n",
       "</table>\n",
       "</div>"
      ],
      "text/plain": [
       "  grade  id new_grade\n",
       "2     A   3         A\n",
       "3     C   4         C"
      ]
     },
     "execution_count": 67,
     "metadata": {},
     "output_type": "execute_result"
    }
   ],
   "source": [
    "d2.head()"
   ]
  },
  {
   "cell_type": "code",
   "execution_count": 68,
   "metadata": {},
   "outputs": [
    {
     "data": {
      "text/html": [
       "<div>\n",
       "<table border=\"1\" class=\"dataframe\">\n",
       "  <thead>\n",
       "    <tr style=\"text-align: right;\">\n",
       "      <th></th>\n",
       "      <th>grade</th>\n",
       "      <th>id</th>\n",
       "      <th>new_grade</th>\n",
       "    </tr>\n",
       "  </thead>\n",
       "  <tbody>\n",
       "    <tr>\n",
       "      <th>4</th>\n",
       "      <td>B</td>\n",
       "      <td>5</td>\n",
       "      <td>B</td>\n",
       "    </tr>\n",
       "  </tbody>\n",
       "</table>\n",
       "</div>"
      ],
      "text/plain": [
       "  grade  id new_grade\n",
       "4     B   5         B"
      ]
     },
     "execution_count": 68,
     "metadata": {},
     "output_type": "execute_result"
    }
   ],
   "source": [
    "d3.head()"
   ]
  },
  {
   "cell_type": "code",
   "execution_count": 69,
   "metadata": {},
   "outputs": [
    {
     "name": "stdout",
     "output_type": "stream",
     "text": [
      "(2, 3) (2, 3) (1, 3)\n"
     ]
    }
   ],
   "source": [
    "print(d1.shape, d2.shape, d3.shape)"
   ]
  },
  {
   "cell_type": "code",
   "execution_count": 70,
   "metadata": {
    "collapsed": true
   },
   "outputs": [],
   "source": [
    "# lets join these dataframes together\n",
    "results = pd.concat([d1, d2, d3])"
   ]
  },
  {
   "cell_type": "code",
   "execution_count": 71,
   "metadata": {},
   "outputs": [
    {
     "data": {
      "text/html": [
       "<div>\n",
       "<table border=\"1\" class=\"dataframe\">\n",
       "  <thead>\n",
       "    <tr style=\"text-align: right;\">\n",
       "      <th></th>\n",
       "      <th>grade</th>\n",
       "      <th>id</th>\n",
       "      <th>new_grade</th>\n",
       "    </tr>\n",
       "  </thead>\n",
       "  <tbody>\n",
       "    <tr>\n",
       "      <th>0</th>\n",
       "      <td>A</td>\n",
       "      <td>1</td>\n",
       "      <td>A</td>\n",
       "    </tr>\n",
       "    <tr>\n",
       "      <th>1</th>\n",
       "      <td>B</td>\n",
       "      <td>2</td>\n",
       "      <td>B</td>\n",
       "    </tr>\n",
       "    <tr>\n",
       "      <th>2</th>\n",
       "      <td>A</td>\n",
       "      <td>3</td>\n",
       "      <td>A</td>\n",
       "    </tr>\n",
       "    <tr>\n",
       "      <th>3</th>\n",
       "      <td>C</td>\n",
       "      <td>4</td>\n",
       "      <td>C</td>\n",
       "    </tr>\n",
       "    <tr>\n",
       "      <th>4</th>\n",
       "      <td>B</td>\n",
       "      <td>5</td>\n",
       "      <td>B</td>\n",
       "    </tr>\n",
       "  </tbody>\n",
       "</table>\n",
       "</div>"
      ],
      "text/plain": [
       "  grade  id new_grade\n",
       "0     A   1         A\n",
       "1     B   2         B\n",
       "2     A   3         A\n",
       "3     C   4         C\n",
       "4     B   5         B"
      ]
     },
     "execution_count": 71,
     "metadata": {},
     "output_type": "execute_result"
    }
   ],
   "source": [
    "results"
   ]
  },
  {
   "cell_type": "code",
   "execution_count": 72,
   "metadata": {},
   "outputs": [
    {
     "data": {
      "text/html": [
       "<div>\n",
       "<table border=\"1\" class=\"dataframe\">\n",
       "  <thead>\n",
       "    <tr style=\"text-align: right;\">\n",
       "      <th></th>\n",
       "      <th></th>\n",
       "      <th>grade</th>\n",
       "      <th>id</th>\n",
       "      <th>new_grade</th>\n",
       "    </tr>\n",
       "  </thead>\n",
       "  <tbody>\n",
       "    <tr>\n",
       "      <th rowspan=\"2\" valign=\"top\">A</th>\n",
       "      <th>0</th>\n",
       "      <td>A</td>\n",
       "      <td>1</td>\n",
       "      <td>A</td>\n",
       "    </tr>\n",
       "    <tr>\n",
       "      <th>1</th>\n",
       "      <td>B</td>\n",
       "      <td>2</td>\n",
       "      <td>B</td>\n",
       "    </tr>\n",
       "    <tr>\n",
       "      <th rowspan=\"2\" valign=\"top\">B</th>\n",
       "      <th>2</th>\n",
       "      <td>A</td>\n",
       "      <td>3</td>\n",
       "      <td>A</td>\n",
       "    </tr>\n",
       "    <tr>\n",
       "      <th>3</th>\n",
       "      <td>C</td>\n",
       "      <td>4</td>\n",
       "      <td>C</td>\n",
       "    </tr>\n",
       "    <tr>\n",
       "      <th>C</th>\n",
       "      <th>4</th>\n",
       "      <td>B</td>\n",
       "      <td>5</td>\n",
       "      <td>B</td>\n",
       "    </tr>\n",
       "  </tbody>\n",
       "</table>\n",
       "</div>"
      ],
      "text/plain": [
       "    grade  id new_grade\n",
       "A 0     A   1         A\n",
       "  1     B   2         B\n",
       "B 2     A   3         A\n",
       "  3     C   4         C\n",
       "C 4     B   5         B"
      ]
     },
     "execution_count": 72,
     "metadata": {},
     "output_type": "execute_result"
    }
   ],
   "source": [
    "results2 = pd.concat([d1, d2, d3], keys=['A', 'B', 'C']) # adding a marker for the smaller dataframes\n",
    "results2"
   ]
  },
  {
   "cell_type": "code",
   "execution_count": 73,
   "metadata": {},
   "outputs": [
    {
     "data": {
      "text/html": [
       "<div>\n",
       "<table border=\"1\" class=\"dataframe\">\n",
       "  <thead>\n",
       "    <tr style=\"text-align: right;\">\n",
       "      <th></th>\n",
       "      <th>grade</th>\n",
       "      <th>id</th>\n",
       "      <th>new_grade</th>\n",
       "      <th>grade</th>\n",
       "      <th>id</th>\n",
       "      <th>new_grade</th>\n",
       "      <th>grade</th>\n",
       "      <th>id</th>\n",
       "      <th>new_grade</th>\n",
       "    </tr>\n",
       "  </thead>\n",
       "  <tbody>\n",
       "    <tr>\n",
       "      <th>0</th>\n",
       "      <td>A</td>\n",
       "      <td>1.0</td>\n",
       "      <td>A</td>\n",
       "      <td>NaN</td>\n",
       "      <td>NaN</td>\n",
       "      <td>NaN</td>\n",
       "      <td>NaN</td>\n",
       "      <td>NaN</td>\n",
       "      <td>NaN</td>\n",
       "    </tr>\n",
       "    <tr>\n",
       "      <th>1</th>\n",
       "      <td>B</td>\n",
       "      <td>2.0</td>\n",
       "      <td>B</td>\n",
       "      <td>NaN</td>\n",
       "      <td>NaN</td>\n",
       "      <td>NaN</td>\n",
       "      <td>NaN</td>\n",
       "      <td>NaN</td>\n",
       "      <td>NaN</td>\n",
       "    </tr>\n",
       "    <tr>\n",
       "      <th>2</th>\n",
       "      <td>NaN</td>\n",
       "      <td>NaN</td>\n",
       "      <td>NaN</td>\n",
       "      <td>A</td>\n",
       "      <td>3.0</td>\n",
       "      <td>A</td>\n",
       "      <td>NaN</td>\n",
       "      <td>NaN</td>\n",
       "      <td>NaN</td>\n",
       "    </tr>\n",
       "    <tr>\n",
       "      <th>3</th>\n",
       "      <td>NaN</td>\n",
       "      <td>NaN</td>\n",
       "      <td>NaN</td>\n",
       "      <td>C</td>\n",
       "      <td>4.0</td>\n",
       "      <td>C</td>\n",
       "      <td>NaN</td>\n",
       "      <td>NaN</td>\n",
       "      <td>NaN</td>\n",
       "    </tr>\n",
       "    <tr>\n",
       "      <th>4</th>\n",
       "      <td>NaN</td>\n",
       "      <td>NaN</td>\n",
       "      <td>NaN</td>\n",
       "      <td>NaN</td>\n",
       "      <td>NaN</td>\n",
       "      <td>NaN</td>\n",
       "      <td>B</td>\n",
       "      <td>5.0</td>\n",
       "      <td>B</td>\n",
       "    </tr>\n",
       "  </tbody>\n",
       "</table>\n",
       "</div>"
      ],
      "text/plain": [
       "  grade   id new_grade grade   id new_grade grade   id new_grade\n",
       "0     A  1.0         A   NaN  NaN       NaN   NaN  NaN       NaN\n",
       "1     B  2.0         B   NaN  NaN       NaN   NaN  NaN       NaN\n",
       "2   NaN  NaN       NaN     A  3.0         A   NaN  NaN       NaN\n",
       "3   NaN  NaN       NaN     C  4.0         C   NaN  NaN       NaN\n",
       "4   NaN  NaN       NaN   NaN  NaN       NaN     B  5.0         B"
      ]
     },
     "execution_count": 73,
     "metadata": {},
     "output_type": "execute_result"
    }
   ],
   "source": [
    "results_hor = pd.concat([d1, d2, d3], axis= 1)  # adding the dataframes horizontally\n",
    "results_hor"
   ]
  },
  {
   "cell_type": "markdown",
   "metadata": {},
   "source": [
    "It may not make any sense here but it is very useful make in the data construction phase to combine two more dataframes into one."
   ]
  },
  {
   "cell_type": "code",
   "execution_count": null,
   "metadata": {
    "collapsed": true
   },
   "outputs": [],
   "source": []
  }
 ],
 "metadata": {
  "kernelspec": {
   "display_name": "Python 3",
   "language": "python",
   "name": "python3"
  },
  "language_info": {
   "codemirror_mode": {
    "name": "ipython",
    "version": 3
   },
   "file_extension": ".py",
   "mimetype": "text/x-python",
   "name": "python",
   "nbconvert_exporter": "python",
   "pygments_lexer": "ipython3",
   "version": "3.5.2"
  }
 },
 "nbformat": 4,
 "nbformat_minor": 2
}
