{
 "cells": [
  {
   "cell_type": "code",
   "execution_count": 1,
   "metadata": {
    "collapsed": true
   },
   "outputs": [],
   "source": [
    "from numpy import *"
   ]
  },
  {
   "cell_type": "markdown",
   "metadata": {},
   "source": [
    "NumPy is a library for the Python programming language, adding support for large, multi-dimensional arrays and matrices, along with a large collection of high-level mathematical functions to operate on these arrays."
   ]
  },
  {
   "cell_type": "code",
   "execution_count": 2,
   "metadata": {},
   "outputs": [
    {
     "name": "stdout",
     "output_type": "stream",
     "text": [
      "Array a:\n",
      " [[ 0  1  2  3  4]\n",
      " [ 5  6  7  8  9]\n",
      " [10 11 12 13 14]]\n",
      "Array b:\n",
      " [[ 0  1  2]\n",
      " [ 3  4  5]\n",
      " [ 6  7  8]\n",
      " [ 9 10 11]\n",
      " [12 13 14]]\n"
     ]
    }
   ],
   "source": [
    "# 2D array: row = 3 col = 5;\n",
    "# fill the array from numbers 0-14\n",
    "a = arange(15).reshape(3, 5)\n",
    "print(\"Array a:\\n\", a)\n",
    "b = arange(15).reshape(5, 3)\n",
    "print(\"Array b:\\n\", b)"
   ]
  },
  {
   "cell_type": "code",
   "execution_count": 3,
   "metadata": {},
   "outputs": [
    {
     "name": "stdout",
     "output_type": "stream",
     "text": [
      "Array a dimension =  (3, 5)\n",
      "Array a dimension =  (5, 3)\n"
     ]
    }
   ],
   "source": [
    "# dimension of the array = shape\n",
    "print(\"Array a dimension = \", a.shape)\n",
    "print(\"Array a dimension = \", b.shape)"
   ]
  },
  {
   "cell_type": "code",
   "execution_count": 4,
   "metadata": {},
   "outputs": [
    {
     "name": "stdout",
     "output_type": "stream",
     "text": [
      "Type of a =  <class 'numpy.ndarray'>\n",
      "Type of b =  <class 'numpy.ndarray'>\n"
     ]
    }
   ],
   "source": [
    "# type of the object\n",
    "print(\"Type of a = \", type(a))\n",
    "print(\"Type of b = \", type(b))"
   ]
  },
  {
   "cell_type": "code",
   "execution_count": 5,
   "metadata": {},
   "outputs": [
    {
     "name": "stdout",
     "output_type": "stream",
     "text": [
      "[1, 2, 3, 4, 5]\n",
      "([1, 2, 3], [4, 5, 6])\n"
     ]
    }
   ],
   "source": [
    "# define 1D array\n",
    "arr1 = ([1, 2, 3, 4, 5])\n",
    "# define 2D array\n",
    "arr2 = ([1, 2, 3], [4, 5, 6])\n",
    "print(arr1)\n",
    "print(arr2)"
   ]
  },
  {
   "cell_type": "code",
   "execution_count": 6,
   "metadata": {},
   "outputs": [
    {
     "data": {
      "text/plain": [
       "array([[ 1.+0.j,  2.+0.j],\n",
       "       [ 3.+0.j,  4.+0.j]])"
      ]
     },
     "execution_count": 6,
     "metadata": {},
     "output_type": "execute_result"
    }
   ],
   "source": [
    "# define an array of type complex\n",
    "array([[1,  2], [3, 4]], dtype=complex)"
   ]
  },
  {
   "cell_type": "code",
   "execution_count": 7,
   "metadata": {},
   "outputs": [
    {
     "name": "stdout",
     "output_type": "stream",
     "text": [
      "Zero Array =\n",
      " [[ 0.  0.  0.  0.]\n",
      " [ 0.  0.  0.  0.]\n",
      " [ 0.  0.  0.  0.]]\n",
      "Ones Array =\n",
      " [[ 1.  1.  1.  1.]\n",
      " [ 1.  1.  1.  1.]\n",
      " [ 1.  1.  1.  1.]]\n"
     ]
    }
   ],
   "source": [
    "# create an array with zeros\n",
    "print(\"Zero Array =\\n\", zeros((3, 4)))\n",
    "print(\"Ones Array =\\n\", ones((3, 4)))"
   ]
  },
  {
   "cell_type": "code",
   "execution_count": 8,
   "metadata": {},
   "outputs": [
    {
     "data": {
      "text/plain": [
       "array([[1, 1, 1, 1, 1],\n",
       "       [1, 1, 1, 1, 1],\n",
       "       [1, 1, 1, 1, 1],\n",
       "       [1, 1, 1, 1, 1],\n",
       "       [1, 1, 1, 1, 1]])"
      ]
     },
     "execution_count": 8,
     "metadata": {},
     "output_type": "execute_result"
    }
   ],
   "source": [
    "# specify the data type\n",
    "ones((5, 5), dtype=int64)"
   ]
  },
  {
   "cell_type": "code",
   "execution_count": 9,
   "metadata": {},
   "outputs": [
    {
     "data": {
      "text/plain": [
       "array([[ 1.,  0.,  0.],\n",
       "       [ 0.,  1.,  0.],\n",
       "       [ 0.,  0.,  1.]])"
      ]
     },
     "execution_count": 9,
     "metadata": {},
     "output_type": "execute_result"
    }
   ],
   "source": [
    "# identity matrix of dimension 3x3\n",
    "eye(3)"
   ]
  },
  {
   "cell_type": "code",
   "execution_count": 10,
   "metadata": {},
   "outputs": [
    {
     "data": {
      "text/plain": [
       "array([ 0.        ,  0.11111111,  0.22222222,  0.33333333,  0.44444444,\n",
       "        0.55555556,  0.66666667,  0.77777778,  0.88888889,  1.        ])"
      ]
     },
     "execution_count": 10,
     "metadata": {},
     "output_type": "execute_result"
    }
   ],
   "source": [
    "# generate a array of 1D\n",
    "# elements from 0 to 1, divide the range in 10 parts\n",
    "linspace(0, 1, 10)"
   ]
  },
  {
   "cell_type": "code",
   "execution_count": 11,
   "metadata": {},
   "outputs": [
    {
     "name": "stdout",
     "output_type": "stream",
     "text": [
      "[ 0.          0.41887902  0.83775804  1.25663706  1.67551608  2.0943951\n",
      "  2.51327412  2.93215314  3.35103216  3.76991118  4.1887902   4.60766923\n",
      "  5.02654825  5.44542727  5.86430629  6.28318531]\n"
     ]
    }
   ],
   "source": [
    "# range from 0 to 2*pi, divided into 16 parts\n",
    "x = linspace(0, 2*pi, 16)\n",
    "print(x)"
   ]
  },
  {
   "cell_type": "code",
   "execution_count": 12,
   "metadata": {},
   "outputs": [
    {
     "data": {
      "text/plain": [
       "array([  0.00000000e+00,   4.06736643e-01,   7.43144825e-01,\n",
       "         9.51056516e-01,   9.94521895e-01,   8.66025404e-01,\n",
       "         5.87785252e-01,   2.07911691e-01,  -2.07911691e-01,\n",
       "        -5.87785252e-01,  -8.66025404e-01,  -9.94521895e-01,\n",
       "        -9.51056516e-01,  -7.43144825e-01,  -4.06736643e-01,\n",
       "        -2.44929360e-16])"
      ]
     },
     "execution_count": 12,
     "metadata": {},
     "output_type": "execute_result"
    }
   ],
   "source": [
    "# find the sin of the value\n",
    "sin(x)"
   ]
  },
  {
   "cell_type": "code",
   "execution_count": 13,
   "metadata": {},
   "outputs": [
    {
     "data": {
      "text/plain": [
       "array([ 1.        ,  0.91354546,  0.66913061,  0.30901699, -0.10452846,\n",
       "       -0.5       , -0.80901699, -0.9781476 , -0.9781476 , -0.80901699,\n",
       "       -0.5       , -0.10452846,  0.30901699,  0.66913061,  0.91354546,  1.        ])"
      ]
     },
     "execution_count": 13,
     "metadata": {},
     "output_type": "execute_result"
    }
   ],
   "source": [
    "# find the sin of the value\n",
    "cos(x)"
   ]
  },
  {
   "cell_type": "code",
   "execution_count": 14,
   "metadata": {},
   "outputs": [
    {
     "name": "stdout",
     "output_type": "stream",
     "text": [
      "Array(i) = Array(i) + 2\n",
      " [[3 3]\n",
      " [4 4]\n",
      " [5 5]]\n",
      "Array(i) = Array(i)*10\n",
      " [[10 20]\n",
      " [20 30]\n",
      " [30 40]]\n"
     ]
    }
   ],
   "source": [
    "# define array\n",
    "A = array([[1, 1],\n",
    "          [2, 2],\n",
    "          [3, 3]])\n",
    "B = array([[1, 2],\n",
    "          [2, 3],\n",
    "          [3, 4]])\n",
    "# add a value to all the elements\n",
    "print(\"Array(i) = Array(i) + 2\\n\", A+2)\n",
    "# add a value to all the elements\n",
    "print(\"Array(i) = Array(i)*10\\n\", B*10)"
   ]
  },
  {
   "cell_type": "code",
   "execution_count": 15,
   "metadata": {},
   "outputs": [
    {
     "name": "stdout",
     "output_type": "stream",
     "text": [
      "Matrix:\n",
      " [[1 2]\n",
      " [2 3]\n",
      " [3 4]]\n",
      "Transpose of the Matrix:\n",
      " [[1 2 3]\n",
      " [2 3 4]]\n"
     ]
    }
   ],
   "source": [
    "# transpose of the matrix\n",
    "print(\"Matrix:\\n\", B)\n",
    "print(\"Transpose of the Matrix:\\n\", B.T)"
   ]
  },
  {
   "cell_type": "code",
   "execution_count": 16,
   "metadata": {},
   "outputs": [
    {
     "name": "stdout",
     "output_type": "stream",
     "text": [
      "[[ 5  8 11]\n",
      " [ 8 13 18]\n",
      " [11 18 25]]\n"
     ]
    }
   ],
   "source": [
    "# dot product of the two matrix\n",
    "print(dot(B, B.T))"
   ]
  },
  {
   "cell_type": "code",
   "execution_count": 17,
   "metadata": {},
   "outputs": [
    {
     "name": "stdout",
     "output_type": "stream",
     "text": [
      "Range =  [0 1 2 3 4 5 6 7 8 9]\n",
      "[ 0.          1.          1.41421356  1.73205081  2.          2.23606798\n",
      "  2.44948974  2.64575131  2.82842712  3.        ]\n"
     ]
    }
   ],
   "source": [
    "# generate range of values: 0-9\n",
    "rangeX = arange(10)\n",
    "print(\"Range = \", rangeX)\n",
    "print(sqrt(rangeX))"
   ]
  },
  {
   "cell_type": "code",
   "execution_count": 18,
   "metadata": {},
   "outputs": [
    {
     "name": "stdout",
     "output_type": "stream",
     "text": [
      "[[ 8.  6.  3.  1.]\n",
      " [ 7.  8.  8.  3.]\n",
      " [ 6.  2.  9.  5.]]\n"
     ]
    }
   ],
   "source": [
    "# generate a matrix of dimension 3x4 with random numbers\n",
    "# multiply each element by 10\n",
    "a = floor(10*random.random((3, 4)))\n",
    "print(a)"
   ]
  },
  {
   "cell_type": "code",
   "execution_count": 19,
   "metadata": {},
   "outputs": [
    {
     "data": {
      "text/plain": [
       "array([ 8.,  6.,  3.,  1.,  7.,  8.,  8.,  3.,  6.,  2.,  9.,  5.])"
      ]
     },
     "execution_count": 19,
     "metadata": {},
     "output_type": "execute_result"
    }
   ],
   "source": [
    "# flatten the array -> row wise\n",
    "# generate a row wise array from a matrix\n",
    "a.ravel()"
   ]
  },
  {
   "cell_type": "code",
   "execution_count": 20,
   "metadata": {},
   "outputs": [
    {
     "name": "stdout",
     "output_type": "stream",
     "text": [
      "[[ 5.  2.  1.  0.]\n",
      " [ 5.  7.  0.  1.]\n",
      " [ 2.  9.  7.  4.]]\n"
     ]
    }
   ],
   "source": [
    "b = floor(10*random.random((3, 4)))\n",
    "print(b)"
   ]
  },
  {
   "cell_type": "code",
   "execution_count": 21,
   "metadata": {},
   "outputs": [
    {
     "data": {
      "text/plain": [
       "array([[ 8.,  6.,  3.,  1.],\n",
       "       [ 7.,  8.,  8.,  3.],\n",
       "       [ 6.,  2.,  9.,  5.],\n",
       "       [ 5.,  2.,  1.,  0.],\n",
       "       [ 5.,  7.,  0.,  1.],\n",
       "       [ 2.,  9.,  7.,  4.]])"
      ]
     },
     "execution_count": 21,
     "metadata": {},
     "output_type": "execute_result"
    }
   ],
   "source": [
    "# vertically stack the two matrices\n",
    "vstack((a, b))"
   ]
  },
  {
   "cell_type": "code",
   "execution_count": 22,
   "metadata": {},
   "outputs": [
    {
     "data": {
      "text/plain": [
       "array([[ 8.,  6.,  3.,  1.,  5.,  2.,  1.,  0.],\n",
       "       [ 7.,  8.,  8.,  3.,  5.,  7.,  0.,  1.],\n",
       "       [ 6.,  2.,  9.,  5.,  2.,  9.,  7.,  4.]])"
      ]
     },
     "execution_count": 22,
     "metadata": {},
     "output_type": "execute_result"
    }
   ],
   "source": [
    "# horizontal stack two matrices\n",
    "hstack((a, b))"
   ]
  },
  {
   "cell_type": "code",
   "execution_count": 23,
   "metadata": {},
   "outputs": [
    {
     "data": {
      "text/plain": [
       "array([[ 5.,  2.,  1.,  0.],\n",
       "       [ 5.,  7.,  0.,  1.],\n",
       "       [ 2.,  9.,  7.,  4.],\n",
       "       [ 8.,  6.,  3.,  1.],\n",
       "       [ 7.,  8.,  8.,  3.],\n",
       "       [ 6.,  2.,  9.,  5.]])"
      ]
     },
     "execution_count": 23,
     "metadata": {},
     "output_type": "execute_result"
    }
   ],
   "source": [
    "# vertically stack two matrices\n",
    "# b on top of a\n",
    "vstack((b, a))"
   ]
  },
  {
   "cell_type": "markdown",
   "metadata": {},
   "source": [
    "Done! Now you are familier with some of the most commonly used concepts in\n",
    "NumPy. More you will learn now as you work on different problems."
   ]
  },
  {
   "cell_type": "code",
   "execution_count": null,
   "metadata": {
    "collapsed": true
   },
   "outputs": [],
   "source": []
  }
 ],
 "metadata": {
  "kernelspec": {
   "display_name": "Python 3",
   "language": "python",
   "name": "python3"
  },
  "language_info": {
   "codemirror_mode": {
    "name": "ipython",
    "version": 3
   },
   "file_extension": ".py",
   "mimetype": "text/x-python",
   "name": "python",
   "nbconvert_exporter": "python",
   "pygments_lexer": "ipython3",
   "version": "3.6.2"
  }
 },
 "nbformat": 4,
 "nbformat_minor": 2
}
