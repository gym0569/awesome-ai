{
 "cells": [
  {
   "cell_type": "code",
   "execution_count": 1,
   "metadata": {
    "collapsed": true
   },
   "outputs": [],
   "source": [
    "# import imp pacckages\n",
    "from numpy import *"
   ]
  },
  {
   "cell_type": "markdown",
   "metadata": {},
   "source": [
    "NumPy is a library for the Python programming language, adding support for large, multi-dimensional arrays and matrices, along with a large collection of high-level mathematical functions to operate on these arrays."
   ]
  },
  {
   "cell_type": "code",
   "execution_count": 2,
   "metadata": {},
   "outputs": [
    {
     "name": "stdout",
     "output_type": "stream",
     "text": [
      "[[ 0  1  2  3  4]\n",
      " [ 5  6  7  8  9]\n",
      " [10 11 12 13 14]]\n",
      "[[ 0  5 10]\n",
      " [ 1  6 11]\n",
      " [ 2  7 12]\n",
      " [ 3  8 13]\n",
      " [ 4  9 14]]\n"
     ]
    }
   ],
   "source": [
    "# create a 2d-array with 3 rows and 5 column and fill it with numbers 0-14\n",
    "a = arange(15).reshape(3, 5)\n",
    "print(a)\n",
    "\n",
    "print(a.T) # transpose the array"
   ]
  },
  {
   "cell_type": "code",
   "execution_count": 3,
   "metadata": {},
   "outputs": [
    {
     "name": "stdout",
     "output_type": "stream",
     "text": [
      "Array a dimension [row, column] = (3, 5)\n",
      "Type of a =  <class 'numpy.ndarray'>\n"
     ]
    }
   ],
   "source": [
    "# get the dimension of the array: shape\n",
    "print(\"Array a dimension [row, column] =\", a.shape)\n",
    "\n",
    "# get the object type\n",
    "print(\"Type of a = \", type(a))"
   ]
  },
  {
   "cell_type": "code",
   "execution_count": 4,
   "metadata": {},
   "outputs": [
    {
     "name": "stdout",
     "output_type": "stream",
     "text": [
      "[1, 2, 3, 4, 5] ([1, 2, 3], [4, 5, 6])\n"
     ]
    }
   ],
   "source": [
    "# simplest way to define an array\n",
    "arr1 = ([1, 2, 3, 4, 5])\n",
    "\n",
    "# define a 2d-array\n",
    "arr2 = ([1, 2, 3], [4, 5, 6])\n",
    "\n",
    "print(arr1, arr2)"
   ]
  },
  {
   "cell_type": "code",
   "execution_count": 5,
   "metadata": {},
   "outputs": [
    {
     "data": {
      "text/plain": [
       "array([[ 1.+0.j,  2.+0.j],\n",
       "       [ 3.+0.j,  4.+0.j]])"
      ]
     },
     "execution_count": 5,
     "metadata": {},
     "output_type": "execute_result"
    }
   ],
   "source": [
    "# define an array of type complex\n",
    "array([[1,  2],\n",
    "       [3, 4]], dtype=complex)"
   ]
  },
  {
   "cell_type": "code",
   "execution_count": 6,
   "metadata": {},
   "outputs": [
    {
     "name": "stdout",
     "output_type": "stream",
     "text": [
      "Zero Array =\n",
      " [[ 0.  0.  0.  0.  0.]\n",
      " [ 0.  0.  0.  0.  0.]\n",
      " [ 0.  0.  0.  0.  0.]\n",
      " [ 0.  0.  0.  0.  0.]\n",
      " [ 0.  0.  0.  0.  0.]]\n",
      "Ones Array =\n",
      " [[ 1.  1.  1.  1.  1.]\n",
      " [ 1.  1.  1.  1.  1.]\n",
      " [ 1.  1.  1.  1.  1.]\n",
      " [ 1.  1.  1.  1.  1.]\n",
      " [ 1.  1.  1.  1.  1.]]\n"
     ]
    }
   ],
   "source": [
    "# create a zero and ones array\n",
    "num_row = 5\n",
    "num_col = 5\n",
    "print(\"Zero Array =\\n\", zeros((num_row, num_col)))\n",
    "print(\"Ones Array =\\n\", ones((num_row, num_col)))"
   ]
  },
  {
   "cell_type": "code",
   "execution_count": 7,
   "metadata": {},
   "outputs": [
    {
     "data": {
      "text/plain": [
       "array([[1, 1, 1, 1, 1],\n",
       "       [1, 1, 1, 1, 1],\n",
       "       [1, 1, 1, 1, 1],\n",
       "       [1, 1, 1, 1, 1],\n",
       "       [1, 1, 1, 1, 1]])"
      ]
     },
     "execution_count": 7,
     "metadata": {},
     "output_type": "execute_result"
    }
   ],
   "source": [
    "# specify the data type while creating the array\n",
    "ones((num_row, num_col), dtype=int64)"
   ]
  },
  {
   "cell_type": "code",
   "execution_count": 8,
   "metadata": {},
   "outputs": [
    {
     "data": {
      "text/plain": [
       "array([[ 1.,  0.,  0.],\n",
       "       [ 0.,  1.,  0.],\n",
       "       [ 0.,  0.,  1.]])"
      ]
     },
     "execution_count": 8,
     "metadata": {},
     "output_type": "execute_result"
    }
   ],
   "source": [
    "# identity matrix of dimension 3x3\n",
    "eye(3)"
   ]
  },
  {
   "cell_type": "code",
   "execution_count": 9,
   "metadata": {},
   "outputs": [
    {
     "data": {
      "text/plain": [
       "array([ 0.        ,  0.11111111,  0.22222222,  0.33333333,  0.44444444,\n",
       "        0.55555556,  0.66666667,  0.77777778,  0.88888889,  1.        ])"
      ]
     },
     "execution_count": 9,
     "metadata": {},
     "output_type": "execute_result"
    }
   ],
   "source": [
    "# another way to generate an array: elements from 0 to 1, divide the range in 10 parts\n",
    "linspace(0, 1, 10)"
   ]
  },
  {
   "cell_type": "code",
   "execution_count": 10,
   "metadata": {},
   "outputs": [
    {
     "name": "stdout",
     "output_type": "stream",
     "text": [
      "[ 0.          0.41887902  0.83775804  1.25663706  1.67551608  2.0943951\n",
      "  2.51327412  2.93215314  3.35103216  3.76991118  4.1887902   4.60766923\n",
      "  5.02654825  5.44542727  5.86430629  6.28318531]\n"
     ]
    }
   ],
   "source": [
    "# range from 0 to 2*pi, divided into 16 parts\n",
    "x = linspace(0, 2*pi, 16)\n",
    "print(x)"
   ]
  },
  {
   "cell_type": "code",
   "execution_count": 11,
   "metadata": {},
   "outputs": [
    {
     "data": {
      "text/plain": [
       "array([  0.00000000e+00,   4.06736643e-01,   7.43144825e-01,\n",
       "         9.51056516e-01,   9.94521895e-01,   8.66025404e-01,\n",
       "         5.87785252e-01,   2.07911691e-01,  -2.07911691e-01,\n",
       "        -5.87785252e-01,  -8.66025404e-01,  -9.94521895e-01,\n",
       "        -9.51056516e-01,  -7.43144825e-01,  -4.06736643e-01,\n",
       "        -2.44929360e-16])"
      ]
     },
     "execution_count": 11,
     "metadata": {},
     "output_type": "execute_result"
    }
   ],
   "source": [
    "# find the sin of the value\n",
    "sin(x)"
   ]
  },
  {
   "cell_type": "code",
   "execution_count": 12,
   "metadata": {},
   "outputs": [
    {
     "data": {
      "text/plain": [
       "array([ 1.        ,  0.91354546,  0.66913061,  0.30901699, -0.10452846,\n",
       "       -0.5       , -0.80901699, -0.9781476 , -0.9781476 , -0.80901699,\n",
       "       -0.5       , -0.10452846,  0.30901699,  0.66913061,  0.91354546,  1.        ])"
      ]
     },
     "execution_count": 12,
     "metadata": {},
     "output_type": "execute_result"
    }
   ],
   "source": [
    "# find the sin of the value\n",
    "cos(x)"
   ]
  },
  {
   "cell_type": "code",
   "execution_count": 13,
   "metadata": {},
   "outputs": [
    {
     "name": "stdout",
     "output_type": "stream",
     "text": [
      "[[ 5.  8.  9.  0.]\n",
      " [ 4.  3.  8.  5.]\n",
      " [ 6.  7.  4.  5.]]\n",
      "[[ 7.  7.  0.  0.]\n",
      " [ 1.  9.  3.  0.]\n",
      " [ 4.  7.  1.  1.]]\n"
     ]
    }
   ],
   "source": [
    "# generate a matrix of dimension 3x4 with random numbers and multiply each element by 10\n",
    "\n",
    "a = floor(10*random.random((3, 4)))\n",
    "print(a)\n",
    "\n",
    "b = floor(10*random.random((3, 4)))\n",
    "print(b)"
   ]
  },
  {
   "cell_type": "code",
   "execution_count": 14,
   "metadata": {},
   "outputs": [
    {
     "data": {
      "text/plain": [
       "array([[ 5.,  8.,  9.,  0.],\n",
       "       [ 4.,  3.,  8.,  5.],\n",
       "       [ 6.,  7.,  4.,  5.],\n",
       "       [ 7.,  7.,  0.,  0.],\n",
       "       [ 1.,  9.,  3.,  0.],\n",
       "       [ 4.,  7.,  1.,  1.]])"
      ]
     },
     "execution_count": 14,
     "metadata": {},
     "output_type": "execute_result"
    }
   ],
   "source": [
    "# vertically stack the two matrices\n",
    "vstack((a, b))"
   ]
  },
  {
   "cell_type": "code",
   "execution_count": 15,
   "metadata": {},
   "outputs": [
    {
     "data": {
      "text/plain": [
       "array([[ 5.,  8.,  9.,  0.,  7.,  7.,  0.,  0.],\n",
       "       [ 4.,  3.,  8.,  5.,  1.,  9.,  3.,  0.],\n",
       "       [ 6.,  7.,  4.,  5.,  4.,  7.,  1.,  1.]])"
      ]
     },
     "execution_count": 15,
     "metadata": {},
     "output_type": "execute_result"
    }
   ],
   "source": [
    "# horizontal stack two matrices\n",
    "hstack((a, b))"
   ]
  },
  {
   "cell_type": "code",
   "execution_count": 16,
   "metadata": {},
   "outputs": [
    {
     "data": {
      "text/plain": [
       "array([[ 7.,  7.,  0.,  0.],\n",
       "       [ 1.,  9.,  3.,  0.],\n",
       "       [ 4.,  7.,  1.,  1.],\n",
       "       [ 5.,  8.,  9.,  0.],\n",
       "       [ 4.,  3.,  8.,  5.],\n",
       "       [ 6.,  7.,  4.,  5.]])"
      ]
     },
     "execution_count": 16,
     "metadata": {},
     "output_type": "execute_result"
    }
   ],
   "source": [
    "# vertically stack two matrices\n",
    "# b on top of a\n",
    "vstack((b, a))"
   ]
  },
  {
   "cell_type": "code",
   "execution_count": 17,
   "metadata": {},
   "outputs": [
    {
     "data": {
      "text/plain": [
       "array([[ 7.,  7.,  0.,  0.,  5.,  8.,  9.,  0.],\n",
       "       [ 1.,  9.,  3.,  0.,  4.,  3.,  8.,  5.],\n",
       "       [ 4.,  7.,  1.,  1.,  6.,  7.,  4.,  5.]])"
      ]
     },
     "execution_count": 17,
     "metadata": {},
     "output_type": "execute_result"
    }
   ],
   "source": [
    "# horizontal stack two matrices with b in front\n",
    "hstack((b, a))"
   ]
  },
  {
   "cell_type": "markdown",
   "metadata": {},
   "source": [
    "Done! Now you are familier with some of the most commonly used concepts in\n",
    "NumPy. More you will learn now as you work on different problems."
   ]
  },
  {
   "cell_type": "code",
   "execution_count": null,
   "metadata": {
    "collapsed": true
   },
   "outputs": [],
   "source": []
  }
 ],
 "metadata": {
  "kernelspec": {
   "display_name": "Python 3",
   "language": "python",
   "name": "python3"
  },
  "language_info": {
   "codemirror_mode": {
    "name": "ipython",
    "version": 3
   },
   "file_extension": ".py",
   "mimetype": "text/x-python",
   "name": "python",
   "nbconvert_exporter": "python",
   "pygments_lexer": "ipython3",
   "version": "3.6.2"
  }
 },
 "nbformat": 4,
 "nbformat_minor": 2
}
