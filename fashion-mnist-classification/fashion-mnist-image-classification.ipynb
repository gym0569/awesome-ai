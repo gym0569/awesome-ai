{
 "cells": [
  {
   "cell_type": "code",
   "execution_count": 1,
   "metadata": {
    "ExecuteTime": {
     "end_time": "2018-12-17T18:15:25.643164Z",
     "start_time": "2018-12-17T18:15:24.262749Z"
    }
   },
   "outputs": [
    {
     "name": "stdout",
     "output_type": "stream",
     "text": [
      "1.12.0\n"
     ]
    }
   ],
   "source": [
    "import os\n",
    "import sys\n",
    "import numpy as np\n",
    "import tensorflow as tf\n",
    "import matplotlib.pyplot as plt\n",
    "print(tf.__version__)"
   ]
  },
  {
   "cell_type": "code",
   "execution_count": 2,
   "metadata": {
    "ExecuteTime": {
     "end_time": "2018-12-17T18:15:26.078988Z",
     "start_time": "2018-12-17T18:15:25.646799Z"
    }
   },
   "outputs": [],
   "source": [
    "# load the pre-shuffled train and test data\n",
    "(x_train, y_train), (x_test, y_test) = tf.keras.datasets.fashion_mnist.load_data()"
   ]
  },
  {
   "cell_type": "code",
   "execution_count": 3,
   "metadata": {
    "ExecuteTime": {
     "end_time": "2018-12-17T18:15:26.085347Z",
     "start_time": "2018-12-17T18:15:26.081210Z"
    }
   },
   "outputs": [
    {
     "name": "stdout",
     "output_type": "stream",
     "text": [
      "Train: (60000, 28, 28) (60000,)\n",
      "Test: (10000, 28, 28) (10000,)\n"
     ]
    }
   ],
   "source": [
    "print(\"Train:\", x_train.shape, y_train.shape)\n",
    "print(\"Test:\", x_test.shape, y_test.shape)"
   ]
  },
  {
   "cell_type": "code",
   "execution_count": 4,
   "metadata": {
    "ExecuteTime": {
     "end_time": "2018-12-17T18:15:26.260802Z",
     "start_time": "2018-12-17T18:15:26.087964Z"
    }
   },
   "outputs": [
    {
     "data": {
      "text/plain": [
       "<matplotlib.image.AxesImage at 0xb2ba797f0>"
      ]
     },
     "execution_count": 4,
     "metadata": {},
     "output_type": "execute_result"
    },
    {
     "data": {
      "image/png": "[encoded data removed]",
      "text/plain": [
       "<Figure size 432x288 with 1 Axes>"
      ]
     },
     "metadata": {
      "needs_background": "light"
     },
     "output_type": "display_data"
    }
   ],
   "source": [
    "# view one of the training images\n",
    "plt.imshow(x_train[0])"
   ]
  },
  {
   "cell_type": "code",
   "execution_count": 11,
   "metadata": {
    "ExecuteTime": {
     "end_time": "2018-12-17T18:19:14.170263Z",
     "start_time": "2018-12-17T18:19:14.164362Z"
    }
   },
   "outputs": [
    {
     "name": "stdout",
     "output_type": "stream",
     "text": [
      "Validation: (2000, 28, 28) (2000,)\n",
      "Test: (58000, 28, 28) (58000,)\n"
     ]
    }
   ],
   "source": [
    "# create validation dataset\n",
    "(x_train, x_val) = x_train[2000:], x_train[:2000]\n",
    "(y_train, y_val) = y_train[2000:], y_val[:2000]\n",
    "\n",
    "print(\"Validation:\", x_val.shape, y_val.shape)\n",
    "print(\"Test:\", x_train.shape, y_train.shape)"
   ]
  },
  {
   "cell_type": "code",
   "execution_count": 12,
   "metadata": {
    "ExecuteTime": {
     "end_time": "2018-12-17T18:20:27.332692Z",
     "start_time": "2018-12-17T18:20:27.328231Z"
    }
   },
   "outputs": [
    {
     "data": {
      "text/plain": [
       "(28, 28)"
      ]
     },
     "execution_count": 12,
     "metadata": {},
     "output_type": "execute_result"
    }
   ],
   "source": [
    "x_train[0].shape, y_train.shape"
   ]
  },
  {
   "cell_type": "code",
   "execution_count": 13,
   "metadata": {
    "ExecuteTime": {
     "end_time": "2018-12-17T18:21:02.590613Z",
     "start_time": "2018-12-17T18:21:02.586777Z"
    }
   },
   "outputs": [],
   "source": [
    "# reshape input data from (28, 28) to (28, 28, 1)\n",
    "w, h = 28, 28\n",
    "x_train = x_train.reshape(x_train.shape[0], w, h, 1)\n",
    "x_test = x_test.reshape(x_test.shape[0], w, h, 1)\n",
    "x_val = x_val.reshape(x_val.shape[0], w, h, 1)"
   ]
  },
  {
   "cell_type": "code",
   "execution_count": 14,
   "metadata": {
    "ExecuteTime": {
     "end_time": "2018-12-17T18:22:04.109411Z",
     "start_time": "2018-12-17T18:22:04.106875Z"
    }
   },
   "outputs": [],
   "source": [
    "num_classes = 10 # number of probable classes in the dataset"
   ]
  },
  {
   "cell_type": "code",
   "execution_count": 15,
   "metadata": {
    "ExecuteTime": {
     "end_time": "2018-12-17T18:22:38.210446Z",
     "start_time": "2018-12-17T18:22:38.204123Z"
    }
   },
   "outputs": [],
   "source": [
    "# one-hot encode the labels\n",
    "y_train = tf.keras.utils.to_categorical(y_train, 10)\n",
    "y_test = tf.keras.utils.to_categorical(y_test, 10)\n",
    "y_val = tf.keras.utils.to_categorical(y_val, 10)"
   ]
  },
  {
   "cell_type": "code",
   "execution_count": 16,
   "metadata": {
    "ExecuteTime": {
     "end_time": "2018-12-17T18:22:44.559043Z",
     "start_time": "2018-12-17T18:22:44.556265Z"
    }
   },
   "outputs": [],
   "source": [
    "# define a simple cnn model\n",
    "baseline_model = tf.keras.Sequential()"
   ]
  },
  {
   "cell_type": "code",
   "execution_count": 17,
   "metadata": {
    "ExecuteTime": {
     "end_time": "2018-12-17T18:22:59.728082Z",
     "start_time": "2018-12-17T18:22:59.691146Z"
    }
   },
   "outputs": [],
   "source": [
    "# add a convolution block\n",
    "baseline_model.add(tf.keras.layers.Conv2D(\n",
    "    filters=64,\n",
    "    kernel_size=2,\n",
    "    padding=\"same\",\n",
    "    activation=\"relu\",\n",
    "    input_shape=(28, 28, 1)))\n",
    "\n",
    "# add a maxpooling layer\n",
    "baseline_model.add(tf.keras.layers.MaxPooling2D(pool_size=2))\n",
    "\n",
    "# add a dropout layer\n",
    "baseline_model.add(tf.keras.layers.Dropout(rate=0.3))"
   ]
  },
  {
   "cell_type": "code",
   "execution_count": 18,
   "metadata": {
    "ExecuteTime": {
     "end_time": "2018-12-17T18:23:08.106982Z",
     "start_time": "2018-12-17T18:23:08.069568Z"
    }
   },
   "outputs": [],
   "source": [
    "# add another convolutional block\n",
    "baseline_model.add(tf.keras.layers.Conv2D(\n",
    "    filters=32,\n",
    "    kernel_size=2,\n",
    "    padding=\"same\",\n",
    "    activation=\"relu\"))\n",
    "\n",
    "# add a maxpooling layer\n",
    "baseline_model.add(tf.keras.layers.MaxPooling2D(pool_size=2))\n",
    "\n",
    "# add a dropout layer\n",
    "baseline_model.add(tf.keras.layers.Dropout(rate=0.3))"
   ]
  },
  {
   "cell_type": "code",
   "execution_count": 19,
   "metadata": {
    "ExecuteTime": {
     "end_time": "2018-12-17T18:23:24.504595Z",
     "start_time": "2018-12-17T18:23:24.451963Z"
    }
   },
   "outputs": [],
   "source": [
    "# now flatten the output\n",
    "baseline_model.add(tf.keras.layers.Flatten())\n",
    "\n",
    "# add a dense layer with relu activation\n",
    "baseline_model.add(tf.keras.layers.Dense(256, activation=\"relu\"))\n",
    "\n",
    "# add a dropout layer\n",
    "baseline_model.add(tf.keras.layers.Dropout(rate=0.5))\n",
    "\n",
    "# now add the final output layer: softmax layer\n",
    "baseline_model.add(tf.keras.layers.Dense(num_classes, activation=\"softmax\"))"
   ]
  },
  {
   "cell_type": "code",
   "execution_count": 20,
   "metadata": {
    "ExecuteTime": {
     "end_time": "2018-12-17T18:23:26.539506Z",
     "start_time": "2018-12-17T18:23:26.534098Z"
    }
   },
   "outputs": [
    {
     "name": "stdout",
     "output_type": "stream",
     "text": [
      "_________________________________________________________________\n",
      "Layer (type)                 Output Shape              Param #   \n",
      "=================================================================\n",
      "conv2d_2 (Conv2D)            (None, 28, 28, 64)        320       \n",
      "_________________________________________________________________\n",
      "max_pooling2d_1 (MaxPooling2 (None, 14, 14, 64)        0         \n",
      "_________________________________________________________________\n",
      "dropout_1 (Dropout)          (None, 14, 14, 64)        0         \n",
      "_________________________________________________________________\n",
      "conv2d_3 (Conv2D)            (None, 14, 14, 32)        8224      \n",
      "_________________________________________________________________\n",
      "max_pooling2d_2 (MaxPooling2 (None, 7, 7, 32)          0         \n",
      "_________________________________________________________________\n",
      "dropout_2 (Dropout)          (None, 7, 7, 32)          0         \n",
      "_________________________________________________________________\n",
      "flatten (Flatten)            (None, 1568)              0         \n",
      "_________________________________________________________________\n",
      "dense (Dense)                (None, 256)               401664    \n",
      "_________________________________________________________________\n",
      "dropout_3 (Dropout)          (None, 256)               0         \n",
      "_________________________________________________________________\n",
      "dense_1 (Dense)              (None, 10)                2570      \n",
      "=================================================================\n",
      "Total params: 412,778\n",
      "Trainable params: 412,778\n",
      "Non-trainable params: 0\n",
      "_________________________________________________________________\n"
     ]
    }
   ],
   "source": [
    "# summarise model\n",
    "baseline_model.summary()"
   ]
  },
  {
   "cell_type": "code",
   "execution_count": 21,
   "metadata": {
    "ExecuteTime": {
     "end_time": "2018-12-17T18:23:53.654382Z",
     "start_time": "2018-12-17T18:23:53.571147Z"
    }
   },
   "outputs": [],
   "source": [
    "# compile the model\n",
    "baseline_model.compile(\n",
    "    loss=\"categorical_crossentropy\",\n",
    "    optimizer=\"adam\",\n",
    "    metrics=[\"accuracy\"])"
   ]
  },
  {
   "cell_type": "code",
   "execution_count": 24,
   "metadata": {
    "ExecuteTime": {
     "end_time": "2018-12-17T18:25:54.224995Z",
     "start_time": "2018-12-17T18:25:54.221978Z"
    }
   },
   "outputs": [],
   "source": [
    "ckp = tf.keras.callbacks.ModelCheckpoint(filepath='model.weights.best.hdf5', verbose = 1, save_best_only=True)"
   ]
  },
  {
   "cell_type": "code",
   "execution_count": 25,
   "metadata": {
    "ExecuteTime": {
     "end_time": "2018-12-17T18:40:35.550276Z",
     "start_time": "2018-12-17T18:26:59.029785Z"
    }
   },
   "outputs": [
    {
     "name": "stdout",
     "output_type": "stream",
     "text": [
      "Train on 58000 samples, validate on 2000 samples\n",
      "Epoch 1/20\n",
      "57920/58000 [============================>.] - ETA: 0s - loss: 3.4538 - acc: 0.6358\n",
      "Epoch 00001: val_loss improved from inf to 8.31151, saving model to model.weights.best.hdf5\n",
      "58000/58000 [==============================] - 34s 584us/step - loss: 3.4502 - acc: 0.6359 - val_loss: 8.3115 - val_acc: 0.1055\n",
      "Epoch 2/20\n",
      "57984/58000 [============================>.] - ETA: 0s - loss: 0.5341 - acc: 0.8040\n",
      "Epoch 00002: val_loss did not improve from 8.31151\n",
      "58000/58000 [==============================] - 34s 594us/step - loss: 0.5340 - acc: 0.8040 - val_loss: 9.4713 - val_acc: 0.1055\n",
      "Epoch 3/20\n",
      "57984/58000 [============================>.] - ETA: 0s - loss: 0.4643 - acc: 0.8294\n",
      "Epoch 00003: val_loss did not improve from 8.31151\n",
      "58000/58000 [==============================] - 66s 1ms/step - loss: 0.4643 - acc: 0.8294 - val_loss: 9.7027 - val_acc: 0.1065\n",
      "Epoch 4/20\n",
      "57984/58000 [============================>.] - ETA: 0s - loss: 0.4236 - acc: 0.8461\n",
      "Epoch 00004: val_loss did not improve from 8.31151\n",
      "58000/58000 [==============================] - 47s 817us/step - loss: 0.4236 - acc: 0.8461 - val_loss: 9.8875 - val_acc: 0.1040\n",
      "Epoch 5/20\n",
      "57984/58000 [============================>.] - ETA: 0s - loss: 0.3951 - acc: 0.8537\n",
      "Epoch 00005: val_loss did not improve from 8.31151\n",
      "58000/58000 [==============================] - 45s 784us/step - loss: 0.3951 - acc: 0.8537 - val_loss: 10.4229 - val_acc: 0.1070\n",
      "Epoch 6/20\n",
      "57984/58000 [============================>.] - ETA: 0s - loss: 0.3765 - acc: 0.8628\n",
      "Epoch 00006: val_loss did not improve from 8.31151\n",
      "58000/58000 [==============================] - 45s 783us/step - loss: 0.3766 - acc: 0.8628 - val_loss: 10.5968 - val_acc: 0.1050\n",
      "Epoch 7/20\n",
      "57984/58000 [============================>.] - ETA: 0s - loss: 0.3557 - acc: 0.8694\n",
      "Epoch 00007: val_loss did not improve from 8.31151\n",
      "58000/58000 [==============================] - 45s 784us/step - loss: 0.3556 - acc: 0.8694 - val_loss: 11.0639 - val_acc: 0.1045\n",
      "Epoch 8/20\n",
      "57984/58000 [============================>.] - ETA: 0s - loss: 0.3481 - acc: 0.8699\n",
      "Epoch 00008: val_loss did not improve from 8.31151\n",
      "58000/58000 [==============================] - 46s 787us/step - loss: 0.3481 - acc: 0.8700 - val_loss: 10.9051 - val_acc: 0.1065\n",
      "Epoch 9/20\n",
      "57984/58000 [============================>.] - ETA: 0s - loss: 0.3362 - acc: 0.8759\n",
      "Epoch 00009: val_loss did not improve from 8.31151\n",
      "58000/58000 [==============================] - 45s 771us/step - loss: 0.3362 - acc: 0.8759 - val_loss: 11.3150 - val_acc: 0.1075\n",
      "Epoch 10/20\n",
      "57984/58000 [============================>.] - ETA: 0s - loss: 0.3286 - acc: 0.8801\n",
      "Epoch 00010: val_loss did not improve from 8.31151\n",
      "58000/58000 [==============================] - 48s 822us/step - loss: 0.3286 - acc: 0.8801 - val_loss: 11.1356 - val_acc: 0.1055\n",
      "Epoch 11/20\n",
      "57984/58000 [============================>.] - ETA: 0s - loss: 0.3237 - acc: 0.8813\n",
      "Epoch 00011: val_loss did not improve from 8.31151\n",
      "58000/58000 [==============================] - 46s 791us/step - loss: 0.3237 - acc: 0.8813 - val_loss: 11.3679 - val_acc: 0.1055\n",
      "Epoch 12/20\n",
      "57920/58000 [============================>.] - ETA: 0s - loss: 0.3178 - acc: 0.8836\n",
      "Epoch 00012: val_loss did not improve from 8.31151\n",
      "58000/58000 [==============================] - 48s 822us/step - loss: 0.3178 - acc: 0.8835 - val_loss: 11.1685 - val_acc: 0.1065\n",
      "Epoch 13/20\n",
      "57984/58000 [============================>.] - ETA: 0s - loss: 0.3107 - acc: 0.8856\n",
      "Epoch 00013: val_loss did not improve from 8.31151\n",
      "58000/58000 [==============================] - 36s 627us/step - loss: 0.3106 - acc: 0.8856 - val_loss: 11.4649 - val_acc: 0.1060\n",
      "Epoch 14/20\n",
      "57920/58000 [============================>.] - ETA: 0s - loss: 0.3042 - acc: 0.8883\n",
      "Epoch 00014: val_loss did not improve from 8.31151\n",
      "58000/58000 [==============================] - 34s 585us/step - loss: 0.3042 - acc: 0.8883 - val_loss: 11.1620 - val_acc: 0.1075\n",
      "Epoch 15/20\n",
      "57920/58000 [============================>.] - ETA: 0s - loss: 0.3031 - acc: 0.8888\n",
      "Epoch 00015: val_loss did not improve from 8.31151\n",
      "58000/58000 [==============================] - 32s 555us/step - loss: 0.3031 - acc: 0.8888 - val_loss: 11.3740 - val_acc: 0.1085\n",
      "Epoch 16/20\n",
      "57920/58000 [============================>.] - ETA: 0s - loss: 0.2934 - acc: 0.8915\n",
      "Epoch 00016: val_loss did not improve from 8.31151\n",
      "58000/58000 [==============================] - 33s 563us/step - loss: 0.2932 - acc: 0.8916 - val_loss: 11.6528 - val_acc: 0.1070\n",
      "Epoch 17/20\n",
      "57984/58000 [============================>.] - ETA: 0s - loss: 0.2918 - acc: 0.8922\n",
      "Epoch 00017: val_loss did not improve from 8.31151\n",
      "58000/58000 [==============================] - 32s 560us/step - loss: 0.2917 - acc: 0.8923 - val_loss: 11.9139 - val_acc: 0.1050\n",
      "Epoch 18/20\n",
      "57920/58000 [============================>.] - ETA: 0s - loss: 0.2926 - acc: 0.8922\n",
      "Epoch 00018: val_loss did not improve from 8.31151\n",
      "58000/58000 [==============================] - 33s 566us/step - loss: 0.2926 - acc: 0.8922 - val_loss: 11.6148 - val_acc: 0.1075\n",
      "Epoch 19/20\n",
      "57920/58000 [============================>.] - ETA: 0s - loss: 0.2865 - acc: 0.8943\n",
      "Epoch 00019: val_loss did not improve from 8.31151\n",
      "58000/58000 [==============================] - 33s 568us/step - loss: 0.2865 - acc: 0.8943 - val_loss: 11.7012 - val_acc: 0.1055\n",
      "Epoch 20/20\n",
      "57920/58000 [============================>.] - ETA: 0s - loss: 0.2806 - acc: 0.8946\n",
      "Epoch 00020: val_loss did not improve from 8.31151\n",
      "58000/58000 [==============================] - 33s 564us/step - loss: 0.2805 - acc: 0.8946 - val_loss: 11.6507 - val_acc: 0.1065\n"
     ]
    },
    {
     "data": {
      "text/plain": [
       "<tensorflow.python.keras.callbacks.History at 0xb2cfeb9b0>"
      ]
     },
     "execution_count": 25,
     "metadata": {},
     "output_type": "execute_result"
    }
   ],
   "source": [
    "# train the model\n",
    "baseline_model.fit(x_train,\n",
    "                  y_train,\n",
    "                  batch_size=64,\n",
    "                  epochs=20,\n",
    "                  validation_data=(x_val, y_val),\n",
    "                  callbacks=[ckp])"
   ]
  },
  {
   "cell_type": "code",
   "execution_count": 32,
   "metadata": {
    "ExecuteTime": {
     "end_time": "2018-12-17T18:43:41.472290Z",
     "start_time": "2018-12-17T18:43:40.399255Z"
    }
   },
   "outputs": [
    {
     "name": "stdout",
     "output_type": "stream",
     "text": [
      "8000/8000 [==============================] - 1s 134us/step\n"
     ]
    }
   ],
   "source": [
    "score = baseline_model.evaluate(x_test, y_test, verbose=1)"
   ]
  },
  {
   "cell_type": "code",
   "execution_count": 34,
   "metadata": {
    "ExecuteTime": {
     "end_time": "2018-12-17T18:44:01.758219Z",
     "start_time": "2018-12-17T18:44:01.754532Z"
    }
   },
   "outputs": [
    {
     "name": "stdout",
     "output_type": "stream",
     "text": [
      "Test Accuracy =  0.90325\n"
     ]
    }
   ],
   "source": [
    "print(\"Test Accuracy = \", score[1])"
   ]
  },
  {
   "cell_type": "code",
   "execution_count": null,
   "metadata": {},
   "outputs": [],
   "source": []
  }
 ],
 "metadata": {
  "kernelspec": {
   "display_name": "Python [conda env:ai_env]",
   "language": "python",
   "name": "conda-env-ai_env-py"
  },
  "language_info": {
   "codemirror_mode": {
    "name": "ipython",
    "version": 3
   },
   "file_extension": ".py",
   "mimetype": "text/x-python",
   "name": "python",
   "nbconvert_exporter": "python",
   "pygments_lexer": "ipython3",
   "version": "3.6.6"
  }
 },
 "nbformat": 4,
 "nbformat_minor": 2
}
