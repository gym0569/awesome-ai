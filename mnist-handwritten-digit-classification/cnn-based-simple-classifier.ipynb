{
 "cells": [
  {
   "cell_type": "code",
   "execution_count": 1,
   "metadata": {
    "ExecuteTime": {
     "end_time": "2018-12-18T07:03:34.368351Z",
     "start_time": "2018-12-18T07:03:33.029149Z"
    }
   },
   "outputs": [
    {
     "name": "stdout",
     "output_type": "stream",
     "text": [
      "1.12.0\n"
     ]
    }
   ],
   "source": [
    "# load packages\n",
    "import os\n",
    "import sys\n",
    "import tensorflow as tf\n",
    "import numpy as np\n",
    "import matplotlib.pyplot as plt\n",
    "print(tf.__version__)"
   ]
  },
  {
   "cell_type": "code",
   "execution_count": 2,
   "metadata": {
    "ExecuteTime": {
     "end_time": "2018-12-18T07:03:34.701900Z",
     "start_time": "2018-12-18T07:03:34.370963Z"
    }
   },
   "outputs": [],
   "source": [
    "# load data from inbuilt repo\n",
    "(x_train, y_train), (x_test, y_test) = tf.keras.datasets.mnist.load_data()"
   ]
  },
  {
   "cell_type": "code",
   "execution_count": 3,
   "metadata": {
    "ExecuteTime": {
     "end_time": "2018-12-18T07:03:34.706920Z",
     "start_time": "2018-12-18T07:03:34.703628Z"
    }
   },
   "outputs": [
    {
     "name": "stdout",
     "output_type": "stream",
     "text": [
      "Train: (60000, 28, 28) (60000,)\n",
      "Test: (10000, 28, 28) (10000,)\n"
     ]
    }
   ],
   "source": [
    "print(\"Train:\", x_train.shape, y_train.shape)\n",
    "print(\"Test:\", x_test.shape, y_test.shape)"
   ]
  },
  {
   "cell_type": "code",
   "execution_count": 4,
   "metadata": {
    "ExecuteTime": {
     "end_time": "2018-12-18T07:03:34.715976Z",
     "start_time": "2018-12-18T07:03:34.711253Z"
    }
   },
   "outputs": [
    {
     "name": "stdout",
     "output_type": "stream",
     "text": [
      "Validation Set: (2000, 28, 28) (2000,)\n"
     ]
    }
   ],
   "source": [
    "# create a validation set\n",
    "split_index = 2000\n",
    "(x_val, x_test) = x_test[:2000], x_test[2000:]\n",
    "(y_val, y_test) = y_test[:2000], y_test[2000:]\n",
    "print(\"Validation Set:\", x_val.shape, y_val.shape)"
   ]
  },
  {
   "cell_type": "code",
   "execution_count": 5,
   "metadata": {
    "ExecuteTime": {
     "end_time": "2018-12-18T07:03:34.725833Z",
     "start_time": "2018-12-18T07:03:34.718836Z"
    }
   },
   "outputs": [
    {
     "data": {
      "text/plain": [
       "(28, 28)"
      ]
     },
     "execution_count": 5,
     "metadata": {},
     "output_type": "execute_result"
    }
   ],
   "source": [
    "# view shape of the image\n",
    "x_train[0].shape"
   ]
  },
  {
   "cell_type": "code",
   "execution_count": 6,
   "metadata": {
    "ExecuteTime": {
     "end_time": "2018-12-18T07:03:34.897435Z",
     "start_time": "2018-12-18T07:03:34.728172Z"
    }
   },
   "outputs": [
    {
     "data": {
      "text/plain": [
       "<matplotlib.image.AxesImage at 0x11c84d128>"
      ]
     },
     "execution_count": 6,
     "metadata": {},
     "output_type": "execute_result"
    },
    {
     "data": {
      "image/png": "[encoded data removed]",
      "text/plain": [
       "<Figure size 432x288 with 1 Axes>"
      ]
     },
     "metadata": {
      "needs_background": "light"
     },
     "output_type": "display_data"
    }
   ],
   "source": [
    "# plot one of the image in train set\n",
    "plt.imshow(x_train[10])"
   ]
  },
  {
   "cell_type": "code",
   "execution_count": 7,
   "metadata": {
    "ExecuteTime": {
     "end_time": "2018-12-18T07:03:35.082558Z",
     "start_time": "2018-12-18T07:03:34.899828Z"
    }
   },
   "outputs": [],
   "source": [
    "# lets normlize the data\n",
    "x_train = x_train.astype(\"float32\") / 255.0\n",
    "x_test = x_test.astype(\"float32\") / 255.0\n",
    "x_val = x_val.astype(\"float32\") / 255.0"
   ]
  },
  {
   "cell_type": "code",
   "execution_count": 8,
   "metadata": {
    "ExecuteTime": {
     "end_time": "2018-12-18T07:03:35.090777Z",
     "start_time": "2018-12-18T07:03:35.084934Z"
    }
   },
   "outputs": [],
   "source": [
    "# one-hot encode the labels\n",
    "y_train = tf.keras.utils.to_categorical(y_train, 10)\n",
    "y_test = tf.keras.utils.to_categorical(y_test, 10)\n",
    "y_val = tf.keras.utils.to_categorical(y_val, 10)"
   ]
  },
  {
   "cell_type": "code",
   "execution_count": 9,
   "metadata": {
    "ExecuteTime": {
     "end_time": "2018-12-18T07:03:35.096668Z",
     "start_time": "2018-12-18T07:03:35.093010Z"
    }
   },
   "outputs": [],
   "source": [
    "# reshape input data from (28, 28) to (28, 28, 1)\n",
    "w, h = 28, 28\n",
    "x_train = x_train.reshape(x_train.shape[0], w, h, 1)\n",
    "x_test = x_test.reshape(x_test.shape[0], w, h, 1)\n",
    "x_val = x_val.reshape(x_val.shape[0], w, h, 1)"
   ]
  },
  {
   "cell_type": "code",
   "execution_count": 10,
   "metadata": {
    "ExecuteTime": {
     "end_time": "2018-12-18T07:03:35.113027Z",
     "start_time": "2018-12-18T07:03:35.098533Z"
    }
   },
   "outputs": [],
   "source": [
    "# create a baseline cnn model\n",
    "model = tf.keras.Sequential()"
   ]
  },
  {
   "cell_type": "code",
   "execution_count": 11,
   "metadata": {
    "ExecuteTime": {
     "end_time": "2018-12-18T07:03:35.194474Z",
     "start_time": "2018-12-18T07:03:35.115013Z"
    }
   },
   "outputs": [],
   "source": [
    "# add a convolutional block\n",
    "model.add(tf.keras.layers.Conv2D(filters=32,\n",
    "                                kernel_size=2,\n",
    "                                padding=\"same\",\n",
    "                                activation=\"relu\",\n",
    "                                input_shape=(28, 28, 1)))\n",
    "\n",
    "# add a max pooling layer\n",
    "model.add(tf.keras.layers.MaxPool2D())\n",
    "\n",
    "# add a dropout layer\n",
    "model.add(tf.keras.layers.Dropout(rate=0.3))"
   ]
  },
  {
   "cell_type": "code",
   "execution_count": 12,
   "metadata": {
    "ExecuteTime": {
     "end_time": "2018-12-18T07:03:35.245656Z",
     "start_time": "2018-12-18T07:03:35.196421Z"
    }
   },
   "outputs": [],
   "source": [
    "# now flatten the output\n",
    "model.add(tf.keras.layers.Flatten())\n",
    "\n",
    "# add a dense layer with relu activation\n",
    "model.add(tf.keras.layers.Dense(256, activation=\"relu\"))\n",
    "\n",
    "# add a dropout layer\n",
    "model.add(tf.keras.layers.Dropout(rate=0.5))\n",
    "\n",
    "# now add the final output layer: softmax layer\n",
    "model.add(tf.keras.layers.Dense(10, activation=\"softmax\"))"
   ]
  },
  {
   "cell_type": "code",
   "execution_count": 13,
   "metadata": {
    "ExecuteTime": {
     "end_time": "2018-12-18T07:03:35.325236Z",
     "start_time": "2018-12-18T07:03:35.247439Z"
    }
   },
   "outputs": [],
   "source": [
    "# compile the model\n",
    "model.compile(\n",
    "    loss=\"categorical_crossentropy\",\n",
    "    optimizer=\"adam\",\n",
    "    metrics=[\"accuracy\"])"
   ]
  },
  {
   "cell_type": "code",
   "execution_count": 14,
   "metadata": {
    "ExecuteTime": {
     "end_time": "2018-12-18T07:03:35.329960Z",
     "start_time": "2018-12-18T07:03:35.327039Z"
    }
   },
   "outputs": [],
   "source": [
    "ckp = tf.keras.callbacks.ModelCheckpoint(filepath='model.weights.best.hdf5', verbose = 1, save_best_only=True)"
   ]
  },
  {
   "cell_type": "code",
   "execution_count": 15,
   "metadata": {
    "ExecuteTime": {
     "end_time": "2018-12-18T07:06:53.141698Z",
     "start_time": "2018-12-18T07:03:35.331888Z"
    }
   },
   "outputs": [
    {
     "name": "stdout",
     "output_type": "stream",
     "text": [
      "Train on 60000 samples, validate on 2000 samples\n",
      "Epoch 1/10\n",
      "59840/60000 [============================>.] - ETA: 0s - loss: 0.2693 - acc: 0.9201\n",
      "Epoch 00001: val_loss improved from inf to 0.11187, saving model to model.weights.best.hdf5\n",
      "60000/60000 [==============================] - 20s 336us/step - loss: 0.2690 - acc: 0.9202 - val_loss: 0.1119 - val_acc: 0.9665\n",
      "Epoch 2/10\n",
      "59840/60000 [============================>.] - ETA: 0s - loss: 0.1106 - acc: 0.9666\n",
      "Epoch 00002: val_loss improved from 0.11187 to 0.08338, saving model to model.weights.best.hdf5\n",
      "60000/60000 [==============================] - 20s 338us/step - loss: 0.1105 - acc: 0.9666 - val_loss: 0.0834 - val_acc: 0.9720\n",
      "Epoch 3/10\n",
      "59840/60000 [============================>.] - ETA: 0s - loss: 0.0822 - acc: 0.9746\n",
      "Epoch 00003: val_loss improved from 0.08338 to 0.07629, saving model to model.weights.best.hdf5\n",
      "60000/60000 [==============================] - 22s 362us/step - loss: 0.0823 - acc: 0.9746 - val_loss: 0.0763 - val_acc: 0.9720\n",
      "Epoch 4/10\n",
      "59968/60000 [============================>.] - ETA: 0s - loss: 0.0680 - acc: 0.9791\n",
      "Epoch 00004: val_loss improved from 0.07629 to 0.07411, saving model to model.weights.best.hdf5\n",
      "60000/60000 [==============================] - 19s 323us/step - loss: 0.0682 - acc: 0.9790 - val_loss: 0.0741 - val_acc: 0.9755\n",
      "Epoch 5/10\n",
      "59968/60000 [============================>.] - ETA: 0s - loss: 0.0607 - acc: 0.9811\n",
      "Epoch 00005: val_loss improved from 0.07411 to 0.07122, saving model to model.weights.best.hdf5\n",
      "60000/60000 [==============================] - 19s 323us/step - loss: 0.0606 - acc: 0.9811 - val_loss: 0.0712 - val_acc: 0.9780\n",
      "Epoch 6/10\n",
      "59968/60000 [============================>.] - ETA: 0s - loss: 0.0541 - acc: 0.9830\n",
      "Epoch 00006: val_loss improved from 0.07122 to 0.06672, saving model to model.weights.best.hdf5\n",
      "60000/60000 [==============================] - 19s 320us/step - loss: 0.0541 - acc: 0.9830 - val_loss: 0.0667 - val_acc: 0.9785\n",
      "Epoch 7/10\n",
      "59840/60000 [============================>.] - ETA: 0s - loss: 0.0465 - acc: 0.9848\n",
      "Epoch 00007: val_loss improved from 0.06672 to 0.06225, saving model to model.weights.best.hdf5\n",
      "60000/60000 [==============================] - 20s 326us/step - loss: 0.0464 - acc: 0.9848 - val_loss: 0.0622 - val_acc: 0.9775\n",
      "Epoch 8/10\n",
      "59968/60000 [============================>.] - ETA: 0s - loss: 0.0411 - acc: 0.9869\n",
      "Epoch 00008: val_loss did not improve from 0.06225\n",
      "60000/60000 [==============================] - 19s 321us/step - loss: 0.0411 - acc: 0.9869 - val_loss: 0.0665 - val_acc: 0.9770\n",
      "Epoch 9/10\n",
      "59904/60000 [============================>.] - ETA: 0s - loss: 0.0387 - acc: 0.9872\n",
      "Epoch 00009: val_loss did not improve from 0.06225\n",
      "60000/60000 [==============================] - 19s 320us/step - loss: 0.0387 - acc: 0.9872 - val_loss: 0.0644 - val_acc: 0.9810\n",
      "Epoch 10/10\n",
      "59904/60000 [============================>.] - ETA: 0s - loss: 0.0344 - acc: 0.9891\n",
      "Epoch 00010: val_loss did not improve from 0.06225\n",
      "60000/60000 [==============================] - 19s 321us/step - loss: 0.0345 - acc: 0.9891 - val_loss: 0.0640 - val_acc: 0.9795\n"
     ]
    },
    {
     "data": {
      "text/plain": [
       "<tensorflow.python.keras.callbacks.History at 0xb3335b2b0>"
      ]
     },
     "execution_count": 15,
     "metadata": {},
     "output_type": "execute_result"
    }
   ],
   "source": [
    "# train the model\n",
    "model.fit(x_train, y_train, epochs=10, batch_size=64, validation_data=(x_val, y_val), callbacks=[ckp])"
   ]
  },
  {
   "cell_type": "code",
   "execution_count": 16,
   "metadata": {
    "ExecuteTime": {
     "end_time": "2018-12-18T07:06:53.840941Z",
     "start_time": "2018-12-18T07:06:53.143502Z"
    }
   },
   "outputs": [
    {
     "name": "stdout",
     "output_type": "stream",
     "text": [
      "8000/8000 [==============================] - 1s 87us/step\n",
      "Test Accuracy =  0.988875\n"
     ]
    }
   ],
   "source": [
    "score = model.evaluate(x_test, y_test, verbose=1)\n",
    "print(\"Test Accuracy = \", score[1])"
   ]
  },
  {
   "cell_type": "code",
   "execution_count": 18,
   "metadata": {
    "ExecuteTime": {
     "end_time": "2018-12-18T07:09:42.637916Z",
     "start_time": "2018-12-18T07:09:41.984497Z"
    }
   },
   "outputs": [
    {
     "data": {
      "text/plain": [
       "array([[1.8985251e-08, 7.5797381e-08, 3.7652046e-06, ..., 1.6419008e-10,\n",
       "        4.2652890e-05, 7.9538172e-09],\n",
       "       [1.5276555e-05, 4.9814567e-08, 2.8572401e-08, ..., 5.4146276e-06,\n",
       "        2.4453243e-02, 8.6794598e-03],\n",
       "       [1.9226645e-06, 1.0298045e-08, 1.5988400e-11, ..., 5.7715248e-13,\n",
       "        1.3977592e-09, 3.5027210e-11],\n",
       "       ...,\n",
       "       [1.5737666e-15, 6.8619349e-10, 2.9167027e-14, ..., 5.9318785e-09,\n",
       "        1.0254046e-07, 2.4447195e-07],\n",
       "       [7.2077740e-11, 5.5656472e-11, 2.1240596e-12, ..., 2.0744664e-10,\n",
       "        6.1189741e-05, 3.2293127e-11],\n",
       "       [2.6988844e-10, 1.9107118e-12, 1.4715433e-09, ..., 2.4387524e-16,\n",
       "        6.6848914e-13, 2.0222771e-14]], dtype=float32)"
      ]
     },
     "execution_count": 18,
     "metadata": {},
     "output_type": "execute_result"
    }
   ],
   "source": [
    "model.predict(x_test)"
   ]
  },
  {
   "cell_type": "code",
   "execution_count": null,
   "metadata": {},
   "outputs": [],
   "source": []
  }
 ],
 "metadata": {
  "kernelspec": {
   "display_name": "Python [conda env:ai_env]",
   "language": "python",
   "name": "conda-env-ai_env-py"
  },
  "language_info": {
   "codemirror_mode": {
    "name": "ipython",
    "version": 3
   },
   "file_extension": ".py",
   "mimetype": "text/x-python",
   "name": "python",
   "nbconvert_exporter": "python",
   "pygments_lexer": "ipython3",
   "version": "3.6.6"
  }
 },
 "nbformat": 4,
 "nbformat_minor": 2
}
