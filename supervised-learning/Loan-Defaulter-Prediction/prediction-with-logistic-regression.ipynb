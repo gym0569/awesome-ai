{
 "cells": [
  {
   "cell_type": "code",
   "execution_count": 1,
   "metadata": {},
   "outputs": [
    {
     "name": "stderr",
     "output_type": "stream",
     "text": [
      "/home/dexter/anaconda3/lib/python3.6/site-packages/sklearn/cross_validation.py:41: DeprecationWarning: This module was deprecated in version 0.18 in favor of the model_selection module into which all the refactored classes and functions are moved. Also note that the interface of the new CV iterators are different from that of this module. This module will be removed in 0.20.\n",
      "  \"This module will be removed in 0.20.\", DeprecationWarning)\n"
     ]
    }
   ],
   "source": [
    "import pandas as pd\n",
    "import numpy as np\n",
    "from sklearn.linear_model import LogisticRegression\n",
    "from sklearn.cross_validation import train_test_split\n",
    "from sklearn.metrics import mean_squared_error\n",
    "from sklearn.metrics import accuracy_score"
   ]
  },
  {
   "cell_type": "code",
   "execution_count": 2,
   "metadata": {},
   "outputs": [
    {
     "data": {
      "text/html": [
       "<div>\n",
       "<style>\n",
       "    .dataframe thead tr:only-child th {\n",
       "        text-align: right;\n",
       "    }\n",
       "\n",
       "    .dataframe thead th {\n",
       "        text-align: left;\n",
       "    }\n",
       "\n",
       "    .dataframe tbody tr th {\n",
       "        vertical-align: top;\n",
       "    }\n",
       "</style>\n",
       "<table border=\"1\" class=\"dataframe\">\n",
       "  <thead>\n",
       "    <tr style=\"text-align: right;\">\n",
       "      <th></th>\n",
       "      <th>Gender</th>\n",
       "      <th>Married</th>\n",
       "      <th>Dependents</th>\n",
       "      <th>Education</th>\n",
       "      <th>Self_Employed</th>\n",
       "      <th>ApplicantIncome</th>\n",
       "      <th>CoapplicantIncome</th>\n",
       "      <th>LoanAmount</th>\n",
       "      <th>Loan_Amount_Term</th>\n",
       "      <th>Credit_History</th>\n",
       "      <th>Property_Area</th>\n",
       "      <th>Loan_Status</th>\n",
       "    </tr>\n",
       "    <tr>\n",
       "      <th>Loan_ID</th>\n",
       "      <th></th>\n",
       "      <th></th>\n",
       "      <th></th>\n",
       "      <th></th>\n",
       "      <th></th>\n",
       "      <th></th>\n",
       "      <th></th>\n",
       "      <th></th>\n",
       "      <th></th>\n",
       "      <th></th>\n",
       "      <th></th>\n",
       "      <th></th>\n",
       "    </tr>\n",
       "  </thead>\n",
       "  <tbody>\n",
       "    <tr>\n",
       "      <th>LP001002</th>\n",
       "      <td>1</td>\n",
       "      <td>0</td>\n",
       "      <td>0</td>\n",
       "      <td>0</td>\n",
       "      <td>0</td>\n",
       "      <td>0.072210</td>\n",
       "      <td>0.000000</td>\n",
       "      <td>0.209160</td>\n",
       "      <td>0.75</td>\n",
       "      <td>1.0</td>\n",
       "      <td>2</td>\n",
       "      <td>1</td>\n",
       "    </tr>\n",
       "    <tr>\n",
       "      <th>LP001003</th>\n",
       "      <td>1</td>\n",
       "      <td>1</td>\n",
       "      <td>1</td>\n",
       "      <td>0</td>\n",
       "      <td>0</td>\n",
       "      <td>0.056580</td>\n",
       "      <td>0.036192</td>\n",
       "      <td>0.182857</td>\n",
       "      <td>0.75</td>\n",
       "      <td>1.0</td>\n",
       "      <td>0</td>\n",
       "      <td>0</td>\n",
       "    </tr>\n",
       "    <tr>\n",
       "      <th>LP001005</th>\n",
       "      <td>1</td>\n",
       "      <td>1</td>\n",
       "      <td>0</td>\n",
       "      <td>0</td>\n",
       "      <td>1</td>\n",
       "      <td>0.037037</td>\n",
       "      <td>0.000000</td>\n",
       "      <td>0.094286</td>\n",
       "      <td>0.75</td>\n",
       "      <td>1.0</td>\n",
       "      <td>2</td>\n",
       "      <td>1</td>\n",
       "    </tr>\n",
       "    <tr>\n",
       "      <th>LP001006</th>\n",
       "      <td>1</td>\n",
       "      <td>1</td>\n",
       "      <td>0</td>\n",
       "      <td>1</td>\n",
       "      <td>0</td>\n",
       "      <td>0.031889</td>\n",
       "      <td>0.056592</td>\n",
       "      <td>0.171429</td>\n",
       "      <td>0.75</td>\n",
       "      <td>1.0</td>\n",
       "      <td>2</td>\n",
       "      <td>1</td>\n",
       "    </tr>\n",
       "    <tr>\n",
       "      <th>LP001008</th>\n",
       "      <td>1</td>\n",
       "      <td>0</td>\n",
       "      <td>0</td>\n",
       "      <td>0</td>\n",
       "      <td>0</td>\n",
       "      <td>0.074074</td>\n",
       "      <td>0.000000</td>\n",
       "      <td>0.201429</td>\n",
       "      <td>0.75</td>\n",
       "      <td>1.0</td>\n",
       "      <td>2</td>\n",
       "      <td>1</td>\n",
       "    </tr>\n",
       "  </tbody>\n",
       "</table>\n",
       "</div>"
      ],
      "text/plain": [
       "          Gender  Married  Dependents  Education  Self_Employed  \\\n",
       "Loan_ID                                                           \n",
       "LP001002       1        0           0          0              0   \n",
       "LP001003       1        1           1          0              0   \n",
       "LP001005       1        1           0          0              1   \n",
       "LP001006       1        1           0          1              0   \n",
       "LP001008       1        0           0          0              0   \n",
       "\n",
       "          ApplicantIncome  CoapplicantIncome  LoanAmount  Loan_Amount_Term  \\\n",
       "Loan_ID                                                                      \n",
       "LP001002         0.072210           0.000000    0.209160              0.75   \n",
       "LP001003         0.056580           0.036192    0.182857              0.75   \n",
       "LP001005         0.037037           0.000000    0.094286              0.75   \n",
       "LP001006         0.031889           0.056592    0.171429              0.75   \n",
       "LP001008         0.074074           0.000000    0.201429              0.75   \n",
       "\n",
       "          Credit_History  Property_Area  Loan_Status  \n",
       "Loan_ID                                               \n",
       "LP001002             1.0              2            1  \n",
       "LP001003             1.0              0            0  \n",
       "LP001005             1.0              2            1  \n",
       "LP001006             1.0              2            1  \n",
       "LP001008             1.0              2            1  "
      ]
     },
     "execution_count": 2,
     "metadata": {},
     "output_type": "execute_result"
    }
   ],
   "source": [
    "df = pd.DataFrame.from_csv(\"../datasets/cleaned-loan-defaulter-dataset.csv\")\n",
    "df.head()"
   ]
  },
  {
   "cell_type": "code",
   "execution_count": 3,
   "metadata": {},
   "outputs": [
    {
     "name": "stdout",
     "output_type": "stream",
     "text": [
      "(614, 11) (614,)\n"
     ]
    }
   ],
   "source": [
    "X = df[df.columns[0:-1]] # features\n",
    "y = df[df.columns[-1]] # target variable\n",
    "\n",
    "print(X.shape, y.shape)"
   ]
  },
  {
   "cell_type": "markdown",
   "metadata": {},
   "source": [
    "## Simple Validation"
   ]
  },
  {
   "cell_type": "code",
   "execution_count": 4,
   "metadata": {
    "collapsed": true
   },
   "outputs": [],
   "source": [
    "# splti the data into tarining and testing data: 80% training and 20% testing data\n",
    "Xtrain, Xtest, ytrain, ytest = train_test_split(X, y, test_size = 0.2, random_state = 1987)"
   ]
  },
  {
   "cell_type": "code",
   "execution_count": 5,
   "metadata": {},
   "outputs": [
    {
     "name": "stdout",
     "output_type": "stream",
     "text": [
      "Training Data: (491, 11) (491,)\n",
      "Testing Data: (123, 11) (123,)\n"
     ]
    }
   ],
   "source": [
    "print(\"Training Data:\", Xtrain.shape, ytrain.shape)\n",
    "print(\"Testing Data:\", Xtest.shape, ytest.shape)"
   ]
  },
  {
   "cell_type": "code",
   "execution_count": 6,
   "metadata": {
    "collapsed": true
   },
   "outputs": [],
   "source": [
    "# initiate an instance of the function\n",
    "model = LogisticRegression()\n",
    "\n",
    "# fit the model on the training data\n",
    "model.fit(Xtrain, ytrain)\n",
    "\n",
    "# predict the out come: test on the testing data\n",
    "ytest_predicted = model.predict(Xtest)"
   ]
  },
  {
   "cell_type": "code",
   "execution_count": 9,
   "metadata": {},
   "outputs": [
    {
     "name": "stdout",
     "output_type": "stream",
     "text": [
      "0.788617886179\n"
     ]
    }
   ],
   "source": [
    "# chech the accuracy\n",
    "print(accuracy_score(ytest, ytest_predicted))"
   ]
  },
  {
   "cell_type": "markdown",
   "metadata": {
    "collapsed": true
   },
   "source": [
    "## Cross-Validation"
   ]
  },
  {
   "cell_type": "code",
   "execution_count": 10,
   "metadata": {
    "collapsed": true
   },
   "outputs": [],
   "source": [
    "from sklearn.cross_validation import cross_val_score"
   ]
  },
  {
   "cell_type": "code",
   "execution_count": 12,
   "metadata": {},
   "outputs": [
    {
     "name": "stdout",
     "output_type": "stream",
     "text": [
      "Fold  0 : 0.8\n",
      "Fold  1 : 0.85\n",
      "Fold  2 : 0.8\n",
      "Fold  3 : 0.85\n",
      "Fold  4 : 0.9\n",
      "Fold  5 : 0.7\n",
      "Fold  6 : 0.789473684211\n",
      "Fold  7 : 0.684210526316\n",
      "Fold  8 : 0.789473684211\n",
      "Fold  9 : 0.842105263158\n",
      "Fold  10 : 0.736842105263\n",
      "Fold  11 : 0.736842105263\n",
      "Fold  12 : 0.789473684211\n",
      "Fold  13 : 0.789473684211\n",
      "Fold  14 : 0.736842105263\n",
      "Fold  15 : 0.842105263158\n",
      "Fold  16 : 0.736842105263\n",
      "Fold  17 : 0.789473684211\n",
      "Fold  18 : 0.789473684211\n",
      "Fold  19 : 0.842105263158\n",
      "Fold  20 : 0.894736842105\n",
      "Fold  21 : 0.842105263158\n",
      "Fold  22 : 0.894736842105\n",
      "Fold  23 : 0.789473684211\n",
      "Fold  24 : 0.894736842105\n",
      "Fold  25 : 0.842105263158\n",
      "Fold  26 : 0.736842105263\n",
      "Fold  27 : 0.736842105263\n",
      "Fold  28 : 0.947368421053\n",
      "Fold  29 : 0.842105263158\n",
      "Fold  30 : 0.842105263158\n",
      "Fold  31 : 0.789473684211\n"
     ]
    }
   ],
   "source": [
    "# initiate the logistic function\n",
    "model = LogisticRegression()\n",
    "\n",
    "# cross validate the model\n",
    "score = cross_val_score(model, X, y, cv=32) # cv is the number of data folds\n",
    "\n",
    "for x in range(len(score)):\n",
    "    print(\"Fold \",x, \":\", score[x])"
   ]
  },
  {
   "cell_type": "code",
   "execution_count": 13,
   "metadata": {},
   "outputs": [
    {
     "name": "stdout",
     "output_type": "stream",
     "text": [
      "Mean Score: 0.807730263158\n"
     ]
    }
   ],
   "source": [
    "print(\"Mean Score:\", score.mean())"
   ]
  },
  {
   "cell_type": "code",
   "execution_count": 14,
   "metadata": {},
   "outputs": [
    {
     "name": "stdout",
     "output_type": "stream",
     "text": [
      "CV  8  =  0.807886192755\n",
      "CV  16  =  0.807987516869\n",
      "CV  32  =  0.807730263158\n",
      "CV  64  =  0.808680555556\n",
      "CV  128  =  0.815625\n"
     ]
    }
   ],
   "source": [
    "# cv value: folding value\n",
    "cv_range = [8, 16, 32, 64, 128]\n",
    "predicted_score = []\n",
    "\n",
    "# initiate the logistic function\n",
    "model = LogisticRegression()\n",
    "\n",
    "# cross validate the model\n",
    "for i in range(len(cv_range)):\n",
    "    # cross_val_score takes care of data split\n",
    "    score = cross_val_score(model, X, y, cv=cv_range[i], scoring='accuracy')\n",
    "    #for x in range(len(score)):\n",
    "        #print(\"Fold \",x, \":\", score[x])\n",
    "    predicted_score.append(score.mean())\n",
    "    print('CV ', cv_range[i], ' = ', predicted_score[i])"
   ]
  },
  {
   "cell_type": "code",
   "execution_count": 20,
   "metadata": {},
   "outputs": [
    {
     "data": {
      "image/png": "[encoded data removed]",
      "text/plain": [
       "<matplotlib.figure.Figure at 0x7f6ff9090e80>"
      ]
     },
     "metadata": {},
     "output_type": "display_data"
    }
   ],
   "source": [
    "# fire up the matplotlib package\n",
    "import matplotlib.pyplot as plt\n",
    "\n",
    "# plot the graph\n",
    "plt.plot(cv_range, predicted_score)\n",
    "plt.xlabel('Folding Value')\n",
    "plt.ylabel('Accuracy')\n",
    "plt.axis([min(cv_range), max(cv_range), min(predicted_score), max(predicted_score)])\n",
    "plt.show()"
   ]
  },
  {
   "cell_type": "markdown",
   "metadata": {
    "collapsed": true
   },
   "source": [
    "Make sure to consider the fact that higher value of folding with a imited amount of data can run into over-fitting."
   ]
  },
  {
   "cell_type": "code",
   "execution_count": null,
   "metadata": {
    "collapsed": true
   },
   "outputs": [],
   "source": []
  }
 ],
 "metadata": {
  "kernelspec": {
   "display_name": "Python 3",
   "language": "python",
   "name": "python3"
  },
  "language_info": {
   "codemirror_mode": {
    "name": "ipython",
    "version": 3
   },
   "file_extension": ".py",
   "mimetype": "text/x-python",
   "name": "python",
   "nbconvert_exporter": "python",
   "pygments_lexer": "ipython3",
   "version": "3.6.2"
  }
 },
 "nbformat": 4,
 "nbformat_minor": 2
}
