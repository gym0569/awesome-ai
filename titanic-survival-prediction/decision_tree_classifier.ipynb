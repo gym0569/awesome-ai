{
 "cells": [
  {
   "cell_type": "code",
   "execution_count": 1,
   "metadata": {},
   "outputs": [],
   "source": [
    "# LOAD PACAKGES\n",
    "import pandas as pd"
   ]
  },
  {
   "cell_type": "code",
   "execution_count": 2,
   "metadata": {},
   "outputs": [],
   "source": [
    "# LOAD DECISION TREE CLASSIFIER\n",
    "from sklearn.tree import DecisionTreeClassifier\n",
    "from sklearn.model_selection import train_test_split\n",
    "from sklearn.metrics import accuracy_score"
   ]
  },
  {
   "cell_type": "code",
   "execution_count": 3,
   "metadata": {},
   "outputs": [
    {
     "data": {
      "text/html": [
       "<div>\n",
       "<style scoped>\n",
       "    .dataframe tbody tr th:only-of-type {\n",
       "        vertical-align: middle;\n",
       "    }\n",
       "\n",
       "    .dataframe tbody tr th {\n",
       "        vertical-align: top;\n",
       "    }\n",
       "\n",
       "    .dataframe thead th {\n",
       "        text-align: right;\n",
       "    }\n",
       "</style>\n",
       "<table border=\"1\" class=\"dataframe\">\n",
       "  <thead>\n",
       "    <tr style=\"text-align: right;\">\n",
       "      <th></th>\n",
       "      <th>PassengerId</th>\n",
       "      <th>Survived</th>\n",
       "      <th>Pclass</th>\n",
       "      <th>Age</th>\n",
       "      <th>SibSp</th>\n",
       "      <th>Parch</th>\n",
       "      <th>Fare</th>\n",
       "      <th>EmbarkedCode</th>\n",
       "      <th>SexCode</th>\n",
       "    </tr>\n",
       "  </thead>\n",
       "  <tbody>\n",
       "    <tr>\n",
       "      <th>0</th>\n",
       "      <td>1</td>\n",
       "      <td>0</td>\n",
       "      <td>3</td>\n",
       "      <td>22.0</td>\n",
       "      <td>1</td>\n",
       "      <td>0</td>\n",
       "      <td>7.2500</td>\n",
       "      <td>2</td>\n",
       "      <td>1</td>\n",
       "    </tr>\n",
       "    <tr>\n",
       "      <th>1</th>\n",
       "      <td>2</td>\n",
       "      <td>1</td>\n",
       "      <td>1</td>\n",
       "      <td>38.0</td>\n",
       "      <td>1</td>\n",
       "      <td>0</td>\n",
       "      <td>71.2833</td>\n",
       "      <td>0</td>\n",
       "      <td>0</td>\n",
       "    </tr>\n",
       "    <tr>\n",
       "      <th>2</th>\n",
       "      <td>3</td>\n",
       "      <td>1</td>\n",
       "      <td>3</td>\n",
       "      <td>26.0</td>\n",
       "      <td>0</td>\n",
       "      <td>0</td>\n",
       "      <td>7.9250</td>\n",
       "      <td>2</td>\n",
       "      <td>0</td>\n",
       "    </tr>\n",
       "    <tr>\n",
       "      <th>3</th>\n",
       "      <td>4</td>\n",
       "      <td>1</td>\n",
       "      <td>1</td>\n",
       "      <td>35.0</td>\n",
       "      <td>1</td>\n",
       "      <td>0</td>\n",
       "      <td>53.1000</td>\n",
       "      <td>2</td>\n",
       "      <td>0</td>\n",
       "    </tr>\n",
       "    <tr>\n",
       "      <th>4</th>\n",
       "      <td>5</td>\n",
       "      <td>0</td>\n",
       "      <td>3</td>\n",
       "      <td>35.0</td>\n",
       "      <td>0</td>\n",
       "      <td>0</td>\n",
       "      <td>8.0500</td>\n",
       "      <td>2</td>\n",
       "      <td>1</td>\n",
       "    </tr>\n",
       "  </tbody>\n",
       "</table>\n",
       "</div>"
      ],
      "text/plain": [
       "   PassengerId  Survived  Pclass   Age  SibSp  Parch     Fare  EmbarkedCode  \\\n",
       "0            1         0       3  22.0      1      0   7.2500             2   \n",
       "1            2         1       1  38.0      1      0  71.2833             0   \n",
       "2            3         1       3  26.0      0      0   7.9250             2   \n",
       "3            4         1       1  35.0      1      0  53.1000             2   \n",
       "4            5         0       3  35.0      0      0   8.0500             2   \n",
       "\n",
       "   SexCode  \n",
       "0        1  \n",
       "1        0  \n",
       "2        0  \n",
       "3        0  \n",
       "4        1  "
      ]
     },
     "execution_count": 3,
     "metadata": {},
     "output_type": "execute_result"
    }
   ],
   "source": [
    "train = pd.read_csv(\"data/cleaned_train.csv\")\n",
    "train.head(5)"
   ]
  },
  {
   "cell_type": "code",
   "execution_count": 4,
   "metadata": {},
   "outputs": [
    {
     "data": {
      "text/html": [
       "<div>\n",
       "<style scoped>\n",
       "    .dataframe tbody tr th:only-of-type {\n",
       "        vertical-align: middle;\n",
       "    }\n",
       "\n",
       "    .dataframe tbody tr th {\n",
       "        vertical-align: top;\n",
       "    }\n",
       "\n",
       "    .dataframe thead th {\n",
       "        text-align: right;\n",
       "    }\n",
       "</style>\n",
       "<table border=\"1\" class=\"dataframe\">\n",
       "  <thead>\n",
       "    <tr style=\"text-align: right;\">\n",
       "      <th></th>\n",
       "      <th>PassengerId</th>\n",
       "      <th>Pclass</th>\n",
       "      <th>Age</th>\n",
       "      <th>SibSp</th>\n",
       "      <th>Parch</th>\n",
       "      <th>Fare</th>\n",
       "      <th>EmbarkedCode</th>\n",
       "      <th>SexCode</th>\n",
       "    </tr>\n",
       "  </thead>\n",
       "  <tbody>\n",
       "    <tr>\n",
       "      <th>0</th>\n",
       "      <td>892</td>\n",
       "      <td>3</td>\n",
       "      <td>34.5</td>\n",
       "      <td>0</td>\n",
       "      <td>0</td>\n",
       "      <td>7.8292</td>\n",
       "      <td>1</td>\n",
       "      <td>1</td>\n",
       "    </tr>\n",
       "    <tr>\n",
       "      <th>1</th>\n",
       "      <td>893</td>\n",
       "      <td>3</td>\n",
       "      <td>47.0</td>\n",
       "      <td>1</td>\n",
       "      <td>0</td>\n",
       "      <td>7.0000</td>\n",
       "      <td>2</td>\n",
       "      <td>0</td>\n",
       "    </tr>\n",
       "    <tr>\n",
       "      <th>2</th>\n",
       "      <td>894</td>\n",
       "      <td>2</td>\n",
       "      <td>62.0</td>\n",
       "      <td>0</td>\n",
       "      <td>0</td>\n",
       "      <td>9.6875</td>\n",
       "      <td>1</td>\n",
       "      <td>1</td>\n",
       "    </tr>\n",
       "    <tr>\n",
       "      <th>3</th>\n",
       "      <td>895</td>\n",
       "      <td>3</td>\n",
       "      <td>27.0</td>\n",
       "      <td>0</td>\n",
       "      <td>0</td>\n",
       "      <td>8.6625</td>\n",
       "      <td>2</td>\n",
       "      <td>1</td>\n",
       "    </tr>\n",
       "    <tr>\n",
       "      <th>4</th>\n",
       "      <td>896</td>\n",
       "      <td>3</td>\n",
       "      <td>22.0</td>\n",
       "      <td>1</td>\n",
       "      <td>1</td>\n",
       "      <td>12.2875</td>\n",
       "      <td>2</td>\n",
       "      <td>0</td>\n",
       "    </tr>\n",
       "  </tbody>\n",
       "</table>\n",
       "</div>"
      ],
      "text/plain": [
       "   PassengerId  Pclass   Age  SibSp  Parch     Fare  EmbarkedCode  SexCode\n",
       "0          892       3  34.5      0      0   7.8292             1        1\n",
       "1          893       3  47.0      1      0   7.0000             2        0\n",
       "2          894       2  62.0      0      0   9.6875             1        1\n",
       "3          895       3  27.0      0      0   8.6625             2        1\n",
       "4          896       3  22.0      1      1  12.2875             2        0"
      ]
     },
     "execution_count": 4,
     "metadata": {},
     "output_type": "execute_result"
    }
   ],
   "source": [
    "test = pd.read_csv(\"data/cleaned_test.csv\")\n",
    "test.head(5)"
   ]
  },
  {
   "cell_type": "code",
   "execution_count": 5,
   "metadata": {},
   "outputs": [
    {
     "data": {
      "text/plain": [
       "(889, 9)"
      ]
     },
     "execution_count": 5,
     "metadata": {},
     "output_type": "execute_result"
    }
   ],
   "source": [
    "train.shape"
   ]
  },
  {
   "cell_type": "code",
   "execution_count": 6,
   "metadata": {},
   "outputs": [],
   "source": [
    "features = [\"Pclass\", \"Age\", \"SibSp\", \"Parch\", \"Fare\", \"EmbarkedCode\", \"SexCode\"]\n",
    "target = [\"Survived\"]"
   ]
  },
  {
   "cell_type": "code",
   "execution_count": 7,
   "metadata": {},
   "outputs": [],
   "source": [
    "# SPLIT DATA INTO TRAIN AND VALIDATION DATASET\n",
    "x_train, x_val, y_train, y_val = train_test_split(train.iloc[:, 2:],\n",
    "                                                  train.iloc[:, 1:2],\n",
    "                                                  test_size = 0.2,\n",
    "                                                  random_state = 2109)"
   ]
  },
  {
   "cell_type": "markdown",
   "metadata": {},
   "source": [
    "All are selected as features except \"Survived\" which is the target variable here and \"PassengerId\" which acts as an index."
   ]
  },
  {
   "cell_type": "markdown",
   "metadata": {},
   "source": [
    "#### Model - 1"
   ]
  },
  {
   "cell_type": "code",
   "execution_count": 8,
   "metadata": {},
   "outputs": [
    {
     "name": "stdout",
     "output_type": "stream",
     "text": [
      "DecisionTreeClassifier(class_weight=None, criterion='gini', max_depth=None,\n",
      "            max_features=None, max_leaf_nodes=None,\n",
      "            min_impurity_decrease=0.0, min_impurity_split=None,\n",
      "            min_samples_leaf=1, min_samples_split=2,\n",
      "            min_weight_fraction_leaf=0.0, presort=False, random_state=2109,\n",
      "            splitter='best')\n",
      "Validation Accuracy =  0.7752808988764045\n"
     ]
    }
   ],
   "source": [
    "# MODEL A DECISION TREE CLASSIFIER\n",
    "clf = DecisionTreeClassifier(criterion=\"gini\",\n",
    "                             splitter=\"best\",\n",
    "                             random_state=2109)\n",
    "# FIT OUR MODEL ON THE TRAINING DATA\n",
    "clf.fit(x_train, y_train)\n",
    "print(clf)\n",
    "\n",
    "# GET THE PREDICTIONS FOR THE VALIDATION DATA\n",
    "val_predictions = clf.predict(x_val)\n",
    "\n",
    "# ACCURACY ON THE VALIDATION DATASET\n",
    "validation_accuracy = accuracy_score(y_val, val_predictions)\n",
    "print(\"Validation Accuracy = \", validation_accuracy)\n",
    "\n",
    "# PREDICT ON THE FINAL TEST DATASET\n",
    "test_predictions = clf.predict(test.iloc[:, 1:])\n",
    "\n",
    "# ADD THE PREDICTION AS A COLUMN FOR THE TEST DATA\n",
    "filename = \"data/decision_tree/prediction_1.csv\"\n",
    "tmp = test.copy()\n",
    "\n",
    "# SAVE THE RESULTS\n",
    "tmp[\"Survived\"] = test_predictions\n",
    "tmp.loc[:, [\"PassengerId\", \"Survived\"]].to_csv(filename, index=False)"
   ]
  },
  {
   "cell_type": "markdown",
   "metadata": {},
   "source": [
    "Test Accuracy = 0.71"
   ]
  },
  {
   "cell_type": "markdown",
   "metadata": {},
   "source": [
    "#### Model - 2"
   ]
  },
  {
   "cell_type": "code",
   "execution_count": 9,
   "metadata": {},
   "outputs": [
    {
     "name": "stdout",
     "output_type": "stream",
     "text": [
      "DecisionTreeClassifier(class_weight=None, criterion='gini', max_depth=2,\n",
      "            max_features=None, max_leaf_nodes=None,\n",
      "            min_impurity_decrease=0.0, min_impurity_split=None,\n",
      "            min_samples_leaf=1, min_samples_split=2,\n",
      "            min_weight_fraction_leaf=0.0, presort=False, random_state=2109,\n",
      "            splitter='best')\n",
      "Validation Accuracy =  0.7752808988764045\n"
     ]
    }
   ],
   "source": [
    "# MODEL A DECISION TREE CLASSIFIER\n",
    "clf = DecisionTreeClassifier(criterion=\"gini\",\n",
    "                             splitter=\"best\",\n",
    "                             max_depth = 2,\n",
    "                             random_state=2109)\n",
    "# FIT OUR MODEL ON THE TRAINING DATA\n",
    "clf.fit(x_train, y_train)\n",
    "print(clf)\n",
    "\n",
    "# GET THE PREDICTIONS FOR THE VALIDATION DATA\n",
    "val_predictions = clf.predict(x_val)\n",
    "\n",
    "# ACCURACY ON THE VALIDATION DATASET\n",
    "validation_accuracy = accuracy_score(y_val, val_predictions)\n",
    "print(\"Validation Accuracy = \", validation_accuracy)\n",
    "\n",
    "# PREDICT ON THE FINAL TEST DATASET\n",
    "test_predictions = clf.predict(test.iloc[:, 1:])\n",
    "\n",
    "# ADD THE PREDICTION AS A COLUMN FOR THE TEST DATA\n",
    "filename = \"data/decision_tree/prediction_2.csv\"\n",
    "tmp = test.copy()\n",
    "\n",
    "# SAVE THE RESULTS\n",
    "tmp[\"Survived\"] = test_predictions\n",
    "tmp.loc[:, [\"PassengerId\", \"Survived\"]].to_csv(filename, index=False)"
   ]
  },
  {
   "cell_type": "markdown",
   "metadata": {},
   "source": [
    "Test Accuracy = 0.76"
   ]
  },
  {
   "cell_type": "markdown",
   "metadata": {},
   "source": [
    "#### Model - 3"
   ]
  },
  {
   "cell_type": "code",
   "execution_count": 10,
   "metadata": {},
   "outputs": [
    {
     "name": "stdout",
     "output_type": "stream",
     "text": [
      "DecisionTreeClassifier(class_weight=None, criterion='gini', max_depth=3,\n",
      "            max_features=None, max_leaf_nodes=None,\n",
      "            min_impurity_decrease=0.0, min_impurity_split=None,\n",
      "            min_samples_leaf=1, min_samples_split=2,\n",
      "            min_weight_fraction_leaf=0.0, presort=False, random_state=2109,\n",
      "            splitter='best')\n",
      "Validation Accuracy =  0.797752808988764\n"
     ]
    }
   ],
   "source": [
    "# MODEL A DECISION TREE CLASSIFIER\n",
    "clf = DecisionTreeClassifier(criterion=\"gini\",\n",
    "                             splitter=\"best\",\n",
    "                             max_depth = 3,\n",
    "                             random_state=2109)\n",
    "# FIT OUR MODEL ON THE TRAINING DATA\n",
    "clf.fit(x_train, y_train)\n",
    "print(clf)\n",
    "\n",
    "# GET THE PREDICTIONS FOR THE VALIDATION DATA\n",
    "val_predictions = clf.predict(x_val)\n",
    "\n",
    "# ACCURACY ON THE VALIDATION DATASET\n",
    "validation_accuracy = accuracy_score(y_val, val_predictions)\n",
    "print(\"Validation Accuracy = \", validation_accuracy)\n",
    "\n",
    "# PREDICT ON THE FINAL TEST DATASET\n",
    "test_predictions = clf.predict(test.iloc[:, 1:])\n",
    "\n",
    "# ADD THE PREDICTION AS A COLUMN FOR THE TEST DATA\n",
    "filename = \"data/decision_tree/prediction_3.csv\"\n",
    "tmp = test.copy()\n",
    "\n",
    "# SAVE THE RESULTS\n",
    "tmp[\"Survived\"] = test_predictions\n",
    "tmp.loc[:, [\"PassengerId\", \"Survived\"]].to_csv(filename, index=False)"
   ]
  },
  {
   "cell_type": "markdown",
   "metadata": {},
   "source": [
    "Test Accuracy = 0.7945"
   ]
  },
  {
   "cell_type": "markdown",
   "metadata": {},
   "source": [
    "#### Model - 4"
   ]
  },
  {
   "cell_type": "code",
   "execution_count": 11,
   "metadata": {},
   "outputs": [
    {
     "name": "stdout",
     "output_type": "stream",
     "text": [
      "DecisionTreeClassifier(class_weight=None, criterion='gini', max_depth=4,\n",
      "            max_features=None, max_leaf_nodes=None,\n",
      "            min_impurity_decrease=0.0, min_impurity_split=None,\n",
      "            min_samples_leaf=1, min_samples_split=2,\n",
      "            min_weight_fraction_leaf=0.0, presort=False, random_state=2109,\n",
      "            splitter='best')\n",
      "Validation Accuracy =  0.797752808988764\n"
     ]
    }
   ],
   "source": [
    "# MODEL A DECISION TREE CLASSIFIER\n",
    "clf = DecisionTreeClassifier(criterion=\"gini\",\n",
    "                             splitter=\"best\",\n",
    "                             max_depth = 4,\n",
    "                             random_state=2109)\n",
    "# FIT OUR MODEL ON THE TRAINING DATA\n",
    "clf.fit(x_train, y_train)\n",
    "print(clf)\n",
    "\n",
    "# GET THE PREDICTIONS FOR THE VALIDATION DATA\n",
    "val_predictions = clf.predict(x_val)\n",
    "\n",
    "# ACCURACY ON THE VALIDATION DATASET\n",
    "validation_accuracy = accuracy_score(y_val, val_predictions)\n",
    "print(\"Validation Accuracy = \", validation_accuracy)\n",
    "\n",
    "# PREDICT ON THE FINAL TEST DATASET\n",
    "test_predictions = clf.predict(test.iloc[:, 1:])\n",
    "\n",
    "# ADD THE PREDICTION AS A COLUMN FOR THE TEST DATA\n",
    "filename = \"data/decision_tree/prediction_4.csv\"\n",
    "tmp = test.copy()\n",
    "\n",
    "# SAVE THE RESULTS\n",
    "tmp[\"Survived\"] = test_predictions\n",
    "tmp.loc[:, [\"PassengerId\", \"Survived\"]].to_csv(filename, index=False)"
   ]
  },
  {
   "cell_type": "markdown",
   "metadata": {},
   "source": [
    "Test Accuracy = 0.78"
   ]
  },
  {
   "cell_type": "markdown",
   "metadata": {},
   "source": [
    "Now we take the Model - 3 and see the impact of normalisation. Generally Normalisation is done at start itself but i wanted to see the effect of it on the result."
   ]
  },
  {
   "cell_type": "code",
   "execution_count": 12,
   "metadata": {},
   "outputs": [],
   "source": [
    "# NORMALSE FARE DATA FIRST\n",
    "train.Fare = train.Fare / max(train.Fare)\n",
    "test.Fare = test.Fare / max(test.Fare)"
   ]
  },
  {
   "cell_type": "code",
   "execution_count": 13,
   "metadata": {},
   "outputs": [
    {
     "name": "stdout",
     "output_type": "stream",
     "text": [
      "DecisionTreeClassifier(class_weight=None, criterion='gini', max_depth=3,\n",
      "            max_features=None, max_leaf_nodes=None,\n",
      "            min_impurity_decrease=0.0, min_impurity_split=None,\n",
      "            min_samples_leaf=1, min_samples_split=2,\n",
      "            min_weight_fraction_leaf=0.0, presort=False, random_state=2109,\n",
      "            splitter='best')\n",
      "Validation Accuracy =  0.797752808988764\n"
     ]
    }
   ],
   "source": [
    "# MODEL A DECISION TREE CLASSIFIER\n",
    "clf = DecisionTreeClassifier(criterion=\"gini\",\n",
    "                             splitter=\"best\",\n",
    "                             max_depth = 3,\n",
    "                             random_state=2109)\n",
    "# FIT OUR MODEL ON THE TRAINING DATA\n",
    "clf.fit(x_train, y_train)\n",
    "print(clf)\n",
    "\n",
    "# GET THE PREDICTIONS FOR THE VALIDATION DATA\n",
    "val_predictions = clf.predict(x_val)\n",
    "\n",
    "# ACCURACY ON THE VALIDATION DATASET\n",
    "validation_accuracy = accuracy_score(y_val, val_predictions)\n",
    "print(\"Validation Accuracy = \", validation_accuracy)\n",
    "\n",
    "# PREDICT ON THE FINAL TEST DATASET\n",
    "test_predictions = clf.predict(test.iloc[:, 1:])\n",
    "\n",
    "# ADD THE PREDICTION AS A COLUMN FOR THE TEST DATA\n",
    "filename = \"data/decision_tree/prediction_3_normalise.csv\"\n",
    "tmp = test.copy()\n",
    "\n",
    "# SAVE THE RESULTS\n",
    "tmp[\"Survived\"] = test_predictions\n",
    "tmp.loc[:, [\"PassengerId\", \"Survived\"]].to_csv(filename, index=False)"
   ]
  },
  {
   "cell_type": "markdown",
   "metadata": {},
   "source": [
    "Test Accuracy = 0.775"
   ]
  },
  {
   "cell_type": "markdown",
   "metadata": {},
   "source": [
    "As you can see normalisation has negative effect on the result."
   ]
  },
  {
   "cell_type": "markdown",
   "metadata": {},
   "source": [
    "Data is cleaned. Model is not overfitted. Model is tuned a bit too. Now its the time to quit this model and go for something higher. May be another ML classification algorithm like LR or somethin deep if you know what i mean :)"
   ]
  },
  {
   "cell_type": "code",
   "execution_count": null,
   "metadata": {},
   "outputs": [],
   "source": []
  }
 ],
 "metadata": {
  "kernelspec": {
   "display_name": "Python 3",
   "language": "python",
   "name": "python3"
  },
  "language_info": {
   "codemirror_mode": {
    "name": "ipython",
    "version": 3
   },
   "file_extension": ".py",
   "mimetype": "text/x-python",
   "name": "python",
   "nbconvert_exporter": "python",
   "pygments_lexer": "ipython3",
   "version": "3.5.5"
  }
 },
 "nbformat": 4,
 "nbformat_minor": 2
}
