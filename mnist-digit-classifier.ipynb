{
 "cells": [
  {
   "cell_type": "code",
   "execution_count": 1,
   "metadata": {
    "ExecuteTime": {
     "end_time": "2019-01-07T21:07:38.559961Z",
     "start_time": "2019-01-07T21:07:37.162570Z"
    }
   },
   "outputs": [
    {
     "name": "stdout",
     "output_type": "stream",
     "text": [
      "1.12.0\n"
     ]
    }
   ],
   "source": [
    "# load packages\n",
    "import os\n",
    "import sys\n",
    "import tensorflow as tf\n",
    "import numpy as np\n",
    "import matplotlib.pyplot as plt\n",
    "print(tf.__version__)"
   ]
  },
  {
   "cell_type": "markdown",
   "metadata": {},
   "source": [
    "# Prepare Data"
   ]
  },
  {
   "cell_type": "code",
   "execution_count": 2,
   "metadata": {
    "ExecuteTime": {
     "end_time": "2019-01-07T21:07:38.906338Z",
     "start_time": "2019-01-07T21:07:38.562907Z"
    }
   },
   "outputs": [],
   "source": [
    "# load data\n",
    "(x_train, y_train), (x_test, y_test) = tf.keras.datasets.mnist.load_data()"
   ]
  },
  {
   "cell_type": "code",
   "execution_count": 3,
   "metadata": {
    "ExecuteTime": {
     "end_time": "2019-01-07T21:07:38.912132Z",
     "start_time": "2019-01-07T21:07:38.908035Z"
    }
   },
   "outputs": [
    {
     "name": "stdout",
     "output_type": "stream",
     "text": [
      "Train: (60000, 28, 28) (60000,)\n",
      "Test: (10000, 28, 28) (10000,)\n"
     ]
    }
   ],
   "source": [
    "print(\"Train:\", x_train.shape, y_train.shape)\n",
    "print(\"Test:\", x_test.shape, y_test.shape)"
   ]
  },
  {
   "cell_type": "code",
   "execution_count": 4,
   "metadata": {
    "ExecuteTime": {
     "end_time": "2019-01-07T21:07:39.105848Z",
     "start_time": "2019-01-07T21:07:38.916094Z"
    }
   },
   "outputs": [],
   "source": [
    "# normlize the data\n",
    "x_train = x_train.astype(\"float32\") / 255.0\n",
    "x_test = x_test.astype(\"float32\") / 255.0"
   ]
  },
  {
   "cell_type": "code",
   "execution_count": 5,
   "metadata": {
    "ExecuteTime": {
     "end_time": "2019-01-07T21:07:39.116052Z",
     "start_time": "2019-01-07T21:07:39.108531Z"
    }
   },
   "outputs": [],
   "source": [
    "# one-hot encode the labels\n",
    "y_train = tf.keras.utils.to_categorical(y_train, 10)\n",
    "y_test = tf.keras.utils.to_categorical(y_test, 10)"
   ]
  },
  {
   "cell_type": "code",
   "execution_count": 6,
   "metadata": {
    "ExecuteTime": {
     "end_time": "2019-01-07T21:07:39.122606Z",
     "start_time": "2019-01-07T21:07:39.118145Z"
    }
   },
   "outputs": [],
   "source": [
    "# reshape input image to 1-channel images form 3-channel images\n",
    "w, h = 28, 28\n",
    "x_train = x_train.reshape(x_train.shape[0], w, h, 1)\n",
    "x_test = x_test.reshape(x_test.shape[0], w, h, 1)"
   ]
  },
  {
   "cell_type": "markdown",
   "metadata": {},
   "source": [
    "# Simple Perceptron Based Model"
   ]
  },
  {
   "cell_type": "code",
   "execution_count": 8,
   "metadata": {
    "ExecuteTime": {
     "end_time": "2019-01-07T21:07:52.391595Z",
     "start_time": "2019-01-07T21:07:52.369295Z"
    }
   },
   "outputs": [],
   "source": [
    "# create a baseline model\n",
    "model = tf.keras.Sequential()\n",
    "\n",
    "# flatten the image\n",
    "model.add(tf.keras.layers.Flatten())\n",
    "\n",
    "# first dense layer\n",
    "model.add(tf.keras.layers.Dense(units=512, activation=\"relu\", input_shape=(28, 28)))\n",
    "\n",
    "# classifier layer\n",
    "model.add(tf.keras.layers.Dense(units=10, activation=\"softmax\"))\n",
    "\n",
    "# compile the model\n",
    "model.compile(\n",
    "    loss=\"categorical_crossentropy\",\n",
    "    optimizer=\"rmsprop\",\n",
    "    metrics=[\"accuracy\"])\n",
    "\n",
    "# set callback config\n",
    "cbk = [tf.keras.callbacks.EarlyStopping(patience=3)]\n",
    "\n",
    "# view the model architecture\n",
    "# model.summary()"
   ]
  },
  {
   "cell_type": "code",
   "execution_count": 10,
   "metadata": {
    "ExecuteTime": {
     "end_time": "2019-01-07T21:08:23.128456Z",
     "start_time": "2019-01-07T21:08:01.033070Z"
    }
   },
   "outputs": [
    {
     "name": "stdout",
     "output_type": "stream",
     "text": [
      "Train on 60000 samples, validate on 10000 samples\n",
      "Epoch 1/10\n",
      "60000/60000 [==============================] - 3s 55us/step - loss: 0.2214 - acc: 0.9356 - val_loss: 0.0995 - val_acc: 0.9703\n",
      "Epoch 2/10\n",
      "60000/60000 [==============================] - 3s 51us/step - loss: 0.0901 - acc: 0.9735 - val_loss: 0.0827 - val_acc: 0.9738\n",
      "Epoch 3/10\n",
      "60000/60000 [==============================] - 3s 51us/step - loss: 0.0608 - acc: 0.9811 - val_loss: 0.0760 - val_acc: 0.9758\n",
      "Epoch 4/10\n",
      "60000/60000 [==============================] - 3s 51us/step - loss: 0.0455 - acc: 0.9865 - val_loss: 0.0711 - val_acc: 0.9797\n",
      "Epoch 5/10\n",
      "60000/60000 [==============================] - 3s 52us/step - loss: 0.0345 - acc: 0.9900 - val_loss: 0.0770 - val_acc: 0.9782\n",
      "Epoch 6/10\n",
      "60000/60000 [==============================] - 3s 51us/step - loss: 0.0255 - acc: 0.9922 - val_loss: 0.0823 - val_acc: 0.9789\n",
      "Epoch 7/10\n",
      "60000/60000 [==============================] - 3s 52us/step - loss: 0.0207 - acc: 0.9942 - val_loss: 0.0746 - val_acc: 0.9804\n"
     ]
    },
    {
     "data": {
      "text/plain": [
       "<tensorflow.python.keras.callbacks.History at 0x1077989b0>"
      ]
     },
     "execution_count": 10,
     "metadata": {},
     "output_type": "execute_result"
    }
   ],
   "source": [
    "# train the model\n",
    "model.fit(x_train, y_train, epochs=10, batch_size=64, validation_data=(x_test, y_test), callbacks=cbk)"
   ]
  },
  {
   "cell_type": "markdown",
   "metadata": {},
   "source": [
    "# CNN Based Model"
   ]
  },
  {
   "cell_type": "code",
   "execution_count": 11,
   "metadata": {
    "ExecuteTime": {
     "end_time": "2019-01-07T21:08:23.301456Z",
     "start_time": "2019-01-07T21:08:23.131087Z"
    }
   },
   "outputs": [],
   "source": [
    "# define a sequential cnn model\n",
    "model2 = tf.keras.Sequential()\n",
    "\n",
    "# add a convolutional block\n",
    "model2.add(tf.keras.layers.Conv2D(filters=32,\n",
    "                                kernel_size=(2, 2),\n",
    "                                input_shape=(28, 28, 1)))\n",
    "\n",
    "# add a max pooling layer\n",
    "model2.add(tf.keras.layers.MaxPool2D(pool_size=(2, 2)))\n",
    "\n",
    "# add a dropout layer\n",
    "model2.add(tf.keras.layers.Dropout(rate=0.5))\n",
    "\n",
    "# now flatten the output\n",
    "model2.add(tf.keras.layers.Flatten())\n",
    "\n",
    "# add a dense layer with relu activation\n",
    "model2.add(tf.keras.layers.Dense(256, activation=\"relu\"))\n",
    "\n",
    "# add a dropout layer\n",
    "model2.add(tf.keras.layers.Dropout(rate=0.5))\n",
    "\n",
    "# now add the final output layer: softmax layer\n",
    "model2.add(tf.keras.layers.Dense(10, activation=\"softmax\"))\n",
    "\n",
    "# compile the model\n",
    "model2.compile(\n",
    "    loss=\"categorical_crossentropy\",\n",
    "    optimizer=\"rmsprop\",\n",
    "    metrics=[\"accuracy\"])\n",
    "\n",
    "# view model architecture\n",
    "# model2.summary()"
   ]
  },
  {
   "cell_type": "code",
   "execution_count": 12,
   "metadata": {
    "ExecuteTime": {
     "end_time": "2019-01-07T21:11:38.606494Z",
     "start_time": "2019-01-07T21:08:23.304553Z"
    }
   },
   "outputs": [
    {
     "name": "stdout",
     "output_type": "stream",
     "text": [
      "Train on 60000 samples, validate on 10000 samples\n",
      "Epoch 1/10\n",
      "60000/60000 [==============================] - 17s 284us/step - loss: 0.3039 - acc: 0.9067 - val_loss: 0.1194 - val_acc: 0.9634\n",
      "Epoch 2/10\n",
      "60000/60000 [==============================] - 22s 361us/step - loss: 0.1611 - acc: 0.9515 - val_loss: 0.0852 - val_acc: 0.9732\n",
      "Epoch 3/10\n",
      "60000/60000 [==============================] - 27s 446us/step - loss: 0.1364 - acc: 0.9587 - val_loss: 0.0755 - val_acc: 0.9785\n",
      "Epoch 4/10\n",
      "60000/60000 [==============================] - 29s 489us/step - loss: 0.1241 - acc: 0.9627 - val_loss: 0.0703 - val_acc: 0.9775\n",
      "Epoch 5/10\n",
      "60000/60000 [==============================] - 21s 357us/step - loss: 0.1172 - acc: 0.9662 - val_loss: 0.0740 - val_acc: 0.9787\n",
      "Epoch 6/10\n",
      "60000/60000 [==============================] - 17s 277us/step - loss: 0.1121 - acc: 0.9671 - val_loss: 0.0705 - val_acc: 0.9790\n",
      "Epoch 7/10\n",
      "60000/60000 [==============================] - 15s 258us/step - loss: 0.1077 - acc: 0.9684 - val_loss: 0.0658 - val_acc: 0.9797\n",
      "Epoch 8/10\n",
      "60000/60000 [==============================] - 15s 257us/step - loss: 0.1068 - acc: 0.9690 - val_loss: 0.0601 - val_acc: 0.9836\n",
      "Epoch 9/10\n",
      "60000/60000 [==============================] - 16s 260us/step - loss: 0.1015 - acc: 0.9702 - val_loss: 0.0640 - val_acc: 0.9799\n",
      "Epoch 10/10\n",
      "60000/60000 [==============================] - 16s 262us/step - loss: 0.0995 - acc: 0.9702 - val_loss: 0.0766 - val_acc: 0.9783\n"
     ]
    },
    {
     "data": {
      "text/plain": [
       "<tensorflow.python.keras.callbacks.History at 0xb33c43b38>"
      ]
     },
     "execution_count": 12,
     "metadata": {},
     "output_type": "execute_result"
    }
   ],
   "source": [
    "# train the model\n",
    "model2.fit(x_train, y_train, epochs=10, batch_size=64, validation_data=(x_test, y_test), callbacks=cbk)"
   ]
  },
  {
   "cell_type": "markdown",
   "metadata": {
    "ExecuteTime": {
     "end_time": "2019-01-07T20:56:12.052930Z",
     "start_time": "2019-01-07T20:56:12.048519Z"
    }
   },
   "source": [
    "As we can see a simpler model has almost equal results when compared to ConvNet model. Thus bigger model doesn't guarantee better performance."
   ]
  },
  {
   "cell_type": "code",
   "execution_count": null,
   "metadata": {},
   "outputs": [],
   "source": []
  }
 ],
 "metadata": {
  "kernelspec": {
   "display_name": "Python [conda env:ai_env]",
   "language": "python",
   "name": "conda-env-ai_env-py"
  },
  "language_info": {
   "codemirror_mode": {
    "name": "ipython",
    "version": 3
   },
   "file_extension": ".py",
   "mimetype": "text/x-python",
   "name": "python",
   "nbconvert_exporter": "python",
   "pygments_lexer": "ipython3",
   "version": "3.6.6"
  }
 },
 "nbformat": 4,
 "nbformat_minor": 2
}
