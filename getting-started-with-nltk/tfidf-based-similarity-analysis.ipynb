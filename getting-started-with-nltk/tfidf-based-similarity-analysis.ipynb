{
 "cells": [
  {
   "cell_type": "code",
   "execution_count": 1,
   "metadata": {
    "collapsed": true
   },
   "outputs": [],
   "source": [
    "# import imp packages\n",
    "import numpy as np\n",
    "import re\n",
    "import math"
   ]
  },
  {
   "cell_type": "code",
   "execution_count": 2,
   "metadata": {
    "collapsed": true
   },
   "outputs": [],
   "source": [
    "# get sample data\n",
    "text1 = \"How can I be a good geologist?\"\n",
    "text2 = \"What should I do to be a great geologist?\""
   ]
  },
  {
   "cell_type": "code",
   "execution_count": 3,
   "metadata": {},
   "outputs": [
    {
     "name": "stdout",
     "output_type": "stream",
     "text": [
      "['How', 'can', 'good', 'geologist'] ['What', 'should', 'great', 'geologist']\n"
     ]
    }
   ],
   "source": [
    "list1 = re.findall(\"[a-zA-z]+\", text1)\n",
    "list2 = re.findall(\"[a-zA-z]+\", text2)\n",
    "\n",
    "list1 = [x for x in list1 if len(x) > 2]\n",
    "list2 = [x for x in list2 if len(x) > 2]\n",
    "\n",
    "print(list1, list2)"
   ]
  },
  {
   "cell_type": "code",
   "execution_count": 4,
   "metadata": {},
   "outputs": [
    {
     "data": {
      "text/plain": [
       "{'How': 1, 'can': 1, 'geologist': 1, 'good': 1}"
      ]
     },
     "execution_count": 4,
     "metadata": {},
     "output_type": "execute_result"
    }
   ],
   "source": [
    "dict1 = dict()\n",
    "for x in list1:\n",
    "    if x not in dict1:\n",
    "        dict1[x] = 1\n",
    "    else:\n",
    "        dict1[x] += 1\n",
    "dict1"
   ]
  },
  {
   "cell_type": "code",
   "execution_count": 5,
   "metadata": {},
   "outputs": [
    {
     "data": {
      "text/plain": [
       "{'What': 1, 'geologist': 1, 'great': 1, 'should': 1}"
      ]
     },
     "execution_count": 5,
     "metadata": {},
     "output_type": "execute_result"
    }
   ],
   "source": [
    "dict2 = dict()\n",
    "for x in list2:\n",
    "    if x not in dict2:\n",
    "        dict2[x] = 1\n",
    "    else:\n",
    "        dict2[x] += 1\n",
    "dict2"
   ]
  },
  {
   "cell_type": "code",
   "execution_count": 6,
   "metadata": {},
   "outputs": [
    {
     "data": {
      "text/plain": [
       "[0.25, 0.25, 0.25, 0.25]"
      ]
     },
     "execution_count": 6,
     "metadata": {},
     "output_type": "execute_result"
    }
   ],
   "source": [
    "tf1 = list()\n",
    "total = sum(dict1.values())\n",
    "\n",
    "for x in list1:\n",
    "    tf1.append(dict1[x] / total)\n",
    "\n",
    "tf1"
   ]
  },
  {
   "cell_type": "code",
   "execution_count": 7,
   "metadata": {},
   "outputs": [
    {
     "data": {
      "text/plain": [
       "[0.25, 0.25, 0.25, 0.25]"
      ]
     },
     "execution_count": 7,
     "metadata": {},
     "output_type": "execute_result"
    }
   ],
   "source": [
    "tf2 = list()\n",
    "total = sum(dict2.values())\n",
    "\n",
    "for x in list2:\n",
    "    tf2.append(dict2[x] / total)\n",
    "\n",
    "tf2"
   ]
  },
  {
   "cell_type": "code",
   "execution_count": 8,
   "metadata": {},
   "outputs": [
    {
     "name": "stdout",
     "output_type": "stream",
     "text": [
      "How 0.301029995664\n",
      "can 0.301029995664\n",
      "good 0.301029995664\n",
      "geologist 0.301029995664\n"
     ]
    }
   ],
   "source": [
    "idf1 = list()\n",
    "\n",
    "for x in list1:\n",
    "    print(x, np.log10(2/dict1[x]))\n",
    "    idf1.append(np.log10(2/dict1[x]))"
   ]
  },
  {
   "cell_type": "code",
   "execution_count": 9,
   "metadata": {},
   "outputs": [
    {
     "name": "stdout",
     "output_type": "stream",
     "text": [
      "What 0.301029995664\n",
      "should 0.301029995664\n",
      "great 0.301029995664\n",
      "geologist 0.301029995664\n"
     ]
    }
   ],
   "source": [
    "idf2 = list()\n",
    "for x in list2:\n",
    "    print(x, np.log10(2/dict2[x]))\n",
    "    idf2.append(np.log10(2/dict2[x]))"
   ]
  },
  {
   "cell_type": "code",
   "execution_count": 10,
   "metadata": {},
   "outputs": [
    {
     "data": {
      "text/plain": [
       "['can', 'great', 'geologist', 'should', 'What', 'How', 'good']"
      ]
     },
     "execution_count": 10,
     "metadata": {},
     "output_type": "execute_result"
    }
   ],
   "source": [
    "main_list = list(set(list1 + list2))\n",
    "main_list"
   ]
  },
  {
   "cell_type": "code",
   "execution_count": null,
   "metadata": {
    "collapsed": true
   },
   "outputs": [],
   "source": []
  }
 ],
 "metadata": {
  "kernelspec": {
   "display_name": "Python 3",
   "language": "python",
   "name": "python3"
  },
  "language_info": {
   "codemirror_mode": {
    "name": "ipython",
    "version": 3
   },
   "file_extension": ".py",
   "mimetype": "text/x-python",
   "name": "python",
   "nbconvert_exporter": "python",
   "pygments_lexer": "ipython3",
   "version": "3.6.2"
  }
 },
 "nbformat": 4,
 "nbformat_minor": 2
}
