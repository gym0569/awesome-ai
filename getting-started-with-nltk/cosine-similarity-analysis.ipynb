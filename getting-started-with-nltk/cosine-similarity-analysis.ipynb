{
 "cells": [
  {
   "cell_type": "code",
   "execution_count": 1,
   "metadata": {
    "collapsed": true
   },
   "outputs": [],
   "source": [
    "# import imp packages\n",
    "import numpy as np\n",
    "import re\n",
    "import math"
   ]
  },
  {
   "cell_type": "code",
   "execution_count": 2,
   "metadata": {
    "collapsed": true
   },
   "outputs": [],
   "source": [
    "# get sample data\n",
    "#text1 = \"How can I be a good geologist?\"\n",
    "#text2 = \"What should I do to be a great geologist?\"\n",
    "\n",
    "#text1 = \"How are you?\"\n",
    "#text2 = \"How have you been?\"\n",
    "\n",
    "text1 = \"Software testing is the process of evaluation a software item to detect differences between given input and expected output.\"\n",
    "text2 = \"Software testing is an investigation conducted to provide stakeholders with information about differences between given input and expected output.\""
   ]
  },
  {
   "cell_type": "code",
   "execution_count": 3,
   "metadata": {},
   "outputs": [
    {
     "name": "stdout",
     "output_type": "stream",
     "text": [
      "['Software', 'testing', 'is', 'the', 'process', 'of', 'evaluation', 'a', 'software', 'item', 'to', 'detect', 'differences', 'between', 'given', 'input', 'and', 'expected', 'output'] ['Software', 'testing', 'is', 'an', 'investigation', 'conducted', 'to', 'provide', 'stakeholders', 'with', 'information', 'about', 'differences', 'between', 'given', 'input', 'and', 'expected', 'output']\n"
     ]
    }
   ],
   "source": [
    "list1 = re.findall(\"[a-zA-z]+\", text1)\n",
    "list2 = re.findall(\"[a-zA-z]+\", text2)\n",
    "print(list1, list2)"
   ]
  },
  {
   "cell_type": "code",
   "execution_count": 4,
   "metadata": {},
   "outputs": [
    {
     "data": {
      "text/plain": [
       "['Software',\n",
       " 'testing',\n",
       " 'is',\n",
       " 'the',\n",
       " 'process',\n",
       " 'of',\n",
       " 'evaluation',\n",
       " 'a',\n",
       " 'software',\n",
       " 'item',\n",
       " 'to',\n",
       " 'detect',\n",
       " 'differences',\n",
       " 'between',\n",
       " 'given',\n",
       " 'input',\n",
       " 'and',\n",
       " 'expected',\n",
       " 'output',\n",
       " 'Software',\n",
       " 'testing',\n",
       " 'is',\n",
       " 'an',\n",
       " 'investigation',\n",
       " 'conducted',\n",
       " 'to',\n",
       " 'provide',\n",
       " 'stakeholders',\n",
       " 'with',\n",
       " 'information',\n",
       " 'about',\n",
       " 'differences',\n",
       " 'between',\n",
       " 'given',\n",
       " 'input',\n",
       " 'and',\n",
       " 'expected',\n",
       " 'output']"
      ]
     },
     "execution_count": 4,
     "metadata": {},
     "output_type": "execute_result"
    }
   ],
   "source": [
    "main_list = list()\n",
    "\n",
    "main_list = list1 + list2\n",
    "main_list"
   ]
  },
  {
   "cell_type": "code",
   "execution_count": 5,
   "metadata": {
    "collapsed": true
   },
   "outputs": [],
   "source": [
    "def compute_vector(small_list, myvector):\n",
    "    for i in range(len(main_list)):\n",
    "        key = main_list[i]\n",
    "        if key in small_list:\n",
    "            myvector.append(1)\n",
    "        else:\n",
    "            myvector.append(0)"
   ]
  },
  {
   "cell_type": "code",
   "execution_count": 6,
   "metadata": {
    "collapsed": true
   },
   "outputs": [],
   "source": [
    "vector1 = list()\n",
    "vector2 = list()\n",
    "\n",
    "compute_vector(list1, vector1)\n",
    "compute_vector(list2, vector2)"
   ]
  },
  {
   "cell_type": "code",
   "execution_count": 7,
   "metadata": {},
   "outputs": [
    {
     "data": {
      "text/plain": [
       "[1,\n",
       " 1,\n",
       " 1,\n",
       " 1,\n",
       " 1,\n",
       " 1,\n",
       " 1,\n",
       " 1,\n",
       " 1,\n",
       " 1,\n",
       " 1,\n",
       " 1,\n",
       " 1,\n",
       " 1,\n",
       " 1,\n",
       " 1,\n",
       " 1,\n",
       " 1,\n",
       " 1,\n",
       " 1,\n",
       " 1,\n",
       " 1,\n",
       " 0,\n",
       " 0,\n",
       " 0,\n",
       " 1,\n",
       " 0,\n",
       " 0,\n",
       " 0,\n",
       " 0,\n",
       " 0,\n",
       " 1,\n",
       " 1,\n",
       " 1,\n",
       " 1,\n",
       " 1,\n",
       " 1,\n",
       " 1]"
      ]
     },
     "execution_count": 7,
     "metadata": {},
     "output_type": "execute_result"
    }
   ],
   "source": [
    "vector1"
   ]
  },
  {
   "cell_type": "code",
   "execution_count": 8,
   "metadata": {},
   "outputs": [
    {
     "data": {
      "text/plain": [
       "[1,\n",
       " 1,\n",
       " 1,\n",
       " 0,\n",
       " 0,\n",
       " 0,\n",
       " 0,\n",
       " 0,\n",
       " 0,\n",
       " 0,\n",
       " 1,\n",
       " 0,\n",
       " 1,\n",
       " 1,\n",
       " 1,\n",
       " 1,\n",
       " 1,\n",
       " 1,\n",
       " 1,\n",
       " 1,\n",
       " 1,\n",
       " 1,\n",
       " 1,\n",
       " 1,\n",
       " 1,\n",
       " 1,\n",
       " 1,\n",
       " 1,\n",
       " 1,\n",
       " 1,\n",
       " 1,\n",
       " 1,\n",
       " 1,\n",
       " 1,\n",
       " 1,\n",
       " 1,\n",
       " 1,\n",
       " 1]"
      ]
     },
     "execution_count": 8,
     "metadata": {},
     "output_type": "execute_result"
    }
   ],
   "source": [
    "vector2"
   ]
  },
  {
   "cell_type": "code",
   "execution_count": 9,
   "metadata": {
    "collapsed": true
   },
   "outputs": [],
   "source": [
    "def find_mod_vector(vector):\n",
    "    summ = 0\n",
    "    for x in vector:\n",
    "        summ += x**2\n",
    "    return math.sqrt(summ)"
   ]
  },
  {
   "cell_type": "code",
   "execution_count": 10,
   "metadata": {
    "collapsed": true
   },
   "outputs": [],
   "source": [
    "v1 = find_mod_vector(vector1)\n",
    "v2 = find_mod_vector(vector2)"
   ]
  },
  {
   "cell_type": "code",
   "execution_count": 11,
   "metadata": {},
   "outputs": [
    {
     "name": "stdout",
     "output_type": "stream",
     "text": [
      "5.477225575051661 5.477225575051661\n"
     ]
    }
   ],
   "source": [
    "print(v1, v2)"
   ]
  },
  {
   "cell_type": "code",
   "execution_count": 12,
   "metadata": {},
   "outputs": [
    {
     "data": {
      "text/plain": [
       "22"
      ]
     },
     "execution_count": 12,
     "metadata": {},
     "output_type": "execute_result"
    }
   ],
   "source": [
    "v1_v2 = np.dot(vector1, vector2)\n",
    "v1_v2"
   ]
  },
  {
   "cell_type": "code",
   "execution_count": 13,
   "metadata": {},
   "outputs": [
    {
     "name": "stdout",
     "output_type": "stream",
     "text": [
      "cosine_similarity = 0.733333333333\n"
     ]
    }
   ],
   "source": [
    "print(\"cosine_similarity =\", (v1_v2 / (v1 * v2)))"
   ]
  },
  {
   "cell_type": "code",
   "execution_count": null,
   "metadata": {
    "collapsed": true
   },
   "outputs": [],
   "source": []
  }
 ],
 "metadata": {
  "kernelspec": {
   "display_name": "Python 3",
   "language": "python",
   "name": "python3"
  },
  "language_info": {
   "codemirror_mode": {
    "name": "ipython",
    "version": 3
   },
   "file_extension": ".py",
   "mimetype": "text/x-python",
   "name": "python",
   "nbconvert_exporter": "python",
   "pygments_lexer": "ipython3",
   "version": "3.6.4"
  }
 },
 "nbformat": 4,
 "nbformat_minor": 2
}
